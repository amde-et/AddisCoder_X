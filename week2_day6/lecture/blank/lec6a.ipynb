{
 "cells": [
  {
   "attachments": {},
   "cell_type": "markdown",
   "metadata": {
    "colab_type": "text",
    "collapsed": true,
    "id": "18e2p76xI1KX"
   },
   "source": [
    "# AddisCoder 2023: Week 2"
   ]
  },
  {
   "attachments": {},
   "cell_type": "markdown",
   "metadata": {},
   "source": [
    "AddisCoder 2023: Week 2\n",
    "\n",
    "July 25, 2023\n",
    "\n",
    "Taught by Alex Krentsel."
   ]
  },
  {
   "cell_type": "markdown",
   "metadata": {},
   "source": [
    "## Quiz Problem Review\n",
    "\n",
    "The three most missed problems were #13, #20, and #21. Let's solve them together!"
   ]
  },
  {
   "cell_type": "code",
   "execution_count": null,
   "metadata": {},
   "outputs": [],
   "source": [
    "# Question #13: What is the printed output of the following code snippets? If there is an infinite loop, write \"Infinite\"."
   ]
  },
  {
   "cell_type": "code",
   "execution_count": null,
   "metadata": {},
   "outputs": [],
   "source": [
    "# 13a\n",
    "num = 0\n",
    "while num < 6:\n",
    "    if num % 2 == 0:\n",
    "        print(num)\n",
    "    num += 1"
   ]
  },
  {
   "cell_type": "code",
   "execution_count": null,
   "metadata": {},
   "outputs": [],
   "source": [
    "# 13b\n",
    "num = 0\n",
    "if num % 2 == 0:\n",
    "    while num < 6:\n",
    "        print(num)\n",
    "    num += 1"
   ]
  },
  {
   "cell_type": "code",
   "execution_count": null,
   "metadata": {},
   "outputs": [],
   "source": [
    "# 13c\n",
    "num = 0\n",
    "if num % 2 == 0:\n",
    "    while num < 6:\n",
    "        print(num)\n",
    "        num += 1"
   ]
  },
  {
   "cell_type": "code",
   "execution_count": null,
   "metadata": {},
   "outputs": [],
   "source": [
    "# Question #20: Write a function `countCharacters(word)` that returns the number of times each character appears in the word.\n",
    "\n",
    "def countCharacters(word):\n",
    "    pass\n",
    "\n",
    "countCharacters(\"hello\")"
   ]
  },
  {
   "cell_type": "code",
   "execution_count": null,
   "metadata": {},
   "outputs": [],
   "source": [
    "# Question #21: Use a forloop to create a new list that contains the original values doubled.\n",
    "# Example: lst = [1, 2, 3, 4] --> [2, 4, 6, 8]\n",
    "\n",
    "def listDouble(lst):\n",
    "    pass\n",
    "\n",
    "listDouble([1, 2, 3, 4])"
   ]
  },
  {
   "cell_type": "markdown",
   "metadata": {},
   "source": [
    "## Dictionaries\n",
    "\n",
    "Just like real-world dictionaries, these are used for _lookup_. You have some key (ex: a word) and you want to find the associated value (ex: a definition). Let's walk through [the slides](https://docs.google.com/presentation/d/1q6DfEr3GAKmFrZvWtA2mMIJcXK0bC5IfKMlmYjM_BSw/edit#slide=id.g25985ca9100_0_63) first."
   ]
  },
  {
   "cell_type": "code",
   "execution_count": null,
   "metadata": {},
   "outputs": [],
   "source": [
    "# For creating dictionaries, use curly braces:\n"
   ]
  },
  {
   "cell_type": "code",
   "execution_count": null,
   "metadata": {},
   "outputs": [],
   "source": [
    "# We add key:value pairs to our dictionary using square brackets on the *left* of the equals sign."
   ]
  },
  {
   "cell_type": "code",
   "execution_count": null,
   "metadata": {},
   "outputs": [],
   "source": [
    "# You can get the value associated with a key by using brackets *not* to the left of an equal sign:\n"
   ]
  },
  {
   "cell_type": "code",
   "execution_count": null,
   "metadata": {},
   "outputs": [],
   "source": [
    "# What happens if you try to lookup a key that doesn't exist in the dictionary? Error!\n"
   ]
  },
  {
   "cell_type": "code",
   "execution_count": null,
   "metadata": {},
   "outputs": [],
   "source": [
    "# To avoid this issue, we can check if a dictionary contains something using `in`\n"
   ]
  },
  {
   "cell_type": "code",
   "execution_count": null,
   "metadata": {},
   "outputs": [],
   "source": [
    "# To iterate over dictionary keys, use the forloop syntax. It works for dictionaries automatically!\n"
   ]
  },
  {
   "cell_type": "code",
   "execution_count": null,
   "metadata": {},
   "outputs": [],
   "source": [
    "# Common pattern when building dictionaries as counters:\n"
   ]
  },
  {
   "cell_type": "markdown",
   "metadata": {},
   "source": [
    "## Function Trickiness\n",
    "\n",
    "We saw some common mistakes with functions on the exam and when walking around during lab. Let's clarify them here."
   ]
  },
  {
   "cell_type": "code",
   "execution_count": null,
   "metadata": {},
   "outputs": [],
   "source": [
    "# (1) Defining vs Calling Functions\n",
    "\n",
    "# Defining a function:\n",
    "def invert_string(s):\n",
    "    new_string = \"\"\n",
    "    for i in range(len(s) - 1, -1, -1):\n",
    "        new_string = new_string + s[i]\n",
    "    return new_string\n",
    "\n",
    "# Running this block _creates_ the function, but nothing actually gets run because the function hasn't been called."
   ]
  },
  {
   "cell_type": "code",
   "execution_count": null,
   "metadata": {},
   "outputs": [],
   "source": [
    "# Calling a function:\n",
    "print(invert_string(\"hello\"))\n",
    "\n",
    "# Running this block actually runs the function and prints the output."
   ]
  },
  {
   "cell_type": "code",
   "execution_count": null,
   "metadata": {},
   "outputs": [],
   "source": [
    "# (2) Return vs Print\n",
    "\n",
    "# An \"expression\" is any statement that evaluates to a value. For example, `1 + 1` is an expression that evaluates to `2`.\n",
    "# Functions are also expressions. For example, `len(\"hello\")` is an expression that evaluates to `5`.\n",
    "\n",
    "def fun_func():\n",
    "    return 5\n",
    "\n",
    "# The `return` statement tells Python what value the function should evaluate to. In this case, the function evaluates to `5`.\n",
    "print(fun_func())\n",
    "\n"
   ]
  },
  {
   "cell_type": "code",
   "execution_count": null,
   "metadata": {},
   "outputs": [],
   "source": [
    "# Not all functions evaluate to something! You can tell because they have no `return` statement. For example:\n",
    "\n",
    "def void_func():\n",
    "    x = 1 + 1\n",
    "\n",
    "# This function doesn't return anything. It just runs some code. If we try to print the output of this function, we get `None`.\n",
    "print(void_func())"
   ]
  },
  {
   "cell_type": "code",
   "execution_count": null,
   "metadata": {},
   "outputs": [],
   "source": [
    "# void_func() isn't very useful, but the more common case is when you want to print something inside a function. For example:\n",
    "\n",
    "def print_func():\n",
    "    print(\"hello\")\n",
    "\n",
    "# This function doesn't return anything. It just prints something. If we try to print the output of this function, we get `None`.\n",
    "print(print_func())"
   ]
  },
  {
   "cell_type": "code",
   "execution_count": null,
   "metadata": {},
   "outputs": [],
   "source": [
    "# So, we use `print` to print things to the console, and we use `return` to return values from functions.\n",
    "\n",
    "# So often times, there's two ways to write a function if you want to show something on \n",
    "# the screen: one that returns a value, and one that prints a value.\n",
    "def return_sum(a, b):\n",
    "    return a + b\n",
    "print(return_sum(1, 2))"
   ]
  },
  {
   "cell_type": "code",
   "execution_count": null,
   "metadata": {},
   "outputs": [],
   "source": [
    "def print_sum(a, b):\n",
    "    print(a + b)\n",
    "print_sum(1, 2)"
   ]
  },
  {
   "cell_type": "code",
   "execution_count": null,
   "metadata": {},
   "outputs": [],
   "source": [
    "# Notice: these both do the same thing in the end, but in different ways."
   ]
  },
  {
   "cell_type": "code",
   "execution_count": null,
   "metadata": {},
   "outputs": [],
   "source": [
    "# (3) function decomposition: breaking larger problems down in a collection of smaller functions\n",
    "\n",
    "# Example: write a function that takes a string and returns the number of vowels in the string.\n",
    "\n",
    "# Step 1: write a function that takes a string and returns True if the string is a vowel, False otherwise.\n",
    "def is_vowel(char):\n",
    "    if char == \"a\" or char == \"e\" or char == \"i\" or char == \"o\" or char == \"u\":\n",
    "        return True\n",
    "    else:\n",
    "        return False\n",
    "\n",
    "# Step 2: write a function that takes a string and returns the number of vowels in the string.\n",
    "def count_vowels(s):\n",
    "    num_vowels = 0\n",
    "    for char in s:\n",
    "        if is_vowel(char):\n",
    "            num_vowels += 1\n",
    "    return num_vowels\n",
    "\n",
    "# Step 3: test your function\n",
    "print(count_vowels(\"hello\"))"
   ]
  },
  {
   "cell_type": "markdown",
   "metadata": {},
   "source": [
    "### Default Parameters"
   ]
  },
  {
   "cell_type": "code",
   "execution_count": null,
   "metadata": {},
   "outputs": [],
   "source": [
    "# We've learned how to specify the arguments that a function should take:\n",
    "\n",
    "def greet(name, greeting):\n",
    "    print(greeting + \" to you, \" + name + \"!\")\n",
    "\n",
    "greet(\"Alex\", \"Hello\")"
   ]
  },
  {
   "cell_type": "code",
   "execution_count": null,
   "metadata": {},
   "outputs": [],
   "source": [
    "# In cases where you use the same argument value over and over, it can get annoying to type each time.\n",
    "greet(\"Daniel\", \"Hello\")\n",
    "greet(\"Heather\", \"Hello\")\n",
    "greet(\"Tony\", \"Hello\")\n",
    "greet(\"Jelani\", \"Selam\")"
   ]
  },
  {
   "cell_type": "code",
   "execution_count": null,
   "metadata": {},
   "outputs": [],
   "source": [
    "# Python allows us to specify a _default value_ for an argument. \n",
    "# If the caller doesn't specify a value for that argument, the default value is used instead.\n",
    "\n",
    "def greet(name, greeting=\"Hello\"):\n",
    "    print(greeting + \" to you, \" + name + \"!\")\n",
    "\n",
    "greet(\"Alex\")\n",
    "greet(\"Heather\")\n",
    "greet(\"Tony\")\n",
    "\n",
    "# If the caller specifies a value for that argument, the default value is ignored.\n",
    "greet(\"Jelani\", \"Selam\")"
   ]
  },
  {
   "cell_type": "code",
   "execution_count": null,
   "metadata": {},
   "outputs": [],
   "source": []
  }
 ],
 "metadata": {
  "anaconda-cloud": {},
  "colab": {
   "collapsed_sections": [],
   "name": "lec6a.ipynb",
   "provenance": [],
   "version": "0.3.2"
  },
  "kernelspec": {
   "display_name": "Python 3",
   "language": "python",
   "name": "python3"
  },
  "language_info": {
   "codemirror_mode": {
    "name": "ipython",
    "version": 3
   },
   "file_extension": ".py",
   "mimetype": "text/x-python",
   "name": "python",
   "nbconvert_exporter": "python",
   "pygments_lexer": "ipython3",
   "version": "3.11.4"
  }
 },
 "nbformat": 4,
 "nbformat_minor": 1
}
