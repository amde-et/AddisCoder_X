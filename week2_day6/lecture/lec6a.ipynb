{
 "cells": [
  {
   "attachments": {},
   "cell_type": "markdown",
   "metadata": {
    "colab_type": "text",
    "collapsed": true,
    "id": "18e2p76xI1KX"
   },
   "source": [
    "# AddisCoder 2023: Week 2"
   ]
  },
  {
   "attachments": {},
   "cell_type": "markdown",
   "metadata": {},
   "source": [
    "AddisCoder 2023: Week 2\n",
    "\n",
    "July 25, 2023\n",
    "\n",
    "Taught by Alex Krentsel."
   ]
  },
  {
   "cell_type": "markdown",
   "metadata": {},
   "source": [
    "Start with slides!"
   ]
  },
  {
   "cell_type": "markdown",
   "metadata": {},
   "source": [
    "## Quiz Problem Review\n",
    "\n",
    "The three most missed problems were #13, #20, and #21. Let's solve them together!"
   ]
  },
  {
   "cell_type": "code",
   "execution_count": 13,
   "metadata": {},
   "outputs": [],
   "source": [
    "# Question #13: What is the printed output of the following code snippets? If there is an infinite loop, write \"Infinite\"."
   ]
  },
  {
   "cell_type": "code",
   "execution_count": 14,
   "metadata": {},
   "outputs": [
    {
     "name": "stdout",
     "output_type": "stream",
     "text": [
      "0\n",
      "2\n",
      "4\n"
     ]
    }
   ],
   "source": [
    "# 13a\n",
    "num = 0\n",
    "while num < 6:\n",
    "    if num % 2 == 0:\n",
    "        print(num)\n",
    "    num += 1"
   ]
  },
  {
   "cell_type": "code",
   "execution_count": null,
   "metadata": {},
   "outputs": [],
   "source": [
    "# 13b\n",
    "num = 0\n",
    "if num % 2 == 0:\n",
    "    while num < 6:\n",
    "        print(num)\n",
    "    num += 1"
   ]
  },
  {
   "cell_type": "code",
   "execution_count": 16,
   "metadata": {},
   "outputs": [
    {
     "name": "stdout",
     "output_type": "stream",
     "text": [
      "0\n",
      "1\n",
      "2\n",
      "3\n",
      "4\n",
      "5\n"
     ]
    }
   ],
   "source": [
    "# 13c\n",
    "num = 0\n",
    "if num % 2 == 0:\n",
    "    while num < 6:\n",
    "        print(num)\n",
    "        num += 1"
   ]
  },
  {
   "cell_type": "code",
   "execution_count": 1,
   "metadata": {},
   "outputs": [
    {
     "data": {
      "text/plain": [
       "{'h': 1, 'e': 1, 'l': 2, 'o': 1}"
      ]
     },
     "execution_count": 1,
     "metadata": {},
     "output_type": "execute_result"
    }
   ],
   "source": [
    "# Question #20: Write a function `countCharacters(word)` that returns the number of times each character appears in the word.\n",
    "\n",
    "def countCharacters(word):\n",
    "    characters = {}\n",
    "    for char in word:\n",
    "        if char in characters:\n",
    "            characters[char] += 1\n",
    "        else:\n",
    "            characters[char] = 1\n",
    "    return characters\n",
    "\n",
    "countCharacters(\"hello\")"
   ]
  },
  {
   "cell_type": "code",
   "execution_count": 2,
   "metadata": {},
   "outputs": [
    {
     "data": {
      "text/plain": [
       "[2, 4, 6, 8]"
      ]
     },
     "execution_count": 2,
     "metadata": {},
     "output_type": "execute_result"
    }
   ],
   "source": [
    "# Question #21: Use a forloop to create a new list that contains the original values doubled.\n",
    "# Example: lst = [1, 2, 3, 4] --> [2, 4, 6, 8]\n",
    "\n",
    "def listDouble(lst):\n",
    "    doubled = []\n",
    "    for num in lst:\n",
    "        doubled.append(num * 2)\n",
    "    return doubled\n",
    "\n",
    "listDouble([1, 2, 3, 4])"
   ]
  },
  {
   "cell_type": "markdown",
   "metadata": {},
   "source": [
    "## Dictionaries\n",
    "\n",
    "Just like real-world dictionaries, these are used for _lookup_. You have some key (ex: a word) and you want to find the associated value (ex: a definition). Let's walk through [the slides](https://docs.google.com/presentation/d/1q6DfEr3GAKmFrZvWtA2mMIJcXK0bC5IfKMlmYjM_BSw/edit#slide=id.g25985ca9100_0_63) first."
   ]
  },
  {
   "cell_type": "code",
   "execution_count": 3,
   "metadata": {},
   "outputs": [
    {
     "name": "stdout",
     "output_type": "stream",
     "text": [
      "<class 'dict'>\n",
      "{}\n"
     ]
    }
   ],
   "source": [
    "# For creating dictionaries, use curly braces:\n",
    "gradebook = {}\n",
    "print(type(gradebook))\n",
    "print(gradebook)"
   ]
  },
  {
   "cell_type": "code",
   "execution_count": 4,
   "metadata": {},
   "outputs": [
    {
     "name": "stdout",
     "output_type": "stream",
     "text": [
      "{}\n",
      "Adding new key:value pair.\n",
      "{'alex': 95}\n"
     ]
    }
   ],
   "source": [
    "# We add key:value pairs to our dictionary using square brackets on the *left* of the equals sign.\n",
    "\n",
    "print(gradebook)\n",
    "print(\"Adding new key:value pair.\")\n",
    "gradebook[\"alex\"] = 95\n",
    "print(gradebook)"
   ]
  },
  {
   "cell_type": "code",
   "execution_count": 5,
   "metadata": {},
   "outputs": [
    {
     "name": "stdout",
     "output_type": "stream",
     "text": [
      "95\n"
     ]
    }
   ],
   "source": [
    "# You can get the value associated with a key by using brackets *not* to the left of an equal sign:\n",
    "\n",
    "print(gradebook[\"alex\"])"
   ]
  },
  {
   "cell_type": "code",
   "execution_count": 6,
   "metadata": {},
   "outputs": [
    {
     "name": "stdout",
     "output_type": "stream",
     "text": [
      "{'alex': 95}\n"
     ]
    },
    {
     "ename": "KeyError",
     "evalue": "'daniel'",
     "output_type": "error",
     "traceback": [
      "\u001b[0;31m---------------------------------------------------------------------------\u001b[0m",
      "\u001b[0;31mKeyError\u001b[0m                                  Traceback (most recent call last)",
      "Cell \u001b[0;32mIn[6], line 3\u001b[0m\n\u001b[1;32m      1\u001b[0m \u001b[39m# What happens if you try to lookup a key that doesn't exist in the dictionary?\u001b[39;00m\n\u001b[1;32m      2\u001b[0m \u001b[39mprint\u001b[39m(gradebook)\n\u001b[0;32m----> 3\u001b[0m \u001b[39mprint\u001b[39m(\u001b[39m\"\u001b[39m\u001b[39mDaniel\u001b[39m\u001b[39m'\u001b[39m\u001b[39ms score:\u001b[39m\u001b[39m\"\u001b[39m, gradebook[\u001b[39m\"\u001b[39;49m\u001b[39mdaniel\u001b[39;49m\u001b[39m\"\u001b[39;49m])\n",
      "\u001b[0;31mKeyError\u001b[0m: 'daniel'"
     ]
    }
   ],
   "source": [
    "# What happens if you try to lookup a key that doesn't exist in the dictionary? Error!\n",
    "print(gradebook)\n",
    "print(\"Daniel's score:\", gradebook[\"daniel\"])"
   ]
  },
  {
   "cell_type": "code",
   "execution_count": 9,
   "metadata": {},
   "outputs": [
    {
     "name": "stdout",
     "output_type": "stream",
     "text": [
      "daniel is not in the dictionary\n"
     ]
    }
   ],
   "source": [
    "# To avoid this issue, we can check if a dictionary contains something using `in`\n",
    "\n",
    "if \"daniel\" in gradebook:\n",
    "    print(\"Daniel's score:\", gradebook[\"daniel\"])\n",
    "else:\n",
    "    print(\"daniel is not in the dictionary\")"
   ]
  },
  {
   "cell_type": "code",
   "execution_count": 12,
   "metadata": {},
   "outputs": [
    {
     "name": "stdout",
     "output_type": "stream",
     "text": [
      "name: alex , grade: 95\n"
     ]
    }
   ],
   "source": [
    "# To iterate over dictionary keys, use the forloop syntax. It works for dictionaries automatically!\n",
    "\n",
    "for key in gradebook:\n",
    "    print(\"name:\", key, \", grade:\", gradebook[key])"
   ]
  },
  {
   "cell_type": "code",
   "execution_count": 8,
   "metadata": {},
   "outputs": [
    {
     "name": "stdout",
     "output_type": "stream",
     "text": [
      "{'horse': 1}\n"
     ]
    }
   ],
   "source": [
    "# Common pattern when building dictionaries as counters:\n",
    "\n",
    "counter_dict = {}\n",
    "word = \"horse\"\n",
    "if word in counter_dict:\n",
    "    counter_dict[word] = counter_dict[word] + 1\n",
    "else:\n",
    "    counter_dict[word] = 1\n",
    "print(counter_dict)"
   ]
  },
  {
   "cell_type": "markdown",
   "metadata": {},
   "source": [
    "## Function Trickiness\n",
    "\n",
    "We saw some common mistakes with functions on the exam and when walking around during lab. Let's clarify them here."
   ]
  },
  {
   "cell_type": "code",
   "execution_count": 7,
   "metadata": {},
   "outputs": [],
   "source": [
    "# (1) Defining vs Calling Functions\n",
    "\n",
    "# Defining a function:\n",
    "def invert_string(s):\n",
    "    new_string = \"\"\n",
    "    for i in range(len(s) - 1, -1, -1):\n",
    "        new_string = new_string + s[i]\n",
    "    return new_string\n",
    "\n",
    "# Running this block _creates_ the function, but nothing actually gets run because the function hasn't been called."
   ]
  },
  {
   "cell_type": "code",
   "execution_count": 9,
   "metadata": {},
   "outputs": [
    {
     "name": "stdout",
     "output_type": "stream",
     "text": [
      "olleh\n"
     ]
    }
   ],
   "source": [
    "# Calling a function:\n",
    "print(invert_string(\"hello\"))\n",
    "\n",
    "# Running this block actually runs the function and prints the output."
   ]
  },
  {
   "cell_type": "code",
   "execution_count": 16,
   "metadata": {},
   "outputs": [
    {
     "name": "stdout",
     "output_type": "stream",
     "text": [
      "5\n"
     ]
    }
   ],
   "source": [
    "# (2) Return vs Print\n",
    "\n",
    "# An \"expression\" is any statement that evaluates to a value. For example, `1 + 1` is an expression that evaluates to `2`.\n",
    "# Functions are also expressions. For example, `len(\"hello\")` is an expression that evaluates to `5`.\n",
    "\n",
    "def fun_func():\n",
    "    return 5\n",
    "\n",
    "# The `return` statement tells Python what value the function should evaluate to. In this case, the function evaluates to `5`.\n",
    "print(fun_func())\n",
    "\n"
   ]
  },
  {
   "cell_type": "code",
   "execution_count": 18,
   "metadata": {},
   "outputs": [
    {
     "name": "stdout",
     "output_type": "stream",
     "text": [
      "None\n"
     ]
    }
   ],
   "source": [
    "# Not all functions evaluate to something! You can tell because they have no `return` statement. For example:\n",
    "\n",
    "def void_func():\n",
    "    x = 1 + 1\n",
    "\n",
    "# This function doesn't return anything. It just runs some code. If we try to print the output of this function, we get `None`.\n",
    "print(void_func())"
   ]
  },
  {
   "cell_type": "code",
   "execution_count": 19,
   "metadata": {},
   "outputs": [
    {
     "name": "stdout",
     "output_type": "stream",
     "text": [
      "hello\n",
      "None\n"
     ]
    }
   ],
   "source": [
    "# void_func() isn't very useful, but the more common case is when you want to print something inside a function. For example:\n",
    "\n",
    "def print_func():\n",
    "    print(\"hello\")\n",
    "\n",
    "# This function doesn't return anything. It just prints something. If we try to print the output of this function, we get `None`.\n",
    "print(print_func())"
   ]
  },
  {
   "cell_type": "code",
   "execution_count": 22,
   "metadata": {},
   "outputs": [
    {
     "name": "stdout",
     "output_type": "stream",
     "text": [
      "3\n"
     ]
    }
   ],
   "source": [
    "# So, we use `print` to print things to the console, and we use `return` to return values from functions.\n",
    "\n",
    "# So often times, there's two ways to write a function if you want to show something on \n",
    "# the screen: one that returns a value, and one that prints a value.\n",
    "def return_sum(a, b):\n",
    "    return a + b\n",
    "print(return_sum(1, 2))"
   ]
  },
  {
   "cell_type": "code",
   "execution_count": 23,
   "metadata": {},
   "outputs": [
    {
     "name": "stdout",
     "output_type": "stream",
     "text": [
      "3\n"
     ]
    }
   ],
   "source": [
    "def print_sum(a, b):\n",
    "    print(a + b)\n",
    "print_sum(1, 2)"
   ]
  },
  {
   "cell_type": "code",
   "execution_count": 24,
   "metadata": {},
   "outputs": [],
   "source": [
    "# Notice: these both do the same thing in the end, but in different ways."
   ]
  },
  {
   "cell_type": "code",
   "execution_count": 29,
   "metadata": {},
   "outputs": [
    {
     "name": "stdout",
     "output_type": "stream",
     "text": [
      "2\n"
     ]
    }
   ],
   "source": [
    "# (3) function decomposition: breaking larger problems down in a collection of smaller functions\n",
    "\n",
    "# Example: write a function that takes a string and returns the number of vowels in the string.\n",
    "\n",
    "# Step 1: write a function that takes a string and returns True if the string is a vowel, False otherwise.\n",
    "def is_vowel(char):\n",
    "    if char == \"a\" or char == \"e\" or char == \"i\" or char == \"o\" or char == \"u\":\n",
    "        return True\n",
    "    else:\n",
    "        return False\n",
    "\n",
    "# Step 2: write a function that takes a string and returns the number of vowels in the string.\n",
    "def count_vowels(s):\n",
    "    num_vowels = 0\n",
    "    for char in s:\n",
    "        if is_vowel(char):\n",
    "            num_vowels += 1\n",
    "    return num_vowels\n",
    "\n",
    "# Step 3: test your function\n",
    "print(count_vowels(\"hello\"))"
   ]
  },
  {
   "cell_type": "markdown",
   "metadata": {},
   "source": [
    "### Default Parameters"
   ]
  },
  {
   "cell_type": "code",
   "execution_count": 25,
   "metadata": {},
   "outputs": [
    {
     "name": "stdout",
     "output_type": "stream",
     "text": [
      "Hello to you, Alex!\n"
     ]
    }
   ],
   "source": [
    "# We've learned how to specify the arguments that a function should take:\n",
    "\n",
    "def greet(name, greeting):\n",
    "    print(greeting + \" to you, \" + name + \"!\")\n",
    "\n",
    "greet(\"Alex\", \"Hello\")"
   ]
  },
  {
   "cell_type": "code",
   "execution_count": 26,
   "metadata": {},
   "outputs": [
    {
     "name": "stdout",
     "output_type": "stream",
     "text": [
      "Hello to you, Daniel!\n",
      "Hello to you, Heather!\n",
      "Hello to you, Tony!\n",
      "Selam to you, Jelani!\n"
     ]
    }
   ],
   "source": [
    "# In cases where you use the same argument value over and over, it can get annoying to type each time.\n",
    "greet(\"Daniel\", \"Hello\")\n",
    "greet(\"Heather\", \"Hello\")\n",
    "greet(\"Tony\", \"Hello\")\n",
    "greet(\"Jelani\", \"Selam\")"
   ]
  },
  {
   "cell_type": "code",
   "execution_count": 28,
   "metadata": {},
   "outputs": [
    {
     "name": "stdout",
     "output_type": "stream",
     "text": [
      "Hello to you, Alex!\n",
      "Hello to you, Heather!\n",
      "Hello to you, Tony!\n",
      "Selam to you, Jelani!\n"
     ]
    }
   ],
   "source": [
    "# Python allows us to specify a _default value_ for an argument. \n",
    "# If the caller doesn't specify a value for that argument, the default value is used instead.\n",
    "\n",
    "def greet(name, greeting=\"Hello\"):\n",
    "    print(greeting + \" to you, \" + name + \"!\")\n",
    "\n",
    "greet(\"Alex\")\n",
    "greet(\"Heather\")\n",
    "greet(\"Tony\")\n",
    "\n",
    "# If the caller specifies a value for that argument, the default value is ignored.\n",
    "greet(\"Jelani\", \"Selam\")"
   ]
  },
  {
   "cell_type": "code",
   "execution_count": null,
   "metadata": {},
   "outputs": [],
   "source": []
  }
 ],
 "metadata": {
  "anaconda-cloud": {},
  "colab": {
   "collapsed_sections": [],
   "name": "lec6a.ipynb",
   "provenance": [],
   "version": "0.3.2"
  },
  "kernelspec": {
   "display_name": "Python 3",
   "language": "python",
   "name": "python3"
  },
  "language_info": {
   "codemirror_mode": {
    "name": "ipython",
    "version": 3
   },
   "file_extension": ".py",
   "mimetype": "text/x-python",
   "name": "python",
   "nbconvert_exporter": "python",
   "pygments_lexer": "ipython3",
   "version": "3.11.4"
  }
 },
 "nbformat": 4,
 "nbformat_minor": 1
}
