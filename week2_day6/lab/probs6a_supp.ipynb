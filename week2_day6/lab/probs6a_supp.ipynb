{
 "cells": [
  {
   "cell_type": "markdown",
   "metadata": {
    "id": "rcW0D_iYMxuh"
   },
   "source": [
    "## Supplementary Exercises for Week 2 Day 1 Notebook A"
   ]
  },
  {
   "cell_type": "markdown",
   "metadata": {},
   "source": [
    "#### Run the following cell before doing the exercises."
   ]
  },
  {
   "cell_type": "code",
   "execution_count": 3,
   "metadata": {},
   "outputs": [],
   "source": [
    "# Run this function\n",
    "def check(fn, *input, expected):\n",
    "    result = fn(*input)\n",
    "    if expected != result:\n",
    "        print(\n",
    "            f\"Function should return the value {expected}, it is returning the value {result}.\")\n",
    "    else:\n",
    "        print(f\"Congratulations, the test case passed!\")"
   ]
  },
  {
   "cell_type": "markdown",
   "metadata": {},
   "source": [
    "## Exercise 1"
   ]
  },
  {
   "cell_type": "markdown",
   "metadata": {},
   "source": [
    "### 1.1\n",
    "Write a function `isEven` that gets a number and returns `True` if the number is even, or `False` otherwise. Your function `cannot` use `if` statments."
   ]
  },
  {
   "cell_type": "code",
   "execution_count": null,
   "metadata": {},
   "outputs": [],
   "source": []
  },
  {
   "cell_type": "markdown",
   "metadata": {},
   "source": [
    "Run the following code cell to check your solution."
   ]
  },
  {
   "cell_type": "code",
   "execution_count": null,
   "metadata": {},
   "outputs": [],
   "source": [
    "check(isEven, 0, expected=True)\n",
    "check(isEven, 20, expected=True)\n",
    "check(isEven, -10, expected=True)\n",
    "check(isEven, 5, expected=False)\n",
    "check(isEven, 1, expected=False)"
   ]
  },
  {
   "cell_type": "markdown",
   "metadata": {},
   "source": [
    "### 1.2"
   ]
  },
  {
   "cell_type": "markdown",
   "metadata": {},
   "source": [
    "Write a function `printIsEven` that gets a number `n` and prints `\"n is even\"` if the number is even or `\"n is odd\"` otherwise. Your function `cannot` use `if` statments."
   ]
  },
  {
   "cell_type": "code",
   "execution_count": 8,
   "metadata": {},
   "outputs": [],
   "source": []
  },
  {
   "cell_type": "markdown",
   "metadata": {},
   "source": [
    "Run the following code cell to check your solution."
   ]
  },
  {
   "cell_type": "code",
   "execution_count": null,
   "metadata": {},
   "outputs": [],
   "source": [
    "printIsEven(2) ## Expected: n is even\n",
    "printIsEven(1) ## Expected: n is odd\n",
    "printIsEven(3) ## Expected: n is odd\n",
    "printIsEven(9) ## Expected: n is odd\n",
    "printIsEven(0) ## Expected: n is even\n",
    "printIsEven(-2) ## Expected: n is even\n",
    "printIsEven(-1) ## Expected: n is odd\n",
    "printIsEven(24) ## Expected: n is even"
   ]
  },
  {
   "cell_type": "markdown",
   "metadata": {},
   "source": [
    "## Exercise 2 (Challenge)"
   ]
  },
  {
   "attachments": {
    "weights.png": {
     "image/png": "[encoded data removed]"
    }
   },
   "cell_type": "markdown",
   "metadata": {},
   "source": [
    "Suppose that you have two boxes $B_1$ and $B_2$ on the floor and they have different weights $m_1$ and $m_2$, respectively. $B_1$ is on the left and $B_2$ is on the right. $m_2 \\ge m_1$. There is also a wall on the left of $B_1$. Now $B_2$ box is moving toward $B_1$ box with initial velocity $v_2$, and $B_1$ has velocitty $v_1 = 0$ (not moving). Ignore all the frictions and extra cost of energy. `Question:` count the total number of collisions between the $B_1$ and $B_2$ and between $B_1$ and the wall.\n",
    "\n",
    "![weights.png](attachment:weights.png)\n",
    "\n",
    "\n",
    "When $B_1$ hit the wall, the new velocity of $B_1$ becomes $-v_1$ (when $v_1$ is the velocity before the collision with the wall).\n",
    "\n",
    "For the case that $B_1$ and $B_2$ collide, the followings are two useful laws in physics: \n",
    "\n",
    "Let $v_1,v_2$ be the velocity of the boxes before a collision, and let $\\hat{v}_1$ and $\\hat{v}_2$ be the velocity after the collision.\n",
    "\n",
    "The Law ov Conservation of Kinetic Energy: \n",
    "\n",
    "\n",
    "$$\\frac12m_1v_1^2 + \\frac12 m_2v_2^2 = \\frac12m_1\\hat{v}_1^2 + \\frac12 m_2\\hat{v}_2^2  $$\n",
    "\n",
    "The Law of Conservation of Momentum:\n",
    "\n",
    "$$m_1v_1 + m_2v_2 = m_1\\hat{v}_1 + m_2\\hat{v}_2  $$\n",
    "\n"
   ]
  },
  {
   "cell_type": "markdown",
   "metadata": {},
   "source": [
    "Let's learn how to use Python functions to simulate it."
   ]
  },
  {
   "cell_type": "markdown",
   "metadata": {},
   "source": [
    "The following functions compute the new velocieties after a collision based on the equations above."
   ]
  },
  {
   "cell_type": "code",
   "execution_count": 10,
   "metadata": {},
   "outputs": [],
   "source": [
    "def boxhit(m1, m2, v1 , v2):\n",
    "    new_v1 = ((m1 - m2) * v1  + 2 * m2 * v2) / (m1 + m2)\n",
    "    new_v2 = ((m2 - m1) * v2  + 2 * m1 * v1) / (m1 + m2)\n",
    "    return new_v1, new_v2\n",
    "\n",
    "def wallhit(v1 , v2):\n",
    "    v1 = -v1\n",
    "    return v1, v2\n"
   ]
  },
  {
   "cell_type": "markdown",
   "metadata": {},
   "source": [
    "FIll in the following code cell to run the simulation"
   ]
  },
  {
   "cell_type": "code",
   "execution_count": 13,
   "metadata": {},
   "outputs": [],
   "source": [
    "# moving leftward means the velocity is positive and moving rightward means that the velocity if negative\n",
    "# When v1 is smaller than 0 or equal to 0, B1 box must move rightward (or it's not moving) and there would be a boxhit.\n",
    "# When v1 is greater than 0, B1 box is moving leftward and there would be a wallhit.\n",
    "def simulate(m1, m2, v1 , v2):\n",
    "    collision_num = 0\n",
    "    while True:\n",
    "        # code here\n",
    "\n",
    "        if abs(v2) >= abs(v1) and v2 < 0:\n",
    "            break\n",
    "    return collision_num\n"
   ]
  },
  {
   "cell_type": "markdown",
   "metadata": {},
   "source": [
    "Run the following and see if you can find the pattern of the number of collisions when $m_2$ is a multiple of 100."
   ]
  },
  {
   "cell_type": "code",
   "execution_count": null,
   "metadata": {},
   "outputs": [],
   "source": [
    "print(simulate(1, 10 ** 0, 1, 1000))\n",
    "print(simulate(1, 10 ** 2, 1, 1000))\n",
    "print(simulate(1, 10 ** 4, 1, 1000))\n",
    "print(simulate(1, 10 ** 6, 1, 1000))\n",
    "print(simulate(1, 10 ** 8, 1, 1000))\n",
    "\n",
    "check(simulate, 1, 10 ** 0, 1, 1000, expected=4)\n",
    "check(simulate, 1, 10 ** 2, 1, 1000, expected=32)\n",
    "check(simulate, 1, 10 ** 4, 1, 1000, expected=314)\n",
    "check(simulate, 1, 10 ** 6, 1, 1000, expected=3142)\n",
    "check(simulate, 1, 10 ** 8, 1, 1000, expected=31416)\n",
    "print(\"The result is really interesting, and when m2 is 100 ** n, the number of collisions divided by 10 ** n converges to pi!\")"
   ]
  },
  {
   "cell_type": "markdown",
   "metadata": {},
   "source": [
    "## Exercise 3: Grading\n",
    "Dr. Kang is assigning grades to his students. Help him write a grading function that takes a student's score (out of 100) as input and returns a letter grade. The cutoffs for grades are included below.<br>\n",
    "\n",
    "Range | Grade\n",
    "----------|----------\n",
    "[95-100] | A+\n",
    "[85-94] | A\n",
    "[80-84] | A-\n",
    "[75-79] | B+\n",
    "[70-74] | B\n",
    "[65-69] | B-\n",
    "[60-64] | C+\n",
    "[55-59] | C\n",
    "[50-54] | C-\n",
    "[45-49] | D\n",
    "[0-45] | F"
   ]
  },
  {
   "cell_type": "markdown",
   "metadata": {},
   "source": [
    "### 3.1\n",
    "Define a helper function named `isValidScore` that takes in a score as input and returns a boolean. If the score that is passed into this function is between `0` and `100` (both inclusive) return True otherwise return False."
   ]
  },
  {
   "cell_type": "code",
   "execution_count": 15,
   "metadata": {},
   "outputs": [],
   "source": [
    "def isValidScore(s):\n",
    "    # Put your code below this comment\n",
    "    return False"
   ]
  },
  {
   "cell_type": "code",
   "execution_count": null,
   "metadata": {},
   "outputs": [],
   "source": [
    "# TEST_CASE\n",
    "# Note: if an error is given saying \"check\" is not defined, rerun the first code\n",
    "#       cell in this notebook.\n",
    "check(isValidScore, 50, expected=True)\n",
    "check(isValidScore, 101, expected=False)\n",
    "check(isValidScore, -101, expected=False)\n",
    "check(isValidScore, 100, expected=True)\n",
    "check(isValidScore, 0, expected=True)"
   ]
  },
  {
   "cell_type": "markdown",
   "metadata": {},
   "source": [
    "### 3.2\n",
    "Define a function named `grader` that has one parameter. You can name the parameter score. Within the function you should call the `isValidScore` function you defined in **1.1** by passing in the score. If the call to `isValidScore` returns True your function must return the string `Valid Score`. Otherwise it should return the string `Invalid Score`."
   ]
  },
  {
   "cell_type": "code",
   "execution_count": 98,
   "metadata": {},
   "outputs": [],
   "source": [
    "def grader(score):\n",
    "    # Put your code below this comment\n",
    "    return False"
   ]
  },
  {
   "cell_type": "code",
   "execution_count": null,
   "metadata": {},
   "outputs": [],
   "source": [
    "# Note: if an error is given saying \"check\" is not defined, rerun the first code\n",
    "#       cell in this notebook.\n",
    "\n",
    "check(grader, 50, expected='Valid Score')\n",
    "check(grader, 150, expected='Invalid Score')\n",
    "check(grader, -10, expected='Invalid Score')"
   ]
  },
  {
   "cell_type": "markdown",
   "metadata": {},
   "source": [
    "### 3.3\n",
    "Modify the `grader` function you defined in **1.2** so that it returns the letter grade for the score. Use the grade cutoffs written above. If the score is greater than or equal to 95 your function should return an A+, if the score less than 95 and greater than or equal to 85 your function should return an A and so on. You should still use the `isValidScore` to check for invalid input and it must return the string `Invalid Score` for any invalid scores."
   ]
  },
  {
   "cell_type": "code",
   "execution_count": 100,
   "metadata": {},
   "outputs": [],
   "source": [
    "def grader(score):\n",
    "  # Put your code below this comment\n",
    "  return False"
   ]
  },
  {
   "cell_type": "code",
   "execution_count": null,
   "metadata": {},
   "outputs": [],
   "source": [
    "# TEST_CASE\n",
    "# Note: if an error is given saying \"check\" is not defined, rerun the first code\n",
    "#       cell in this notebook.\n",
    "\n",
    "check(grader, 90, expected='A')\n",
    "check(grader, 56, expected='C')\n",
    "check(grader, 70, expected='B')\n",
    "check(grader, -50, expected='Invalid Score')\n",
    "check(grader, 105, expected='Invalid Score')\n",
    "check(grader, -10, expected='Invalid Score')"
   ]
  },
  {
   "cell_type": "markdown",
   "metadata": {},
   "source": [
    "## Exercise 4"
   ]
  },
  {
   "cell_type": "markdown",
   "metadata": {},
   "source": [
    "Define a function `reverseNumber` which takes in a postive integer varaible `x` and return a reversed version of the number.\n",
    "\n",
    "Example: reverseNumber(12345) = 54321"
   ]
  },
  {
   "cell_type": "markdown",
   "metadata": {},
   "source": [
    "### 4.1 \n",
    "Try to use string to solve it."
   ]
  },
  {
   "cell_type": "code",
   "execution_count": 17,
   "metadata": {},
   "outputs": [],
   "source": [
    "def reverseNumber1(x):\n",
    "    pass #delete this line and add your code here"
   ]
  },
  {
   "cell_type": "markdown",
   "metadata": {},
   "source": [
    "### 4.2\n",
    "Try not to use string to solve it."
   ]
  },
  {
   "cell_type": "code",
   "execution_count": 18,
   "metadata": {},
   "outputs": [],
   "source": [
    "def reverseNumber2(x):\n",
    "    pass #delete this line and add your code here"
   ]
  },
  {
   "cell_type": "markdown",
   "metadata": {},
   "source": [
    "Use the following code cell to test your solution"
   ]
  },
  {
   "cell_type": "code",
   "execution_count": null,
   "metadata": {},
   "outputs": [],
   "source": [
    "check(reverseNumber1, 12345, expected=54321)\n",
    "check(reverseNumber1, 1245, expected=5421)\n",
    "check(reverseNumber1, 2345, expected=5432)\n",
    "check(reverseNumber2, 12345, expected=54321)\n",
    "check(reverseNumber2, 1245, expected=5421)\n",
    "check(reverseNumber2, 2345, expected=5432)"
   ]
  },
  {
   "cell_type": "markdown",
   "metadata": {},
   "source": [
    "## Exercise 5 Challenge: Ancient Ethiopian multiplication method\n",
    "Ethiopians have an ancient method of multiplying integers using only addition, doubling, and halving. Here is how the method works:\n",
    "\n",
    "> 1. Take two numbers to be multiplied and write them down at the top of two columns.\n",
    "2. In the left-hand column repeatedly halve the last number, discarding any remainders, and write the quotient below the last in the same column, until you write a value of 1.\n",
    "3. In the right-hand column repeatedly double the last number and write the result below. Stop when you add a result in the same row as where the left hand column shows 1.\n",
    "4. Examine the table produced and discard any row where the value in the left column is even.\n",
    "> 5. Sum the values in the right-hand column that remain to produce the result of multiplying the original two numbers together\n",
    "\n",
    "**For example**:   17 × 34\n",
    "Halving the first column:<br>\n",
    "\n",
    "17 | 34\n",
    "--|--\n",
    "8 |\n",
    "4 |\n",
    "2 |\n",
    "1 |\n",
    "\n",
    "Doubling the second column:\n",
    "\n",
    "17 | 34\n",
    "-----|-----\n",
    "8 | 68\n",
    "4 | 136\n",
    "2 | 272\n",
    "1 | 544\n",
    "\n",
    "Strike-out rows whose first cell is even:\n",
    "\n",
    "17 | 34\n",
    "---- | -----\n",
    "8|<s>68</s>\n",
    "4|<s>136</s>\n",
    "2|<s>272</s>\n",
    "1|&emsp;544\n",
    "\n",
    "Sum the remaining numbers in the right-hand column:\n",
    "\n",
    "17 | 34\n",
    "---- | ----\n",
    "8 | --\n",
    "4 | ---\n",
    "2 | ---\n",
    "1 | 544\n",
    "**Total** | 578\n",
    "\n",
    "So 17 multiplied by 34, by the Ethiopian method is 578."
   ]
  },
  {
   "cell_type": "markdown",
   "metadata": {},
   "source": [
    "### 5.1\n",
    "\n",
    "Define a helper function named `isEven` that takes in an integer and returns `True` if the number is even or `False` if it's odd."
   ]
  },
  {
   "cell_type": "code",
   "execution_count": 20,
   "metadata": {},
   "outputs": [],
   "source": [
    "def isEven(n):\n",
    "    # Put your code below this comment\n",
    "    return False"
   ]
  },
  {
   "cell_type": "code",
   "execution_count": null,
   "metadata": {},
   "outputs": [],
   "source": [
    "# TEST_CASE\n",
    "# Note: if an error is given saying \"check\" is not defined, rerun the first code\n",
    "#       cell in this notebook.\n",
    "\n",
    "check(isEven, 2, expected=True)\n",
    "check(isEven, 1, expected=False)\n",
    "check(isEven, 15, expected=False)"
   ]
  },
  {
   "cell_type": "markdown",
   "metadata": {},
   "source": [
    "### 5.2\n",
    "\n",
    "Define another helper function named `halveIt` that takes in an integer and then returns a list with the halved values till it reaches 1. Make sure the list you are returning is sorted from smallest to largest. For example, if you give it the number **17** it should return the list `[1, 2, 4, 8, 17]`, and if you give it the number **105** it should return the list `[1, 3, 6, 13, 26, 52, 105]`."
   ]
  },
  {
   "cell_type": "code",
   "execution_count": 22,
   "metadata": {},
   "outputs": [],
   "source": [
    "def halveIt(n):\n",
    "  # Put your code below this comment\n",
    "  return False"
   ]
  },
  {
   "cell_type": "code",
   "execution_count": null,
   "metadata": {},
   "outputs": [],
   "source": [
    "# TEST_CASE\n",
    "# Note: if an error is given saying \"check\" is not defined, rerun the first code\n",
    "#       cell in this notebook.\n",
    "\n",
    "check(halveIt, 17, expected=[1, 2, 4, 8, 17])\n",
    "check(halveIt, 105, expected=[1, 3, 6, 13, 26, 52, 105])"
   ]
  },
  {
   "cell_type": "markdown",
   "metadata": {},
   "source": [
    "### 5.3\n",
    "\n",
    "Define another helper function named `doubleIt` that takes in two argument. The first argument should be the number that is going to be doubled, and the second should number should be the target length of the list to be returned. (If the second number is 5, you will double the starting number 4 times.) Your function should return a list with the doubled values. Make sure the list is sorted from smallest to largest. For example, if you pass **34** and **5** to your function it should return the list `[34, 68, 136, 272, 544]`."
   ]
  },
  {
   "cell_type": "code",
   "execution_count": 24,
   "metadata": {},
   "outputs": [],
   "source": [
    "def doubleIt(num, n):\n",
    "  # Put your code below this line\n",
    "  return False"
   ]
  },
  {
   "cell_type": "code",
   "execution_count": 25,
   "metadata": {},
   "outputs": [
    {
     "name": "stdout",
     "output_type": "stream",
     "text": [
      "Function should return the value [34, 68, 136, 272, 544], it is returning the value False.\n"
     ]
    }
   ],
   "source": [
    "# TEST_CASE\n",
    "# Note: if an error is given saying \"check\" is not defined, rerun the first code\n",
    "#       cell in this notebook.\n",
    "\n",
    "check(doubleIt, 34, 5, expected=[34, 68, 136, 272, 544])"
   ]
  },
  {
   "cell_type": "markdown",
   "metadata": {},
   "source": [
    "### 5.4\n",
    "Define a helper function named `sumLists` that takes in two lists. The two lists must have equal length. You should loop through each corresponding pair of elements in the two lists, and if the element in the first list is not even, then you should add the corresponding element from the second list to your total. Your function should use the `isEven` function you defined earlier to check if the element in the first list is even or not.\n",
    "For example, calling `sumLists([1, 2, 4, 8, 17], [34, 68, 136, 272, 544])` should return 578.\n"
   ]
  },
  {
   "cell_type": "code",
   "execution_count": 26,
   "metadata": {},
   "outputs": [],
   "source": [
    "def sumLists(list1, list2):\n",
    "    # Put your code below this comment\n",
    "    return False"
   ]
  },
  {
   "cell_type": "code",
   "execution_count": 27,
   "metadata": {},
   "outputs": [
    {
     "name": "stdout",
     "output_type": "stream",
     "text": [
      "Function should return the value 578, it is returning the value False.\n"
     ]
    }
   ],
   "source": [
    "# TEST_CASE\n",
    "# Note: if an error is given saying \"check\" is not defined, rerun the first code\n",
    "#       cell in this notebook.\n",
    "\n",
    "check(sumLists, [1, 2, 4, 8, 17], [34, 68, 136, 272, 544], expected=578)"
   ]
  },
  {
   "cell_type": "markdown",
   "metadata": {},
   "source": [
    "### 5.5\n",
    "\n",
    "Finally, define a function named `multiplyEth` that takes in two arguments (the numbers that are going to be multiplied) and returns the result of multiplying the first number by the second number. You should use the `halveIt` and `doubleIt` functions inside this function. Then, pass the results returned from the two helper functions to the `sumLists` function."
   ]
  },
  {
   "cell_type": "code",
   "execution_count": 28,
   "metadata": {},
   "outputs": [],
   "source": [
    "def multiplyEth(a, b):\n",
    "    # Put your code below this comment\n",
    "    return False"
   ]
  },
  {
   "cell_type": "code",
   "execution_count": 29,
   "metadata": {},
   "outputs": [
    {
     "name": "stdout",
     "output_type": "stream",
     "text": [
      "Function should return the value 578, it is returning the value False.\n",
      "Function should return the value 225, it is returning the value False.\n",
      "Function should return the value 816, it is returning the value False.\n"
     ]
    }
   ],
   "source": [
    "# TEST_CASE\n",
    "# Note: if an error is given saying \"check\" is not defined, rerun the first code\n",
    "#       cell in this notebook.\n",
    "\n",
    "check(multiplyEth, 17, 34, expected=578)\n",
    "check(multiplyEth, 15, 15, expected=225)\n",
    "check(multiplyEth, 24, 34, expected=816)"
   ]
  },
  {
   "cell_type": "markdown",
   "metadata": {},
   "source": [
    "## Exercise 6.1\n",
    "Write a function `factor` that given a positive integer `n` and a positive integer `k`, finds the largest number `i` such that `n % (k**i) == 0`. "
   ]
  },
  {
   "cell_type": "code",
   "execution_count": 1,
   "metadata": {},
   "outputs": [],
   "source": []
  },
  {
   "cell_type": "markdown",
   "metadata": {},
   "source": [
    "Run the following code to check your solution."
   ]
  },
  {
   "cell_type": "code",
   "execution_count": null,
   "metadata": {},
   "outputs": [],
   "source": [
    "check(factor, 100, 5, expected=2)\n",
    "check(factor, 100, 2, expected=2)\n",
    "check(factor, 64, 2, expected=6)\n",
    "check(factor, 1, 2, expected=0)"
   ]
  },
  {
   "cell_type": "markdown",
   "metadata": {},
   "source": [
    "## 6.2\n",
    "Find the largest number `i` such that `10000! % (10 ** i) == 0`.\n",
    "Hint: Use math"
   ]
  },
  {
   "cell_type": "code",
   "execution_count": 9,
   "metadata": {},
   "outputs": [
    {
     "name": "stdout",
     "output_type": "stream",
     "text": [
      "2499\n"
     ]
    }
   ],
   "source": []
  },
  {
   "cell_type": "markdown",
   "metadata": {},
   "source": [
    "## Exercise 7 Pascal Triangle (Hard)\n",
    "The first seven layers of the Pascal Triangle looks like the following:\n",
    "$$1$$\n",
    "$$1 \\ \\ \\ 1$$\n",
    "$$1 \\ \\ \\ 2 \\ \\ \\ 1$$\n",
    "$$1 \\ \\ \\ 3 \\ \\ \\ 3 \\ \\ \\ 1$$\n",
    "$$1 \\ \\ \\ 4 \\ \\ \\ 6 \\ \\ \\ 4 \\ \\ \\ 1$$\n",
    "$$1 \\ \\ \\ 5 \\ \\ \\ 10 \\ \\ \\ 10 \\ \\ \\ 5 \\ \\ \\ 1$$\n",
    "$$1 \\ \\ \\ 6 \\ \\ \\ 15 \\ \\ \\ 20 \\ \\ \\ 15 \\ \\ \\ 6 \\ \\ \\ 1$$\n",
    "\n",
    "Each layer of the Pascal Triangle can be computed from the previous one. Each number in one layer is the sum of the two numbers on top of it.\n",
    "\n",
    "For example, the fourth layer\n",
    "$$1 \\ \\ \\ 3 \\ \\ \\ 3 \\ \\ \\ 1$$\n",
    "is computed in this way\n",
    "$$1 \\ \\ \\ (1+2) \\ \\ \\ (2+1) \\ \\ \\ 1$$"
   ]
  },
  {
   "cell_type": "markdown",
   "metadata": {},
   "source": [
    "Define a function `nextLayer` which takes in a list `layer1` that represents one layer of the Pascal Triangle and returns a list of numbers representing the next layer.\n",
    "\n",
    "For example, `nextLayer([1, 2, 1]) = [1, 3, 3, 1]`"
   ]
  },
  {
   "cell_type": "code",
   "execution_count": 37,
   "metadata": {},
   "outputs": [],
   "source": [
    "def nextLayer(layer1):\n",
    "    pass #delete this line and add your code here\n"
   ]
  },
  {
   "cell_type": "code",
   "execution_count": null,
   "metadata": {},
   "outputs": [],
   "source": [
    "check(nextLayer,[1, 2, 1],expected=[1, 3, 3, 1])\n",
    "check(nextLayer,[1],expected=[1, 1])\n",
    "check(nextLayer,[1, 3, 3, 1],expected=[1, 4, 6, 4, 1])"
   ]
  },
  {
   "cell_type": "markdown",
   "metadata": {},
   "source": [
    "### 7.2\n"
   ]
  },
  {
   "cell_type": "markdown",
   "metadata": {},
   "source": [
    "Write a function `PascalGen` that takes in a positive integer `n`, and returns a (nested) list containing the first `n` layers in the Pascal Triangle. "
   ]
  },
  {
   "cell_type": "code",
   "execution_count": 46,
   "metadata": {},
   "outputs": [],
   "source": [
    "def PascalGen(n):\n",
    "    pass #delete this line and add your code here"
   ]
  },
  {
   "cell_type": "code",
   "execution_count": null,
   "metadata": {},
   "outputs": [],
   "source": [
    "PascalGen(6)"
   ]
  },
  {
   "cell_type": "markdown",
   "metadata": {},
   "source": [
    "## 7.3\n",
    "Draw the first 5 layers of the Pascal triangle.\n",
    "Hint: If you want make the triangle looks like a pyramid, you can try to find out the length of the \"base\" of the pyramid."
   ]
  },
  {
   "cell_type": "code",
   "execution_count": null,
   "metadata": {},
   "outputs": [],
   "source": []
  }
 ],
 "metadata": {
  "colab": {
   "provenance": []
  },
  "kernelspec": {
   "display_name": "Python 3 (ipykernel)",
   "language": "python",
   "name": "python3"
  },
  "language_info": {
   "codemirror_mode": {
    "name": "ipython",
    "version": 3
   },
   "file_extension": ".py",
   "mimetype": "text/x-python",
   "name": "python",
   "nbconvert_exporter": "python",
   "pygments_lexer": "ipython3",
   "version": "3.11.4"
  }
 },
 "nbformat": 4,
 "nbformat_minor": 1
}
