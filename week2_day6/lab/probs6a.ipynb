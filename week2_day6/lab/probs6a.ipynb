{
 "cells": [
  {
   "cell_type": "markdown",
   "id": "c97245e3",
   "metadata": {
    "id": "ud36Bq-0JklO"
   },
   "source": [
    "# Lecture 6, Exercise A"
   ]
  },
  {
   "cell_type": "markdown",
   "id": "21b6a3e8",
   "metadata": {},
   "source": [
    "# Dictionaries"
   ]
  },
  {
   "cell_type": "markdown",
   "id": "83c5a2e9",
   "metadata": {},
   "source": [
    "Here is a short summary of dictionaries and their syntax.\n",
    "\n",
    "Defining an empty dictionary:\n",
    "\n",
    "```\n",
    "numbers = {}\n",
    "```\n",
    "\n",
    "Defining a dictionary with some entries (they **keys** are Amharic numbers, the **values** English numbers):\n",
    "\n",
    "```\n",
    "numbers = {\"asir\" : \"ten\", \"hulet\" : \"two\", \"amist\" : \"five\", \"haya\" : \"twenty\"}\n",
    "```\n",
    "\n",
    "Finding the value for a dictionary key:\n",
    "\n",
    "```\n",
    "print(numbers[\"amist\"])   # This prints \"five\"\n",
    "```\n",
    "\n",
    "Adding (or overwriting) the value for a dictionary key:\n",
    "\n",
    "```\n",
    "numbers[\"arat\"] = \"four\"\n",
    "```\n",
    "\n",
    "Removing a dictionary entry (removes both key and value):\n",
    "\n",
    "```\n",
    "del numbers[\"amist\"]\n",
    "```\n",
    "\n",
    "A `for` loop over the **keys** of the dictionary, printing the keys:\n",
    "\n",
    "```\n",
    "for key in numbers:\n",
    "    print(key)\n",
    "```\n",
    "\n",
    "A `for` loop over the **keys** of the dictionary, printing the keys and values:\n",
    "\n",
    "```\n",
    "for key in numbers:\n",
    "    print(key + \": \" + numbers[key])\n",
    "```"
   ]
  },
  {
   "cell_type": "markdown",
   "id": "90a83a19",
   "metadata": {},
   "source": [
    "## Question 1\n",
    "\n",
    "Start with the following dictionary:"
   ]
  },
  {
   "cell_type": "code",
   "execution_count": null,
   "id": "76b55342",
   "metadata": {},
   "outputs": [],
   "source": [
    "numbers = {\"asir\" : \"ten\", \"hulet\" : \"two\", \"amist\" : \"five\", \"haya\" : \"twenty\", \"arba\" : \"forty\"}"
   ]
  },
  {
   "cell_type": "code",
   "execution_count": null,
   "id": "f359f832",
   "metadata": {},
   "outputs": [],
   "source": [
    "# Write code here that prints the translation of \"asir\"\n"
   ]
  },
  {
   "cell_type": "code",
   "execution_count": null,
   "id": "333f4a4b",
   "metadata": {},
   "outputs": [],
   "source": [
    "# Write code here that changes the value belonging to the key \"arba\" to its English translation\n"
   ]
  },
  {
   "cell_type": "code",
   "execution_count": null,
   "id": "02067ca2",
   "metadata": {},
   "outputs": [],
   "source": [
    "# Write code here that adds three more numbers to the dictionary\n"
   ]
  },
  {
   "cell_type": "code",
   "execution_count": null,
   "id": "e63d9125",
   "metadata": {},
   "outputs": [],
   "source": [
    "# Write code here that deletes the entries for \"hulet\" and \"haya\""
   ]
  },
  {
   "cell_type": "code",
   "execution_count": null,
   "id": "a69caad2",
   "metadata": {},
   "outputs": [],
   "source": [
    "# Write code here that prints all keys and their values\n"
   ]
  },
  {
   "cell_type": "markdown",
   "id": "1b38bba1",
   "metadata": {},
   "source": [
    "## Question 2\n",
    "\n",
    "Write code that creates a dictionary whose **keys** are the **numbers from 1 to 25** and whose **values** are the **squares** of these numbers."
   ]
  },
  {
   "cell_type": "code",
   "execution_count": null,
   "id": "ec13fe62",
   "metadata": {},
   "outputs": [],
   "source": []
  },
  {
   "cell_type": "markdown",
   "id": "2ee1eb80",
   "metadata": {},
   "source": [
    "## Question 3\n",
    "\n",
    "Write code that turns the list of lists into a dictionary whose **keys** are the **TAs' names** and the **values** the **favourite food**."
   ]
  },
  {
   "cell_type": "code",
   "execution_count": null,
   "id": "8053f395",
   "metadata": {},
   "outputs": [],
   "source": [
    "# Each entry in the list is a list containing the name of a person as \n",
    "# the 1st element, and their favorite food as the second.\n",
    "favoriteFoods = [\n",
    "    [\"Tony\", \"Hot pot\"],\n",
    "    [\"Akayou\", \"Grilled fish\"],\n",
    "    [\"Biniyam\", \"Raw meat\"],\n",
    "    [\"Alex\", \"Fried chicken\"],\n",
    "    [\"Ken\", \"Matcha ice cream\"],\n",
    "    [\"Helina\", \"Tibs\"],\n",
    "    [\"Henok\", \"Shiro\"],\n",
    "    [\"Noam\", \"Hummus\"],\n",
    "    [\"Abraham\", \"Dulet\"],\n",
    "    [\"Yeabsira\", \"Misir wat\"],\n",
    "    [\"Yared\", \"Kitfo\"],\n",
    "    [\"Hana\", \"Doro wat\"],\n",
    "    [\"Menbere\", \"Rice\"],\n",
    "    [\"Bontu\", \"Shekla Tibs\"],\n",
    "    [\"Georg\", \"Tegabino\"]\n",
    "]"
   ]
  },
  {
   "cell_type": "code",
   "execution_count": null,
   "id": "3d696e1e",
   "metadata": {},
   "outputs": [],
   "source": []
  },
  {
   "cell_type": "markdown",
   "id": "04bfc499",
   "metadata": {},
   "source": [
    "Write a line of code that uses your dictionary to print Akayou's favourite food."
   ]
  },
  {
   "cell_type": "code",
   "execution_count": null,
   "id": "32774041",
   "metadata": {},
   "outputs": [],
   "source": []
  },
  {
   "cell_type": "markdown",
   "id": "3fb17bbe",
   "metadata": {},
   "source": [
    "## Question 4\n",
    "\n",
    "Write a function that takes a word, and creates a dictionary whose **keys** are the **letters** of the word and the **values** are the **last position where the letter appears** in the word.\n",
    "\n",
    "Example: `dorowot` should be turned into `{ \"d\" : 0, \"o\" : 5, \"r\" : 2, \"w\" : 4, \"t\" : 6}`, because:\n",
    "```\n",
    "    Word: dorowot\n",
    "Position: 0123456\n",
    "```"
   ]
  },
  {
   "cell_type": "code",
   "execution_count": null,
   "id": "3b95f487",
   "metadata": {},
   "outputs": [],
   "source": [
    "def letter_last_pos(word):\n",
    "    last_pos_dic = {}\n",
    "    # Your code here\n",
    "\n",
    "    return last_pos_dic"
   ]
  },
  {
   "cell_type": "markdown",
   "id": "5965124e",
   "metadata": {},
   "source": [
    "# Functions"
   ]
  },
  {
   "cell_type": "markdown",
   "id": "a40fbfa7",
   "metadata": {
    "id": "iHdAe1kF9g0R"
   },
   "source": [
    "## Question 1: Reviewing Week 1 Essentials\n",
    "\n",
    "So, last week there were some important concepts you needed to understand which will help you in the coming weeks. To make sure you've got it, we've prepared a few exercises to help you 😀.\n",
    "## First Concept: Functions are general\n",
    "\n",
    "When we say functions are general it means that every function you define should be able to work for any valid input you give it.\n",
    "\n",
    "It's just like how the `len` function can give you the length of any list or any string.\n",
    "\n",
    "```python\n",
    "len([9,3,2]) # 3\n",
    "\n",
    "len(\"I'm excited for week 2!\") # 23\n",
    "\n",
    "len(9) # invalid input, TypeError\n",
    "```\n",
    "\n",
    "Imagine how much harder labs would have been last week if `len` only worked for \"hello world\" 😖.\n"
   ]
  },
  {
   "cell_type": "markdown",
   "id": "adce0de7",
   "metadata": {
    "id": "NPiRTU2AB3bm"
   },
   "source": [
    "### 1.1\n",
    "\n",
    "To reinforce this concept let's do an example problem :)\n",
    "\n",
    "Akayou needs a function that can tell him the favorite dish of his fellow TAs so he can buy them dinner. He writes the following code:"
   ]
  },
  {
   "cell_type": "code",
   "execution_count": null,
   "id": "e498149d",
   "metadata": {
    "id": "nrYk8vhPeDs4"
   },
   "outputs": [],
   "source": [
    "## Run this code but don't alter it\n",
    "favoriteFoods = [\n",
    "    [\"Tony\", \"Hot pot\"],\n",
    "    [\"Akayou\", \"Grilled fish\"],\n",
    "    [\"Biniyam\", \"Raw meat\"],\n",
    "    [\"Alex\", \"Fried chicken\"],\n",
    "    [\"Ken\", \"Matcha ice cream\"],\n",
    "    [\"Helina\", \"Tibs\"],\n",
    "    [\"Henok\", \"Shiro\"],\n",
    "    [\"Noam\", \"Hummus\"],\n",
    "    [\"Abraham\", \"Dulet\"],\n",
    "    [\"Yeabsira\", \"Misir wat\"],\n",
    "    [\"Yared\", \"Kitfo\"],\n",
    "    [\"Hana\", \"Doro wat\"],\n",
    "    [\"Menbere\", \"Rice\"],\n",
    "    [\"Bontu\", \"Shekla Tibs\"],\n",
    "    [\"Georg\", \"Tegabino\"]\n",
    "]\n",
    "\n",
    "def find_favorite_dish(ta):\n",
    "    \"\"\"Takes the name of a TA and returns their favorite dish.\n",
    "    Input: TA (str)\n",
    "    Output: (str)\n",
    "    \"\"\"\n",
    "    for preference in favoriteFoods:\n",
    "        if preference[0] == ta:\n",
    "            return preference[1]\n",
    "    return \"The favorite dish of \" + ta + \" was not found :(\""
   ]
  },
  {
   "cell_type": "markdown",
   "id": "952ad307",
   "metadata": {
    "id": "J_z8dUppeMnb"
   },
   "source": [
    "By **calling** `find_favorite_dish` with different TAs as arguments, print the following national dishes\n",
    "\n",
    "1. Shiro\n",
    "2. Fried chicken\n",
    "3. Rice\n",
    "4. Misir wat"
   ]
  },
  {
   "cell_type": "code",
   "execution_count": null,
   "id": "884cf394",
   "metadata": {
    "colab": {
     "base_uri": "https://localhost:8080/"
    },
    "id": "2-_p15TGK6rj",
    "outputId": "640e8ac0-785d-4bee-c1fc-262463c81c41"
   },
   "outputs": [],
   "source": [
    "# Write your answers here\n",
    "# 1.\n",
    "\n",
    "# 2.\n",
    "\n",
    "# 3.\n",
    "\n",
    "# 4.\n"
   ]
  },
  {
   "cell_type": "markdown",
   "id": "505e2032",
   "metadata": {
    "id": "mTNt-JwhDDnQ"
   },
   "source": [
    "## Second Concept: Indentation\n",
    "\n",
    "So, last week, understanding indentation in Python was very helpful for dealing with loops (for and while) and if statements. The indentation of the lines of code can determine whether it is part of a function or if its part of a loop or not. It can also determine when the line is run."
   ]
  },
  {
   "cell_type": "markdown",
   "id": "baef987b",
   "metadata": {
    "id": "XC_YC6B_DZkC"
   },
   "source": [
    "### 1.2\n",
    "Just as a reminder, this was the definition for `find_national_dish`\n",
    "\n",
    "```python\n",
    "def find_favorite_dish(ta):\n",
    "    \"\"\"Takes the name of a TA and returns their favorite dish.\n",
    "    Input: TA (str)\n",
    "    Output: (str)\n",
    "    \"\"\"\n",
    "    for preference in favoriteFoods:\n",
    "        if preference[0] == ta:\n",
    "            return preference[1]\n",
    "        return \"The favorite dish of \" + ta + \" was not found :(\"\n",
    "```\n",
    "\n",
    "Akayou was messing around with the implementation and indented the last line to be in line with the if statement like:\n",
    "\n",
    "```python\n",
    "def find_favorite_dish(ta):\n",
    "    \"\"\"Takes the name of a TA and returns their favorite dish.\n",
    "    Input: TA (str)\n",
    "    Output: (str)\n",
    "    \"\"\"\n",
    "    for preference in favoriteFoods:\n",
    "        if preference[0] == ta:\n",
    "            return preference[1]\n",
    "        return \"The favorite dish of \" + ta + \" was not found :(\"\n",
    "```\n",
    "\n",
    "What would happen if he tests it by calling `find_favorite_dish(\"Biniyam\")`?"
   ]
  },
  {
   "cell_type": "code",
   "execution_count": null,
   "id": "a679b476",
   "metadata": {
    "id": "Vo-ytHQ6DNbv"
   },
   "outputs": [],
   "source": [
    "# Write your answer here in a comment\n",
    "# "
   ]
  },
  {
   "cell_type": "markdown",
   "id": "ab0c1745",
   "metadata": {
    "id": "dUsf-ZUwLHT8"
   },
   "source": [
    "## Third Concept: Scope\n",
    "\n",
    "Each function has a scope (local scope) that is specific them. On the other hand, outside functions exists the global scope. Variables declared inside a function exist only inside that function's scope and cannot be used outside of it. Let's take a look."
   ]
  },
  {
   "cell_type": "markdown",
   "id": "70b46bfa",
   "metadata": {
    "id": "sdoGhYO8L8q3"
   },
   "source": [
    "### 1.3\n",
    "\n",
    "1.3.1. Akayou also wants to make a program that can greet other persons. Once it gets the name of the person it should say hi and ask for their age. He tries to write the following code but it keeps failing 😞.\n",
    "\n",
    "```python\n",
    "def greet(name):\n",
    "    \"\"\"Prints a greeting\n",
    "    Input: name (str)\n",
    "    Output: (None)\n",
    "    \"\"\"\n",
    "    print(\"Hi \" + name)\n",
    "\n",
    "def ask_age(name):\n",
    "    \"\"\"Asks a person what their age is\n",
    "    Input: (None)\n",
    "    Output: (None)\n",
    "    \"\"\"\n",
    "    age = int(input(name + \" , how old are you?: \"))\n",
    "\n",
    "greet(\"Hellina\")\n",
    "ask_age(\"Hellina\")\n",
    "print(\"Okay, now I know you're \" + age + \" years old\")\n",
    "```\n",
    "\n",
    "What do you think would happen when the last three lines of this code are run? Explain why."
   ]
  },
  {
   "cell_type": "code",
   "execution_count": null,
   "id": "b15f3ce8",
   "metadata": {
    "colab": {
     "base_uri": "https://localhost:8080/"
    },
    "id": "HPWsuvc2LGaJ",
    "outputId": "8ec0009e-adae-40af-c8b1-7858a805eaa3"
   },
   "outputs": [],
   "source": [
    "# Write your answer here in a comment\n",
    "#"
   ]
  },
  {
   "cell_type": "markdown",
   "id": "bcad1764",
   "metadata": {
    "id": "dBivB3eYDgvX"
   },
   "source": [
    "1.3.2. Fix the code so that it works as intended: Make sure that `ask_age` returns a value, and that you save it in the right variable when calling `ask_age(\"Hellina\")`"
   ]
  },
  {
   "cell_type": "code",
   "execution_count": null,
   "id": "8544264d",
   "metadata": {
    "id": "hy697Yqqg887"
   },
   "outputs": [],
   "source": [
    "# Write your code below here"
   ]
  },
  {
   "cell_type": "markdown",
   "id": "2423d30a",
   "metadata": {},
   "source": [
    "## Question 2: print vs return\n",
    "\n",
    "Remember the function computing the area of a circle:"
   ]
  },
  {
   "cell_type": "code",
   "execution_count": null,
   "id": "c8d581f1",
   "metadata": {},
   "outputs": [],
   "source": [
    "def area_circle(radius):\n",
    "    return 3.14 * radius ** 2"
   ]
  },
  {
   "cell_type": "markdown",
   "id": "c7df682a",
   "metadata": {},
   "source": [
    "We can **call** this function by giving it a number (or a variable, or an expression) as a radius:"
   ]
  },
  {
   "cell_type": "code",
   "execution_count": null,
   "id": "12776413",
   "metadata": {},
   "outputs": [],
   "source": [
    "print(area_circle(10))"
   ]
  },
  {
   "cell_type": "code",
   "execution_count": null,
   "id": "80885b1d",
   "metadata": {
    "scrolled": true
   },
   "outputs": [],
   "source": [
    "x = 1\n",
    "print(area_circle(x))"
   ]
  },
  {
   "cell_type": "markdown",
   "id": "e71aaa31",
   "metadata": {},
   "source": [
    "---"
   ]
  },
  {
   "cell_type": "markdown",
   "id": "68634fb1",
   "metadata": {},
   "source": [
    "The following function prints the result instead of returning."
   ]
  },
  {
   "cell_type": "code",
   "execution_count": null,
   "id": "6893ebcb",
   "metadata": {},
   "outputs": [],
   "source": [
    "def print_area_circle(radius):\n",
    "    print(3.14 * radius ** 2)"
   ]
  },
  {
   "cell_type": "markdown",
   "id": "6544317c",
   "metadata": {},
   "source": [
    "### Exercise 2.1"
   ]
  },
  {
   "cell_type": "markdown",
   "id": "f5f57ef3",
   "metadata": {},
   "source": [
    "Run the following pieces of code"
   ]
  },
  {
   "cell_type": "code",
   "execution_count": null,
   "id": "86a3be8d",
   "metadata": {},
   "outputs": [],
   "source": [
    "area = area_circle(10)"
   ]
  },
  {
   "cell_type": "code",
   "execution_count": null,
   "id": "308198d5",
   "metadata": {},
   "outputs": [],
   "source": [
    "print(area)"
   ]
  },
  {
   "cell_type": "code",
   "execution_count": null,
   "id": "5ecf7f2a",
   "metadata": {},
   "outputs": [],
   "source": [
    "area = print_area_circle(10)"
   ]
  },
  {
   "cell_type": "code",
   "execution_count": null,
   "id": "fdda621c",
   "metadata": {
    "scrolled": true
   },
   "outputs": [],
   "source": [
    "print(area)"
   ]
  },
  {
   "cell_type": "markdown",
   "id": "60e73732",
   "metadata": {},
   "source": [
    "What does the `area_cicle` function return? \n",
    "\n",
    "What does the `print_area_cicle` function return?"
   ]
  },
  {
   "cell_type": "markdown",
   "id": "06574a60",
   "metadata": {},
   "source": [
    "**Enter your answer here:**"
   ]
  },
  {
   "cell_type": "markdown",
   "id": "c65e6412",
   "metadata": {},
   "source": [
    "---"
   ]
  },
  {
   "cell_type": "markdown",
   "id": "e09edc35",
   "metadata": {},
   "source": [
    "### Exercise 2.2"
   ]
  },
  {
   "cell_type": "markdown",
   "id": "30398240",
   "metadata": {},
   "source": [
    "Remember the donut.\n",
    "\n",
    "![](donut.png)\n",
    "\n",
    "Its area is the **area of the outer circle minus the area of the inner circle**.\n",
    "\n",
    "For example, if  `r_outer = 10` and `r_inner = 5`, we can compute its area as follows:"
   ]
  },
  {
   "cell_type": "code",
   "execution_count": null,
   "id": "04c6ae65",
   "metadata": {},
   "outputs": [],
   "source": [
    "area_outer = area_circle(10)\n",
    "area_inner = area_circle(5)\n",
    "print(area_outer - area_inner)"
   ]
  },
  {
   "cell_type": "markdown",
   "id": "2ddc98e6",
   "metadata": {},
   "source": [
    "Try to do the same computation using the `print_area_circle` function. **Write your code below.**"
   ]
  },
  {
   "cell_type": "code",
   "execution_count": null,
   "id": "8f31c988",
   "metadata": {},
   "outputs": [],
   "source": []
  },
  {
   "cell_type": "markdown",
   "id": "4de495b8",
   "metadata": {},
   "source": [
    "What happens? Why?"
   ]
  },
  {
   "cell_type": "markdown",
   "id": "ee04460c",
   "metadata": {},
   "source": [
    "**Enter your answer here:**"
   ]
  },
  {
   "cell_type": "markdown",
   "id": "07a5c810",
   "metadata": {},
   "source": [
    "Print the values of `area_outer` and `area_inner`. What are their values?"
   ]
  },
  {
   "cell_type": "code",
   "execution_count": null,
   "id": "24901610",
   "metadata": {},
   "outputs": [],
   "source": []
  },
  {
   "cell_type": "markdown",
   "id": "1a2c459d",
   "metadata": {},
   "source": [
    "**Enter your answer here:**"
   ]
  },
  {
   "cell_type": "markdown",
   "id": "b44e1844",
   "metadata": {},
   "source": [
    "---"
   ]
  },
  {
   "attachments": {},
   "cell_type": "markdown",
   "id": "0d8d97d0",
   "metadata": {},
   "source": [
    "## Question 3: Functions calling other functions\n",
    "\n",
    "We can define functions that make use of other functions.\n",
    "\n",
    "The volume of a cylinder of radius $r$ and height $h$ is $\\pi r^2 h$. \n",
    "\n",
    "![Screenshot 2023-07-23 at 5.28.40 PM.png](<attachment:Screenshot 2023-07-23 at 5.28.40 PM.png>)\n",
    "\n",
    "In other words, it is the **area of the circle, multiplied with $h$**. Because we already know how to compute the area of a circle, we use it here:"
   ]
  },
  {
   "cell_type": "code",
   "execution_count": null,
   "id": "8d374c43",
   "metadata": {},
   "outputs": [],
   "source": [
    "def volume_cylinder(radius, height):\n",
    "    return area_circle(radius) * height"
   ]
  },
  {
   "cell_type": "markdown",
   "id": "a0d25ab9",
   "metadata": {},
   "source": [
    "We **call** our function to compute the area of a cylinder with radius 10 and height 1."
   ]
  },
  {
   "cell_type": "code",
   "execution_count": null,
   "id": "3aa9aa87",
   "metadata": {},
   "outputs": [],
   "source": [
    "print(volume_cylinder(10, 1))"
   ]
  },
  {
   "cell_type": "markdown",
   "id": "411a5199",
   "metadata": {},
   "source": [
    "**Call** your function for 5 different arguments to compute the area of 5 different cylinders!"
   ]
  },
  {
   "cell_type": "code",
   "execution_count": null,
   "id": "d7683347",
   "metadata": {},
   "outputs": [],
   "source": []
  },
  {
   "cell_type": "markdown",
   "id": "d1c32ba4",
   "metadata": {},
   "source": [
    "### Exercise 3.1\n",
    "\n",
    "Write a function `volume_cone` that computes the volume of a cone. The volume of a cone with radius $r$ and height $h$ is **$h/3$ times the area of the circle** at the base."
   ]
  },
  {
   "cell_type": "code",
   "execution_count": null,
   "id": "e2936669",
   "metadata": {},
   "outputs": [],
   "source": []
  },
  {
   "cell_type": "markdown",
   "id": "f10e5dfa",
   "metadata": {},
   "source": [
    "**Call** your function for 5 different arguments to compute the area of 5 different cones!\n",
    "\n",
    "Example: `print(volume_cone(10, 1))` --> This should give 104.66666666666667"
   ]
  },
  {
   "cell_type": "code",
   "execution_count": null,
   "id": "98a2876f",
   "metadata": {},
   "outputs": [],
   "source": []
  },
  {
   "cell_type": "markdown",
   "id": "53908d9a",
   "metadata": {},
   "source": [
    "### Exercise 3.2\n",
    "\n",
    "Fill in the function to compute the **area of the donut** below. Do this by calling the `area_circle` function (twice!)."
   ]
  },
  {
   "cell_type": "code",
   "execution_count": null,
   "id": "571dfb08",
   "metadata": {},
   "outputs": [],
   "source": [
    "def area_donut(r_inner, r_outer):\n",
    "    # Your code here. One line is enough."
   ]
  },
  {
   "cell_type": "markdown",
   "id": "ae3b1edd",
   "metadata": {},
   "source": [
    "**Call** your function for 5 different arguments to compute the area of 5 different donuts!\n",
    "\n",
    "Example: `print(area_donut(10, 5))` --> This should give 235.5"
   ]
  },
  {
   "cell_type": "code",
   "execution_count": null,
   "id": "c56cf4c4",
   "metadata": {},
   "outputs": [],
   "source": []
  },
  {
   "cell_type": "markdown",
   "id": "713e07a5",
   "metadata": {},
   "source": [
    "### Exercise 3.3"
   ]
  },
  {
   "cell_type": "markdown",
   "id": "b218459d",
   "metadata": {},
   "source": [
    "Write a function `volume_hollow_cylinder` to compute the volume of a hollow cylinder: it is like a 3-dimensional donut, and its volume is the **area of the donut at the base times its height**.\n",
    "\n",
    "The arguments of your function should be `r_inner`, `r_outer` and `height`, and it should make use of the function `area_donut`."
   ]
  },
  {
   "cell_type": "code",
   "execution_count": null,
   "id": "0abf4189",
   "metadata": {},
   "outputs": [],
   "source": []
  },
  {
   "cell_type": "markdown",
   "id": "e10af84f",
   "metadata": {},
   "source": [
    "**Call** your function for 5 different arguments to compute the area of 5 different hollow cylinders!\n",
    "\n",
    "Example: `print(volume_hollow_cylinder(10, 5, 10))` --> This should give 2355.0"
   ]
  },
  {
   "cell_type": "code",
   "execution_count": null,
   "id": "b73ea8ad",
   "metadata": {},
   "outputs": [],
   "source": []
  },
  {
   "cell_type": "markdown",
   "id": "c744a802",
   "metadata": {
    "id": "-qdg196AJkmo"
   },
   "source": [
    "## Question 4: Armstrong Numbers\n",
    "Your CS professor, Alex, loves Armstrong numbers and asks you to help identify some Armstrong numbers for them. A three digit integer is said to be an **Armstrong** number if the sum of the cubes of its digits is equal to the number itself. For example, 371 is an Armstrong number since 3<sup>3</sup> + 7<sup>3</sup> + 1<sup>3</sup> = 371."
   ]
  },
  {
   "cell_type": "markdown",
   "id": "1e5c5d62",
   "metadata": {
    "id": "ixZ8KSu-16a4"
   },
   "source": [
    "#### Run the following cell before doing the exercises."
   ]
  },
  {
   "cell_type": "code",
   "execution_count": null,
   "id": "b8b8d349",
   "metadata": {
    "id": "CpSgZ1kiJklR"
   },
   "outputs": [],
   "source": [
    "# Run this function\n",
    "def check(fn, *input, expected, postprocess_fn=None):\n",
    "    result = fn(*input)\n",
    "    if postprocess_fn is not None:\n",
    "        expected = postprocess_fn(expected)\n",
    "        result = postprocess_fn(result)\n",
    "    if expected != result:\n",
    "        print(\n",
    "            f\"Function should return the value {expected}, it is returning the value {result}.\")\n",
    "    else:\n",
    "        print(f\"Congratulations, the test case passed!\")"
   ]
  },
  {
   "cell_type": "markdown",
   "id": "68e1dcc1",
   "metadata": {
    "id": "vh9r7y4RJkmp"
   },
   "source": [
    "### 4.1\n",
    "Define a helper function named `extractDigits` that is going to take in a positive integer and then returns the individual digits within the integer as a list. For example, if you give it **371** it should return the list `[1, 3, 7]`. Your list must be sorted in ascending order. Use the built-in function `sorted` to sort the list.    "
   ]
  },
  {
   "cell_type": "code",
   "execution_count": null,
   "id": "a0b74c45",
   "metadata": {
    "id": "L_aAhLN8Jkmq"
   },
   "outputs": [],
   "source": [
    "def extractDigits(n):\n",
    "    # Put your code below this comment\n",
    "    return []"
   ]
  },
  {
   "cell_type": "code",
   "execution_count": null,
   "id": "f851373e",
   "metadata": {
    "colab": {
     "base_uri": "https://localhost:8080/"
    },
    "id": "NZWCy2UgJkmw",
    "outputId": "997b34ac-ef4a-4de3-f82c-4d5853d01d2f"
   },
   "outputs": [],
   "source": [
    "# TEST_CASE\n",
    "# Note: if an error is given saying \"check\" is not defined, rerun the first code\n",
    "#       cell in Question 4.\n",
    "\n",
    "check(extractDigits, 371, expected=[1, 3, 7], postprocess_fn=sorted)\n",
    "check(extractDigits, 985, expected=[5, 8, 9], postprocess_fn=sorted)\n",
    "check(extractDigits, 652, expected=[2, 5, 6], postprocess_fn=sorted)"
   ]
  },
  {
   "cell_type": "markdown",
   "id": "d16bb3fa",
   "metadata": {
    "id": "bUaQl85oJkmz"
   },
   "source": [
    "### 4.2\n",
    "\n",
    "Define a helper function named `sumDigitCubes` that is going to take in a list and it should cube (raise the number by the power 3) and then sum them up. For example, if you're given the list `[3, 7, 1]` it should return the result of 3<sup>3</sup> + 7<sup>3</sup> + 1<sup>3</sup> which in this case is 371."
   ]
  },
  {
   "cell_type": "code",
   "execution_count": null,
   "id": "78646e76",
   "metadata": {
    "id": "cjHcdtwX4VKD"
   },
   "outputs": [],
   "source": [
    "def sumDigitCubes(nums_to_cube):\n",
    "    # Put your code below this comment\n",
    "    return 0"
   ]
  },
  {
   "cell_type": "code",
   "execution_count": null,
   "id": "b352c7e5",
   "metadata": {
    "colab": {
     "base_uri": "https://localhost:8080/"
    },
    "id": "Yv7oAjQmJkm4",
    "outputId": "977ec939-ceef-4196-f7b8-3b33e3ca4a1b"
   },
   "outputs": [],
   "source": [
    "# TEST_CASE\n",
    "# Note: if an error is given saying \"check\" is not defined, rerun the first code\n",
    "#       cell in Question 4.\n",
    "\n",
    "check(sumDigitCubes, [3, 7, 1], expected=371)\n",
    "check(sumDigitCubes, [4, 2, 3], expected=99)"
   ]
  },
  {
   "cell_type": "markdown",
   "id": "9cb165df",
   "metadata": {
    "id": "zLj0BL6oJkm7"
   },
   "source": [
    "### 4.3\n",
    "\n",
    "Define a helper function named `isArmstrong` that is going to take in a number and returns True if the number is an Armstrong number otherwise return False. You should use the `extractDigits` and `sumDigitCubes` functions you defined earlier. You should first call the `extractDigits` function and then pass the result of that function call to the `sumDigitCubes` function. If the number is an Armstrong number return `True` otherwise return `False`."
   ]
  },
  {
   "cell_type": "code",
   "execution_count": null,
   "id": "d88eeb2f",
   "metadata": {
    "id": "WaYWku2dJkm9"
   },
   "outputs": [],
   "source": [
    "def isArmstrong(num):\n",
    "    # Put your code below this comment\n",
    "    return False"
   ]
  },
  {
   "cell_type": "code",
   "execution_count": null,
   "id": "012e1e1c",
   "metadata": {
    "colab": {
     "base_uri": "https://localhost:8080/"
    },
    "id": "eYOxPvQkJknA",
    "outputId": "0174df4f-00ea-4c16-bcb2-c5c1fa7462ee"
   },
   "outputs": [],
   "source": [
    "# TEST_CASE\n",
    "# Note: if an error is given saying \"check\" is not defined, rerun the first code\n",
    "#       cell in Question 4.\n",
    "\n",
    "check(isArmstrong, 371, expected=True)\n",
    "check(isArmstrong, 372, expected=False)\n",
    "check(isArmstrong, 153, expected=True)\n",
    "check(isArmstrong, 407, expected=True)\n",
    "check(isArmstrong, 370, expected=True)"
   ]
  },
  {
   "cell_type": "markdown",
   "id": "bf8db2c7",
   "metadata": {
    "id": "FcNI2kJ7JknD"
   },
   "source": [
    "### 4.4\n",
    "\n",
    "Define a function named `findArmstrongNumbers` that finds all 3 digit armstrong numbers. It should return a list of three digit armstrong numbers."
   ]
  },
  {
   "cell_type": "code",
   "execution_count": null,
   "id": "f3a9d4d2",
   "metadata": {
    "colab": {
     "base_uri": "https://localhost:8080/"
    },
    "id": "YTfXFnk3JknD",
    "outputId": "e9fe9c25-8989-482a-cf98-72f4391e633c"
   },
   "outputs": [],
   "source": [
    "def findArmstrongNumbers():\n",
    "    # Put your code below this comment\n",
    "    return []"
   ]
  },
  {
   "cell_type": "code",
   "execution_count": null,
   "id": "8c004140",
   "metadata": {
    "colab": {
     "base_uri": "https://localhost:8080/"
    },
    "id": "Tb5DV_gbE3hj",
    "outputId": "23397997-62d9-4af0-edf4-f62327847870",
    "scrolled": true
   },
   "outputs": [],
   "source": [
    "# TEST_CASE\n",
    "# Note: if an error is given saying \"check\" is not defined, rerun the first code\n",
    "#       cell in Question 4.\n",
    "\n",
    "check(len, findArmstrongNumbers(), expected=4)"
   ]
  },
  {
   "cell_type": "markdown",
   "id": "1566d1de",
   "metadata": {},
   "source": [
    "## Question 5: Perfect numbers"
   ]
  },
  {
   "cell_type": "markdown",
   "id": "ab45c35b",
   "metadata": {},
   "source": [
    "A perfect number is a number whose proper divisors add up to the number itself. For example, 28 is a perfect number, because its proper divisors are 1, 2, 4, 7, 14 and 1+2+4+7+14=28.\n",
    "\n",
    "Write a function that returns a list containing all the perfect numbers less than 10000.\n",
    "\n",
    "Hint: First write a function checking whether a number is divisible by another number. Use that to define a new function computing the sum of divisors of a number."
   ]
  },
  {
   "cell_type": "code",
   "execution_count": null,
   "id": "e923a77d",
   "metadata": {},
   "outputs": [],
   "source": [
    "# Your code here"
   ]
  },
  {
   "cell_type": "markdown",
   "id": "3f3acbfd",
   "metadata": {},
   "source": [
    "## Question 6\n",
    "\n",
    "Write a function `most_frequent(word)` that takes a word, and returns its most frequent letter.\n",
    "\n",
    "Example:\n",
    "- `\"addis\"` --> `\"d\"`\n",
    "- `\"addisababa\"` --> `\"a\"`\n",
    "\n",
    "Hint: First write a function that takes a word and computes and returns a dictionary whose keys are the letters of the word and its values are how often the letter appears."
   ]
  },
  {
   "cell_type": "code",
   "execution_count": null,
   "id": "982e57ef",
   "metadata": {},
   "outputs": [],
   "source": [
    "# Your code here"
   ]
  },
  {
   "cell_type": "code",
   "execution_count": null,
   "id": "cd701bee",
   "metadata": {},
   "outputs": [],
   "source": [
    "# TEST_CASE\n",
    "# Note: if an error is given saying \"check\" is not defined, rerun the first code\n",
    "#       cell in Question 4.\n",
    "\n",
    "check(most_frequent, \"addis\", expected=\"d\")\n",
    "check(most_frequent, \"addisababa\", expected=\"a\")\n",
    "check(most_frequent, \"dorowot\", expected=\"o\")"
   ]
  },
  {
   "cell_type": "code",
   "execution_count": null,
   "id": "e949c0fd",
   "metadata": {},
   "outputs": [],
   "source": []
  }
 ],
 "metadata": {
  "kernelspec": {
   "display_name": "Python 3",
   "language": "python",
   "name": "python3"
  },
  "language_info": {
   "codemirror_mode": {
    "name": "ipython",
    "version": 3
   },
   "file_extension": ".py",
   "mimetype": "text/x-python",
   "name": "python",
   "nbconvert_exporter": "python",
   "pygments_lexer": "ipython3",
   "version": "3.6.9"
  }
 },
 "nbformat": 4,
 "nbformat_minor": 5
}
