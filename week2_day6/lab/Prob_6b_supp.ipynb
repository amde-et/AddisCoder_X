{
 "cells": [
  {
   "cell_type": "markdown",
   "metadata": {},
   "source": [
    "### Supplementary Exercises for Week 2 Day 1 Notebook b"
   ]
  },
  {
   "cell_type": "markdown",
   "metadata": {},
   "source": [
    "#### Run the following cell before doing the exercises."
   ]
  },
  {
   "cell_type": "code",
   "execution_count": 3,
   "metadata": {},
   "outputs": [],
   "source": [
    "# Run this function\n",
    "def check(fn, *input, expected):\n",
    "    result = fn(*input)\n",
    "    if expected != result:\n",
    "        print(\n",
    "            f\"Function should return the value {expected}, it is returning the value {result}.\")\n",
    "    else:\n",
    "        print(f\"Congratulations, the test case passed!\")"
   ]
  },
  {
   "cell_type": "markdown",
   "metadata": {},
   "source": [
    "#### Exercise 1: \n",
    "Write a Python program to flatten a shallow list. <br>\n",
    "Example:\n",
    "- Input: [[50, 60], [300, 400]]  <br>\n",
    "- Output: [50,60,300,400]\n"
   ]
  },
  {
   "cell_type": "code",
   "execution_count": null,
   "metadata": {},
   "outputs": [],
   "source": [
    "#Write your code here\n"
   ]
  },
  {
   "cell_type": "markdown",
   "metadata": {},
   "source": [
    "#### Exercise 2:\n",
    "Multiply with place values [10’s,100’s] to the given lists: <br>\n",
    "(i.e. multiply first row with 10 and second row with 100 and continue like that.)\n",
    "\n",
    "Example:\n",
    "- Input: [[5,6], [3,4]]\n",
    "- Output: [[50, 60], [300, 400]]\n"
   ]
  },
  {
   "cell_type": "code",
   "execution_count": 1,
   "metadata": {},
   "outputs": [
    {
     "name": "stdout",
     "output_type": "stream",
     "text": [
      "[[50, 60], [300, 400]]\n"
     ]
    }
   ],
   "source": [
    "#Write your code here"
   ]
  },
  {
   "cell_type": "markdown",
   "metadata": {},
   "source": [
    "#### Exercise 3:\n",
    "Print the following pattern\n",
    "Write a program to print the following start pattern using the for loop.\n"
   ]
  },
  {
   "cell_type": "raw",
   "metadata": {},
   "source": [
    "* \n",
    "* * \n",
    "* * * \n",
    "* * * * \n",
    "* * * * * \n",
    "* * * * \n",
    "* * * \n",
    "* * \n",
    "*"
   ]
  },
  {
   "cell_type": "code",
   "execution_count": 87,
   "metadata": {},
   "outputs": [
    {
     "name": "stdout",
     "output_type": "stream",
     "text": [
      "Enter the value to print start sequence: 1\n",
      "\n",
      "* \n"
     ]
    }
   ],
   "source": [
    "#Write your code here"
   ]
  },
  {
   "cell_type": "markdown",
   "metadata": {},
   "source": [
    "#### Exercise 4\n",
    "In this exercise, we will do random simulations that give us lists of results (numbers), and analyze them.\n",
    "\n",
    "We want to visualize our results as frequency tables. For example, if we have a list `[15, 4, 7, 2, 2, 9, 1, 2, 5, 4]`, we want to format it like:\n",
    "\n",
    "```\n",
    "1 : 1\n",
    "2 : 3\n",
    "3\n",
    "4 : 2\n",
    "5 : 1\n",
    "6\n",
    "7 : 1\n",
    "8\n",
    "9 : 1\n",
    "10\n",
    "11\n",
    "12\n",
    "13\n",
    "14\n",
    "15 : 1\n",
    "```\n",
    "\n",
    "Write a function `print_stat` that takes a list and converts it into a dictionary whose keys are the numbers in the list and the values are how often the number appears in the list. Print it nicely as shown above. (Fill in the missing keys while printing!)\n",
    "\n",
    "Hint: Use the `max` function to get the maximum key in the dictionary, and then write a `for` loop going from 1 to that maximum."
   ]
  },
  {
   "cell_type": "code",
   "execution_count": 3,
   "metadata": {},
   "outputs": [],
   "source": [
    "#Write your code here"
   ]
  },
  {
   "cell_type": "markdown",
   "metadata": {},
   "source": [
    "### Simulations\n"
   ]
  },
  {
   "cell_type": "markdown",
   "metadata": {},
   "source": [
    "#### 4.1\n",
    "\n",
    "We want use `random.randrange(1, 7)` to simulate rolling a dice until you roll a 6, and count the dice rolls needed. Write a function `count_dice_rolls()` that has no parameters, rolls dice until it hits a 6, and returns the number of random rolls."
   ]
  },
  {
   "cell_type": "code",
   "execution_count": 91,
   "metadata": {},
   "outputs": [],
   "source": [
    "import random\n",
    "\n",
    "# your code here\n"
   ]
  },
  {
   "cell_type": "markdown",
   "metadata": {},
   "source": [
    "You will notice that the result changes each time you call the function. We want to create a statistic to see how many dice rolls are needed on average (and the same for the other two functions).\n",
    "\n",
    "Write a for-loop that runs `count_dice_rolls()` 10000 times and stores the output in a list. Compute the average number of dice rolls, and use your function `print_stat` to visualize the distribution of outcomes.\n",
    "\n",
    "Example: if we roll 10 times, we might get `[15, 4, 7, 2, 2, 9, 1, 2, 5, 4]`. The average number of rolls then is `5.1`."
   ]
  },
  {
   "cell_type": "code",
   "execution_count": 2,
   "metadata": {},
   "outputs": [],
   "source": [
    "#your code here"
   ]
  },
  {
   "cell_type": "markdown",
   "metadata": {},
   "source": [
    "#### 4.2\n",
    "\n",
    "We can generate a random number between 0 and 1 using the function `random.random()`. Write a function  `count_random_draws(p)` that takes `p` as an parameter and that generates random numbers until one of them is larger than `p`. Return the number of random numbers that were generated until one of them is larger than `p`."
   ]
  },
  {
   "cell_type": "code",
   "execution_count": 4,
   "metadata": {},
   "outputs": [],
   "source": [
    "import random\n",
    "\n",
    "# your code here"
   ]
  },
  {
   "cell_type": "markdown",
   "metadata": {},
   "source": [
    "As before, write a for-loop that runs `count_random_draws(0.8)` 10000 times and stores the output in a list. Compute the average number of dice rolls, and use your function `print_stat` to visualize the distribution of outcomes."
   ]
  },
  {
   "cell_type": "code",
   "execution_count": 5,
   "metadata": {},
   "outputs": [],
   "source": [
    "# your code here"
   ]
  },
  {
   "cell_type": "markdown",
   "metadata": {},
   "source": [
    "#### 4.3\n",
    "\n",
    "Write a function `count_until_sum(n)` that takes a parameter `n` and generates random numbers between 0 and 1 until their *sum* exceeds `n`. Return how many numbers were generated."
   ]
  },
  {
   "cell_type": "code",
   "execution_count": 6,
   "metadata": {},
   "outputs": [],
   "source": [
    "import random\n",
    "\n",
    "# your code here\n"
   ]
  },
  {
   "cell_type": "markdown",
   "metadata": {},
   "source": [
    "As before, write a for-loop that runs count_until_sum(10) 10000 times and stores the output in a list. Compute the average number of dice rolls, and use your function print_stat to visualize the distribution of outcomes."
   ]
  },
  {
   "cell_type": "code",
   "execution_count": null,
   "metadata": {},
   "outputs": [],
   "source": []
  },
  {
   "cell_type": "markdown",
   "metadata": {},
   "source": [
    "#### Exercise 5: \n",
    "Print the following output using a for loop. <br>\n",
    "1 <br> \n",
    "2 2 <br>\n",
    "3 3 3 <br>\n",
    "4 4 4 4 <br>"
   ]
  },
  {
   "cell_type": "code",
   "execution_count": 7,
   "metadata": {},
   "outputs": [],
   "source": [
    "#Write your code here\n"
   ]
  },
  {
   "cell_type": "markdown",
   "metadata": {},
   "source": [
    "#### Exercise 6:\n",
    "Print odd numbered patterns as shown below"
   ]
  },
  {
   "cell_type": "raw",
   "metadata": {},
   "source": [
    "*\n",
    "***\n",
    "*****\n",
    "*******"
   ]
  },
  {
   "cell_type": "code",
   "execution_count": 8,
   "metadata": {},
   "outputs": [],
   "source": [
    "#Write your code here\n"
   ]
  },
  {
   "cell_type": "markdown",
   "metadata": {},
   "source": [
    "#### Exercise 7: \n",
    "Print alphabets as shown below."
   ]
  },
  {
   "cell_type": "raw",
   "metadata": {},
   "source": [
    "A\n",
    "B C\n",
    "D E F\n",
    "G H I J\n",
    "K L M N O"
   ]
  },
  {
   "cell_type": "code",
   "execution_count": 23,
   "metadata": {},
   "outputs": [
    {
     "name": "stdout",
     "output_type": "stream",
     "text": [
      "A \n",
      "B C \n",
      "D E F \n",
      "G H I J \n",
      "K L M N O \n"
     ]
    }
   ],
   "source": [
    "#Write your code here\n"
   ]
  },
  {
   "cell_type": "markdown",
   "metadata": {},
   "source": [
    "#### Exercise 8: \n",
    "Using a function print A one time, B two times, C three times and continue like that until an input number n."
   ]
  },
  {
   "cell_type": "code",
   "execution_count": 2,
   "metadata": {
    "scrolled": true
   },
   "outputs": [
    {
     "name": "stdout",
     "output_type": "stream",
     "text": [
      "Enter the number of rows:6\n",
      "A \n",
      "B B \n",
      "C C C \n",
      "D D D D \n",
      "E E E E E \n",
      "F F F F F F \n"
     ]
    }
   ],
   "source": [
    "#Write your code here\n"
   ]
  },
  {
   "cell_type": "markdown",
   "metadata": {},
   "source": [
    "### Modules\n",
    "Here we will use some modules that you learned in lecture."
   ]
  },
  {
   "cell_type": "markdown",
   "metadata": {},
   "source": [
    "#### Exercise 9\n",
    "#### 9.1: \n",
    "Generate 3 random integers between 100 and 999 which is divisible by 7."
   ]
  },
  {
   "cell_type": "code",
   "execution_count": 9,
   "metadata": {},
   "outputs": [],
   "source": [
    "import random\n",
    "\n",
    "# Write your answers here:\n"
   ]
  },
  {
   "cell_type": "markdown",
   "metadata": {},
   "source": [
    "#### 9.2: \n",
    "Can you generate two random float numbers?"
   ]
  },
  {
   "cell_type": "code",
   "execution_count": 10,
   "metadata": {},
   "outputs": [],
   "source": [
    "# Write your answers here:\n"
   ]
  },
  {
   "cell_type": "markdown",
   "metadata": {},
   "source": [
    "#### 9.3: \n",
    "Calculate multiplication of two random float numbers"
   ]
  },
  {
   "cell_type": "code",
   "execution_count": 11,
   "metadata": {},
   "outputs": [],
   "source": [
    "# Write your answers here:\n"
   ]
  },
  {
   "cell_type": "markdown",
   "metadata": {},
   "source": [
    "#### Exercise 10: \n",
    "Random Lottery Pick. Generate 100 random lottery tickets and pick two lucky tickets from it as a winner.\n",
    "<br>\n",
    "<b>Note</b> \n",
    "- The lottery number must be 10 digits long.\n",
    "- All 100 ticket number must be unique.\n",
    "\n",
    "Hint: You can use <code>help(random)</code> to use the modules of randrange. And you can use <code>sample()</code> to pick the luck letters."
   ]
  },
  {
   "cell_type": "code",
   "execution_count": 12,
   "metadata": {},
   "outputs": [],
   "source": [
    "# Write your code here:\n"
   ]
  },
  {
   "cell_type": "markdown",
   "metadata": {},
   "source": [
    "#### Exercise 11: Hard (Challenge)\n",
    "Given the following string: <code> s = 'Abebe came to Addis Ababa.'</code> generate a random string using the letters of the string s. \n",
    "- You should not use spaces and special characters.\n",
    "- You can repeat letters.\n",
    "- The same capital and small letters should not be used twice. You can use `upper()` or `lower()` methods."
   ]
  },
  {
   "cell_type": "markdown",
   "metadata": {},
   "source": [
    "First write a function that creates a string which does not contain a repeatition of characters from the string s."
   ]
  },
  {
   "cell_type": "code",
   "execution_count": 15,
   "metadata": {},
   "outputs": [],
   "source": [
    "# Write your code here."
   ]
  },
  {
   "cell_type": "markdown",
   "metadata": {},
   "source": [
    "Now, you can write your permutation function to generate strings."
   ]
  },
  {
   "cell_type": "code",
   "execution_count": 82,
   "metadata": {},
   "outputs": [],
   "source": [
    "def permutations(string, step = 0):\n",
    "    # Write your code here."
   ]
  },
  {
   "cell_type": "code",
   "execution_count": null,
   "metadata": {},
   "outputs": [],
   "source": []
  }
 ],
 "metadata": {
  "kernelspec": {
   "display_name": "Python 3",
   "language": "python",
   "name": "python3"
  },
  "language_info": {
   "codemirror_mode": {
    "name": "ipython",
    "version": 3
   },
   "file_extension": ".py",
   "mimetype": "text/x-python",
   "name": "python",
   "nbconvert_exporter": "python",
   "pygments_lexer": "ipython3",
   "version": "3.7.3"
  }
 },
 "nbformat": 4,
 "nbformat_minor": 2
}
