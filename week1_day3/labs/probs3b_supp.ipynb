{
 "cells": [
  {
   "cell_type": "markdown",
   "id": "eec95628",
   "metadata": {},
   "source": [
    "## Supplementary exercises for Week 1 Day 3 notebook B"
   ]
  },
  {
   "cell_type": "markdown",
   "id": "b3130658",
   "metadata": {},
   "source": [
    "### Run the following cell first."
   ]
  },
  {
   "cell_type": "code",
   "execution_count": 201,
   "id": "584ade31",
   "metadata": {},
   "outputs": [],
   "source": [
    "def check(actual, expected):\n",
    "    if expected != actual:\n",
    "        print(\n",
    "            f\"Function should return the value {expected}, it is returning the value {actual}\")\n",
    "    else:\n",
    "        print(f\"Congratulations, the test case passed!\")"
   ]
  },
  {
   "cell_type": "markdown",
   "id": "314b21a7",
   "metadata": {},
   "source": [
    "## Exercise 1 (Basic)"
   ]
  },
  {
   "cell_type": "markdown",
   "id": "eae3d7b2",
   "metadata": {},
   "source": [
    "Write a `while` loop that prints the integers between `0` and `10` (inclusive on both ends)."
   ]
  },
  {
   "cell_type": "code",
   "execution_count": null,
   "id": "6c30c773",
   "metadata": {},
   "outputs": [],
   "source": []
  },
  {
   "cell_type": "markdown",
   "id": "17433451",
   "metadata": {},
   "source": [
    "Change the loop above to be a `for` loop."
   ]
  },
  {
   "cell_type": "code",
   "execution_count": null,
   "id": "c01caa7c",
   "metadata": {},
   "outputs": [],
   "source": []
  },
  {
   "cell_type": "markdown",
   "id": "e8e5a8d0",
   "metadata": {},
   "source": [
    "## Exercise 2 (Basic)\n",
    "Let `lst = [12, 34, 15, 11, 9, 34, 433, 23, 24, 121, 343, 32, 111, 4454, 323]` be a list of integers. Use a `while` loop to print all the elements in `lst`\n"
   ]
  },
  {
   "cell_type": "code",
   "execution_count": 202,
   "id": "b673f70b",
   "metadata": {},
   "outputs": [],
   "source": [
    "lst = [12, 34, 15, 11, 9, 34, 433, 23, 24, 121, 343, 32, 111, 4454, 323]"
   ]
  },
  {
   "cell_type": "code",
   "execution_count": null,
   "id": "c39973c7",
   "metadata": {},
   "outputs": [],
   "source": []
  },
  {
   "cell_type": "markdown",
   "id": "e4d8ae2e",
   "metadata": {},
   "source": [
    "### 2.1 \n",
    "Change the loop above to be a `for` loop."
   ]
  },
  {
   "cell_type": "code",
   "execution_count": null,
   "id": "27b57d05",
   "metadata": {},
   "outputs": [],
   "source": []
  },
  {
   "cell_type": "markdown",
   "id": "365f1877",
   "metadata": {},
   "source": [
    "### 2.2\n",
    "Print only the odd elements in `lst` using a `for` loop."
   ]
  },
  {
   "cell_type": "code",
   "execution_count": null,
   "id": "6dff6b53",
   "metadata": {},
   "outputs": [],
   "source": []
  },
  {
   "cell_type": "markdown",
   "id": "f84db5ec",
   "metadata": {},
   "source": [
    "### 2.3 \n",
    "Print every other element in `lst` using a `for` loop."
   ]
  },
  {
   "cell_type": "code",
   "execution_count": null,
   "id": "f4823bdc",
   "metadata": {},
   "outputs": [],
   "source": []
  },
  {
   "cell_type": "markdown",
   "id": "645455a8",
   "metadata": {},
   "source": [
    "## Exercise 3(Easy)\n",
    "Given an empty dictionary `dic`, and two equal-length lists `keys` and `vals`. Put every corresponding  key and value from `keys` and `vals` (with the same index) into the dictionary `dic`. For example, if the list are `keys = [\"Jelani\", \"Daniel\"]` and `vals = [\"Week 4\", \"Week 1\"]`, then your dictionary `dic` should contain two keys, and `dic[\"Jelani\"] = \"Week 4\"`, `dic[\"Daniel\"] = \"Week 1\"`."
   ]
  },
  {
   "cell_type": "code",
   "execution_count": 203,
   "id": "1a4db77f",
   "metadata": {},
   "outputs": [],
   "source": [
    "keys = [\"Jelani\", \"Daniel\"]\n",
    "\n",
    "vals = [\"Week 4\", \"Week 1\"]"
   ]
  },
  {
   "cell_type": "code",
   "execution_count": null,
   "id": "b0313ea6",
   "metadata": {},
   "outputs": [],
   "source": []
  },
  {
   "cell_type": "markdown",
   "id": "47796c75",
   "metadata": {},
   "source": [
    "## Exercise 4 (Medium)\n",
    "Use a `for` loop to print the following:\n",
    "$\\newline *\n",
    "\\newline * \\ \\ \\ *\n",
    "\\newline * \\ \\ \\ * \\ \\ \\ *\n",
    "\\newline *\\ \\ \\  *\\ \\ \\  *\\ \\ \\  *$\n"
   ]
  },
  {
   "cell_type": "code",
   "execution_count": 204,
   "id": "0a4cfcbe",
   "metadata": {},
   "outputs": [
    {
     "name": "stdout",
     "output_type": "stream",
     "text": [
      "*  \n",
      "*  *  \n",
      "*  *  *  \n",
      "*  *  *  *  \n"
     ]
    }
   ],
   "source": [
    "for i in range(1, 5):\n",
    "    print(\"*  \" * i)"
   ]
  },
  {
   "cell_type": "markdown",
   "id": "8073c077",
   "metadata": {},
   "source": [
    "### 4.2 (Hard)\n",
    "Use a nested `for` loop to print the following:\n",
    "$\\newline 1\n",
    "\\newline 2 \\ \\ \\ 3\n",
    "\\newline 4 \\ \\ \\ 5 \\ \\ \\ 6\n",
    "\\newline 7\\ \\ \\  8\\ \\ \\  9\\ \\ \\  10$"
   ]
  },
  {
   "cell_type": "code",
   "execution_count": 205,
   "id": "b698ee09",
   "metadata": {},
   "outputs": [
    {
     "name": "stdout",
     "output_type": "stream",
     "text": [
      "1 \n",
      "2 3 \n",
      "4 5 6 \n",
      "7 8 9 10 \n"
     ]
    }
   ],
   "source": [
    "start = 1\n",
    "for i in range(1, 5):\n",
    "    st =  \"\"\n",
    "    for j in range(i):\n",
    "        st += str(start) + \" \"\n",
    "        start += 1\n",
    "    print(st)"
   ]
  },
  {
   "cell_type": "markdown",
   "id": "0da434f3",
   "metadata": {},
   "source": [
    "### 4.3 (Hard)\n",
    "Use a nested `for` loop to print the following:\n",
    "$\\newline 7\\ \\ \\  8\\ \\ \\  9\\ \\ \\  10\n",
    "\\newline 4 \\ \\ \\ 5 \\ \\ \\ 6\n",
    "\\newline 2 \\ \\ \\ 3\n",
    "\\newline 1$"
   ]
  },
  {
   "cell_type": "code",
   "execution_count": 206,
   "id": "592138f0",
   "metadata": {},
   "outputs": [
    {
     "name": "stdout",
     "output_type": "stream",
     "text": [
      "7 8 9 10 \n",
      "4 5 6 \n",
      "2 3 \n",
      "1 \n"
     ]
    }
   ],
   "source": [
    "start = 10\n",
    "for i in range(4, 0, -1):\n",
    "    st =  \"\"\n",
    "    for j in range(i):\n",
    "        st = str(start) + \" \" + st\n",
    "        start -= 1\n",
    "    print(st)\n"
   ]
  },
  {
   "cell_type": "markdown",
   "id": "6e916a38",
   "metadata": {},
   "source": [
    "## Exercise 5 (Hard)\n",
    "Print out the following.\n",
    "$\n",
    "\\newline 11\\ \\ \\  12\\ \\ \\   13 \\ \\ \\  14\\ \\ \\  15\n",
    "\\newline 20\\ \\ \\  19\\ \\ \\  18\\ \\ \\  17 \\ \\ \\  16\n",
    "\\newline 21\\ \\ \\  22\\ \\ \\  23\\ \\ \\  24\\ \\ \\  25\n",
    "\\newline 30\\ \\ \\  29\\ \\ \\  28\\ \\ \\  27\\ \\ \\  26\n",
    "\\newline 31\\ \\ \\  32\\ \\ \\  33\\ \\ \\  34\\ \\ \\  35$"
   ]
  },
  {
   "cell_type": "markdown",
   "id": "9c4c76cc",
   "metadata": {},
   "source": [
    "### 5.1\n",
    "Use a nested `for` loop to solve it"
   ]
  },
  {
   "cell_type": "code",
   "execution_count": null,
   "id": "711d5ef9",
   "metadata": {},
   "outputs": [],
   "source": []
  },
  {
   "cell_type": "markdown",
   "id": "57430050",
   "metadata": {},
   "source": [
    "### 5.2\n",
    "Use just one `for` loop to solve it"
   ]
  },
  {
   "cell_type": "code",
   "execution_count": null,
   "id": "4c78c32d",
   "metadata": {},
   "outputs": [],
   "source": []
  },
  {
   "cell_type": "markdown",
   "id": "ed8a82ae",
   "metadata": {},
   "source": [
    "## Exercise 6 (Easy)\n",
    "For a given number `n`, use a `for` loop to print a list contains all the factors of `n`. For example, for `n = 20`, your output should be `[1, 2, 4, 5, 10, 20]`."
   ]
  },
  {
   "cell_type": "code",
   "execution_count": null,
   "id": "a26b9b82",
   "metadata": {},
   "outputs": [],
   "source": [
    "\n"
   ]
  },
  {
   "cell_type": "markdown",
   "id": "0bde88ce",
   "metadata": {},
   "source": [
    "## Exercise 7 (Basic)"
   ]
  },
  {
   "cell_type": "markdown",
   "id": "c4a6d0d0",
   "metadata": {},
   "source": [
    "Write a function `isEven` with input `x`, so that `isEven` checks if `x` is even. The function returns `True` if `x` is even, and returns `False` otherwise."
   ]
  },
  {
   "cell_type": "markdown",
   "id": "5f124a6a",
   "metadata": {},
   "source": [
    "Write your solution in the following cell."
   ]
  },
  {
   "cell_type": "code",
   "execution_count": null,
   "id": "dd9776a1",
   "metadata": {},
   "outputs": [],
   "source": []
  },
  {
   "cell_type": "markdown",
   "id": "7933096d",
   "metadata": {},
   "source": [
    "Run the following code cell to check your solution."
   ]
  },
  {
   "cell_type": "code",
   "execution_count": 207,
   "id": "400a808a",
   "metadata": {},
   "outputs": [
    {
     "name": "stdout",
     "output_type": "stream",
     "text": [
      "Congratulations, the test case passed!\n",
      "Congratulations, the test case passed!\n",
      "Congratulations, the test case passed!\n"
     ]
    }
   ],
   "source": [
    "check(isEven(2), True)\n",
    "check(isEven(-2), True)\n",
    "check(isEven(3), False)"
   ]
  },
  {
   "cell_type": "markdown",
   "id": "5fc6a536",
   "metadata": {},
   "source": [
    "## Exercise 8 (Medium)"
   ]
  },
  {
   "cell_type": "markdown",
   "id": "a1715eb3",
   "metadata": {},
   "source": [
    "Write a function `isPrime` with input `x`. The function returns `True` if `x` is a prime, returns `False` otherwise. Please use a `for` loop instead of a `while` loop.\n",
    "\n",
    "Hint: You can use `isEven` function you definied above."
   ]
  },
  {
   "cell_type": "code",
   "execution_count": null,
   "id": "4d092238",
   "metadata": {},
   "outputs": [],
   "source": []
  },
  {
   "cell_type": "markdown",
   "id": "a1d8aaaf",
   "metadata": {},
   "source": [
    "Use the following code cell to check your solution."
   ]
  },
  {
   "cell_type": "code",
   "execution_count": 208,
   "id": "e98a7473",
   "metadata": {},
   "outputs": [
    {
     "name": "stdout",
     "output_type": "stream",
     "text": [
      "Congratulations, the test case passed!\n",
      "Congratulations, the test case passed!\n",
      "Congratulations, the test case passed!\n",
      "Congratulations, the test case passed!\n",
      "Congratulations, the test case passed!\n",
      "Congratulations, the test case passed!\n"
     ]
    }
   ],
   "source": [
    "check(isPrime(1), False)\n",
    "check(isPrime(2), True)\n",
    "check(isPrime(3), True)\n",
    "check(isPrime(97), True)\n",
    "check(isPrime(85), False)\n",
    "check(isPrime(87), False)"
   ]
  },
  {
   "cell_type": "markdown",
   "id": "5d103c5b",
   "metadata": {},
   "source": [
    "## Exercise 9 (Medium)\n",
    "Write a function `factors` that, given an input `n`, returns a list contains all the prime factors of `n`. For example, for `n = 20`, your function should return `[2, 5]`. You can use the function `isPrime` from the previous question."
   ]
  },
  {
   "cell_type": "code",
   "execution_count": null,
   "id": "e9bfa424",
   "metadata": {},
   "outputs": [],
   "source": []
  },
  {
   "cell_type": "markdown",
   "id": "1c43da9c",
   "metadata": {},
   "source": [
    "Use the following code cell to check your solution."
   ]
  },
  {
   "cell_type": "code",
   "execution_count": 209,
   "id": "65a01c0a",
   "metadata": {},
   "outputs": [
    {
     "name": "stdout",
     "output_type": "stream",
     "text": [
      "Congratulations, the test case passed!\n",
      "Congratulations, the test case passed!\n",
      "Congratulations, the test case passed!\n",
      "Congratulations, the test case passed!\n",
      "Congratulations, the test case passed!\n"
     ]
    }
   ],
   "source": [
    "check(sorted(factors(20)),[2, 5])\n",
    "check(sorted(factors(8)),[2])\n",
    "check(sorted(factors(1)),[])\n",
    "check(sorted(factors(100)),[2, 5])\n",
    "check(sorted(factors(105)),[3, 5, 7])"
   ]
  },
  {
   "cell_type": "markdown",
   "id": "d86e8a74",
   "metadata": {},
   "source": [
    "### Exercise 10 (Hard)\n",
    "Define a function `twinPrimes` with no input to print all the pairs of twin primes between 2 and 200 in the form of a nested list.\n",
    "\n",
    "For example, a pair of twin primes is both of the numbers are prime numbers and they have the difference of 2. Ex. [5, 7], [11, 13], [29, 31]\n",
    "\n",
    "The result should be in the form of the following `[[..., ...], [..., ...], ....]`\n",
    "\n",
    "Use a `for` loop and the function `isPrime`."
   ]
  },
  {
   "cell_type": "code",
   "execution_count": null,
   "id": "67ef9662",
   "metadata": {},
   "outputs": [],
   "source": []
  },
  {
   "cell_type": "markdown",
   "id": "195ab573",
   "metadata": {},
   "source": [
    "Run the following code cell to check your solution."
   ]
  },
  {
   "cell_type": "code",
   "execution_count": 210,
   "id": "6d887680",
   "metadata": {},
   "outputs": [
    {
     "name": "stdout",
     "output_type": "stream",
     "text": [
      "Congratulations, the test case passed!\n"
     ]
    }
   ],
   "source": [
    "lst = twinPrimes()\n",
    "correct_samples = [[5, 7], [137, 139], [107, 109], [11, 13], [197, 199]]\n",
    "c_cnt = 0\n",
    "wrong_samples = [[2, 3], [9, 11], [23, 25], [17, 18], [31, 33], [87, 89], [227, 229]] \n",
    "for c_sample in correct_samples:\n",
    "    if c_sample not in lst:\n",
    "        print(\"Unfortunately, your twinPrimes function does not work properly, please edit your solution.\")\n",
    "        break\n",
    "    else: c_cnt += 1\n",
    "for w_sample in wrong_samples:\n",
    "    if w_sample in lst:\n",
    "        print(\"Unfortunately, your twinPrimes function does not work properly, please edit your solution.\")\n",
    "        break\n",
    "    else: c_cnt += 1\n",
    "if c_cnt == len(correct_samples) + len(wrong_samples): print(\"Congratulations, the test case passed!\")"
   ]
  },
  {
   "cell_type": "markdown",
   "id": "6db0d41d",
   "metadata": {},
   "source": [
    "## Exercise 11 (Medium)\n",
    "Write a function `pi` that approximates $\\pi$. Use the following approximation of $\\pi$:\n",
    "$$\\pi = 4(\\frac{1}{1} - \\frac{1}{3} + \\frac{1}{5} - \\frac{1}{7} + ... )$$ \n",
    "Your function should get an input `n` and compute the sum of the first `n` terms in the above approximation.\n",
    "\n",
    "Play around the input number see when it converges to $\\pi$. "
   ]
  },
  {
   "cell_type": "code",
   "execution_count": null,
   "id": "03f29d02",
   "metadata": {},
   "outputs": [],
   "source": []
  }
 ],
 "metadata": {
  "kernelspec": {
   "display_name": "Python 3",
   "language": "python",
   "name": "python3"
  },
  "language_info": {
   "codemirror_mode": {
    "name": "ipython",
    "version": 3
   },
   "file_extension": ".py",
   "mimetype": "text/x-python",
   "name": "python",
   "nbconvert_exporter": "python",
   "pygments_lexer": "ipython3",
   "version": "3.11.4"
  }
 },
 "nbformat": 4,
 "nbformat_minor": 5
}
