{
 "cells": [
  {
   "cell_type": "markdown",
   "id": "9530b3ab",
   "metadata": {},
   "source": [
    "# Week 1 Day 3 and  Part 1  Exercise \n"
   ]
  },
  {
   "cell_type": "markdown",
   "id": "6973eedb",
   "metadata": {},
   "source": [
    "## While-loops!\n",
    "\n",
    "The syntax for while loops is:\n",
    "```python\n",
    "while <condition>:\n",
    "    <body>\n",
    "```\n",
    "\n",
    "As with `if` statements, the `<condition>` can be anything that evaluates to a boolean. The `<body>` can be complex."
   ]
  },
  {
   "cell_type": "markdown",
   "id": "2e3e4bd8",
   "metadata": {},
   "source": [
    "The body of the loop is repeated over and over again, as long as the `<condition>` is `True`. Once the condition is false, the loop stops, and whatever comes after the body is executed next."
   ]
  },
  {
   "cell_type": "markdown",
   "id": "ac0ab09d",
   "metadata": {},
   "source": [
    "---"
   ]
  },
  {
   "cell_type": "markdown",
   "id": "0964beb2",
   "metadata": {},
   "source": [
    "### A1 Exercise"
   ]
  },
  {
   "cell_type": "markdown",
   "id": "4f0d3215",
   "metadata": {},
   "source": [
    "Look at the following code:\n",
    "\n",
    "```python\n",
    "i = 0\n",
    "while i < 5:\n",
    "    print(\"Hello World\")\n",
    "    i += 1\n",
    "```\n",
    "\n",
    "How often is the loop body executed? Think about it before running the code."
   ]
  },
  {
   "cell_type": "code",
   "execution_count": null,
   "id": "b9d1f919",
   "metadata": {},
   "outputs": [],
   "source": [
    "# Try it out and put your answer here."
   ]
  },
  {
   "cell_type": "markdown",
   "id": "67b10f8f",
   "metadata": {},
   "source": [
    "Look at the following code:\n",
    "\n",
    "```python\n",
    "i = 0\n",
    "while i < 10:\n",
    "    print(\"Hello World\")\n",
    "    i += 1\n",
    "```\n",
    "\n",
    "How often is the loop body executed now?  Think about it before running the code."
   ]
  },
  {
   "cell_type": "code",
   "execution_count": null,
   "id": "e59fd04b",
   "metadata": {},
   "outputs": [],
   "source": [
    "# Try it out and put your answer here."
   ]
  },
  {
   "cell_type": "markdown",
   "id": "97cb5fed",
   "metadata": {},
   "source": [
    "Look at the following code:\n",
    "\n",
    "```python\n",
    "i = 6\n",
    "while i < 10:\n",
    "    print(\"Hello World\")\n",
    "    i += 1\n",
    "```\n",
    "\n",
    "How often is the loop body executed now?  Think about it before running the code."
   ]
  },
  {
   "cell_type": "code",
   "execution_count": null,
   "id": "1cc9bf0f",
   "metadata": {},
   "outputs": [],
   "source": [
    "# Try it out and put your answer here."
   ]
  },
  {
   "cell_type": "markdown",
   "id": "add9e7d0",
   "metadata": {},
   "source": [
    "Look at the following code:\n",
    "\n",
    "```python\n",
    "i = 0\n",
    "while i < 10:\n",
    "    print(\"Hello World\")\n",
    "    i += 3\n",
    "```\n",
    "\n",
    "How often is the loop body executed now?  Think about it before running the code."
   ]
  },
  {
   "cell_type": "code",
   "execution_count": null,
   "id": "5597e826",
   "metadata": {},
   "outputs": [],
   "source": [
    "# Try it out and put your answer here."
   ]
  },
  {
   "cell_type": "markdown",
   "id": "8a3a05f7-7e3b-4e95-84ae-017eae52fc15",
   "metadata": {
    "tags": []
   },
   "source": [
    "---"
   ]
  },
  {
   "cell_type": "markdown",
   "id": "b6824fa0",
   "metadata": {},
   "source": [
    "---### A2 Exercise"
   ]
  },
  {
   "cell_type": "markdown",
   "id": "665ff380",
   "metadata": {},
   "source": [
    "If we have a loop\n",
    "```python\n",
    "while True:\n",
    "    <body>\n",
    "```\n",
    "\n",
    "How often is the loop body executed?"
   ]
  },
  {
   "cell_type": "markdown",
   "id": "53575e24",
   "metadata": {},
   "source": [
    "**Your answer here**"
   ]
  },
  {
   "cell_type": "markdown",
   "id": "fe222c41",
   "metadata": {},
   "source": [
    "If we have a loop\n",
    "```python\n",
    "while False:\n",
    "    <body>\n",
    "```\n",
    "\n",
    "How often is the loop body executed?"
   ]
  },
  {
   "cell_type": "markdown",
   "id": "39e82624",
   "metadata": {},
   "source": [
    "**Your answer here**"
   ]
  },
  {
   "cell_type": "markdown",
   "id": "6575539d",
   "metadata": {},
   "source": [
    "---"
   ]
  },
  {
   "cell_type": "markdown",
   "id": "5081397c",
   "metadata": {},
   "source": [
    "Try running the code below and see what happens."
   ]
  },
  {
   "cell_type": "markdown",
   "id": "20d38750",
   "metadata": {},
   "source": [
    "**IMPORTANT**: If your code does not stop running and has an `[*]` on the left, it is in an infinite loop. To get out of this loop, in the top menu, select **Kernel -> Interrupt**, or press the **black square button** in the top menu bar."
   ]
  },
  {
   "cell_type": "code",
   "execution_count": null,
   "id": "adfeb070",
   "metadata": {},
   "outputs": [],
   "source": [
    "i = 0\n",
    "while True:  # Line 2\n",
    "    i += 1\n",
    "print(i)"
   ]
  },
  {
   "cell_type": "markdown",
   "id": "5984e2d7",
   "metadata": {},
   "source": [
    "How often is the body (`i += 1`) executed?"
   ]
  },
  {
   "cell_type": "markdown",
   "id": "febdb7ea",
   "metadata": {},
   "source": [
    "**You answer here.**"
   ]
  },
  {
   "cell_type": "markdown",
   "id": "90b01cc7",
   "metadata": {},
   "source": [
    "What would the output be if you change Line 2 to `while False:`? How often is the body (`i += 1`) executed now?"
   ]
  },
  {
   "cell_type": "markdown",
   "id": "922a34de",
   "metadata": {},
   "source": [
    "**You answer here.**"
   ]
  },
  {
   "cell_type": "code",
   "execution_count": null,
   "id": "9087df10",
   "metadata": {},
   "outputs": [],
   "source": []
  },
  {
   "cell_type": "markdown",
   "id": "56cc9a87-1c07-457a-96ed-1dff7bb2bc99",
   "metadata": {},
   "source": [
    "---"
   ]
  },
  {
   "cell_type": "markdown",
   "id": "c9f8e20f",
   "metadata": {},
   "source": [
    "### A3 Exercise: FIX THE CODE\n",
    "In each of the following code snippets, there is a mistake. Find it and fix it!<br>\n",
    "Suggestion: First run the code and look at the error message. Fix it and run it again."
   ]
  },
  {
   "cell_type": "code",
   "execution_count": null,
   "id": "9785e378",
   "metadata": {},
   "outputs": [],
   "source": [
    "# I want to print Hello World 5 times, then Goodbye\n",
    "i = 0\n",
    "while i < 5\n",
    "    i += 1\n",
    "    print(\"Hello World\")\n",
    "print(\"Goodbye\")"
   ]
  },
  {
   "cell_type": "code",
   "execution_count": null,
   "id": "819365d5",
   "metadata": {},
   "outputs": [],
   "source": [
    "# I want to print Hello World 5 times, then Goodbye\n",
    "i = 0\n",
    "while i < 5:\n",
    "    print(\"Hello World\")\n",
    "    i += 1\n",
    "    print(\"Goodbye\")"
   ]
  },
  {
   "cell_type": "code",
   "execution_count": null,
   "id": "646b4cd1",
   "metadata": {},
   "outputs": [],
   "source": [
    "# I want to print Hello World 5 times, then Goodbye\n",
    "i = 0\n",
    "while i < 5:\n",
    "print(\"Hello World\")\n",
    "i += 1\n",
    "print(\"Goodbye\")"
   ]
  },
  {
   "cell_type": "code",
   "execution_count": null,
   "id": "286417fd",
   "metadata": {},
   "outputs": [],
   "source": [
    "# I want to print Hello World 5 times, then Goodbye\n",
    "# CAREFUL: This will print a lot of stuff, so kill it quickly with the black square square button!\n",
    "i = 0\n",
    "while i < 5:\n",
    "    print(\"Hello World\")\n",
    "    i + 1\n",
    "print(\"Goodbye\")"
   ]
  },
  {
   "cell_type": "code",
   "execution_count": null,
   "id": "9bd59710",
   "metadata": {},
   "outputs": [],
   "source": [
    "# I want to print Hello World 5 times, then Goodbye\n",
    "i = 0\n",
    "while i > 5:\n",
    "    i += 1\n",
    "    print(\"Hello World\")\n",
    "print(\"Goodbye\")"
   ]
  },
  {
   "cell_type": "code",
   "execution_count": null,
   "id": "5985595a",
   "metadata": {},
   "outputs": [],
   "source": [
    "# I want to print Hello World 5 times, then Goodbye\n",
    "i = 0\n",
    "while i < 5:\n",
    "    i += 1\n",
    "print(\"Hello World\")\n",
    "print(\"Goodbye\")"
   ]
  },
  {
   "cell_type": "markdown",
   "id": "790487f7-7df7-4bba-a907-f7626be768df",
   "metadata": {},
   "source": [
    "---"
   ]
  },
  {
   "cell_type": "markdown",
   "id": "21f0e723",
   "metadata": {},
   "source": [
    "### A4 Exercise"
   ]
  },
  {
   "cell_type": "markdown",
   "id": "1017af8a",
   "metadata": {},
   "source": [
    "Use a while loop to print the numbers between `0` to `10` (including both 0 and 10)."
   ]
  },
  {
   "cell_type": "code",
   "execution_count": null,
   "id": "45bbad90",
   "metadata": {},
   "outputs": [],
   "source": []
  },
  {
   "cell_type": "markdown",
   "id": "5c34003c",
   "metadata": {},
   "source": [
    "Use a while loop to print the **even** numbers between `0` to `10` (including both 0 and 10).\n",
    "\n",
    "Hint: you do this by changing only one symbol from the previous answer!"
   ]
  },
  {
   "cell_type": "code",
   "execution_count": null,
   "id": "e3409a43",
   "metadata": {},
   "outputs": [],
   "source": []
  },
  {
   "cell_type": "markdown",
   "id": "3618b9fb",
   "metadata": {},
   "source": [
    "Use a while loop to print all powers of 2 less than 100."
   ]
  },
  {
   "cell_type": "code",
   "execution_count": null,
   "id": "29e1b3c6",
   "metadata": {},
   "outputs": [],
   "source": []
  },
  {
   "cell_type": "markdown",
   "id": "d9a99bd9",
   "metadata": {},
   "source": [
    "Print all the numbers in this list using a `while` loop: `[41, 2, 89, 50, 12, 13]`\n",
    "\n",
    "Hint: Use a number `i` that goes from 0 to 5, and get the list elements like `myList[i]`"
   ]
  },
  {
   "cell_type": "code",
   "execution_count": null,
   "id": "8c5392d2",
   "metadata": {},
   "outputs": [],
   "source": []
  },
  {
   "cell_type": "markdown",
   "id": "684e03e4",
   "metadata": {},
   "source": [
    "### Example: More complicated while loop logic\n",
    "\n",
    "We can have more complicated logic inside the loop, like `if` statements.\n",
    "\n",
    "The following code prints all numbers from the list which are greater than 20:"
   ]
  },
  {
   "cell_type": "code",
   "execution_count": null,
   "id": "35ca9489",
   "metadata": {},
   "outputs": [],
   "source": [
    "lst = [41, 2, 89, 50, 12, 13]\n",
    "i = 0\n",
    "while i < len(lst):\n",
    "    if lst[i] > 20:\n",
    "        print(lst[i])\n",
    "    i += 1"
   ]
  },
  {
   "cell_type": "markdown",
   "id": "65487c3d-bea4-47fd-ac45-cd0af96a31b6",
   "metadata": {},
   "source": [
    "---"
   ]
  },
  {
   "cell_type": "markdown",
   "id": "6c1b00e3",
   "metadata": {},
   "source": [
    "### A5 Exercise:\n",
    "\n",
    "Print all the **even** numbers in this list using a `while` loop: `[41, 2, 89, 50, 12, 13]`\n",
    "\n",
    "Hint: Use an `if` statement inside your `while` loop"
   ]
  },
  {
   "cell_type": "code",
   "execution_count": null,
   "id": "3279dfdd",
   "metadata": {},
   "outputs": [],
   "source": []
  },
  {
   "cell_type": "markdown",
   "id": "5ee12a5e",
   "metadata": {},
   "source": [
    "Use a while loop to print all numbers from 1 to 99 where the last digit is 3 or 7 (e.g. 23 will be printed but not 24).\n",
    "\n",
    "Hint: Remember how to get the last digit of a number?\n",
    "\n",
    "Hint: Use an `if` statement inside your `while` loop, and `or` inside your condition."
   ]
  },
  {
   "cell_type": "code",
   "execution_count": null,
   "id": "9cdc7024",
   "metadata": {},
   "outputs": [],
   "source": []
  },
  {
   "cell_type": "markdown",
   "id": "df86bd74-21ef-494d-9ae1-b962162266f9",
   "metadata": {},
   "source": [
    "---"
   ]
  },
  {
   "cell_type": "markdown",
   "id": "b9a97975",
   "metadata": {},
   "source": [
    "### A6 Exercise\n",
    "\n",
    "When computing 1+2+3+4+..., how many numbers do you need to sum up so that the sum exceeds 1000?\n",
    "\n",
    "Hint: Use a while loop."
   ]
  },
  {
   "cell_type": "code",
   "execution_count": null,
   "id": "b181094d",
   "metadata": {},
   "outputs": [],
   "source": []
  },
  {
   "cell_type": "markdown",
   "id": "3550b3a5-c000-4a6e-898e-d8388032a3c3",
   "metadata": {},
   "source": [
    "---"
   ]
  },
  {
   "cell_type": "markdown",
   "id": "5ef8c1b1",
   "metadata": {},
   "source": [
    "### A7 Exercise: FIX THE CODE\n",
    "In each of the following code snippets, there is a mistake. Find it and fix it!<br>\n",
    "Suggestion: First run the code and look at the error message. Fix it and run it again."
   ]
  },
  {
   "cell_type": "code",
   "execution_count": null,
   "id": "003bfc88",
   "metadata": {},
   "outputs": [],
   "source": [
    "# I want to sum up the first 10 square numbers,\n",
    "# but the loop just runs infinitely.\n",
    "i = 1\n",
    "summ = 0\n",
    "while i <= 10:\n",
    "    summ += i**2\n",
    "print(summ)"
   ]
  },
  {
   "cell_type": "code",
   "execution_count": null,
   "id": "8ada80f2",
   "metadata": {},
   "outputs": [],
   "source": [
    "# I want to add (and print) the first few numbers until their sum exceeds 100.\n",
    "# but nothing is being printed\n",
    "total = 0\n",
    "i = 1\n",
    "while total >= 100:\n",
    "    total += i\n",
    "    i += 1\n",
    "    print(i)"
   ]
  },
  {
   "cell_type": "code",
   "execution_count": null,
   "id": "7a7ef836",
   "metadata": {},
   "outputs": [],
   "source": [
    "# I want to print the first number in my list that's bigger than 10.\n",
    "# But the answer I get, 5, is certainly not bigger than 10.\n",
    "myList = [1,3,9,5,-1,13,5,11,2]\n",
    "number = 0\n",
    "while myList[number] <= 10:\n",
    "    number += 1\n",
    "print(number)"
   ]
  },
  {
   "cell_type": "code",
   "execution_count": null,
   "id": "2377b8b7",
   "metadata": {},
   "outputs": [],
   "source": []
  },
  {
   "cell_type": "markdown",
   "id": "2d70c9c5-b9c5-4e7b-8feb-ed3f3ae655a1",
   "metadata": {},
   "source": [
    "---"
   ]
  },
  {
   "cell_type": "markdown",
   "id": "6b7b6bb7",
   "metadata": {},
   "source": [
    "### A8 Exercise"
   ]
  },
  {
   "cell_type": "markdown",
   "id": "587f6052",
   "metadata": {},
   "source": [
    "Use a while loop to keep printing numbers in a list until you find a number greater than `10`."
   ]
  },
  {
   "cell_type": "markdown",
   "id": "d8185db7",
   "metadata": {},
   "source": [
    "For example, given this list\n",
    "`lst = [1, 7, 4, 5, 15, 2, 3, 6, 9, 12]`\n",
    "Your program should print\n",
    "```\n",
    "1\n",
    "7\n",
    "4 \n",
    "5\n",
    "```"
   ]
  },
  {
   "cell_type": "code",
   "execution_count": null,
   "id": "d583440c",
   "metadata": {},
   "outputs": [],
   "source": [
    "lst = [1, 7, 4, 5, 15, 2, 3, 6, 9, 12]\n",
    "\n",
    "# Your answer here    "
   ]
  },
  {
   "cell_type": "markdown",
   "id": "e12e24a5",
   "metadata": {},
   "source": [
    "# Functions"
   ]
  },
  {
   "cell_type": "markdown",
   "id": "5a409d79",
   "metadata": {},
   "source": [
    "## Recap: Syntax for functions\n",
    "\n",
    "The general syntax for functions is:\n",
    "```python\n",
    "def function_name(<arguments>):\n",
    "    <body>\n",
    "    return <expression>\n",
    "```\n",
    "\n",
    "There are several things to note about the syntax (we will go through examples):\n",
    "- You can have zero, one, or more arguments.\n",
    "- You need the `:` after the function\n",
    "- The body can be complex!\n",
    "- You technically don't need a return statement at the end, but we will almost alway have a return at the end"
   ]
  },
  {
   "cell_type": "markdown",
   "id": "d0d6454e",
   "metadata": {},
   "source": [
    "---"
   ]
  },
  {
   "cell_type": "markdown",
   "id": "7770daba",
   "metadata": {},
   "source": [
    "### B9 Exercise"
   ]
  },
  {
   "cell_type": "markdown",
   "id": "e5e8ef13",
   "metadata": {},
   "source": [
    "The following function computes the area of a square. Its **argument** is the side_length of the square, and it returns the area of the square."
   ]
  },
  {
   "cell_type": "code",
   "execution_count": null,
   "id": "33adcc8e",
   "metadata": {},
   "outputs": [],
   "source": [
    "def area_square(side_length):\n",
    "    return side_length**2"
   ]
  },
  {
   "cell_type": "markdown",
   "id": "9e7a96ec",
   "metadata": {},
   "source": [
    "The cell above only **defines** the function. If you run the cell, nothing happens yet.\n",
    "\n",
    "We can **call** the function by giving it a side length as an argument, and it will **return** (give back) the area.\n",
    "\n",
    "In the example below, we compute the area of a square of side length 3."
   ]
  },
  {
   "cell_type": "code",
   "execution_count": null,
   "id": "42c9e350",
   "metadata": {
    "scrolled": true
   },
   "outputs": [],
   "source": [
    "def area_square(side_length):\n",
    "    return side_length**2\n",
    "\n",
    "area_square(3)"
   ]
  },
  {
   "cell_type": "markdown",
   "id": "a921bc65",
   "metadata": {},
   "source": [
    "You can use this function and compute the areas of squares of any side length. We use the `print` function to print the outputs."
   ]
  },
  {
   "cell_type": "code",
   "execution_count": null,
   "id": "ac3dd366",
   "metadata": {},
   "outputs": [],
   "source": [
    "def area_square(side_length):\n",
    "    return side_length**2\n",
    "\n",
    "print(area_square(3))\n",
    "print(area_square(5))\n",
    "print(area_square(10))"
   ]
  },
  {
   "cell_type": "markdown",
   "id": "b93dfa39",
   "metadata": {},
   "source": [
    "Jupyter remembers the definition of a function, so you don't need to do `def area_square(...)` each time."
   ]
  },
  {
   "cell_type": "code",
   "execution_count": null,
   "id": "5cdb4271",
   "metadata": {},
   "outputs": [],
   "source": [
    "print(area_square(2))\n",
    "print(area_square(4))\n",
    "print(area_square(12))"
   ]
  },
  {
   "cell_type": "markdown",
   "id": "c463de1d",
   "metadata": {},
   "source": [
    "You can also assign the returned value to a variable, for example:"
   ]
  },
  {
   "cell_type": "code",
   "execution_count": null,
   "id": "7df09428",
   "metadata": {},
   "outputs": [],
   "source": [
    "x = area_square(4)"
   ]
  },
  {
   "cell_type": "markdown",
   "id": "527fbd0c",
   "metadata": {},
   "source": [
    "What is the value of `x`?"
   ]
  },
  {
   "cell_type": "code",
   "execution_count": null,
   "id": "3dee2670",
   "metadata": {},
   "outputs": [],
   "source": []
  },
  {
   "cell_type": "markdown",
   "id": "446cbede-563e-48f8-8fea-a8d9b970afc0",
   "metadata": {},
   "source": [
    "---"
   ]
  },
  {
   "cell_type": "markdown",
   "id": "c798bc73",
   "metadata": {},
   "source": [
    "### B10 Exercise"
   ]
  },
  {
   "cell_type": "markdown",
   "id": "4b2aa7ab",
   "metadata": {},
   "source": [
    "The perimeter of a squares of side length $a$ is $4a$. Fill in the code below to define a function that takes a side length as argument and returns the perimeter of a square of that side length. Then use this function to compute the perimeters for side length 1, 2 and 10."
   ]
  },
  {
   "cell_type": "code",
   "execution_count": null,
   "id": "62933c74",
   "metadata": {},
   "outputs": [],
   "source": [
    "def perimeter_square(side_length):\n",
    "    # INSERT YOUR CODE HERE\n",
    "\n",
    "print(perimeter_square(1))\n",
    "print(perimeter_square(2))\n",
    "print(perimeter_square(10))"
   ]
  },
  {
   "cell_type": "markdown",
   "id": "b09f0a57-551e-4baa-9386-d0b281d672a2",
   "metadata": {},
   "source": [
    "---"
   ]
  },
  {
   "cell_type": "markdown",
   "id": "8994e63b",
   "metadata": {},
   "source": [
    "### B11 Exercise"
   ]
  },
  {
   "cell_type": "markdown",
   "id": "ec213d8d",
   "metadata": {},
   "source": [
    "The area of an equilateral triangle of side length $a$ is $3^{0.5}/4*a^2$. Write a function called `area_equilateral_triangle` that takes a side length as argument and returns the area of an equilateral triangle of that side length. Use it to compute the areas for side length 1, 2 and 10."
   ]
  },
  {
   "cell_type": "code",
   "execution_count": null,
   "id": "6b544d99",
   "metadata": {},
   "outputs": [],
   "source": [
    "# Define your function here!\n",
    "\n",
    "print(area_equilateral_triangle(1))\n",
    "print(area_equilateral_triangle(2))\n",
    "print(area_equilateral_triangle(10))"
   ]
  },
  {
   "cell_type": "markdown",
   "id": "d11afc17-8e30-4558-9155-a8d7d89197c1",
   "metadata": {},
   "source": [
    "---"
   ]
  },
  {
   "cell_type": "markdown",
   "id": "2519f212",
   "metadata": {},
   "source": [
    "### B12 Exercise"
   ]
  },
  {
   "cell_type": "markdown",
   "id": "c1a33772",
   "metadata": {},
   "source": [
    "Write a function named `area_circle` that computes the area of a circle with a given radius. It should take a `radius` as argument and return the area.\n",
    "\n",
    "Use your function to compute the areas of circles of radius 1, 3 and 9!"
   ]
  },
  {
   "cell_type": "code",
   "execution_count": null,
   "id": "e521ae01",
   "metadata": {},
   "outputs": [],
   "source": []
  },
  {
   "cell_type": "markdown",
   "id": "33d50d8a",
   "metadata": {},
   "source": [
    "You can also take the function output and do computations with it. For example, if you want to compute the sum of the area of two circles, you can do:"
   ]
  },
  {
   "cell_type": "code",
   "execution_count": null,
   "id": "c85f3977",
   "metadata": {
    "scrolled": true
   },
   "outputs": [],
   "source": [
    "area_circle(2) + area_circle(3)"
   ]
  },
  {
   "cell_type": "markdown",
   "id": "507428c0",
   "metadata": {},
   "source": [
    "Can you use your function to compute the area of the grey shape below?\n",
    "\n",
    "![](disks.png)"
   ]
  },
  {
   "cell_type": "code",
   "execution_count": null,
   "id": "0ce9e3eb",
   "metadata": {},
   "outputs": [],
   "source": []
  },
  {
   "cell_type": "markdown",
   "id": "8a13c7c2-785d-49c1-8687-1314f2e42e91",
   "metadata": {},
   "source": [
    "---"
   ]
  },
  {
   "cell_type": "markdown",
   "id": "05a983b1",
   "metadata": {},
   "source": [
    "### B13 Exercise"
   ]
  },
  {
   "cell_type": "markdown",
   "id": "7b71538b",
   "metadata": {},
   "source": [
    "Use the function `area_circle`, `area_equilateral_triangle` and `area_square` to compute the area of the shape below, assuming all the straight lines have length 5!\n",
    "\n",
    "![](shape.png)"
   ]
  },
  {
   "cell_type": "code",
   "execution_count": null,
   "id": "7c494e20",
   "metadata": {},
   "outputs": [],
   "source": []
  },
  {
   "cell_type": "markdown",
   "id": "e3de9eb8-ba7f-46dc-9751-2ce66c1de43f",
   "metadata": {},
   "source": [
    "---"
   ]
  },
  {
   "cell_type": "markdown",
   "id": "2518ab2f",
   "metadata": {},
   "source": [
    "### B14 Exercise"
   ]
  },
  {
   "cell_type": "markdown",
   "id": "97ba5d4a",
   "metadata": {},
   "source": [
    "Write a function that computes the **circumference** of a circle with a given radius. It should take a `radius` as argument and return the circumference.\n",
    "\n",
    "Use your function to compute the circumference of circles of radius 1 and 5! Compute the area of at least **3 more** circles!"
   ]
  },
  {
   "cell_type": "code",
   "execution_count": null,
   "id": "f6ff12bb",
   "metadata": {},
   "outputs": [],
   "source": []
  },
  {
   "cell_type": "markdown",
   "id": "916693af-52cc-4e97-ae46-d2c93f53d3fd",
   "metadata": {},
   "source": [
    "---"
   ]
  },
  {
   "cell_type": "markdown",
   "id": "4fbecfb5",
   "metadata": {},
   "source": [
    "### B15 Exercise"
   ]
  },
  {
   "cell_type": "markdown",
   "id": "4681aaaa",
   "metadata": {},
   "source": [
    "Functions can take multiple arguments. Let's define a function that computes the perimeter of a rectangle, given its height and length. Fill in the code below.\n",
    "\n",
    "Then use your function to compute the perimeters of a 2x3 and 3x5 rectangle!"
   ]
  },
  {
   "cell_type": "code",
   "execution_count": null,
   "id": "33c0127f",
   "metadata": {},
   "outputs": [],
   "source": [
    "def perimeter_rectangle(length, height):\n",
    "    # INSERT YOUR CODE HERE\n",
    "\n",
    "print(perimeter_rectangle(2, 3))\n",
    "print(perimeter_rectangle(3, 5))"
   ]
  },
  {
   "cell_type": "markdown",
   "id": "a68660d8",
   "metadata": {},
   "source": [
    "Use your function to compute the perimeters of a 6x8, 4x1 and 5x3 rectangle!"
   ]
  },
  {
   "cell_type": "code",
   "execution_count": null,
   "id": "2af2994b",
   "metadata": {
    "tags": []
   },
   "outputs": [],
   "source": []
  },
  {
   "cell_type": "markdown",
   "id": "30437a9a-adfd-4ca4-901c-420018aeb9e3",
   "metadata": {},
   "source": [
    "---"
   ]
  },
  {
   "cell_type": "markdown",
   "id": "84bed53c",
   "metadata": {},
   "source": [
    "### B16 Exercise"
   ]
  },
  {
   "cell_type": "markdown",
   "id": "1b1a09e7",
   "metadata": {},
   "source": [
    "Define a function `area_rectangle` that computes the **area** of a rectangle, given its height and length.\n",
    "\n",
    "Then use your function to compute the areas of a 2x3 and 4x1 rectangle! Compute the area of at least **3 more** rectangles!"
   ]
  },
  {
   "cell_type": "code",
   "execution_count": null,
   "id": "5fe4d485",
   "metadata": {},
   "outputs": [],
   "source": []
  },
  {
   "cell_type": "markdown",
   "id": "9768b49d",
   "metadata": {},
   "source": [
    "Use your function to compute the area of the following shape!\n",
    "\n",
    "![](rect_shape.png)"
   ]
  },
  {
   "cell_type": "code",
   "execution_count": null,
   "id": "922dc150",
   "metadata": {},
   "outputs": [],
   "source": []
  },
  {
   "cell_type": "markdown",
   "id": "ece2c269-6160-4598-ae6a-58af238e644d",
   "metadata": {},
   "source": [
    "---"
   ]
  },
  {
   "cell_type": "markdown",
   "id": "267cc449",
   "metadata": {},
   "source": [
    "### B17 Example: More complicated functions\n",
    "\n",
    "The computations inside of functions can be more complicated, and the body can consist of multiple lines. You only need **one** return statement. Consider the function below computing the area of a donut with inner radius `r_inner` and outer radius `r_outer`.\n",
    "\n",
    "![](donut.png)\n",
    "\n",
    "Test this function for at least 5 different donuts!"
   ]
  },
  {
   "cell_type": "code",
   "execution_count": null,
   "id": "549a3405",
   "metadata": {},
   "outputs": [],
   "source": [
    "def area_donut(r_inner, r_outer):\n",
    "    area_outer = 3.14*r_outer**2\n",
    "    area_inner = 3.14*r_inner**2\n",
    "    return area_outer - area_inner\n",
    "\n",
    "# Try it out for at least 5 different donuts!"
   ]
  },
  {
   "cell_type": "markdown",
   "id": "692fa9f1-4825-41a6-af78-07a9c2aacced",
   "metadata": {},
   "source": [
    "---"
   ]
  },
  {
   "cell_type": "markdown",
   "id": "a119d636",
   "metadata": {},
   "source": [
    "### B18 Exercise"
   ]
  },
  {
   "cell_type": "markdown",
   "id": "89f35dc7",
   "metadata": {},
   "source": [
    "Write a function `area_triangle` that computes the area of a triangle with side lengths `a`, `b` and `c`. You can use the Heron formula.\n",
    "    \n",
    "First compute the half-perimeter $$s = \\frac{a+b+c}{2}$$\n",
    "\n",
    "Then compute the area as $$\\sqrt{s(s-a)(s-b)(s-c)}$$\n",
    "\n",
    "Compute the area for:\n",
    "- a = 3, b = 4, c = 5 --> (You should get 6)\n",
    "- a = 1, b = 1, c = $\\sqrt{2}$ --> (You should get 0.5)\n",
    "- a = 5, b = 6, c = 8\n",
    "- Test your code for a few more triangles!"
   ]
  },
  {
   "cell_type": "code",
   "execution_count": null,
   "id": "9bc349b5",
   "metadata": {},
   "outputs": [],
   "source": []
  },
  {
   "cell_type": "markdown",
   "id": "3652546f-aa79-458f-8e90-2379cf2119dd",
   "metadata": {},
   "source": [
    "---"
   ]
  },
  {
   "cell_type": "markdown",
   "id": "05e5a06d",
   "metadata": {},
   "source": [
    "### B19 Example: Turning previous code into functions"
   ]
  },
  {
   "cell_type": "markdown",
   "id": "80ee0ed3",
   "metadata": {},
   "source": [
    "Remember the code you wrote to round a number to the nearest integer:\n",
    "    \n",
    "```python\n",
    "n = 12.6\n",
    "decimals = n - int(n)\n",
    "if decimals >= 0.5:\n",
    "    print(int(n)+1)\n",
    "else:\n",
    "    print(int(n))\n",
    "```\n",
    "\n",
    "Functions are really useful to test such code on many numbers at once!\n",
    "\n",
    "Let's turn this into a function. Note how all of the code gets _indented_ (pushed to the right), and how it is possible to have multiple `return` statements."
   ]
  },
  {
   "cell_type": "code",
   "execution_count": null,
   "id": "c9bd05d9",
   "metadata": {},
   "outputs": [],
   "source": [
    "def round(n):\n",
    "    # We remove the n = 12.6 here, because n is now a function argument\n",
    "    decimals = n - int(n)\n",
    "    if decimals >= 0.5:\n",
    "        return int(n)+1  # return instead of print\n",
    "    else:\n",
    "        return int(n)    # return instead of print\n",
    "\n",
    "# Let's test our function!\n",
    "print(round(1.2))\n",
    "print(round(12.6))\n",
    "print(round(0.5))"
   ]
  },
  {
   "cell_type": "markdown",
   "id": "7a7a9c9c",
   "metadata": {},
   "source": [
    "Test this function on at least 5 more numbers!"
   ]
  },
  {
   "cell_type": "code",
   "execution_count": null,
   "id": "705d6f8a",
   "metadata": {},
   "outputs": [],
   "source": []
  },
  {
   "cell_type": "markdown",
   "id": "1c3d9294-aab5-43db-a431-4b6b5045ed05",
   "metadata": {},
   "source": [
    "---"
   ]
  },
  {
   "cell_type": "markdown",
   "id": "dacdcf70",
   "metadata": {},
   "source": [
    "### B20 Exercise"
   ]
  },
  {
   "cell_type": "markdown",
   "id": "12b0cbac",
   "metadata": {},
   "source": [
    "Remember the code you wrote to extract the last digit of a number:\n",
    "    \n",
    "```python\n",
    "n = 3027184629834\n",
    "print(n % 10)\n",
    "```\n",
    "\n",
    "Turn it into a function and test it on at least 10 numbers!"
   ]
  },
  {
   "cell_type": "code",
   "execution_count": null,
   "id": "4b183850",
   "metadata": {},
   "outputs": [],
   "source": [
    "def last_digit(n):\n",
    "    # Your code goes here!"
   ]
  },
  {
   "cell_type": "markdown",
   "id": "9d86537c-c88b-4ec3-8c4b-1ea4d575e6cd",
   "metadata": {},
   "source": [
    "---"
   ]
  },
  {
   "cell_type": "markdown",
   "id": "34573825",
   "metadata": {},
   "source": [
    "### B21 Exercise"
   ]
  },
  {
   "cell_type": "markdown",
   "id": "141097c5",
   "metadata": {},
   "source": [
    "Remember the code from class that turns a numerical grade into a letter grade:\n",
    "\n",
    "```python\n",
    "numeric_grade = 75\n",
    "if numeric_grade > 90:\n",
    "    letter_grade = 'A'\n",
    "elif numeric_grade > 80:\n",
    "    letter_grade = 'B'\n",
    "elif numeric_grade > 70:\n",
    "    letter_grade = 'C'\n",
    "elif numeric_grade > 60:\n",
    "    letter_grade = 'D'\n",
    "else:\n",
    "    letter_grade = 'F'\n",
    "```\n",
    "\n",
    "Write a function which does this, and test it on 10 different grades!"
   ]
  },
  {
   "cell_type": "code",
   "execution_count": null,
   "id": "897c57b7",
   "metadata": {},
   "outputs": [],
   "source": []
  },
  {
   "cell_type": "markdown",
   "id": "d327a375-873d-49fc-803d-ba1cc4033e26",
   "metadata": {},
   "source": [
    "---"
   ]
  },
  {
   "cell_type": "code",
   "execution_count": null,
   "id": "ea676cb5",
   "metadata": {},
   "outputs": [],
   "source": []
  },
  {
   "cell_type": "markdown",
   "id": "13b049a4",
   "metadata": {},
   "source": [
    "### B22 Exercise\n",
    "\n",
    "We want to define a function that checks if a number is prime.\n",
    "\n",
    "What is the definition of a prime? In your own words, how would you check if a number is a prime?"
   ]
  },
  {
   "cell_type": "markdown",
   "id": "fe5eece9",
   "metadata": {},
   "source": [
    "**Your answer here**"
   ]
  },
  {
   "cell_type": "markdown",
   "id": "b5fda52e",
   "metadata": {},
   "source": [
    "In python, how do you check if a number `n` is divisible by another one (`%` operator)?\n",
    "- n = 10 and a = 5 should give True\n",
    "- n = 14 and a = 3 should give False\n",
    "- n = 1 and a = 3 should give False"
   ]
  },
  {
   "cell_type": "code",
   "execution_count": null,
   "id": "1971833a",
   "metadata": {},
   "outputs": [],
   "source": [
    "n = 10\n",
    "a = 5\n",
    "# Write an expression here that is True if a divides n and False otherwise!"
   ]
  },
  {
   "cell_type": "markdown",
   "id": "6c1a2e0f",
   "metadata": {},
   "source": [
    "Write a function that checks if a number is prime!\n",
    "\n",
    "Hint: To test if a number `n` is prime, you can check if `n` is divisible by any the number smaller than itself. You use a `while` loop to go through all the numbers smaller than `n`. If you find a number that divides `n` then `n` is not prime.\n",
    "\n",
    "Hint: Whenever you find a number that divides `n`, `return False`. If you finish the while loop, `return True`."
   ]
  },
  {
   "cell_type": "code",
   "execution_count": null,
   "id": "b8856070",
   "metadata": {},
   "outputs": [],
   "source": [
    "def is_prime(n):\n",
    "    # Your code here\n",
    "\n",
    "print(is_prime(7))  # Should print True\n",
    "print(is_prime(4))  # Should print False\n",
    "print(is_prime(27))  # Should print False\n",
    "print(is_prime(997))  # Should print True\n",
    "print(is_prime(2))  # Should this print True or False?"
   ]
  },
  {
   "cell_type": "markdown",
   "id": "5c7a746a-fbde-4b5f-9599-95ff5373da18",
   "metadata": {},
   "source": [
    "---"
   ]
  },
  {
   "cell_type": "markdown",
   "id": "d1af262e",
   "metadata": {},
   "source": [
    "Write a program to print all prime numbers smaller than 100. You should use `is_prime()` defined above."
   ]
  },
  {
   "cell_type": "code",
   "execution_count": null,
   "id": "a6de5185",
   "metadata": {},
   "outputs": [],
   "source": []
  },
  {
   "cell_type": "markdown",
   "id": "8a59bbf4-d4e4-4162-ad2e-3f5bb3bc33ef",
   "metadata": {},
   "source": [
    "---"
   ]
  },
  {
   "cell_type": "markdown",
   "id": "c33a8b5c-b7cf-42a1-bc31-924ea7e1b775",
   "metadata": {},
   "source": [
    "### Exercise (Hard 1)"
   ]
  },
  {
   "cell_type": "markdown",
   "id": "3e29e9e7-dde3-4b30-a7d2-a807d1e518d3",
   "metadata": {},
   "source": [
    "The Fibonnaci sequence is defined as follows: The first two elements in the sequence `f(0)` and `f(1)` are equal to `1`. For every `n>1`, the `n`-th element in the sequence is $$f(n)=f(n-1)+f(n-2).$$\n",
    "Use a while loop to write a code that prints out all the Fibonnaci numbers less than 10000."
   ]
  },
  {
   "cell_type": "code",
   "execution_count": null,
   "id": "c8ba0d86",
   "metadata": {},
   "outputs": [],
   "source": []
  },
  {
   "cell_type": "markdown",
   "id": "d6081d1d-07f3-47a0-9244-2ed68fea6ea5",
   "metadata": {
    "tags": []
   },
   "source": [
    "### Exercise (Hard 2)\n",
    "\n",
    "The <a href=\"https://en.wikipedia.org/wiki/Collatz_conjecture\">Collatz sequence</a> of a number $n$ is defined as follows:<br>\n",
    "- It starts with the number $a_0 = n$ itself\n",
    "- If the $i$th number $a_i$ is even, then the next number $a_{i+1}$ is $\\frac{a_i}{2}$\n",
    "- If the $i$th number $a_i$ is odd, then the next number $a_{i+1}$ is $3\\cdot a_i + 1$\n",
    "- The sequence ends once you reach the number 1.\n",
    "\n",
    "Example: for the number 12, the sequence is: 12, 6, 3, 10, 5, 16, 8, 4, 2, 1.\n",
    "\n",
    "The Collatz conjecture says that whichever number you start with, you'll always reach 1 at some point.\n",
    "\n",
    "Define an integer variable `n` and then use a `while` loop to print out its Collatz sequence!"
   ]
  },
  {
   "cell_type": "code",
   "execution_count": null,
   "id": "47d503ee-209d-401e-9fec-a4bb544b2af6",
   "metadata": {},
   "outputs": [],
   "source": []
  }
 ],
 "metadata": {
  "kernelspec": {
   "display_name": "Python 3 (ipykernel)",
   "language": "python",
   "name": "python3"
  },
  "language_info": {
   "codemirror_mode": {
    "name": "ipython",
    "version": 3
   },
   "file_extension": ".py",
   "mimetype": "text/x-python",
   "name": "python",
   "nbconvert_exporter": "python",
   "pygments_lexer": "ipython3",
   "version": "3.10.6"
  }
 },
 "nbformat": 4,
 "nbformat_minor": 5
}
