{
 "cells": [
  {
   "cell_type": "markdown",
   "metadata": {
    "id": "rcW0D_iYMxuh"
   },
   "source": [
    "## Supplementary Exercises for Week 1 Day 2 Notebook B"
   ]
  },
  {
   "cell_type": "markdown",
   "metadata": {
    "id": "czQb9Y9uM6MF"
   },
   "source": [
    "## While loops"
   ]
  },
  {
   "cell_type": "markdown",
   "metadata": {
    "id": "C_fSUpcgNJgV"
   },
   "source": [
    "### Exercise 1\n",
    "\n",
    "Write a program to print first 10 integers using while loop."
   ]
  },
  {
   "cell_type": "code",
   "execution_count": null,
   "metadata": {
    "id": "AheGmrjsNNk_"
   },
   "outputs": [],
   "source": [
    "# Write your code here"
   ]
  },
  {
   "cell_type": "markdown",
   "metadata": {
    "id": "IPv0l5USNOSm"
   },
   "source": [
    "### Exercise 2\n",
    "\n",
    "Write a program to print the following series:\n",
    "\n",
    "`2, 4, 8, 16, ..., 1024`"
   ]
  },
  {
   "cell_type": "code",
   "execution_count": null,
   "metadata": {
    "id": "4mxHvKSnNfk7"
   },
   "outputs": [],
   "source": [
    "# Write your code here"
   ]
  },
  {
   "cell_type": "markdown",
   "metadata": {
    "id": "vufMu9NRPpFJ"
   },
   "source": [
    "### Exercise 3\n",
    "\n",
    "Find the sum of the elements of the list `lst = [10, 2, 3, 483, 4738]`."
   ]
  },
  {
   "cell_type": "code",
   "execution_count": null,
   "metadata": {
    "id": "8gc2sHDOWQmF"
   },
   "outputs": [],
   "source": [
    "# Write your code here"
   ]
  },
  {
   "cell_type": "markdown",
   "metadata": {
    "id": "ZV4hRve1Ng2d"
   },
   "source": [
    "### Exercise 4\n",
    "\n",
    "Find the sum of the digits of a number `x = 19839837287`."
   ]
  },
  {
   "cell_type": "code",
   "execution_count": null,
   "metadata": {
    "id": "rEu1-GraOl8s"
   },
   "outputs": [],
   "source": [
    "# Write your code here"
   ]
  },
  {
   "cell_type": "markdown",
   "metadata": {
    "id": "FnBrW7iIO1Dr"
   },
   "source": [
    "### Exercise 5\n",
    "\n",
    "Reverse the digits of a number `x = 19839837287`\n"
   ]
  },
  {
   "cell_type": "code",
   "execution_count": null,
   "metadata": {
    "id": "MjHyDMXbO7OE"
   },
   "outputs": [],
   "source": [
    "# Write your code here"
   ]
  },
  {
   "cell_type": "markdown",
   "metadata": {
    "id": "F1Y5PWF-QD42"
   },
   "source": [
    "### Exercise 6\n",
    "\n",
    "Write a program that checks if a given number is a prime number using a while loop.\n"
   ]
  },
  {
   "cell_type": "code",
   "execution_count": null,
   "metadata": {
    "id": "kPid7klAQTzU"
   },
   "outputs": [],
   "source": [
    "# Write your code here"
   ]
  },
  {
   "cell_type": "markdown",
   "metadata": {
    "id": "4FSBEOHEPmb7"
   },
   "source": [
    "### Exercise 7\n",
    "\n",
    "Write a while loop that prints out all the prime numbers between `2` and `100`."
   ]
  },
  {
   "cell_type": "code",
   "execution_count": null,
   "metadata": {
    "id": "5VtwFL5CQ7mO"
   },
   "outputs": [],
   "source": [
    "# Write your code here"
   ]
  },
  {
   "cell_type": "markdown",
   "metadata": {
    "id": "CBj9LvTeU2PT"
   },
   "source": [
    "### Exercise 8\n",
    "\n",
    "Write a program to accept 10 numbers from the user and display the largest and smallest number."
   ]
  },
  {
   "cell_type": "code",
   "execution_count": null,
   "metadata": {
    "id": "gI6KoWFiVBxu"
   },
   "outputs": [],
   "source": [
    "# Write your code here"
   ]
  },
  {
   "cell_type": "markdown",
   "metadata": {
    "id": "e-fpPRWAQ9Xp"
   },
   "source": [
    "### Exercise 9\n",
    "\n",
    "Abebe is a billionaire. As a billionaire he doesn't have much time to spend on reading things. He wants to look at his bank account and know how much money he has right away. Unfortunately, the bank's mobile app doesn't use commas to separate digits so we have to help him. Currently, the bank's mobile applicaiton says he has `M = 1123456789`amount of money. Can you write a few lines of code to make the amount of money to look like `1,123,456,789`?\n",
    "\n",
    "Use `while` loop to make your code work for any positive amount of money (in other words, assume that `M > 0`).\n",
    "\n",
    "*Hint:* When should your while loop stop?"
   ]
  },
  {
   "cell_type": "code",
   "execution_count": null,
   "metadata": {
    "id": "BTtTSRbxRCAl"
   },
   "outputs": [],
   "source": [
    "M = 1123456789\n",
    "\n",
    "# Write your code here"
   ]
  },
  {
   "cell_type": "markdown",
   "metadata": {
    "id": "9kmq2kMoRHbh"
   },
   "source": [
    "### Exercise 10\n",
    "\n",
    "When computing `1 + 2 + 3 + 4 + ...`, how many numbers do you need to sum up so that the sum exceeds 1000?\n",
    "\n",
    "*Hint:* Use a while loop."
   ]
  },
  {
   "cell_type": "code",
   "execution_count": null,
   "metadata": {
    "id": "44KWGmaURJsY"
   },
   "outputs": [],
   "source": [
    "# Write your code here"
   ]
  },
  {
   "cell_type": "markdown",
   "metadata": {
    "id": "jRXY9IRIRMkX"
   },
   "source": [
    "### Exercise 11\n",
    "\n",
    "The <a href=\"https://en.wikipedia.org/wiki/Collatz_conjecture\">Collatz sequence</a> of a number $n$ is defined as follows:<br>\n",
    "- It starts with the number $a_0 = n$ itself\n",
    "- If the $i$th number $a_i$ is even, then the next number $a_{i+1}$ is $\\frac{a_i}{2}$\n",
    "- If the $i$th number $a_i$ is odd, then the next number $a_{i+1}$ is $3\\cdot a_i + 1$\n",
    "- The sequence ends once you reach the number 1.\n",
    "\n",
    "*Example:* for the number 12, the sequence is: 12, 6, 3, 10, 5, 16, 8, 4, 2, 1.\n",
    "\n",
    "The Collatz conjecture says that whichever number you start with, you'll always reach 1 at some point.\n",
    "\n",
    "Write a program that asks for a number and then uses a `while` loop to print out its Collatz sequence!"
   ]
  },
  {
   "cell_type": "code",
   "execution_count": null,
   "metadata": {
    "id": "EQpjP0-ZRRCH"
   },
   "outputs": [],
   "source": [
    "# Write your code here"
   ]
  },
  {
   "cell_type": "markdown",
   "metadata": {
    "id": "NwKnkclVRMnU"
   },
   "source": [
    "### Random numbers\n",
    "\n",
    "`random.randrange(a, b)` is a function to generate a random integer between `a` and `b` (excluding `b` itself, like `range`).\n",
    "\n",
    "To use this function, you first need to import the `random` module by running\n",
    "`import random`\n",
    "in your notebook.\n",
    "Run the code below to generate a random number between 1 and (excluding) 4."
   ]
  },
  {
   "cell_type": "code",
   "execution_count": null,
   "metadata": {
    "colab": {
     "base_uri": "https://localhost:8080/"
    },
    "id": "ItBbo5yuRV6M",
    "outputId": "606ee1ba-520c-4299-8715-7dce34d9c818"
   },
   "outputs": [],
   "source": [
    "import random\n",
    "random.randrange(1, 4)"
   ]
  },
  {
   "cell_type": "markdown",
   "metadata": {
    "id": "iLyWdOZBRMqf"
   },
   "source": [
    "### Exercise 12\n",
    "\n",
    "Add up random numbers between 1 and 10 (exclusive) until their sum exceeds 1000!\n",
    "\n",
    "Use a while loop! Count how many numbers you need and print the result.\n",
    "\n",
    "Extension: Use a while-loop to run this code many times and compute the average!"
   ]
  },
  {
   "cell_type": "code",
   "execution_count": null,
   "metadata": {
    "id": "nv-B3A85Riea"
   },
   "outputs": [],
   "source": [
    "# Write your code here"
   ]
  },
  {
   "cell_type": "markdown",
   "metadata": {
    "id": "fY1PD9j4RMtO"
   },
   "source": [
    "### Exercise 13\n",
    "\n",
    "Generate random numbers between 1 and 10 (exclusive) until you get the number 9.\n",
    "\n",
    "Use a while loop! Count how many numbers you need and print the result.\n",
    "\n",
    "Extension: Use a while-loop to run this code many times and compute the average!"
   ]
  },
  {
   "cell_type": "code",
   "execution_count": null,
   "metadata": {
    "id": "v3I0qMZnR85B"
   },
   "outputs": [],
   "source": [
    "# Write your code here"
   ]
  },
  {
   "cell_type": "markdown",
   "metadata": {
    "id": "nRz_Y76QR4d7"
   },
   "source": [
    "### Exercise 14\n",
    "\n",
    "Sorting a list is making the list goes from smallest number to the biggest one.\n",
    "\n",
    "Bubble sort is a simple sorting procedure that repeatedly steps through the input list element by element, comparing the current element with the one after it, swapping their values if needed.\n",
    "\n",
    "Use this algorithm to sort `lst = [9, 8, 7, 6, 5, 4, 3, 2, 1]`\n",
    "\n",
    "Hint: There are `len(lst)` number of passes, and in each pass we need to iterate through the list to compare every adjcent pair of elements."
   ]
  },
  {
   "cell_type": "code",
   "execution_count": null,
   "metadata": {
    "id": "QARFbnDhSA8z"
   },
   "outputs": [],
   "source": [
    "lst = [9, 8, 7, 6, 5, 4, 3, 2, 1]\n",
    "\n",
    "# Write your code here"
   ]
  },
  {
   "cell_type": "markdown",
   "metadata": {
    "id": "UceIMtBQPKrY"
   },
   "source": [
    "### Exercise 15\n",
    "\n",
    "Create a program that generates a random number between 1 and 20 and asks the user to guess it. The program should provide hints such as \"Too high\" or \"Too low\" and continue to ask for guesses until the user correctly guesses the number."
   ]
  },
  {
   "cell_type": "code",
   "execution_count": null,
   "metadata": {
    "id": "5AvW5vw0PLVm"
   },
   "outputs": [],
   "source": [
    "# Write your code here"
   ]
  },
  {
   "cell_type": "markdown",
   "metadata": {},
   "source": [
    "### Exercise 16\n",
    "\n",
    "#### Fibonnacci Sequence\n",
    "\n",
    "The fibonnacci sequence is defined as below :\n",
    "\n",
    "$$\n",
    "\\Large\n",
    "f_n = \\begin{cases}n \\text{ if }  \\leq 1\\\\\n",
    "    f_{n-1} + f_{n-2} \\text{ if } n > 1\n",
    "    \\end{cases}\n",
    "$$\n",
    "\n",
    "For example, the first eight Fibonnacci numbers are:\n",
    "\n",
    "`0,1,1,2,3,5,8,13 . . .`\n",
    "\n",
    "Write a while loop to find $f_n$"
   ]
  },
  {
   "cell_type": "code",
   "execution_count": null,
   "metadata": {},
   "outputs": [],
   "source": [
    "n = 100\n",
    "# Write your code here"
   ]
  },
  {
   "cell_type": "markdown",
   "metadata": {},
   "source": [
    "### Exercise 17"
   ]
  },
  {
   "cell_type": "markdown",
   "metadata": {
    "id": "ZtxTnwD7QAZ6"
   },
   "source": [
    "Given the following `5 x 5` matrix, print all elements of the matrix in spiral order.\n",
    "\n",
    "$$\\begin{bmatrix}\n",
    "1&2&3&4&5\\\\\n",
    "10&9&8&7&6\\\\\n",
    "11&12&13&14&15\\\\\n",
    "20&19&18&17&16\\\\\n",
    "21&22&23&24&25\n",
    "\\end{bmatrix}$$\n",
    "\n",
    "The order of print should look like `1 2 3 4 5 6 7 8 ... 25`"
   ]
  },
  {
   "cell_type": "code",
   "execution_count": null,
   "metadata": {},
   "outputs": [],
   "source": [
    "# Write your code here"
   ]
  }
 ],
 "metadata": {
  "colab": {
   "provenance": []
  },
  "kernelspec": {
   "display_name": "Python 3 (ipykernel)",
   "language": "python",
   "name": "python3"
  },
  "language_info": {
   "codemirror_mode": {
    "name": "ipython",
    "version": 3
   },
   "file_extension": ".py",
   "mimetype": "text/x-python",
   "name": "python",
   "nbconvert_exporter": "python",
   "pygments_lexer": "ipython3",
   "version": "3.10.6"
  }
 },
 "nbformat": 4,
 "nbformat_minor": 1
}
