{
 "cells": [
  {
   "cell_type": "markdown",
   "id": "5cd5393e",
   "metadata": {},
   "source": [
    "# Welcome back\n",
    "\n",
    "How was lab? Was anything confusing? \n",
    "\n",
    "\n",
    "# Some announcements\n",
    "\n",
    "At the _end_ of the class, we will give everyone a flash drive with all of the course material and a way to install Jupyter"
   ]
  },
  {
   "cell_type": "markdown",
   "id": "36094c85",
   "metadata": {},
   "source": [
    "# Review\n",
    "\n",
    "Last lecture, we covered:\n",
    "- Strings\n",
    "- Booleans\n",
    "- Types\n",
    "- Equalities, inequalities\n",
    "- Arithmetic for non-numbers"
   ]
  },
  {
   "cell_type": "code",
   "execution_count": null,
   "id": "911aa55a",
   "metadata": {},
   "outputs": [],
   "source": [
    "\"hello\""
   ]
  },
  {
   "cell_type": "code",
   "execution_count": null,
   "id": "56ce444a",
   "metadata": {},
   "outputs": [],
   "source": [
    "True"
   ]
  },
  {
   "cell_type": "code",
   "execution_count": null,
   "id": "cebd4277",
   "metadata": {},
   "outputs": [],
   "source": [
    "type(1)"
   ]
  },
  {
   "cell_type": "code",
   "execution_count": null,
   "id": "5f221bec",
   "metadata": {},
   "outputs": [],
   "source": [
    "type(1.0)"
   ]
  },
  {
   "cell_type": "code",
   "execution_count": null,
   "id": "88afe574",
   "metadata": {},
   "outputs": [],
   "source": [
    "type(\"hello\")"
   ]
  },
  {
   "cell_type": "code",
   "execution_count": null,
   "id": "2e72d306",
   "metadata": {},
   "outputs": [],
   "source": [
    "type(True)"
   ]
  },
  {
   "cell_type": "code",
   "execution_count": null,
   "id": "3252a6cb",
   "metadata": {},
   "outputs": [],
   "source": [
    "1 == 1"
   ]
  },
  {
   "cell_type": "code",
   "execution_count": null,
   "id": "61e8c67a",
   "metadata": {},
   "outputs": [],
   "source": [
    "1 != 1"
   ]
  },
  {
   "cell_type": "code",
   "execution_count": null,
   "id": "d40cd3ca",
   "metadata": {},
   "outputs": [],
   "source": [
    "1 > 1"
   ]
  },
  {
   "cell_type": "code",
   "execution_count": null,
   "id": "044fab67",
   "metadata": {},
   "outputs": [],
   "source": [
    "1 >= 1"
   ]
  },
  {
   "cell_type": "code",
   "execution_count": null,
   "id": "7c0a2a95",
   "metadata": {},
   "outputs": [],
   "source": [
    "\"hello\" + \"addis coder\""
   ]
  },
  {
   "cell_type": "markdown",
   "id": "0ae4ab76",
   "metadata": {},
   "source": [
    "# Reminder: if you're confused, you can test in Jupyter!"
   ]
  },
  {
   "cell_type": "code",
   "execution_count": null,
   "id": "31d570a2",
   "metadata": {},
   "outputs": [],
   "source": [
    "# Things that were confusing from earlier today"
   ]
  },
  {
   "cell_type": "markdown",
   "id": "48194e4c",
   "metadata": {},
   "source": [
    "# Variables\n",
    "\n",
    "We briefly covered variables yesterday, but we will go through them in depth today.\n",
    "\n",
    "There are big differences between _mathematical variables_ and _programming variables_.\n",
    "\n",
    "In math, let's say we have\n",
    "$x = 1$, \n",
    "$y = 1 + x$.\n",
    "This fully determines the values of $x$ and $y$.\n",
    "\n",
    "Programming variables ARE NOT math variables.\n",
    "\n",
    "Programming variables hold Python \"things\"."
   ]
  },
  {
   "cell_type": "code",
   "execution_count": null,
   "id": "99c1f267",
   "metadata": {},
   "outputs": [],
   "source": [
    "x = 1\n",
    "x"
   ]
  },
  {
   "cell_type": "code",
   "execution_count": null,
   "id": "311b484c",
   "metadata": {},
   "outputs": [],
   "source": [
    "x = 3\n",
    "y = x\n",
    "y"
   ]
  },
  {
   "cell_type": "code",
   "execution_count": null,
   "id": "1c0984f4",
   "metadata": {},
   "outputs": [],
   "source": [
    "x = 2\n",
    "y = 3\n",
    "x + y"
   ]
  },
  {
   "cell_type": "code",
   "execution_count": null,
   "id": "ee5f1730",
   "metadata": {},
   "outputs": [],
   "source": [
    "x = 2\n",
    "y = 3\n",
    "z = x + y\n",
    "z"
   ]
  },
  {
   "cell_type": "markdown",
   "id": "1eeba1c2",
   "metadata": {},
   "source": [
    "# Variables can be reassigned\n",
    "\n",
    "Because variables in Python are holders of things, they can be reassigned"
   ]
  },
  {
   "cell_type": "code",
   "execution_count": null,
   "id": "c567f519",
   "metadata": {},
   "outputs": [],
   "source": [
    "x = 3\n",
    "x = 4\n",
    "x"
   ]
  },
  {
   "cell_type": "code",
   "execution_count": null,
   "id": "2b7c80b5",
   "metadata": {},
   "outputs": [],
   "source": [
    "x = 2\n",
    "x = x + 1\n",
    "x"
   ]
  },
  {
   "cell_type": "markdown",
   "id": "15961841",
   "metadata": {},
   "source": [
    "# Variables are remembered across cells"
   ]
  },
  {
   "cell_type": "code",
   "execution_count": null,
   "id": "20e25b19",
   "metadata": {},
   "outputs": [],
   "source": [
    "x"
   ]
  },
  {
   "cell_type": "markdown",
   "id": "18b1f2da",
   "metadata": {},
   "source": [
    "# Variables don't need to be numbers\n",
    "\n",
    "They can be any Python \"thing\""
   ]
  },
  {
   "cell_type": "code",
   "execution_count": null,
   "id": "9b4d31f8",
   "metadata": {},
   "outputs": [],
   "source": [
    "x = \"hello\"\n",
    "x"
   ]
  },
  {
   "cell_type": "code",
   "execution_count": 1,
   "id": "0d0d87e9",
   "metadata": {},
   "outputs": [
    {
     "data": {
      "text/plain": [
       "'hello world'"
      ]
     },
     "execution_count": 1,
     "metadata": {},
     "output_type": "execute_result"
    }
   ],
   "source": [
    "x = \"hello \"\n",
    "y = \"world\"\n",
    "x + y"
   ]
  },
  {
   "cell_type": "code",
   "execution_count": 2,
   "id": "ae78b204",
   "metadata": {},
   "outputs": [
    {
     "data": {
      "text/plain": [
       "1"
      ]
     },
     "execution_count": 2,
     "metadata": {},
     "output_type": "execute_result"
    }
   ],
   "source": [
    "x = True \n",
    "y = False\n",
    "x + y"
   ]
  },
  {
   "cell_type": "markdown",
   "id": "308b1be9",
   "metadata": {},
   "source": [
    "# Advanced topic: assignment with mutation\n",
    "\n",
    "You can simultaneously assign and update a variable at the same time. Don't worry about this if it's confusing"
   ]
  },
  {
   "cell_type": "code",
   "execution_count": 3,
   "id": "62d81ef0",
   "metadata": {},
   "outputs": [
    {
     "data": {
      "text/plain": [
       "3"
      ]
     },
     "execution_count": 3,
     "metadata": {},
     "output_type": "execute_result"
    }
   ],
   "source": [
    "x = 1\n",
    "x = x + 2\n",
    "x"
   ]
  },
  {
   "cell_type": "code",
   "execution_count": null,
   "id": "ba5fd433",
   "metadata": {},
   "outputs": [],
   "source": [
    "x = 1\n",
    "x += 2\n",
    "x"
   ]
  },
  {
   "cell_type": "code",
   "execution_count": null,
   "id": "dc3d8f27",
   "metadata": {},
   "outputs": [],
   "source": [
    "x = \"hello\"\n",
    "x += x\n",
    "x"
   ]
  },
  {
   "cell_type": "code",
   "execution_count": null,
   "id": "9d9cb6bd-0fc3-4b22-b2c1-e135a66ec97a",
   "metadata": {},
   "outputs": [],
   "source": [
    "x=1\n",
    "x+=2 # x = x+2"
   ]
  },
  {
   "cell_type": "code",
   "execution_count": null,
   "id": "e6168f91",
   "metadata": {},
   "outputs": [],
   "source": [
    "x = 5\n",
    "x -= 2 # x = x -2\n",
    "x"
   ]
  },
  {
   "cell_type": "markdown",
   "id": "13e3be6f",
   "metadata": {},
   "source": [
    "# Variable names\n",
    "\n",
    "Variables can have complex names, beyond just one character. However, they CANNOT start with a digit"
   ]
  },
  {
   "cell_type": "code",
   "execution_count": null,
   "id": "acd50562",
   "metadata": {},
   "outputs": [],
   "source": [
    "abc = 1\n",
    "abc\n",
    "=1"
   ]
  },
  {
   "cell_type": "code",
   "execution_count": null,
   "id": "4532d766",
   "metadata": {},
   "outputs": [],
   "source": [
    "variable_name = 1\n",
    "first_name"
   ]
  },
  {
   "cell_type": "code",
   "execution_count": 5,
   "id": "ee4cddfb",
   "metadata": {},
   "outputs": [],
   "source": [
    "var = 1"
   ]
  },
  {
   "cell_type": "markdown",
   "id": "13823d5e",
   "metadata": {},
   "source": [
    "# Printing\n",
    "\n",
    "You may have noticed we need to put the variable at the end for Jupyter to show us what it contains.\n",
    "\n",
    "We can get around this by printing."
   ]
  },
  {
   "cell_type": "code",
   "execution_count": null,
   "id": "d21270c0",
   "metadata": {},
   "outputs": [],
   "source": [
    "print(\"Hello\")"
   ]
  },
  {
   "cell_type": "code",
   "execution_count": null,
   "id": "583df59c",
   "metadata": {},
   "outputs": [],
   "source": [
    "x = 1\n",
    "print(x)\n",
    "x = 2\n",
    "print(x)\n",
    "x"
   ]
  },
  {
   "cell_type": "code",
   "execution_count": null,
   "id": "9579dbd6",
   "metadata": {},
   "outputs": [],
   "source": [
    "print(1 + 1)"
   ]
  },
  {
   "cell_type": "markdown",
   "id": "b5ba4439",
   "metadata": {},
   "source": [
    "# Comments\n",
    "\n",
    "In Python/Jupyter, we can have text that doesn't run as code. These are called _comments_ and are usually used to help other people understand your code. "
   ]
  },
  {
   "cell_type": "code",
   "execution_count": null,
   "id": "fbef48a4",
   "metadata": {},
   "outputs": [],
   "source": [
    "# This is a comment. Nothing happens"
   ]
  },
  {
   "cell_type": "code",
   "execution_count": null,
   "id": "3b1f34dd",
   "metadata": {},
   "outputs": [],
   "source": [
    "x = 1  # You can put comments after normal code. It won't run\n",
    "x"
   ]
  },
  {
   "cell_type": "markdown",
   "id": "b45c0ef8",
   "metadata": {},
   "source": [
    "# Motivation for conditionals\n",
    "\n",
    "Many times, we want the behavior of a program to depend on the value of a \"thing\". In other words, the program can change its behavior depending on a variable or user input.\n",
    "\n",
    "As a simple example, let's say we want to assign \"A\" to the variable `letter_grade` if the `numeric_grade` is greater than 90. How can we do this?"
   ]
  },
  {
   "cell_type": "code",
   "execution_count": null,
   "id": "d407f40d",
   "metadata": {},
   "outputs": [],
   "source": [
    "numeric_grade = 91\n",
    "letter_grade = \"A\"\n",
    "letter_grade"
   ]
  },
  {
   "cell_type": "code",
   "execution_count": null,
   "id": "785e9b28",
   "metadata": {},
   "outputs": [],
   "source": [
    "numeric_grade = 89\n",
    "letter_grade = \"B\"\n",
    "letter_grade"
   ]
  },
  {
   "cell_type": "markdown",
   "id": "591dba1d",
   "metadata": {},
   "source": [
    "# Conditionals\n",
    "\n",
    "As we saw above, we need to manually assign the `letter_grade`. We currently don't know how to change the behavior of the program based on the `numeric_grade`!\n",
    "\n",
    "We can do this using _conditionals_. I'll first show some examples and talk about the syntax."
   ]
  },
  {
   "cell_type": "code",
   "execution_count": null,
   "id": "0fceb3b1",
   "metadata": {},
   "outputs": [],
   "source": [
    "numeric_grade = 89\n",
    "\n",
    "if numeric_grade > 90:\n",
    "    letter_grade = \"A\"\n",
    "else:\n",
    "    letter_grade = \"B\"\n",
    "\n",
    "letter_grade"
   ]
  },
  {
   "cell_type": "code",
   "execution_count": 9,
   "id": "3190ba35-3f55-42f6-bd6f-c800ce43f222",
   "metadata": {},
   "outputs": [
    {
     "name": "stdout",
     "output_type": "stream",
     "text": [
      "odd\n"
     ]
    }
   ],
   "source": [
    "x=11\n",
    "if x %2 ==0:\n",
    "    print(\"Even\")\n",
    "else:\n",
    "    print(\"odd\")\n"
   ]
  },
  {
   "cell_type": "code",
   "execution_count": null,
   "id": "c74f90f8",
   "metadata": {},
   "outputs": [],
   "source": [
    "numeric_grade = 91\n",
    "\n",
    "if numeric_grade > 90:\n",
    "    letter_grade = \"A\"\n",
    "elif nume\n",
    "\n",
    "letter_grade"
   ]
  },
  {
   "cell_type": "markdown",
   "id": "6af6a237",
   "metadata": {},
   "source": [
    "Note: it's quite annoying to copy the code! We'll see how to fix this later\n",
    "\n",
    "# Basic syntax for conditionals\n",
    "\n",
    "The general syntax for conditionals is\n",
    "```python\n",
    "if <expression that evaluates to a boolean>:\n",
    "    <expression>\n",
    "else:\n",
    "    <expression>\n",
    "```\n",
    "\n",
    "We will call `<expression that evaluates to a boolean>` a `<condition>`."
   ]
  },
  {
   "cell_type": "code",
   "execution_count": null,
   "id": "a5e390f0",
   "metadata": {},
   "outputs": [],
   "source": [
    "if True:\n",
    "    print(1)\n",
    "else:\n",
    "    print(2)"
   ]
  },
  {
   "cell_type": "code",
   "execution_count": null,
   "id": "97163427",
   "metadata": {},
   "outputs": [],
   "source": [
    "if False:\n",
    "    print(1)\n",
    "else:\n",
    "    print(2)"
   ]
  },
  {
   "cell_type": "code",
   "execution_count": null,
   "id": "3f75ab04",
   "metadata": {},
   "outputs": [],
   "source": [
    "if 1 == 1:\n",
    "    print(1)\n",
    "else:\n",
    "    print(2)"
   ]
  },
  {
   "cell_type": "code",
   "execution_count": null,
   "id": "331c233e",
   "metadata": {},
   "outputs": [],
   "source": [
    "if 1 == 2:\n",
    "    print(1)\n",
    "else:\n",
    "    print(2)"
   ]
  },
  {
   "cell_type": "code",
   "execution_count": null,
   "id": "766925c6",
   "metadata": {},
   "outputs": [],
   "source": [
    "x = 1\n",
    "y = 1\n",
    "\n",
    "if x == y:\n",
    "    print(1)\n",
    "else:\n",
    "    print(2)"
   ]
  },
  {
   "cell_type": "markdown",
   "id": "ff4df095",
   "metadata": {},
   "source": [
    "# More about conditionals\n",
    "\n",
    "\n",
    "The expressions within the _body_ of the `if` or `else` can be complex, beyond a single statement"
   ]
  },
  {
   "cell_type": "code",
   "execution_count": null,
   "id": "66c817cb",
   "metadata": {},
   "outputs": [],
   "source": [
    "x = 1\n",
    "\n",
    "if 20 > 10:\n",
    "    x = 2\n",
    "    x += 3\n",
    "    x -= 1\n",
    "else:\n",
    "    x = 5\n",
    "\n",
    "x"
   ]
  },
  {
   "cell_type": "code",
   "execution_count": null,
   "id": "f0af1a8c",
   "metadata": {},
   "outputs": [],
   "source": [
    "x = 3\n",
    "y = 2\n",
    "\n",
    "if x > y:\n",
    "    z = x + y\n",
    "else:\n",
    "    z = 1\n",
    "\n",
    "z"
   ]
  },
  {
   "cell_type": "markdown",
   "id": "5d8eab42",
   "metadata": {},
   "source": [
    "# Important note: the other branch is NOT executed\n",
    "\n",
    "Only one branch of the if or else is executed. If a branch is not taken and a variable is not defined, you will have an error"
   ]
  },
  {
   "cell_type": "code",
   "execution_count": null,
   "id": "33a84328",
   "metadata": {},
   "outputs": [],
   "source": [
    "if x > y:\n",
    "    a = 1\n",
    "else:\n",
    "    b = 1\n",
    "\n",
    "b"
   ]
  },
  {
   "cell_type": "markdown",
   "id": "2a04c4c8",
   "metadata": {},
   "source": [
    "# Complex conditionals\n",
    "\n",
    "With the `letter_grade` example, we only assigned grades of `A` and `B`. That's not very satisfying! Let's do more."
   ]
  },
  {
   "cell_type": "code",
   "execution_count": null,
   "id": "2678e079",
   "metadata": {},
   "outputs": [],
   "source": [
    "numeric_grade = 75\n",
    "\n",
    "if numeric_grade > 90:\n",
    "    letter_grade = 'A'\n",
    "elif numeric_grade > 80:\n",
    "    letter_grade = 'B'\n",
    "elif numeric_grade > 70:\n",
    "    numeric_grade = 'C'\n",
    "elif numeric_grade > 60:\n",
    "    numeric_grade = 'D'\n",
    "else:\n",
    "    numeric_grade = 'F'\n",
    "\n",
    "numeric_grade"
   ]
  },
  {
   "cell_type": "markdown",
   "id": "35308614",
   "metadata": {},
   "source": [
    "# IMPORTANT: The ORDER of the if/elif matters!"
   ]
  },
  {
   "cell_type": "code",
   "execution_count": null,
   "id": "668873ff",
   "metadata": {},
   "outputs": [],
   "source": [
    "numeric_grade = 75\n",
    "\n",
    "if numeric_grade > 60:\n",
    "    numeric_grade = 'D'\n",
    "elif numeric_grade > 90:\n",
    "    letter_grade = 'A'\n",
    "elif numeric_grade > 80:\n",
    "    letter_grade = 'B'\n",
    "elif numeric_grade > 70:\n",
    "    numeric_grade = 'C'\n",
    "else:\n",
    "    numeric_grade = 'F'\n",
    "\n",
    "numeric_grade"
   ]
  },
  {
   "cell_type": "markdown",
   "id": "cca8ef43",
   "metadata": {},
   "source": [
    "# IMPORTANT: You must have a tab for the body if the if/elif/else"
   ]
  },
  {
   "cell_type": "code",
   "execution_count": null,
   "id": "27020ac2",
   "metadata": {},
   "outputs": [],
   "source": [
    "if x > y:\n",
    "print('hi')\n",
    "else:\n",
    "print('bye')"
   ]
  },
  {
   "cell_type": "markdown",
   "id": "e0e94576",
   "metadata": {},
   "source": [
    "# Note: you don't need the else"
   ]
  },
  {
   "cell_type": "code",
   "execution_count": null,
   "id": "76a6cd4a",
   "metadata": {},
   "outputs": [],
   "source": [
    "x = 1\n",
    "y = 2\n",
    "\n",
    "z = 3\n",
    "if x > y:\n",
    "    z = 4\n",
    "\n",
    "z"
   ]
  },
  {
   "cell_type": "code",
   "execution_count": null,
   "id": "7d968b02",
   "metadata": {},
   "outputs": [],
   "source": [
    "x = 2\n",
    "y = 1\n",
    "\n",
    "z = 3\n",
    "if x > y:\n",
    "    z = 4\n",
    "\n",
    "z"
   ]
  },
  {
   "cell_type": "code",
   "execution_count": null,
   "id": "6a0231e3",
   "metadata": {},
   "outputs": [],
   "source": []
  }
 ],
 "metadata": {
  "kernelspec": {
   "display_name": "Python 3 (ipykernel)",
   "language": "python",
   "name": "python3"
  },
  "language_info": {
   "codemirror_mode": {
    "name": "ipython",
    "version": 3
   },
   "file_extension": ".py",
   "mimetype": "text/x-python",
   "name": "python",
   "nbconvert_exporter": "python",
   "pygments_lexer": "ipython3",
   "version": "3.11.4"
  }
 },
 "nbformat": 4,
 "nbformat_minor": 5
}
