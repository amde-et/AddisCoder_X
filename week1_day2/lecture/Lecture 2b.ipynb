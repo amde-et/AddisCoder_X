{
 "cells": [
  {
   "cell_type": "markdown",
   "id": "60951f43",
   "metadata": {},
   "source": [
    "# Welcome back\n",
    "\n",
    "How was lab? Was anything confusing? \n"
   ]
  },
  {
   "cell_type": "markdown",
   "id": "6af35dd7",
   "metadata": {},
   "source": [
    "# Review\n",
    "\n",
    "We covered:\n",
    "- Variables\n",
    "- Printing\n",
    "- Comments\n",
    "- Conditionals"
   ]
  },
  {
   "cell_type": "code",
   "execution_count": 2,
   "id": "4cb2f9a6",
   "metadata": {},
   "outputs": [
    {
     "data": {
      "text/plain": [
       "2"
      ]
     },
     "execution_count": 2,
     "metadata": {},
     "output_type": "execute_result"
    }
   ],
   "source": [
    "x = 1\n",
    "x = 2\n",
    "x"
   ]
  },
  {
   "cell_type": "code",
   "execution_count": 3,
   "id": "f3828423",
   "metadata": {},
   "outputs": [
    {
     "data": {
      "text/plain": [
       "3"
      ]
     },
     "execution_count": 3,
     "metadata": {},
     "output_type": "execute_result"
    }
   ],
   "source": [
    "x = 1\n",
    "y = 2\n",
    "z = x + y\n",
    "z"
   ]
  },
  {
   "cell_type": "code",
   "execution_count": 4,
   "id": "a3c52749",
   "metadata": {},
   "outputs": [],
   "source": [
    "x = 1\n",
    "y = 2\n",
    "z = x + y"
   ]
  },
  {
   "cell_type": "code",
   "execution_count": 5,
   "id": "c41a04f8",
   "metadata": {},
   "outputs": [
    {
     "name": "stdout",
     "output_type": "stream",
     "text": [
      "1\n",
      "2\n",
      "3\n"
     ]
    }
   ],
   "source": [
    "print(x)\n",
    "print(y)\n",
    "print(z)"
   ]
  },
  {
   "cell_type": "code",
   "execution_count": 6,
   "id": "f708c5ba",
   "metadata": {},
   "outputs": [
    {
     "data": {
      "text/plain": [
       "5"
      ]
     },
     "execution_count": 6,
     "metadata": {},
     "output_type": "execute_result"
    }
   ],
   "source": [
    "x = 2\n",
    "x += 3\n",
    "x"
   ]
  },
  {
   "cell_type": "code",
   "execution_count": 7,
   "id": "db5951a0",
   "metadata": {},
   "outputs": [],
   "source": [
    "# This is a comment"
   ]
  },
  {
   "cell_type": "code",
   "execution_count": 8,
   "id": "c74516f0",
   "metadata": {},
   "outputs": [
    {
     "data": {
      "text/plain": [
       "8"
      ]
     },
     "execution_count": 8,
     "metadata": {},
     "output_type": "execute_result"
    }
   ],
   "source": [
    "x = 2\n",
    "y = 3\n",
    "z = x * y + x  # Comments can be inline with the code\n",
    "z"
   ]
  },
  {
   "cell_type": "code",
   "execution_count": 9,
   "id": "f04766d1",
   "metadata": {},
   "outputs": [
    {
     "data": {
      "text/plain": [
       "8"
      ]
     },
     "execution_count": 9,
     "metadata": {},
     "output_type": "execute_result"
    }
   ],
   "source": [
    "# Jupyter remembers variables across cells\n",
    "z"
   ]
  },
  {
   "cell_type": "code",
   "execution_count": 6,
   "id": "0965dcb6",
   "metadata": {},
   "outputs": [
    {
     "data": {
      "text/plain": [
       "'C'"
      ]
     },
     "execution_count": 6,
     "metadata": {},
     "output_type": "execute_result"
    }
   ],
   "source": [
    "numeric_grade = 75\n",
    "\n",
    "if numeric_grade > 90:\n",
    "    letter_grade = 'A'\n",
    "elif numeric_grade > 80:\n",
    "    letter_grade = 'B'\n",
    "elif numeric_grade > 70:\n",
    "    numeric_grade = 'C'\n",
    "elif numeric_grade > 60:\n",
    "    numeric_grade = 'D'\n",
    "else:\n",
    "    numeric_grade = 'F'\n",
    "\n",
    "numeric_grade"
   ]
  },
  {
   "cell_type": "markdown",
   "id": "86225e6c",
   "metadata": {},
   "source": [
    "# Reminder: if you're confused, you can test in Jupyter!"
   ]
  },
  {
   "cell_type": "code",
   "execution_count": 10,
   "id": "4249127f",
   "metadata": {},
   "outputs": [],
   "source": [
    "# Things that were confusing from earlier today\n",
    "str\n",
    "int \n",
    "float\n",
    "bool\n"
   ]
  },
  {
   "cell_type": "markdown",
   "id": "eed61187",
   "metadata": {},
   "source": [
    "# Lists\n",
    "\n",
    "A list holds Python \"things\" _in order_. The syntax for list is to use `[thing0, thing1, thing2]`.\n",
    "\n",
    "IMPORTANT: this is NOT THE SAME as `()`"
   ]
  },
  {
   "cell_type": "code",
   "execution_count": 4,
   "id": "5cc2673a",
   "metadata": {},
   "outputs": [
    {
     "name": "stdout",
     "output_type": "stream",
     "text": [
      "['hp', 'mac', 'lenove', 'dell']\n"
     ]
    }
   ],
   "source": [
    "# Basic list\n",
    "x= [1,2,3,4,5,6,7,8,9,10]\n",
    "\n",
    "pc= [\"\"]\n",
    "print(pc)"
   ]
  },
  {
   "cell_type": "code",
   "execution_count": 25,
   "id": "9122d85e",
   "metadata": {},
   "outputs": [
    {
     "data": {
      "text/plain": [
       "[1, 2, 1]"
      ]
     },
     "execution_count": 25,
     "metadata": {},
     "output_type": "execute_result"
    }
   ],
   "source": [
    "# Lists can have repeated elements\n",
    "[1, 2, 1]"
   ]
  },
  {
   "cell_type": "code",
   "execution_count": 13,
   "id": "3e46de67",
   "metadata": {},
   "outputs": [
    {
     "data": {
      "text/plain": [
       "[True]"
      ]
     },
     "execution_count": 13,
     "metadata": {},
     "output_type": "execute_result"
    }
   ],
   "source": [
    "# Lists can be short or long\n",
    "[True]"
   ]
  },
  {
   "cell_type": "code",
   "execution_count": 14,
   "id": "89d2b921",
   "metadata": {},
   "outputs": [
    {
     "data": {
      "text/plain": [
       "[True, False, True, False, True, False]"
      ]
     },
     "execution_count": 14,
     "metadata": {},
     "output_type": "execute_result"
    }
   ],
   "source": [
    "[True, False, True, False, True, False]"
   ]
  },
  {
   "cell_type": "code",
   "execution_count": 15,
   "id": "ff4a0191",
   "metadata": {},
   "outputs": [
    {
     "data": {
      "text/plain": [
       "[1, True, 'hi']"
      ]
     },
     "execution_count": 15,
     "metadata": {},
     "output_type": "execute_result"
    }
   ],
   "source": [
    "# List can hold multiple \"types\" of things\n",
    "[1, True, \"hi\"]"
   ]
  },
  {
   "cell_type": "code",
   "execution_count": 16,
   "id": "b69076c2",
   "metadata": {},
   "outputs": [
    {
     "data": {
      "text/plain": [
       "[1, 2]"
      ]
     },
     "execution_count": 16,
     "metadata": {},
     "output_type": "execute_result"
    }
   ],
   "source": [
    "# You can assign lists to variables\n",
    "x = [1, 2]\n",
    "x"
   ]
  },
  {
   "cell_type": "markdown",
   "id": "a8722d26",
   "metadata": {},
   "source": [
    "# Addition with lists\n",
    "\n",
    "You can \"add\" two lists (this is called concatenation)."
   ]
  },
  {
   "cell_type": "code",
   "execution_count": 5,
   "id": "ed1ef633",
   "metadata": {},
   "outputs": [
    {
     "data": {
      "text/plain": [
       "[1, 2, 3, 4, 5, 6, 7, 8, 9, 10]"
      ]
     },
     "execution_count": 5,
     "metadata": {},
     "output_type": "execute_result"
    }
   ],
   "source": [
    "first=[1,2,3,4,5]\n",
    "second=[6,7,8,9,10]\n",
    "first+second"
   ]
  },
  {
   "cell_type": "code",
   "execution_count": 17,
   "id": "d2a8be85",
   "metadata": {},
   "outputs": [
    {
     "name": "stdout",
     "output_type": "stream",
     "text": [
      "[1, 2]\n",
      "[3, 4]\n"
     ]
    }
   ],
   "source": [
    "x = [1, 2]\n",
    "y = [3, 4]\n",
    "print(x)\n",
    "print(y)"
   ]
  },
  {
   "cell_type": "code",
   "execution_count": 18,
   "id": "22db1a39",
   "metadata": {},
   "outputs": [
    {
     "data": {
      "text/plain": [
       "[1, 2, 3, 4]"
      ]
     },
     "execution_count": 18,
     "metadata": {},
     "output_type": "execute_result"
    }
   ],
   "source": [
    "x + y"
   ]
  },
  {
   "cell_type": "code",
   "execution_count": 6,
   "id": "17f41555",
   "metadata": {},
   "outputs": [
    {
     "data": {
      "text/plain": [
       "[True, False, 1, 0]"
      ]
     },
     "execution_count": 6,
     "metadata": {},
     "output_type": "execute_result"
    }
   ],
   "source": [
    "[True, False] + [1, 0]"
   ]
  },
  {
   "cell_type": "code",
   "execution_count": 7,
   "id": "5f9fa9b7",
   "metadata": {},
   "outputs": [
    {
     "data": {
      "text/plain": [
       "[1, 2, 1]"
      ]
     },
     "execution_count": 7,
     "metadata": {},
     "output_type": "execute_result"
    }
   ],
   "source": [
    "[1, 2] + [1]"
   ]
  },
  {
   "cell_type": "code",
   "execution_count": 24,
   "id": "98c0f29d",
   "metadata": {},
   "outputs": [
    {
     "data": {
      "text/plain": [
       "[1, 2, 1]"
      ]
     },
     "execution_count": 24,
     "metadata": {},
     "output_type": "execute_result"
    }
   ],
   "source": [
    "[1, 2] + [1]"
   ]
  },
  {
   "cell_type": "code",
   "execution_count": 22,
   "id": "9342ab6a",
   "metadata": {},
   "outputs": [
    {
     "ename": "TypeError",
     "evalue": "can only concatenate list (not \"str\") to list",
     "output_type": "error",
     "traceback": [
      "\u001b[0;31m---------------------------------------------------------------------------\u001b[0m",
      "\u001b[0;31mTypeError\u001b[0m                                 Traceback (most recent call last)",
      "\u001b[0;32m/tmp/ipykernel_796020/4017252028.py\u001b[0m in \u001b[0;36m<module>\u001b[0;34m\u001b[0m\n\u001b[0;32m----> 1\u001b[0;31m \u001b[0;34m[\u001b[0m\u001b[0;36m1\u001b[0m\u001b[0;34m,\u001b[0m \u001b[0;36m2\u001b[0m\u001b[0;34m]\u001b[0m \u001b[0;34m+\u001b[0m \u001b[0;34m\"hi\"\u001b[0m\u001b[0;34m\u001b[0m\u001b[0;34m\u001b[0m\u001b[0m\n\u001b[0m",
      "\u001b[0;31mTypeError\u001b[0m: can only concatenate list (not \"str\") to list"
     ]
    }
   ],
   "source": [
    "[1, 2] + \"hi\" "
   ]
  },
  {
   "cell_type": "code",
   "execution_count": 23,
   "id": "bc291096",
   "metadata": {},
   "outputs": [
    {
     "ename": "TypeError",
     "evalue": "can only concatenate list (not \"bool\") to list",
     "output_type": "error",
     "traceback": [
      "\u001b[0;31m---------------------------------------------------------------------------\u001b[0m",
      "\u001b[0;31mTypeError\u001b[0m                                 Traceback (most recent call last)",
      "\u001b[0;32m/tmp/ipykernel_796020/2579976634.py\u001b[0m in \u001b[0;36m<module>\u001b[0;34m\u001b[0m\n\u001b[0;32m----> 1\u001b[0;31m \u001b[0;34m[\u001b[0m\u001b[0;36m1\u001b[0m\u001b[0;34m,\u001b[0m \u001b[0;36m2\u001b[0m\u001b[0;34m]\u001b[0m \u001b[0;34m+\u001b[0m \u001b[0;32mTrue\u001b[0m\u001b[0;34m\u001b[0m\u001b[0;34m\u001b[0m\u001b[0m\n\u001b[0m",
      "\u001b[0;31mTypeError\u001b[0m: can only concatenate list (not \"bool\") to list"
     ]
    }
   ],
   "source": [
    "[1, 2] + True"
   ]
  },
  {
   "cell_type": "markdown",
   "id": "e0817d7e",
   "metadata": {},
   "source": [
    "# Multiplication with lists\n",
    "\n",
    "You can also multiply lists with integers"
   ]
  },
  {
   "cell_type": "code",
   "execution_count": 9,
   "id": "29f77652",
   "metadata": {},
   "outputs": [
    {
     "name": "stdout",
     "output_type": "stream",
     "text": [
      "[1, 2, 3, 1, 2, 3, 1, 2, 3, 1, 2, 3]\n",
      "[1, 2, 3, 1, 2, 3, 1, 2, 3, 1, 2, 3]\n"
     ]
    }
   ],
   "source": [
    "x=[1, 2 ,3] * 4\n",
    "y=[1, 2 ,3]+[1, 2 ,3]+[1, 2 ,3]+[1, 2 ,3]\n",
    "\n",
    "print(x)\n",
    "print(y)\n",
    "\n"
   ]
  },
  {
   "cell_type": "code",
   "execution_count": 10,
   "id": "a35fc5db",
   "metadata": {},
   "outputs": [
    {
     "data": {
      "text/plain": [
       "[1, 2]"
      ]
     },
     "execution_count": 10,
     "metadata": {},
     "output_type": "execute_result"
    }
   ],
   "source": [
    "[1, 2] * 1"
   ]
  },
  {
   "cell_type": "code",
   "execution_count": 11,
   "id": "390f21d2",
   "metadata": {},
   "outputs": [
    {
     "data": {
      "text/plain": [
       "[]"
      ]
     },
     "execution_count": 11,
     "metadata": {},
     "output_type": "execute_result"
    }
   ],
   "source": [
    "[1, 2] * 3\n",
    "[1,2]+[1,2]+[1,2]\n"
   ]
  },
  {
   "cell_type": "code",
   "execution_count": 13,
   "id": "5c924e57",
   "metadata": {},
   "outputs": [
    {
     "ename": "TypeError",
     "evalue": "unsupported operand type(s) for /: 'list' and 'int'",
     "output_type": "error",
     "traceback": [
      "\u001b[0;31m---------------------------------------------------------------------------\u001b[0m",
      "\u001b[0;31mTypeError\u001b[0m                                 Traceback (most recent call last)",
      "Cell \u001b[0;32mIn[13], line 1\u001b[0m\n\u001b[0;32m----> 1\u001b[0m \u001b[43m[\u001b[49m\u001b[38;5;124;43m\"\u001b[39;49m\u001b[38;5;124;43mabebe\u001b[39;49m\u001b[38;5;124;43m\"\u001b[39;49m\u001b[43m \u001b[49m\u001b[43m,\u001b[49m\u001b[43m \u001b[49m\u001b[38;5;124;43m\"\u001b[39;49m\u001b[38;5;124;43mkebde\u001b[39;49m\u001b[38;5;124;43m\"\u001b[39;49m\u001b[43m \u001b[49m\u001b[43m,\u001b[49m\u001b[43m \u001b[49m\u001b[38;5;124;43m\"\u001b[39;49m\u001b[38;5;124;43mabcdbdb\u001b[39;49m\u001b[38;5;124;43m\"\u001b[39;49m\u001b[43m]\u001b[49m\u001b[43m \u001b[49m\u001b[38;5;241;43m/\u001b[39;49m\u001b[38;5;241;43m2\u001b[39;49m\n",
      "\u001b[0;31mTypeError\u001b[0m: unsupported operand type(s) for /: 'list' and 'int'"
     ]
    }
   ],
   "source": [
    "[\"abebe\" , \"kebde\" , \"abcdbdb\"] 2\n"
   ]
  },
  {
   "cell_type": "code",
   "execution_count": 12,
   "id": "d73876ec",
   "metadata": {},
   "outputs": [
    {
     "data": {
      "text/plain": [
       "[]"
      ]
     },
     "execution_count": 12,
     "metadata": {},
     "output_type": "execute_result"
    }
   ],
   "source": [
    "[1, 2] * 0"
   ]
  },
  {
   "cell_type": "markdown",
   "id": "84333fd6",
   "metadata": {},
   "source": [
    "# Accessing elements of a list\n",
    "\n",
    "You can access individual elements of a list using the following syntax"
   ]
  },
  {
   "cell_type": "code",
   "execution_count": 1,
   "id": "0e6ad6b8",
   "metadata": {},
   "outputs": [
    {
     "data": {
      "text/plain": [
       "'a'"
      ]
     },
     "execution_count": 1,
     "metadata": {},
     "output_type": "execute_result"
    }
   ],
   "source": [
    "x=[\"a\",\"b\" , \"c\" ,\"d\" ,\"e\"]\n"
   ]
  },
  {
   "cell_type": "code",
   "execution_count": 32,
   "id": "69960d8e",
   "metadata": {},
   "outputs": [
    {
     "data": {
      "text/plain": [
       "2"
      ]
     },
     "execution_count": 32,
     "metadata": {},
     "output_type": "execute_result"
    }
   ],
   "source": [
    "x[1]"
   ]
  },
  {
   "cell_type": "code",
   "execution_count": 33,
   "id": "531a7b94",
   "metadata": {},
   "outputs": [
    {
     "data": {
      "text/plain": [
       "3"
      ]
     },
     "execution_count": 33,
     "metadata": {},
     "output_type": "execute_result"
    }
   ],
   "source": [
    "x[2]"
   ]
  },
  {
   "cell_type": "code",
   "execution_count": 34,
   "id": "3493a218",
   "metadata": {},
   "outputs": [
    {
     "ename": "IndexError",
     "evalue": "list index out of range",
     "output_type": "error",
     "traceback": [
      "\u001b[0;31m---------------------------------------------------------------------------\u001b[0m",
      "\u001b[0;31mIndexError\u001b[0m                                Traceback (most recent call last)",
      "\u001b[0;32m/tmp/ipykernel_796020/1934062653.py\u001b[0m in \u001b[0;36m<module>\u001b[0;34m\u001b[0m\n\u001b[0;32m----> 1\u001b[0;31m \u001b[0mx\u001b[0m\u001b[0;34m[\u001b[0m\u001b[0;36m10\u001b[0m\u001b[0;34m]\u001b[0m\u001b[0;34m\u001b[0m\u001b[0;34m\u001b[0m\u001b[0m\n\u001b[0m",
      "\u001b[0;31mIndexError\u001b[0m: list index out of range"
     ]
    }
   ],
   "source": [
    "x[10]"
   ]
  },
  {
   "cell_type": "code",
   "execution_count": 36,
   "id": "39e08480",
   "metadata": {},
   "outputs": [
    {
     "ename": "TypeError",
     "evalue": "list indices must be integers or slices, not float",
     "output_type": "error",
     "traceback": [
      "\u001b[0;31m---------------------------------------------------------------------------\u001b[0m",
      "\u001b[0;31mTypeError\u001b[0m                                 Traceback (most recent call last)",
      "\u001b[0;32m/tmp/ipykernel_796020/849164868.py\u001b[0m in \u001b[0;36m<module>\u001b[0;34m\u001b[0m\n\u001b[0;32m----> 1\u001b[0;31m \u001b[0mx\u001b[0m\u001b[0;34m[\u001b[0m\u001b[0;36m1.2\u001b[0m\u001b[0;34m]\u001b[0m\u001b[0;34m\u001b[0m\u001b[0;34m\u001b[0m\u001b[0m\n\u001b[0m",
      "\u001b[0;31mTypeError\u001b[0m: list indices must be integers or slices, not float"
     ]
    }
   ],
   "source": [
    "x[1.2]"
   ]
  },
  {
   "cell_type": "code",
   "execution_count": 37,
   "id": "19f529b3",
   "metadata": {},
   "outputs": [
    {
     "ename": "TypeError",
     "evalue": "list indices must be integers or slices, not str",
     "output_type": "error",
     "traceback": [
      "\u001b[0;31m---------------------------------------------------------------------------\u001b[0m",
      "\u001b[0;31mTypeError\u001b[0m                                 Traceback (most recent call last)",
      "\u001b[0;32m/tmp/ipykernel_796020/3850214219.py\u001b[0m in \u001b[0;36m<module>\u001b[0;34m\u001b[0m\n\u001b[0;32m----> 1\u001b[0;31m \u001b[0mx\u001b[0m\u001b[0;34m[\u001b[0m\u001b[0;34m\"1\"\u001b[0m\u001b[0;34m]\u001b[0m\u001b[0;34m\u001b[0m\u001b[0;34m\u001b[0m\u001b[0m\n\u001b[0m",
      "\u001b[0;31mTypeError\u001b[0m: list indices must be integers or slices, not str"
     ]
    }
   ],
   "source": [
    "x[\"1\"]"
   ]
  },
  {
   "cell_type": "markdown",
   "id": "ea334b65",
   "metadata": {},
   "source": [
    "# Modifying lists\n",
    "\n",
    "You can also change what is inside a list"
   ]
  },
  {
   "cell_type": "code",
   "execution_count": 32,
   "id": "9b42181c",
   "metadata": {},
   "outputs": [],
   "source": [
    "o = [\"a\" ,\"b\" , \"c\" , \"d\"]\n"
   ]
  },
  {
   "cell_type": "code",
   "execution_count": 37,
   "id": "15c412c2",
   "metadata": {},
   "outputs": [
    {
     "data": {
      "text/plain": [
       "['a', 'b', 'z', 'd']"
      ]
     },
     "execution_count": 37,
     "metadata": {},
     "output_type": "execute_result"
    }
   ],
   "source": [
    "o[2]=\"z\"\n",
    "o\n",
    "\n"
   ]
  },
  {
   "cell_type": "markdown",
   "id": "0dcde85a",
   "metadata": {},
   "source": [
    "# Indexing with negative numbers\n",
    "\n",
    "You can also index with negative numbers. They count from the back"
   ]
  },
  {
   "cell_type": "code",
   "execution_count": 3,
   "id": "f565f89b",
   "metadata": {},
   "outputs": [],
   "source": [
    "x = [1, 2, 3, 4, 5, 6]"
   ]
  },
  {
   "cell_type": "code",
   "execution_count": 6,
   "id": "c69079ed",
   "metadata": {},
   "outputs": [
    {
     "data": {
      "text/plain": [
       "2"
      ]
     },
     "execution_count": 6,
     "metadata": {},
     "output_type": "execute_result"
    }
   ],
   "source": [
    "x[-5]"
   ]
  },
  {
   "cell_type": "code",
   "execution_count": 40,
   "id": "43151643",
   "metadata": {},
   "outputs": [
    {
     "data": {
      "text/plain": [
       "5"
      ]
     },
     "execution_count": 40,
     "metadata": {},
     "output_type": "execute_result"
    }
   ],
   "source": [
    "x[-2]"
   ]
  },
  {
   "cell_type": "markdown",
   "id": "407d96cb",
   "metadata": {},
   "source": [
    "# Slices\n",
    "\n",
    "You can also create lists by taking a sublist of an existing list. This is often called a slice"
   ]
  },
  {
   "cell_type": "code",
   "execution_count": 48,
   "id": "d4410299",
   "metadata": {},
   "outputs": [
    {
     "data": {
      "text/plain": [
       "[6, 5, 4, 3, 2]"
      ]
     },
     "execution_count": 48,
     "metadata": {},
     "output_type": "execute_result"
    }
   ],
   "source": [
    "x = [1, 2, 3, 4, 5, 6]\n",
    "x[6:0:-1]"
   ]
  },
  {
   "cell_type": "code",
   "execution_count": 11,
   "id": "422c8d6c",
   "metadata": {},
   "outputs": [
    {
     "data": {
      "text/plain": [
       "[1, 2]"
      ]
     },
     "execution_count": 11,
     "metadata": {},
     "output_type": "execute_result"
    }
   ],
   "source": [
    "x[0:]"
   ]
  },
  {
   "cell_type": "code",
   "execution_count": 12,
   "id": "b771150c",
   "metadata": {},
   "outputs": [
    {
     "data": {
      "text/plain": [
       "[1, 2, 3, 4]"
      ]
     },
     "execution_count": 12,
     "metadata": {},
     "output_type": "execute_result"
    }
   ],
   "source": [
    "x[0:4]"
   ]
  },
  {
   "cell_type": "code",
   "execution_count": 14,
   "id": "24300a7f",
   "metadata": {},
   "outputs": [
    {
     "data": {
      "text/plain": [
       "[1, 2, 3, 4, 5, 6]"
      ]
     },
     "execution_count": 14,
     "metadata": {},
     "output_type": "execute_result"
    }
   ],
   "source": [
    "x[0:10]"
   ]
  },
  {
   "cell_type": "code",
   "execution_count": 16,
   "id": "77c3a42e",
   "metadata": {},
   "outputs": [
    {
     "data": {
      "text/plain": [
       "[2, 3, 4, 5, 6]"
      ]
     },
     "execution_count": 16,
     "metadata": {},
     "output_type": "execute_result"
    }
   ],
   "source": [
    "x[1:]"
   ]
  },
  {
   "cell_type": "code",
   "execution_count": 21,
   "id": "b3eed8b4",
   "metadata": {},
   "outputs": [
    {
     "data": {
      "text/plain": [
       "[2, 3, 4]"
      ]
     },
     "execution_count": 21,
     "metadata": {},
     "output_type": "execute_result"
    }
   ],
   "source": [
    "x = [1, 2, 3, 4, 5, 6]\n",
    "x[-5: -2 ]"
   ]
  },
  {
   "cell_type": "code",
   "execution_count": 22,
   "id": "1c91b78e",
   "metadata": {},
   "outputs": [
    {
     "data": {
      "text/plain": [
       "[4, 5, 6]"
      ]
     },
     "execution_count": 22,
     "metadata": {},
     "output_type": "execute_result"
    }
   ],
   "source": [
    "x[3:]"
   ]
  },
  {
   "cell_type": "markdown",
   "id": "bd39f10f",
   "metadata": {},
   "source": [
    "# Slicing with a step\n",
    "\n",
    "You can also slice with a _step_. It specifies to take every nth element"
   ]
  },
  {
   "cell_type": "code",
   "execution_count": 38,
   "id": "5648835b",
   "metadata": {},
   "outputs": [
    {
     "data": {
      "text/plain": [
       "[1, 2, 3, 4, 5, 6, 7, 8, 9]"
      ]
     },
     "execution_count": 38,
     "metadata": {},
     "output_type": "execute_result"
    }
   ],
   "source": [
    "x = [1, 2, 3, 4, 5, 6, 7, 8, 9]\n",
    "x[0:8:1]"
   ]
  },
  {
   "cell_type": "code",
   "execution_count": 28,
   "id": "54d7b602",
   "metadata": {},
   "outputs": [
    {
     "data": {
      "text/plain": [
       "[1, 3, 5]"
      ]
     },
     "execution_count": 28,
     "metadata": {},
     "output_type": "execute_result"
    }
   ],
   "source": [
    "\n"
   ]
  },
  {
   "cell_type": "markdown",
   "id": "b83b2244",
   "metadata": {},
   "source": [
    "# Indexing and slicing strings\n",
    "\n",
    "Similar to how you can index and slice lists, you can also index and slice strings"
   ]
  },
  {
   "cell_type": "code",
   "execution_count": 49,
   "id": "2e3f4b06",
   "metadata": {},
   "outputs": [
    {
     "data": {
      "text/plain": [
       "'Hello!'"
      ]
     },
     "execution_count": 49,
     "metadata": {},
     "output_type": "execute_result"
    }
   ],
   "source": [
    "x = \"Hello!\"\n",
    "x"
   ]
  },
  {
   "cell_type": "code",
   "execution_count": 39,
   "id": "c9e25f42",
   "metadata": {},
   "outputs": [
    {
     "data": {
      "text/plain": [
       "1"
      ]
     },
     "execution_count": 39,
     "metadata": {},
     "output_type": "execute_result"
    }
   ],
   "source": [
    "x[0]"
   ]
  },
  {
   "cell_type": "code",
   "execution_count": 51,
   "id": "539608bf",
   "metadata": {},
   "outputs": [
    {
     "data": {
      "text/plain": [
       "'!'"
      ]
     },
     "execution_count": 51,
     "metadata": {},
     "output_type": "execute_result"
    }
   ],
   "source": [
    "x[-1]"
   ]
  },
  {
   "cell_type": "code",
   "execution_count": 52,
   "id": "cad53c65",
   "metadata": {},
   "outputs": [
    {
     "data": {
      "text/plain": [
       "'Hello'"
      ]
     },
     "execution_count": 52,
     "metadata": {},
     "output_type": "execute_result"
    }
   ],
   "source": [
    "x[0:5]"
   ]
  },
  {
   "cell_type": "markdown",
   "id": "dd34d92f",
   "metadata": {},
   "source": [
    "# Important note: you CANNOT modify strings"
   ]
  },
  {
   "cell_type": "code",
   "execution_count": 4,
   "id": "b4b6b5e5",
   "metadata": {},
   "outputs": [
    {
     "data": {
      "text/plain": [
       "'hello'"
      ]
     },
     "execution_count": 4,
     "metadata": {},
     "output_type": "execute_result"
    }
   ],
   "source": [
    "x = \"hello\"\n",
    "x"
   ]
  },
  {
   "cell_type": "code",
   "execution_count": 5,
   "id": "e34ba5bc",
   "metadata": {},
   "outputs": [
    {
     "ename": "TypeError",
     "evalue": "'str' object does not support item assignment",
     "output_type": "error",
     "traceback": [
      "\u001b[0;31m---------------------------------------------------------------------------\u001b[0m",
      "\u001b[0;31mTypeError\u001b[0m                                 Traceback (most recent call last)",
      "\u001b[0;32m/tmp/ipykernel_830509/3052838824.py\u001b[0m in \u001b[0;36m<module>\u001b[0;34m\u001b[0m\n\u001b[0;32m----> 1\u001b[0;31m \u001b[0mx\u001b[0m\u001b[0;34m[\u001b[0m\u001b[0;36m3\u001b[0m\u001b[0;34m]\u001b[0m \u001b[0;34m=\u001b[0m \u001b[0;34m\"bye\"\u001b[0m\u001b[0;34m\u001b[0m\u001b[0;34m\u001b[0m\u001b[0m\n\u001b[0m",
      "\u001b[0;31mTypeError\u001b[0m: 'str' object does not support item assignment"
     ]
    }
   ],
   "source": [
    "x[3] = \"bye\""
   ]
  },
  {
   "cell_type": "markdown",
   "id": "2842c91e",
   "metadata": {},
   "source": [
    "# Lengths\n",
    "\n",
    "Lists and strings have _lengths_. We can determine the length of a list or string with `len` as follows:"
   ]
  },
  {
   "cell_type": "code",
   "execution_count": 42,
   "id": "5c9dda67",
   "metadata": {},
   "outputs": [
    {
     "data": {
      "text/plain": [
       "4"
      ]
     },
     "execution_count": 42,
     "metadata": {},
     "output_type": "execute_result"
    }
   ],
   "source": [
    "x = [1, 2, 3,4]\n",
    "len(x)"
   ]
  },
  {
   "cell_type": "code",
   "execution_count": 44,
   "id": "5ee33469",
   "metadata": {},
   "outputs": [
    {
     "data": {
      "text/plain": [
       "12"
      ]
     },
     "execution_count": 44,
     "metadata": {},
     "output_type": "execute_result"
    }
   ],
   "source": [
    "y = \"AddisCoder X\"\n",
    "len(y)"
   ]
  },
  {
   "cell_type": "markdown",
   "id": "eeb95e6c",
   "metadata": {},
   "source": [
    "# Dictionaries\n",
    "\n",
    "Dictionaries also hold \"things\" in Python. However, every \"thing\" it holds is associated with a _key_. The \"things\" associated with the keys are called _values_.\n",
    "\n",
    "A key can be any basic type (everything we've learned about so far except a list).\n",
    "\n",
    "A value can be anything we've learned about so far.\n",
    "\n",
    "The syntax for dictionaries can be a bit confusing. Let's walk through it"
   ]
  },
  {
   "cell_type": "code",
   "execution_count": 63,
   "id": "1abfcaec",
   "metadata": {},
   "outputs": [],
   "source": [
    "# This creates a dictionary\n",
    "country_capitals = {\n",
    "    \"Ethiopia\": \"Addis Abada\",\n",
    "    \"Canada\": \"Ottawa\",\n",
    "    \"Iran\": \"Teheran\",\n",
    "    \"Turkey\": \"Ankara\"\n",
    "}"
   ]
  },
  {
   "cell_type": "code",
   "execution_count": 64,
   "id": "96ced48c",
   "metadata": {},
   "outputs": [
    {
     "data": {
      "text/plain": [
       "'Addis Abada'"
      ]
     },
     "execution_count": 64,
     "metadata": {},
     "output_type": "execute_result"
    }
   ],
   "source": [
    "# This accesses a dictionary\n",
    "country_capitals[\"Ethiopia\"]"
   ]
  },
  {
   "cell_type": "code",
   "execution_count": 75,
   "id": "e002b840",
   "metadata": {},
   "outputs": [],
   "source": [
    "# Dictionaries can have keys of different types\n",
    "dictionary = {\n",
    "    2: \"hi\",\n",
    "    True: \"Addis Abada\",\n",
    "    \"key\": \"value\"\n",
    "}"
   ]
  },
  {
   "cell_type": "code",
   "execution_count": 76,
   "id": "70b053c6",
   "metadata": {},
   "outputs": [
    {
     "data": {
      "text/plain": [
       "'hi'"
      ]
     },
     "execution_count": 76,
     "metadata": {},
     "output_type": "execute_result"
    }
   ],
   "source": [
    "dictionary[2]"
   ]
  },
  {
   "cell_type": "code",
   "execution_count": 67,
   "id": "dba6dd60",
   "metadata": {},
   "outputs": [
    {
     "data": {
      "text/plain": [
       "'Addis Abada'"
      ]
     },
     "execution_count": 67,
     "metadata": {},
     "output_type": "execute_result"
    }
   ],
   "source": [
    "dictionary[True]"
   ]
  },
  {
   "cell_type": "code",
   "execution_count": 77,
   "id": "bc7c2d47",
   "metadata": {},
   "outputs": [],
   "source": [
    "# Dictionaries can have values of different types\n",
    "dictionary = {\n",
    "    2: \"value\",\n",
    "    True: False,\n",
    "    \"key\": 2\n",
    "}"
   ]
  },
  {
   "cell_type": "code",
   "execution_count": 78,
   "id": "86aaf52c",
   "metadata": {},
   "outputs": [
    {
     "ename": "SyntaxError",
     "evalue": "invalid syntax (2313417585.py, line 5)",
     "output_type": "error",
     "traceback": [
      "\u001b[0;36m  File \u001b[0;32m\"/tmp/ipykernel_796020/2313417585.py\"\u001b[0;36m, line \u001b[0;32m5\u001b[0m\n\u001b[0;31m    \"key\": 2\u001b[0m\n\u001b[0m    ^\u001b[0m\n\u001b[0;31mSyntaxError\u001b[0m\u001b[0;31m:\u001b[0m invalid syntax\n"
     ]
    }
   ],
   "source": [
    "# You must have the comma after items!\n",
    "dictionary = {\n",
    "    2: \"value\",\n",
    "    True: False\n",
    "    \"key\": 2\n",
    "}"
   ]
  },
  {
   "cell_type": "markdown",
   "id": "86574137",
   "metadata": {},
   "source": [
    "# Modifying dictionaries\n",
    "\n",
    "In addition to declaring a dictionary, you can also modify a dictionary as follows"
   ]
  },
  {
   "cell_type": "code",
   "execution_count": 79,
   "id": "4a29fbc2",
   "metadata": {},
   "outputs": [],
   "source": [
    "x = {\n",
    "    2: 3,\n",
    "    True: False,\n",
    "    \"key\": \"value\"\n",
    "}"
   ]
  },
  {
   "cell_type": "code",
   "execution_count": 80,
   "id": "90e1a44d",
   "metadata": {},
   "outputs": [
    {
     "data": {
      "text/plain": [
       "3"
      ]
     },
     "execution_count": 80,
     "metadata": {},
     "output_type": "execute_result"
    }
   ],
   "source": [
    "x[2]"
   ]
  },
  {
   "cell_type": "code",
   "execution_count": 81,
   "id": "9b3340bc",
   "metadata": {},
   "outputs": [],
   "source": [
    "x[2] = \"new value\""
   ]
  },
  {
   "cell_type": "code",
   "execution_count": 82,
   "id": "bc07afd3",
   "metadata": {},
   "outputs": [
    {
     "data": {
      "text/plain": [
       "'new value'"
      ]
     },
     "execution_count": 82,
     "metadata": {},
     "output_type": "execute_result"
    }
   ],
   "source": [
    "x[2]"
   ]
  },
  {
   "cell_type": "code",
   "execution_count": 83,
   "id": "bf3104b1",
   "metadata": {},
   "outputs": [
    {
     "data": {
      "text/plain": [
       "{2: 'new value', True: False, 'key': 'value'}"
      ]
     },
     "execution_count": 83,
     "metadata": {},
     "output_type": "execute_result"
    }
   ],
   "source": [
    "x"
   ]
  },
  {
   "cell_type": "markdown",
   "id": "f41aca3c",
   "metadata": {},
   "source": [
    "# Length of dictionaries\n",
    "\n",
    "You can also compute the length of a dictionary in the same way"
   ]
  },
  {
   "cell_type": "code",
   "execution_count": 84,
   "id": "21ceb5dd",
   "metadata": {},
   "outputs": [],
   "source": [
    "x = {\n",
    "    2: 3,\n",
    "    True: False,\n",
    "    \"key\": \"value\"\n",
    "}"
   ]
  },
  {
   "cell_type": "code",
   "execution_count": 85,
   "id": "33060029",
   "metadata": {},
   "outputs": [
    {
     "data": {
      "text/plain": [
       "3"
      ]
     },
     "execution_count": 85,
     "metadata": {},
     "output_type": "execute_result"
    }
   ],
   "source": [
    "len(x)"
   ]
  },
  {
   "cell_type": "markdown",
   "id": "aef36cc3",
   "metadata": {},
   "source": [
    "# Checking if a key is in a dictionary\n",
    "\n",
    "There is a special Python keyword to check if a key is in a dictionary. It is the `in` keyword. You can use it as follows:"
   ]
  },
  {
   "cell_type": "code",
   "execution_count": 86,
   "id": "c3fd1909",
   "metadata": {},
   "outputs": [],
   "source": [
    "x = {\n",
    "    2: 3,\n",
    "    True: False,\n",
    "    \"key\": \"value\"\n",
    "}"
   ]
  },
  {
   "cell_type": "code",
   "execution_count": 87,
   "id": "03598780",
   "metadata": {},
   "outputs": [
    {
     "data": {
      "text/plain": [
       "True"
      ]
     },
     "execution_count": 87,
     "metadata": {},
     "output_type": "execute_result"
    }
   ],
   "source": [
    "2 in x"
   ]
  },
  {
   "cell_type": "code",
   "execution_count": 88,
   "id": "7f3bc5b9",
   "metadata": {},
   "outputs": [
    {
     "data": {
      "text/plain": [
       "False"
      ]
     },
     "execution_count": 88,
     "metadata": {},
     "output_type": "execute_result"
    }
   ],
   "source": [
    "3 in x"
   ]
  },
  {
   "cell_type": "markdown",
   "id": "fb41b38b",
   "metadata": {},
   "source": [
    "# Advanced topics: motivation for while loops\n",
    "\n",
    "Often times, we want to repeat a comptuation a number of times."
   ]
  },
  {
   "cell_type": "code",
   "execution_count": 7,
   "id": "44897bd7",
   "metadata": {},
   "outputs": [
    {
     "name": "stdout",
     "output_type": "stream",
     "text": [
      "32587\n",
      "18\n",
      "43\n",
      "985\n",
      "274398\n"
     ]
    }
   ],
   "source": [
    "x = [32587, 18, 43, 985, 274398]\n",
    "print(x[0])\n",
    "print(x[1])\n",
    "print(x[2])\n",
    "print(x[3])\n",
    "print(x[4])"
   ]
  },
  {
   "cell_type": "markdown",
   "id": "7f4d8203",
   "metadata": {},
   "source": [
    "# Advanced topic: while loops\n",
    "\n",
    "We can do this repeated computation with while loops!\n",
    "\n",
    "We'll start with some examples before defining the syntax"
   ]
  },
  {
   "cell_type": "code",
   "execution_count": 8,
   "id": "6ac1036c",
   "metadata": {},
   "outputs": [
    {
     "name": "stdout",
     "output_type": "stream",
     "text": [
      "32587\n",
      "18\n",
      "43\n",
      "985\n",
      "274398\n"
     ]
    }
   ],
   "source": [
    "x = [32587, 18, 43, 985, 274398]\n",
    "\n",
    "\n",
    "index = 0\n",
    "while index < len(x):\n",
    "    print(x[index])\n",
    "    index += 1"
   ]
  },
  {
   "cell_type": "markdown",
   "id": "1f761edf",
   "metadata": {},
   "source": [
    "# While loop syntax\n",
    "\n",
    "The syntax for while loops is:\n",
    "```python\n",
    "while <condition>:\n",
    "    <expression>\n",
    "```\n",
    "\n",
    "As with `if` statements, the `<condition>` can be anything that evaluates to a boolean. The `<expression>` can be complex."
   ]
  },
  {
   "cell_type": "markdown",
   "id": "61a09481",
   "metadata": {},
   "source": [
    "# IMPORTANT: THE WHILE LOOP MUST TERMINATE"
   ]
  },
  {
   "cell_type": "code",
   "execution_count": null,
   "id": "a712bba9",
   "metadata": {},
   "outputs": [],
   "source": [
    "# WARNING\n",
    "# WARNING\n",
    "# WARNING\n",
    "# DO NOT RUN THIS\n",
    "\n",
    "while True:\n",
    "    print('hi')"
   ]
  },
  {
   "cell_type": "code",
   "execution_count": null,
   "id": "7b00f1f2",
   "metadata": {},
   "outputs": [],
   "source": [
    "# WARNING\n",
    "# WARNING\n",
    "# WARNING\n",
    "# DO NOT RUN THIS\n",
    "\n",
    "num = 0\n",
    "while num < 10:\n",
    "    print(num)"
   ]
  }
 ],
 "metadata": {
  "kernelspec": {
   "display_name": "Python 3 (ipykernel)",
   "language": "python",
   "name": "python3"
  },
  "language_info": {
   "codemirror_mode": {
    "name": "ipython",
    "version": 3
   },
   "file_extension": ".py",
   "mimetype": "text/x-python",
   "name": "python",
   "nbconvert_exporter": "python",
   "pygments_lexer": "ipython3",
   "version": "3.11.4"
  }
 },
 "nbformat": 4,
 "nbformat_minor": 5
}
