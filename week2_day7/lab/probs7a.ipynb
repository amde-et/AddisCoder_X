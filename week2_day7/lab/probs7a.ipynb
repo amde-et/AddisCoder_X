{
 "cells": [
  {
   "cell_type": "code",
   "execution_count": null,
   "id": "9c410611",
   "metadata": {},
   "outputs": [],
   "source": [
    "from simpleimage import SimpleImage"
   ]
  },
  {
   "cell_type": "markdown",
   "id": "f1e275d1",
   "metadata": {},
   "source": [
    "As a reminder, here are the image functions we learned about in class.\n",
    "\n",
    "```\n",
    "# Create image:\n",
    "image = SimpleImage.blank(400, 200)   # create new image of size 400, 200\n",
    "\n",
    "# Access size:\n",
    "w = image.width\n",
    "h = image.height\n",
    "\n",
    "# Get pixel at x,y (0,0 is the top left corner):\n",
    "pix = image.get_rgb(x, y)\n",
    "# pix is an RGB list like [100, 200, 0], where the color components of the\n",
    "# pixel are Red = 100, Green = 200, and Blue = 0.\n",
    "\n",
    "# Set pixel at x,y:\n",
    "image.set_rgb(x, y, r, g, b)\n",
    "\n",
    "# Show image on screen:\n",
    "image.show()\n",
    "\n",
    "# Show a small image zoomed-in (larger) so it's easier to see the pixels:\n",
    "image.show(resize_width=200)\n",
    "```\n"
   ]
  },
  {
   "cell_type": "markdown",
   "id": "b6f79bad",
   "metadata": {},
   "source": [
    "### Question 1\n",
    "\n",
    "Let's create a blank image with a white background, that is an 11 by 11 square."
   ]
  },
  {
   "cell_type": "code",
   "execution_count": null,
   "id": "71b431e7",
   "metadata": {},
   "outputs": [],
   "source": [
    "size = 11\n"
   ]
  },
  {
   "cell_type": "markdown",
   "id": "6733e022",
   "metadata": {},
   "source": [
    "### Question 2\n",
    "Now, let's set the middle pixel to a black dot by using the `set_rgb()` function."
   ]
  },
  {
   "cell_type": "code",
   "execution_count": null,
   "id": "88d4bf0e",
   "metadata": {},
   "outputs": [],
   "source": []
  },
  {
   "cell_type": "markdown",
   "id": "d4ca94de",
   "metadata": {},
   "source": [
    "### Question 3\n",
    "\n",
    "After painting the center pixel of the picture black, let us paint the four corners black.\n",
    "\n",
    "It should look something like this. \n",
    "\n",
    "![](four_dots_and_middle_dot.png)"
   ]
  },
  {
   "cell_type": "code",
   "execution_count": null,
   "id": "92a53cae",
   "metadata": {
    "scrolled": true
   },
   "outputs": [],
   "source": []
  },
  {
   "cell_type": "markdown",
   "id": "507abf72",
   "metadata": {},
   "source": [
    "### Question 4\n",
    "\n",
    "Define a function called `draw_horizontal(img, x, y,length)` that will draw a horizontal line given an image, starting pixel, ending pixel and its length."
   ]
  },
  {
   "cell_type": "code",
   "execution_count": null,
   "id": "3a382cdd",
   "metadata": {},
   "outputs": [],
   "source": [
    "image = SimpleImage.blank(size, size)\n",
    "def draw_horizontal(img,x,y,length): \n",
    "    # YOUR CODE GOES HERE\n",
    "    pass"
   ]
  },
  {
   "cell_type": "markdown",
   "id": "3cf6c108",
   "metadata": {},
   "source": [
    "### Question 5\n",
    "Define a function called `draw_vertical(img, x, y,length)` that draws a vertical line given an image, starting pixel, ending pixel and its length."
   ]
  },
  {
   "cell_type": "code",
   "execution_count": null,
   "id": "77c93297",
   "metadata": {},
   "outputs": [],
   "source": [
    "image = SimpleImage.blank(size, size)\n",
    "# YOUR CODE GOES HERE"
   ]
  },
  {
   "cell_type": "markdown",
   "id": "d37342b0",
   "metadata": {},
   "source": [
    "### Question 6\n",
    "\n",
    "Define a function called `draw_line(img,x,y,length,vertical)` that draws a vertical line if the argument vertical is true and horizontal line if false. Use the functions you create in **Question 4** and **Question 5**."
   ]
  },
  {
   "cell_type": "code",
   "execution_count": null,
   "id": "ea28764d",
   "metadata": {},
   "outputs": [],
   "source": [
    "image = SimpleImage.blank(size, size)\n",
    "def draw_line(img,x,y,length,vertical):\n",
    "    # YOUR CODE GOES HERE\n",
    "    pass"
   ]
  },
  {
   "cell_type": "markdown",
   "id": "b81a600e",
   "metadata": {},
   "source": [
    "### Question 7\n",
    "\n",
    "Define a function called `draw_diagonal(img)` that draws a diagonal line from the `pixel(0,0)` to `(size-1,size-1)`. It should look something like this: \n",
    "\n",
    "![](diagonal.png)"
   ]
  },
  {
   "cell_type": "code",
   "execution_count": null,
   "id": "87db0181",
   "metadata": {},
   "outputs": [],
   "source": [
    "image = SimpleImage.blank(size, size)\n",
    "# YOUR CODE GOES HERE"
   ]
  },
  {
   "cell_type": "markdown",
   "id": "2768982f",
   "metadata": {},
   "source": [
    "###  Question 8\n",
    "\n",
    "Define a function that draws a triangle. The triangle could be a right angle triangle, an equilateral one as well. "
   ]
  },
  {
   "cell_type": "code",
   "execution_count": null,
   "id": "fdaf1be7",
   "metadata": {},
   "outputs": [],
   "source": [
    "image = SimpleImage.blank(size, size)\n",
    "# YOUR CODE GOES HERE"
   ]
  },
  {
   "cell_type": "markdown",
   "id": "1ea559eb",
   "metadata": {},
   "source": [
    "###  Question 9\n",
    "\n",
    "Define a function that draws a checker board pattern. `Pixel(0,0)` should be white, `Pixel(0,1)` should black be and so on. It should look something like this: \n",
    "\n",
    "![](checkers.png)"
   ]
  },
  {
   "cell_type": "code",
   "execution_count": null,
   "id": "c57ed7a2",
   "metadata": {},
   "outputs": [],
   "source": [
    "image = SimpleImage.blank(size, size)\n",
    "# YOUR CODE GOES HERE"
   ]
  },
  {
   "cell_type": "markdown",
   "id": "a88070b0",
   "metadata": {},
   "source": [
    "###  Question 10\n",
    "\n",
    "\n",
    "Write a function that inverts the color of each square in the board above. i.e `Pixel(0,0)` should now be black, `Pixel(0,1)` white and so on. The function should only take the image as an argument and invert the color of each cell in the given image. It should look like this: \n",
    "\n",
    "![](checkers2.png)"
   ]
  },
  {
   "cell_type": "code",
   "execution_count": null,
   "id": "cf542dda",
   "metadata": {},
   "outputs": [],
   "source": [
    "# DON'T USE 'image = SimpleImage.blank(size, size)' TO REMOVE THE PREVIOUSLY DRAWN IMAGE.\n"
   ]
  },
  {
   "cell_type": "markdown",
   "id": "91a38fa4",
   "metadata": {},
   "source": [
    "###  Question 11\n",
    "\n",
    "Now that you have inverted the colors of the board, let's create a function that changes the black tiles to red tiles. It should look something like this: \n",
    "![](red_checkers.png)"
   ]
  },
  {
   "cell_type": "code",
   "execution_count": null,
   "id": "d5e32c91",
   "metadata": {},
   "outputs": [],
   "source": [
    "# DON'T USE 'image = SimpleImage.blank(size, size)' TO REMOVE THE PREVIOUSLY DRAWN IMAGE.\n"
   ]
  },
  {
   "cell_type": "markdown",
   "id": "5c027893",
   "metadata": {},
   "source": [
    "## Gradients"
   ]
  },
  {
   "cell_type": "markdown",
   "id": "7418220b",
   "metadata": {},
   "source": [
    "### Question 12\n",
    "\n",
    "Make a horizontal gradient from black to white.\n",
    "\n",
    "Note:\n",
    "- The RGB values for black are `[0, 0, 0]`\n",
    "- The RGB values for white are `[255, 255, 255]`\n",
    "- The RGB values for grey are `[k, k, k]` for some `k`. Larger `k` is lighter grey, smaller `k` is darker grey.\n",
    "- as `x` goes from 0 to `size`, `k` should go from 0 to `255`. So compute `k = x*255//size`\n",
    "\n",
    "![](grayscale-horizontal.png)"
   ]
  },
  {
   "cell_type": "code",
   "execution_count": null,
   "id": "1dda73e8",
   "metadata": {},
   "outputs": [],
   "source": [
    "image = SimpleImage.blank(size, size)\n",
    "# YOUR CODE GOES HERE"
   ]
  },
  {
   "cell_type": "markdown",
   "id": "6bce7c36",
   "metadata": {},
   "source": [
    "### Question 13 "
   ]
  },
  {
   "cell_type": "markdown",
   "id": "42d15088",
   "metadata": {},
   "source": [
    "Change your code so that the gradient goes from black to red.\n",
    "\n",
    "Note:\n",
    "- red is [255, 0, 0]\n",
    "\n",
    "![](red-horizontal.png)"
   ]
  },
  {
   "cell_type": "code",
   "execution_count": null,
   "id": "25f62dc5",
   "metadata": {},
   "outputs": [],
   "source": [
    "image = SimpleImage.blank(size, size)\n",
    "# YOUR CODE GOES HERE"
   ]
  },
  {
   "cell_type": "markdown",
   "id": "7caa5cd0",
   "metadata": {},
   "source": [
    "Change your code so that the gradient is vertical.\n",
    "\n",
    "Hint: before, the value `k` depended on `x`. What should it depend on now?\n",
    "\n",
    "![](red-vertical.png)"
   ]
  },
  {
   "cell_type": "code",
   "execution_count": null,
   "id": "39904457",
   "metadata": {},
   "outputs": [],
   "source": [
    "image = SimpleImage.blank(size, size)\n",
    "# YOUR CODE GOES HERE"
   ]
  }
 ],
 "metadata": {
  "kernelspec": {
   "display_name": "Python 3 (ipykernel)",
   "language": "python",
   "name": "python3"
  },
  "language_info": {
   "codemirror_mode": {
    "name": "ipython",
    "version": 3
   },
   "file_extension": ".py",
   "mimetype": "text/x-python",
   "name": "python",
   "nbconvert_exporter": "python",
   "pygments_lexer": "ipython3",
   "version": "3.10.10"
  },
  "vscode": {
   "interpreter": {
    "hash": "c8884883e351fde4c474bbf00101d3d0f14ad84b75ec063926751a05fa09a539"
   }
  }
 },
 "nbformat": 4,
 "nbformat_minor": 5
}
