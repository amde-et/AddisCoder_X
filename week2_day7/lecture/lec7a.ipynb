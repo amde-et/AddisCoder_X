{
 "cells": [
  {
   "cell_type": "markdown",
   "metadata": {},
   "source": [
    "# Image Basics\n",
    "\n",
    "AddisCoder 2023 Week 2\n",
    "\n",
    "Taught by Alex Krentsel (alex.krentsel@gmail.com), based on material from CS106A at Stanford University, and CSCI100 at Howard University."
   ]
  },
  {
   "cell_type": "markdown",
   "metadata": {},
   "source": [
    "# Images\n",
    "\n",
    "Let's go to the slides and talk about how images are represented."
   ]
  },
  {
   "cell_type": "code",
   "execution_count": 8,
   "metadata": {},
   "outputs": [],
   "source": [
    "# We've written a simple image module for you to use. Let's import SimpleImage.\n",
    "\n",
    "# Note: if this doesn't work, you need to make sure you've downloaded the simpleimage.py\n",
    "# file, it's in the same folder as this notebook, and you've installed the Pillow library\n",
    "# by running `python3 -m pip install --upgrade Pillow` in your terminal.\n",
    "from simpleimage import SimpleImage"
   ]
  },
  {
   "cell_type": "code",
   "execution_count": 9,
   "metadata": {},
   "outputs": [
    {
     "name": "stdout",
     "output_type": "stream",
     "text": [
      "<simpleimage.SimpleImage object at 0x10479d480>\n"
     ]
    }
   ],
   "source": [
    "# Let's play around with it to see how it works.\n",
    "\n",
    "# First, let's create a new image that's 10 pixels wide and 10 pixels tall.\n",
    "image = SimpleImage.blank(10, 10)\n",
    "\n",
    "# Let's print out the image.\n",
    "print(image)"
   ]
  },
  {
   "cell_type": "code",
   "execution_count": 10,
   "metadata": {},
   "outputs": [
    {
     "data": {
      "image/png": "[encoded data removed]",
      "text/plain": [
       "<PIL.Image.Image image mode=RGB size=10x10>"
      ]
     },
     "metadata": {},
     "output_type": "display_data"
    }
   ],
   "source": [
    "# Oops, that's not very useful. Let's show the image instead.\n",
    "image.show()"
   ]
  },
  {
   "cell_type": "code",
   "execution_count": 11,
   "metadata": {},
   "outputs": [
    {
     "data": {
      "image/png": "[encoded data removed]",
      "text/plain": [
       "<PIL.Image.Image image mode=RGB size=200x200>"
      ]
     },
     "metadata": {},
     "output_type": "display_data"
    }
   ],
   "source": [
    "# Let's make the image bigger.\n",
    "image.show(resize_width=200)"
   ]
  },
  {
   "cell_type": "code",
   "execution_count": 12,
   "metadata": {},
   "outputs": [
    {
     "name": "stdout",
     "output_type": "stream",
     "text": [
      "<class 'simpleimage.SimpleImage'>\n"
     ]
    }
   ],
   "source": [
    "# What is this thing? You learned about a lot of types, so what type is it?\n",
    "print(type(image))\n",
    "\n",
    "# It looks like a new type? Kind of. This is a special type that we made for you to use. \n",
    "# We will learn more about how you can make your own types later on. For now, let's just\n",
    "# accept on faith that this type has been made for you to use and not worry about how it\n",
    "# was made."
   ]
  },
  {
   "cell_type": "code",
   "execution_count": 13,
   "metadata": {},
   "outputs": [
    {
     "data": {
      "image/png": "[encoded data removed]",
      "text/plain": [
       "<PIL.Image.Image image mode=RGB size=200x200>"
      ]
     },
     "metadata": {},
     "output_type": "display_data"
    }
   ],
   "source": [
    "# Okay, let's start painting by setting some pixels.\n",
    "# First, let's set the pixel at (0, 0) to be red.\n",
    "image.set_rgb(0,0, 255, 0, 0)\n",
    "image.show(resize_width=200)"
   ]
  },
  {
   "cell_type": "code",
   "execution_count": 14,
   "metadata": {},
   "outputs": [
    {
     "name": "stdout",
     "output_type": "stream",
     "text": [
      "width: 10 height: 10\n"
     ]
    }
   ],
   "source": [
    "# We can get the width/height of the image.\n",
    "print(\"width:\", image.width, \"height:\", image.height)"
   ]
  },
  {
   "cell_type": "code",
   "execution_count": 15,
   "metadata": {
    "scrolled": false
   },
   "outputs": [
    {
     "data": {
      "image/png": "[encoded data removed]",
      "text/plain": [
       "<PIL.Image.Image image mode=RGB size=200x200>"
      ]
     },
     "metadata": {},
     "output_type": "display_data"
    }
   ],
   "source": [
    "# Let's set a whole row of pixels to be red.\n",
    "for x in range(10):\n",
    "    image.set_rgb(x, 0, 255, 0, 0)\n",
    "\n",
    "image.show(resize_width=200)"
   ]
  },
  {
   "cell_type": "code",
   "execution_count": 16,
   "metadata": {},
   "outputs": [
    {
     "data": {
      "image/png": "[encoded data removed]",
      "text/plain": [
       "<PIL.Image.Image image mode=RGB size=200x200>"
      ]
     },
     "metadata": {},
     "output_type": "display_data"
    }
   ],
   "source": [
    "# Let's set the entire image to be red.\n",
    "for x in range(10):\n",
    "    for y in range(10):\n",
    "        image.set_rgb(x, y, 255, 0, 0)\n",
    "\n",
    "image.show(resize_width=200)"
   ]
  },
  {
   "cell_type": "code",
   "execution_count": 17,
   "metadata": {},
   "outputs": [
    {
     "data": {
      "image/png": "[encoded data removed]",
      "text/plain": [
       "<PIL.Image.Image image mode=RGB size=200x200>"
      ]
     },
     "metadata": {},
     "output_type": "display_data"
    }
   ],
   "source": [
    "# How about making a striped image?\n",
    "for x in range(10):\n",
    "    for y in range(10):\n",
    "        if y % 2 == 0:\n",
    "            image.set_rgb(x, y, 255, 0, 0)\n",
    "        else:\n",
    "            image.set_rgb(x, y, 0, 255, 0)\n",
    "\n",
    "image.show(resize_width=200)"
   ]
  },
  {
   "cell_type": "code",
   "execution_count": 18,
   "metadata": {},
   "outputs": [
    {
     "data": {
      "image/png": "[encoded data removed]",
      "text/plain": [
       "<PIL.Image.Image image mode=RGB size=200x200>"
      ]
     },
     "metadata": {},
     "output_type": "display_data"
    },
    {
     "data": {
      "image/png": "[encoded data removed]",
      "text/plain": [
       "<PIL.Image.Image image mode=RGB size=200x200>"
      ]
     },
     "metadata": {},
     "output_type": "display_data"
    }
   ],
   "source": [
    "# Let's make this more general. Let's make a function that makes a striped image.\n",
    "def stripe_image(image):\n",
    "    for x in range(image.width):\n",
    "        for y in range(image.height):\n",
    "            if y % 2 == 0:\n",
    "                image.set_rgb(x, y, 255, 0, 0)\n",
    "            else:\n",
    "                image.set_rgb(x, y, 0, 255, 0)\n",
    "\n",
    "image = SimpleImage.blank(10, 10)\n",
    "image.show(resize_width=200)\n",
    "stripe_image(image)\n",
    "image.show(resize_width=200)"
   ]
  },
  {
   "cell_type": "code",
   "execution_count": 19,
   "metadata": {},
   "outputs": [
    {
     "data": {
      "image/png": "[encoded data removed]",
      "text/plain": [
       "<PIL.Image.Image image mode=RGB size=200x200>"
      ]
     },
     "metadata": {},
     "output_type": "display_data"
    },
    {
     "name": "stdout",
     "output_type": "stream",
     "text": [
      "Adding eyes\n"
     ]
    },
    {
     "data": {
      "image/png": "[encoded data removed]",
      "text/plain": [
       "<PIL.Image.Image image mode=RGB size=200x200>"
      ]
     },
     "metadata": {},
     "output_type": "display_data"
    },
    {
     "data": {
      "image/png": "[encoded data removed]",
      "text/plain": [
       "<PIL.Image.Image image mode=RGB size=200x200>"
      ]
     },
     "metadata": {},
     "output_type": "display_data"
    },
    {
     "name": "stdout",
     "output_type": "stream",
     "text": [
      "Adding a nose\n"
     ]
    },
    {
     "data": {
      "image/png": "[encoded data removed]",
      "text/plain": [
       "<PIL.Image.Image image mode=RGB size=200x200>"
      ]
     },
     "metadata": {},
     "output_type": "display_data"
    },
    {
     "name": "stdout",
     "output_type": "stream",
     "text": [
      "adding mouth\n"
     ]
    },
    {
     "data": {
      "image/png": "[encoded data removed]",
      "text/plain": [
       "<PIL.Image.Image image mode=RGB size=200x200>"
      ]
     },
     "metadata": {},
     "output_type": "display_data"
    }
   ],
   "source": [
    "# We can draw manually on a canvas.\n",
    "canvas = SimpleImage.blank(10,10)\n",
    "canvas.show(resize_width=200)\n",
    "\n",
    "# Make 2 eyes\n",
    "print(\"Adding eyes\")\n",
    "canvas.set_rgb(3,3,0,0,0)\n",
    "canvas.show(resize_width=200)\n",
    "canvas.set_rgb(7,3,0,0,0)\n",
    "canvas.show(resize_width=200)\n",
    "\n",
    "# Make a nose\n",
    "print(\"Adding a nose\")\n",
    "canvas.set_rgb(5,5,0,0,0)\n",
    "canvas.show(resize_width=200)\n",
    "\n",
    "# Make a mouth\n",
    "print(\"adding mouth\")\n",
    "canvas.set_rgb(3,6,0,0,0)\n",
    "canvas.set_rgb(4,7,0,0,0)\n",
    "canvas.set_rgb(5,7,0,0,0)\n",
    "canvas.set_rgb(6,7,0,0,0)\n",
    "canvas.set_rgb(7,6,0,0,0)\n",
    "# for x in range(3, 8):\n",
    "#     canvas.set_rgb(x,7,0,0,0)\n",
    "canvas.show(resize_width=200)"
   ]
  },
  {
   "cell_type": "code",
   "execution_count": 20,
   "metadata": {},
   "outputs": [
    {
     "data": {
      "image/png": "[encoded data removed]",
      "text/plain": [
       "<PIL.Image.Image image mode=RGB size=300x300>"
      ]
     },
     "metadata": {},
     "output_type": "display_data"
    }
   ],
   "source": [
    "# Finally, let's combine what we've learned to make a random image. \n",
    "import random\n",
    "\n",
    "random_image = SimpleImage.blank(10, 10)\n",
    "\n",
    "for r in range(random_image.width):\n",
    "    for c in range(random_image.height):\n",
    "        # set the pixel at position (r, c) to be red\n",
    "        randr = random.randint(0, 255)\n",
    "        randg = random.randint(0, 255)\n",
    "        randb = random.randint(0, 255)\n",
    "        random_image.set_rgb(r, c, randr, randg, randb)\n",
    "\n",
    "# show the image\n",
    "random_image.show(resize_width=300)"
   ]
  },
  {
   "cell_type": "code",
   "execution_count": 21,
   "metadata": {},
   "outputs": [
    {
     "name": "stdout",
     "output_type": "stream",
     "text": [
      "[219, 85, 244]\n"
     ]
    }
   ],
   "source": [
    "# we can get the color of a particular pixel:\n",
    "pixel = random_image.get_rgb(0, 0)\n",
    "print(pixel)"
   ]
  },
  {
   "cell_type": "markdown",
   "metadata": {},
   "source": [
    "## Aside on SimpleImage\n",
    "\n",
    "You may be wondering, what *is* SimpleImage? \n",
    "\n",
    "For this class, you can understand SimpleImage as a custom complex type that we've created for you to use for working with canvases and images. In future classes, you'll learn more about how to create your own custom types."
   ]
  },
  {
   "cell_type": "markdown",
   "metadata": {},
   "source": []
  }
 ],
 "metadata": {
  "kernelspec": {
   "display_name": "Python 3 (ipykernel)",
   "language": "python",
   "name": "python3"
  },
  "language_info": {
   "codemirror_mode": {
    "name": "ipython",
    "version": 3
   },
   "file_extension": ".py",
   "mimetype": "text/x-python",
   "name": "python",
   "nbconvert_exporter": "python",
   "pygments_lexer": "ipython3",
   "version": "3.10.10"
  },
  "vscode": {
   "interpreter": {
    "hash": "c8884883e351fde4c474bbf00101d3d0f14ad84b75ec063926751a05fa09a539"
   }
  }
 },
 "nbformat": 4,
 "nbformat_minor": 2
}
