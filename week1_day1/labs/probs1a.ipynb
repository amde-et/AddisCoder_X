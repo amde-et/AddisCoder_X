{
 "cells": [
  {
   "cell_type": "markdown",
   "id": "28b94129",
   "metadata": {},
   "source": [
    "# Exercises for day 1a\n",
    "\n",
    "You will be working on a series of exercises for the material covered in lecture 1a. As a reminder, we discussed programming languages and how Python/Jupyter can be used as a powerful calculator.\n",
    "\n",
    "The first set of exercises will focus on how to use Python/Jupyter as a calculator.\n",
    "\n",
    "The following will be useful:\n",
    "- Jupyter consists of a series of cells\n",
    "- Use shift + enter to run a cell\n",
    "- Remember the order of operations!"
   ]
  },
  {
   "cell_type": "markdown",
   "id": "00684df6",
   "metadata": {},
   "source": [
    "## Exercise 1\n",
    "\n",
    "We will start simple. Calculate the following quantities _using Jupyter_, one per cell:\n",
    "- 10 + 20\n",
    "- 72 - 123\n",
    "- 23 * 67\n",
    "- 90 / 30\n",
    "- 90 / 27\n",
    "- 90 // 27\n",
    "\n",
    "Remember to use _shift + enter_ to run cells"
   ]
  },
  {
   "cell_type": "code",
   "execution_count": null,
   "id": "745ee020",
   "metadata": {},
   "outputs": [],
   "source": []
  },
  {
   "cell_type": "code",
   "execution_count": null,
   "id": "6c899107",
   "metadata": {},
   "outputs": [],
   "source": []
  },
  {
   "cell_type": "code",
   "execution_count": null,
   "id": "8921bd24",
   "metadata": {},
   "outputs": [],
   "source": []
  },
  {
   "cell_type": "code",
   "execution_count": null,
   "id": "ef7b43c7",
   "metadata": {},
   "outputs": [],
   "source": []
  },
  {
   "cell_type": "code",
   "execution_count": null,
   "id": "2a6d9f83",
   "metadata": {},
   "outputs": [],
   "source": []
  },
  {
   "cell_type": "code",
   "execution_count": null,
   "id": "8d6b8ca1",
   "metadata": {},
   "outputs": [],
   "source": []
  },
  {
   "cell_type": "markdown",
   "id": "aa00dcd8",
   "metadata": {},
   "source": [
    "## Exercise 2\n",
    "\n",
    "Now that you're used to simple arithmetic, we'll make things a bit harder. Python/Jupyter executes statements like `1 + 2 * 3` in a specific order. This is called the _order of operations_. \n",
    "\n",
    "The order of operation is very important! They can change the results dramatically.\n",
    "\n",
    "Compute the following quantities by hand. Then, use Jupyter to check if you got the order of operations correct.\n",
    "- 1 + 2 * 3\n",
    "- 1 * 2 + 3\n",
    "- 1 / 2 + 3\n",
    "- 1 - 2 * 3\n",
    "- 1 * 2 - 3\n",
    "\n",
    "Now do the following:\n",
    "- 10 * 23 / 5\n",
    "- (1 + 2) * 3\n",
    "- 1 + (2 * 3)\n",
    "- 12 * 5 / 4\n",
    "- 12 * 5 // 7\n",
    "\n",
    "Remember to use _shift + enter_ to run cells"
   ]
  },
  {
   "cell_type": "code",
   "execution_count": null,
   "id": "d024d11b",
   "metadata": {},
   "outputs": [],
   "source": []
  },
  {
   "cell_type": "code",
   "execution_count": null,
   "id": "09820525",
   "metadata": {},
   "outputs": [],
   "source": []
  },
  {
   "cell_type": "code",
   "execution_count": null,
   "id": "44cd5e45",
   "metadata": {},
   "outputs": [],
   "source": []
  },
  {
   "cell_type": "code",
   "execution_count": null,
   "id": "f287d321",
   "metadata": {},
   "outputs": [],
   "source": []
  },
  {
   "cell_type": "code",
   "execution_count": null,
   "id": "0326d223",
   "metadata": {},
   "outputs": [],
   "source": []
  },
  {
   "cell_type": "code",
   "execution_count": null,
   "id": "efe31dee",
   "metadata": {},
   "outputs": [],
   "source": []
  },
  {
   "cell_type": "code",
   "execution_count": null,
   "id": "f9389336",
   "metadata": {},
   "outputs": [],
   "source": []
  },
  {
   "cell_type": "code",
   "execution_count": null,
   "id": "65b9c0d5",
   "metadata": {},
   "outputs": [],
   "source": []
  },
  {
   "cell_type": "code",
   "execution_count": null,
   "id": "bab51787",
   "metadata": {},
   "outputs": [],
   "source": []
  },
  {
   "cell_type": "code",
   "execution_count": null,
   "id": "ae96c8a2",
   "metadata": {},
   "outputs": [],
   "source": []
  },
  {
   "cell_type": "markdown",
   "id": "4c47b7f3",
   "metadata": {},
   "source": [
    "## Exercise 3\n",
    "\n",
    "Beyond addition, subtraction, multiplication, and division, there are other, more complex operations. We will first review exponentiation.\n",
    "\n",
    "The _syntax_ for exponentiation is as `a ** b`. IT IS NOT THE `^`!\n",
    "\n",
    "Compute the following quantities by hand. Then, use Jupyter to check if you got them correct:\n",
    "- 2 ** 2\n",
    "- 2 ** 3\n",
    "- 5 ** 2\n",
    "- 10 ** 5\n",
    "- 25 ** 0.5\n",
    "- 3 ** -1\n",
    "\n",
    "Remember to use _shift + enter_ to run cells"
   ]
  },
  {
   "cell_type": "code",
   "execution_count": null,
   "id": "365b4aa0",
   "metadata": {},
   "outputs": [],
   "source": []
  },
  {
   "cell_type": "code",
   "execution_count": null,
   "id": "81163fb3",
   "metadata": {},
   "outputs": [],
   "source": []
  },
  {
   "cell_type": "code",
   "execution_count": null,
   "id": "343c3d91",
   "metadata": {},
   "outputs": [],
   "source": []
  },
  {
   "cell_type": "code",
   "execution_count": null,
   "id": "7d9f13c7",
   "metadata": {},
   "outputs": [],
   "source": []
  },
  {
   "cell_type": "code",
   "execution_count": null,
   "id": "8fa9ffb1",
   "metadata": {},
   "outputs": [],
   "source": []
  },
  {
   "cell_type": "code",
   "execution_count": null,
   "id": "449529c1",
   "metadata": {},
   "outputs": [],
   "source": []
  },
  {
   "cell_type": "markdown",
   "id": "5f80df8c",
   "metadata": {},
   "source": [
    "## Exercise 4\n",
    "\n",
    "In Python, there are some _invalid operations_. Invalid operations will cause errors. If you see an error, that means that there's a logical issue with your code. These will become increasingly important later in the course to help you debug your code\n",
    "\n",
    "See what happens if you run the following:\n",
    "- 10 / 0\n",
    "- 1 +\n",
    "- 2 * * 4\n",
    "- 3 x 4\n",
    "- 3 a"
   ]
  },
  {
   "cell_type": "code",
   "execution_count": null,
   "id": "49686bca",
   "metadata": {},
   "outputs": [],
   "source": []
  },
  {
   "cell_type": "code",
   "execution_count": null,
   "id": "7336a580",
   "metadata": {},
   "outputs": [],
   "source": []
  },
  {
   "cell_type": "code",
   "execution_count": null,
   "id": "f9a14860",
   "metadata": {},
   "outputs": [],
   "source": []
  },
  {
   "cell_type": "code",
   "execution_count": null,
   "id": "e78019b7",
   "metadata": {},
   "outputs": [],
   "source": []
  },
  {
   "cell_type": "code",
   "execution_count": null,
   "id": "522c3446",
   "metadata": {},
   "outputs": [],
   "source": []
  },
  {
   "cell_type": "markdown",
   "id": "a4192ca6",
   "metadata": {},
   "source": [
    "## Exercise 5\n",
    "\n",
    "Now that we've gone over the basic arithmetic operations, let's use them in interesting ways.\n",
    "\n",
    "Let's say we have a mathematical function $f(x) = x^3 + 2 x^2 + 3 x + 4$. (Important note: we will see later in the course that _programming function_ are **NOT THE SAME** as _mathematical functions_. You don't need to worry about this for now, but keep this in mind).\n",
    "\n",
    "Using Jupyter, compute $f(5)$. Expand the computation so that $x$ is replaced by 5 and you do all of the arithmetic operatoins.\n",
    "\n",
    "Do the same for $f(10)$.\n",
    "\n",
    "You might notice that this process of substituting the variables is quite annoying. We will revisit this in future lectures."
   ]
  },
  {
   "cell_type": "code",
   "execution_count": null,
   "id": "fab84ac4",
   "metadata": {},
   "outputs": [],
   "source": []
  },
  {
   "cell_type": "markdown",
   "id": "82c99eb8",
   "metadata": {},
   "source": [
    "## Exercise 6\n",
    "\n",
    "Use this space to compute free-form arithmetic operations. What are the most interesting things you can compute? If you're willing, bring some to share to class.\n",
    "\n",
    "Remember to use _shift + enter_ to run the cells."
   ]
  },
  {
   "cell_type": "code",
   "execution_count": null,
   "id": "54acca50",
   "metadata": {},
   "outputs": [],
   "source": []
  },
  {
   "cell_type": "markdown",
   "id": "84a2e287",
   "metadata": {},
   "source": [
    "## Exercise 7 (medium)\n",
    "\n",
    "We will now review the modulus operation. The syntax for modulus is `a % b`\n",
    " \n",
    "Compute the following quantities by hand. Then, use Jupyter to check if you got them correct:\n",
    "- 1 % 2\n",
    "- 10 % 2\n",
    "- 10 % 5\n",
    "- 67 % 3\n",
    "\n",
    "Remember to use _shift + enter_ to run cells"
   ]
  },
  {
   "cell_type": "code",
   "execution_count": null,
   "id": "3eb58913",
   "metadata": {},
   "outputs": [],
   "source": []
  },
  {
   "cell_type": "code",
   "execution_count": null,
   "id": "765e4441",
   "metadata": {},
   "outputs": [],
   "source": []
  },
  {
   "cell_type": "code",
   "execution_count": null,
   "id": "c1a5992a",
   "metadata": {},
   "outputs": [],
   "source": []
  },
  {
   "cell_type": "code",
   "execution_count": null,
   "id": "d05cb70b",
   "metadata": {},
   "outputs": [],
   "source": []
  },
  {
   "cell_type": "markdown",
   "id": "41f46d53",
   "metadata": {},
   "source": [
    "## Exercise 8 (Hard)\n",
    "\n",
    "For this exercise, using _only the operations we discussed in class_, do the following:\n",
    "- Extract the lowest digit from the number 48756378291\n",
    "- Extract the second lowest digit from the number 48756378291\n",
    "- Extract the third lowest digit from the number 48756378291\n",
    "\n",
    "Do you see a pattern?"
   ]
  },
  {
   "cell_type": "code",
   "execution_count": null,
   "id": "8970d74f",
   "metadata": {},
   "outputs": [],
   "source": []
  },
  {
   "cell_type": "code",
   "execution_count": null,
   "id": "fe78c691",
   "metadata": {},
   "outputs": [],
   "source": []
  },
  {
   "cell_type": "code",
   "execution_count": null,
   "id": "465af57a",
   "metadata": {},
   "outputs": [],
   "source": []
  },
  {
   "cell_type": "markdown",
   "id": "115a5e9e",
   "metadata": {},
   "source": [
    "# Supplementary exercises\n",
    "\n",
    "If you've completed all of the exercises so far, congratulations! There are supplementary exercises you can do now. Ask a TA to get access to them."
   ]
  },
  {
   "cell_type": "code",
   "execution_count": null,
   "id": "18d8a618",
   "metadata": {},
   "outputs": [],
   "source": []
  }
 ],
 "metadata": {
  "kernelspec": {
   "display_name": "Python 3",
   "language": "python",
   "name": "python3"
  },
  "language_info": {
   "codemirror_mode": {
    "name": "ipython",
    "version": 3
   },
   "file_extension": ".py",
   "mimetype": "text/x-python",
   "name": "python",
   "nbconvert_exporter": "python",
   "pygments_lexer": "ipython3",
   "version": "3.6.9"
  }
 },
 "nbformat": 4,
 "nbformat_minor": 5
}
