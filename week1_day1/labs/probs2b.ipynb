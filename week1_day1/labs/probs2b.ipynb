{
 "cells": [
  {
   "cell_type": "markdown",
   "id": "524a5b7b",
   "metadata": {},
   "source": [
    "# Exercises for day 2b\n",
    "\n",
    "You will be working on a series of exercises for the material covered in lecture 2b.\n",
    "\n",
    "We covered:\n",
    "- What lists are\n",
    "- Adding lists\n",
    "- Multiplying lists\n",
    "- Accessing lists/strings via indexing\n",
    "- Slices\n",
    "- Lengths\n",
    "- Dictionaries\n",
    "\n",
    "We will go through a series of exercises to reinfornce the concepts covered today"
   ]
  },
  {
   "cell_type": "markdown",
   "id": "3d652dfb",
   "metadata": {},
   "source": [
    "## Exercise 1.0 (Basic)\n",
    "\n",
    "Use `len` function to find the lengths of a string `s = \"hello\"` and a list `lst  = [2 ,3, 45, \"t5\", \"ew\", 4]`"
   ]
  },
  {
   "cell_type": "code",
   "execution_count": 1,
   "id": "0201e074",
   "metadata": {},
   "outputs": [],
   "source": [
    "s = \"hello\"\n",
    "lst  = [2 ,3, 45, \"t5\", \"ew\", 4]"
   ]
  },
  {
   "cell_type": "code",
   "execution_count": null,
   "id": "37fec79f",
   "metadata": {},
   "outputs": [],
   "source": []
  },
  {
   "cell_type": "code",
   "execution_count": null,
   "id": "c996c652",
   "metadata": {},
   "outputs": [],
   "source": []
  },
  {
   "cell_type": "markdown",
   "id": "43f5c155",
   "metadata": {},
   "source": [
    "## Exercise 1.1 (Basic)"
   ]
  },
  {
   "cell_type": "markdown",
   "id": "413d801a",
   "metadata": {},
   "source": [
    "Which of the following options are the correct way to swap two elements `m` and `n`'s values.\n",
    "\n",
    "For example, `m = 3` and `n = 2` initially, and after certain operations, `m = 2` and `n = 3`\n",
    "\n",
    "A. \n",
    "$\\newline m = 3\n",
    "\\newline n = 2\n",
    "\\newline m = n\n",
    "\\newline n = m$\n",
    "\n",
    "B.\n",
    "$\\newline m = 3\n",
    "\\newline n = 2\n",
    "\\newline m = n\n",
    "\\newline temp = m\n",
    "\\newline n = temp$\n",
    "\n",
    "C.\n",
    "$\\newline m = 3\n",
    "\\newline n = 2\n",
    "\\newline temp = n\n",
    "\\newline n = m\n",
    "\\newline m = temp$\n",
    "\n",
    "D.\n",
    "$\\newline m = 3\n",
    "\\newline n = 2\n",
    "\\newline temp = m\n",
    "\\newline n = temp\n",
    "\\newline m = n$\n"
   ]
  },
  {
   "cell_type": "markdown",
   "id": "f169d958",
   "metadata": {},
   "source": [
    "Type your answer here: "
   ]
  },
  {
   "cell_type": "markdown",
   "id": "2dc1da92",
   "metadata": {},
   "source": []
  },
  {
   "cell_type": "markdown",
   "id": "828090a2",
   "metadata": {},
   "source": [
    "## Exercise 2 (Basic)\n",
    "\n",
    "Create one list containing the following:\n",
    "The number `5731`, the string `\"bye\"`, and the boolean `True`"
   ]
  },
  {
   "cell_type": "code",
   "execution_count": null,
   "id": "22857e10",
   "metadata": {},
   "outputs": [],
   "source": []
  },
  {
   "cell_type": "markdown",
   "id": "86830410",
   "metadata": {},
   "source": [
    "## Exercise 3 (Easy)\n",
    "\n",
    "First define two lists:\n",
    "1. `[87, 109, 38]`\n",
    "2. `[\"string1\", \"string2\", \"string3\"]`\n",
    "\n",
    "Assign them to two variables `list1`, `list2`\n",
    "\n",
    "Add the two lists together to create a new list `list3`. Use `print(list3)` to print out `list3`. What happens when you switch the order of addition?"
   ]
  },
  {
   "cell_type": "code",
   "execution_count": null,
   "id": "58c8b679",
   "metadata": {},
   "outputs": [],
   "source": []
  },
  {
   "cell_type": "markdown",
   "id": "019a1b05",
   "metadata": {},
   "source": [
    "## Exercise 4 (Easy)\n",
    "\n",
    "Suppose `list1` is [1, 2, 3]. Use list multiplication to create a new list `list2`, which is [1, 2, 3, 1, 2, 3]. Use `print(list2)` to print out `list2`"
   ]
  },
  {
   "cell_type": "code",
   "execution_count": 2,
   "id": "4c766850",
   "metadata": {},
   "outputs": [],
   "source": [
    "list1 = [1, 2, 3]"
   ]
  },
  {
   "cell_type": "code",
   "execution_count": null,
   "id": "20300081",
   "metadata": {},
   "outputs": [],
   "source": []
  },
  {
   "cell_type": "markdown",
   "id": "b1c7e083",
   "metadata": {},
   "source": [
    "## Exercise 5 (Basic)\n",
    "\n",
    "Suppose that `lst = [2, 5, 2, 5, 9, 7]`, what is `lst[2]`?"
   ]
  },
  {
   "cell_type": "code",
   "execution_count": 3,
   "id": "29a0fc08",
   "metadata": {},
   "outputs": [],
   "source": [
    "lst = [2, 5, 2, 5, 9, 7]"
   ]
  },
  {
   "cell_type": "markdown",
   "id": "62de07ea",
   "metadata": {},
   "source": [
    "Type your answer here:"
   ]
  },
  {
   "cell_type": "markdown",
   "id": "cb37013f",
   "metadata": {},
   "source": [
    "## Exercise 6 (Medium)\n",
    "Suppose that you are given a sorted list `lst = [0 ,2, 3, 5, 7, 21, 837, 3284, 23842934]`, what is the median of this list? Use `len(lst)` to find the length of this list."
   ]
  },
  {
   "cell_type": "code",
   "execution_count": 4,
   "id": "d6981932",
   "metadata": {},
   "outputs": [],
   "source": [
    "lst = [0 ,2, 3, 5, 7, 21, 837, 3284, 23842934]"
   ]
  },
  {
   "cell_type": "code",
   "execution_count": null,
   "id": "bbbbbb62",
   "metadata": {},
   "outputs": [],
   "source": []
  },
  {
   "cell_type": "markdown",
   "id": "9c4a5d0f",
   "metadata": {},
   "source": [
    "## Exercise 7 (Basic)\n",
    "\n",
    "Given a string `st = \"addis coder\"`, find the second to the last char. "
   ]
  },
  {
   "cell_type": "code",
   "execution_count": 5,
   "id": "59fa5b70",
   "metadata": {},
   "outputs": [],
   "source": [
    "st = \"addis coder\""
   ]
  },
  {
   "cell_type": "code",
   "execution_count": null,
   "id": "6bd5e4b5",
   "metadata": {},
   "outputs": [],
   "source": []
  },
  {
   "cell_type": "markdown",
   "id": "0bc8e02d",
   "metadata": {},
   "source": [
    "### 7.1\n",
    "\n",
    "Change the second to the last char of the above `st` to `'i'`, and see if it is possible."
   ]
  },
  {
   "cell_type": "code",
   "execution_count": null,
   "id": "883071db",
   "metadata": {},
   "outputs": [],
   "source": []
  },
  {
   "cell_type": "markdown",
   "id": "8bbcf5f5",
   "metadata": {},
   "source": [
    "## Exercise 8 (Easy)\n",
    "\n",
    "Given a string `st = \"ddkang\"`, remove the first two letters of `st` to create a new string `str1`. Create a second string `str2` from `str1` so that `str2` is `\"daniel kang\"`"
   ]
  },
  {
   "cell_type": "code",
   "execution_count": 6,
   "id": "680d2db1",
   "metadata": {},
   "outputs": [],
   "source": [
    "st = \"ddkang\""
   ]
  },
  {
   "cell_type": "code",
   "execution_count": null,
   "id": "b028dd01",
   "metadata": {},
   "outputs": [],
   "source": []
  },
  {
   "cell_type": "markdown",
   "id": "0c737021",
   "metadata": {},
   "source": [
    "## Exercise 9 (Medium)\n",
    "\n",
    "Given a list `lst = [2 ,3 ,4 ,5, 6]` of odd length, print out the middle three numbers in a new list."
   ]
  },
  {
   "cell_type": "code",
   "execution_count": 7,
   "id": "3870680a",
   "metadata": {},
   "outputs": [],
   "source": [
    "lst = [2 ,3 ,4 ,5, 6]"
   ]
  },
  {
   "cell_type": "code",
   "execution_count": null,
   "id": "1487a083",
   "metadata": {},
   "outputs": [],
   "source": []
  },
  {
   "cell_type": "markdown",
   "id": "91de1e40",
   "metadata": {},
   "source": [
    "## Exercise 10 (Basic)\n",
    "\n",
    "Suppose that you have a dictionary `dic = {\"Daniel\": \"San Fransisco\", \"Nati\": \"Addis Ababa\", \"Jelani\": \"Cambridge\" }`. Find `\"Jelani\"`'s city."
   ]
  },
  {
   "cell_type": "code",
   "execution_count": 8,
   "id": "faa7212f",
   "metadata": {},
   "outputs": [],
   "source": [
    "dic = {\"Daniel\": \"San Fransisco\", \"Nati\": \"Addis Ababa\", \"Jelani\": \"Cambridge\" }"
   ]
  },
  {
   "cell_type": "code",
   "execution_count": null,
   "id": "83eb5090",
   "metadata": {},
   "outputs": [],
   "source": []
  },
  {
   "cell_type": "markdown",
   "id": "9bcff608",
   "metadata": {},
   "source": [
    "### 10.1\n",
    "\n",
    "Suppose that you have a dictionary `dic = {\"Daniel\": \"San Fransisco\", \"Nati\": \"Addis Ababa\", \"Jelani\": \"Cambridge\" }`. Change `\"Jelani\"`'s city to  `\"Berkeley\"`."
   ]
  },
  {
   "cell_type": "code",
   "execution_count": 9,
   "id": "35cc46d5",
   "metadata": {},
   "outputs": [],
   "source": [
    "dic = {\"Daniel\": \"San Fransisco\", \"Nati\": \"Addis Ababa\", \"Jelani\": \"Cambridge\" }"
   ]
  },
  {
   "cell_type": "code",
   "execution_count": null,
   "id": "1d085fd8",
   "metadata": {},
   "outputs": [],
   "source": []
  },
  {
   "cell_type": "markdown",
   "id": "4b21d72a",
   "metadata": {},
   "source": [
    "### 10.2\n",
    "\n",
    "Print the length of `dic`."
   ]
  },
  {
   "cell_type": "code",
   "execution_count": null,
   "id": "8d5558db",
   "metadata": {},
   "outputs": [],
   "source": []
  },
  {
   "cell_type": "markdown",
   "id": "49887183",
   "metadata": {},
   "source": [
    "### 10.3\n",
    "Print the keys of `dic` as a list"
   ]
  },
  {
   "cell_type": "code",
   "execution_count": null,
   "id": "26ade0b2",
   "metadata": {},
   "outputs": [],
   "source": []
  },
  {
   "cell_type": "markdown",
   "id": "39a9ccad",
   "metadata": {},
   "source": [
    "## Exercise 11 (Basic)\n",
    "\n",
    "Suppose you have a list of 3 numbers `lst = [1, 3, -4]`, and you want to negate the elements of the list to get `[-1, -3, 4]`. Create a new list containing the negated elements of `lst` (in such a way that your code works even if the values of the entries are different)!"
   ]
  },
  {
   "cell_type": "code",
   "execution_count": 10,
   "id": "3fcbb53f",
   "metadata": {},
   "outputs": [],
   "source": [
    "lst = [1, 3, -4]"
   ]
  },
  {
   "cell_type": "code",
   "execution_count": null,
   "id": "d550710c",
   "metadata": {},
   "outputs": [],
   "source": []
  },
  {
   "cell_type": "markdown",
   "id": "60871abe",
   "metadata": {},
   "source": [
    "## Exercise 12 (Medium)\n",
    "\n",
    "Suppose you have a nested list `lst = [[\"addis\", 1, 3, [\"coder\"]], [237894, \"ajhfoiah\"]]`.\n",
    "- What's the type of `lst[0]`?\n",
    "- What's the value of `lst[0][0]`?\n",
    "- Print out the element `\"coder\"` from this list."
   ]
  },
  {
   "cell_type": "markdown",
   "id": "ba2a81a7",
   "metadata": {},
   "source": [
    "Type your answer here: "
   ]
  },
  {
   "cell_type": "markdown",
   "id": "4b26aee8",
   "metadata": {},
   "source": [
    "Type your answer here: "
   ]
  },
  {
   "cell_type": "code",
   "execution_count": 11,
   "id": "b640b7c2",
   "metadata": {},
   "outputs": [],
   "source": [
    "lst = [[\"addis\", 1, 3, [\"coder\"]], [237894, \"ajhfoiah\"]]"
   ]
  },
  {
   "cell_type": "code",
   "execution_count": null,
   "id": "00c5423a",
   "metadata": {},
   "outputs": [],
   "source": []
  },
  {
   "cell_type": "markdown",
   "id": "f5c15468",
   "metadata": {},
   "source": [
    "## Exercise 13 (Easy)\n",
    "\n",
    "You can put lists inside of lists to create a matrix, like:\n",
    "\n",
    "\n",
    "```\n",
    "matrix = [[1, 2, 3], [4, 5, 6], [7, 8, 9]]\n",
    "```\n",
    "\n",
    "to represent\n",
    "\n",
    "$$\\begin{bmatrix}\n",
    "1&2&3\\\\\n",
    "4&5&6\\\\\n",
    "7&8&9\n",
    "\\end{bmatrix}$$\n",
    "\n",
    "How would you access the entry in the first row, first column (whose value is 1)?"
   ]
  },
  {
   "cell_type": "markdown",
   "id": "5df3a569",
   "metadata": {},
   "source": [
    "Write your answer here: "
   ]
  },
  {
   "cell_type": "markdown",
   "id": "1e5a8fae",
   "metadata": {},
   "source": [
    "How would you access the entry whose value is 8?"
   ]
  },
  {
   "cell_type": "markdown",
   "id": "c2c374b3",
   "metadata": {},
   "source": [
    "Write your answer here: "
   ]
  },
  {
   "cell_type": "markdown",
   "id": "a223562c",
   "metadata": {},
   "source": [
    "## Exercise 14 (Medium)"
   ]
  },
  {
   "cell_type": "markdown",
   "id": "3e9e9a1b",
   "metadata": {},
   "source": [
    "You are given two **lists of strings** called ```names``` and ```cities```. The **first person** in ```names``` lives in the **last city** in ```cities```, the second person lives in the second to last city, the third lives in the third to last, and so on. Write code to create a third list called ```inOrder``` such that the even indexes (0, 2, 4, etc.) are the names of the people (in order) and that the odd indexes (1, 3, 5, etc.) are the cities. For a person in index $i$, their corresponding city should be in index $i+1$. \n",
    "\n",
    "For example:\n",
    "\n",
    "```python\n",
    "names = [\"Daniel\", \"Nati\", \"Jelani\"]\n",
    "cities = [\"Cambridge\",\"Addis Ababa\", \"San Fransisco\"]\n",
    "```\n",
    "In this case, \n",
    "\n",
    "    - Daniel lives in San Francisco\n",
    "    - Nati lives in Addis Ababa\n",
    "    - Jelani lives Cambridge\n",
    "    \n",
    "    \n",
    "You should create the final list:\n",
    "```python\n",
    "inOrder = [\"Daniel\",\"San Fransisco\", \"Nati\", \"Addis Ababa\", \"Jelani\", \"Cambridge\"]\n",
    "```"
   ]
  },
  {
   "cell_type": "code",
   "execution_count": 16,
   "id": "74ac4a53",
   "metadata": {},
   "outputs": [],
   "source": [
    "names = [\"Timnit\", \"Binam\", \"Basi\"]\n",
    "cities = [\"Harar\", \"Addis Ababa\", \"Gondar\"]"
   ]
  },
  {
   "cell_type": "code",
   "execution_count": null,
   "id": "d6cdbb5a",
   "metadata": {},
   "outputs": [],
   "source": []
  },
  {
   "cell_type": "markdown",
   "id": "ae2daf6e",
   "metadata": {},
   "source": [
    "## While-loops!"
   ]
  },
  {
   "cell_type": "markdown",
   "id": "3d96b814",
   "metadata": {},
   "source": [
    "Note: If your code does not stop running and has an `[*]` on the left, it is in an infinite loop. To get out of this loop, in the top menu, select Kernel -> Interrupt, or press the black square button in the top menu bar."
   ]
  },
  {
   "cell_type": "markdown",
   "id": "33541b60",
   "metadata": {},
   "source": [
    "What happens with the code inside the loop if you write a `while True:` loop? Explain below!"
   ]
  },
  {
   "cell_type": "markdown",
   "id": "28006ebf",
   "metadata": {},
   "source": [
    "**You answer here.**"
   ]
  },
  {
   "cell_type": "markdown",
   "id": "bd921c3a",
   "metadata": {},
   "source": [
    "Try running the code below and see what happens (hint: you might need to use the stop button at the top of the page)."
   ]
  },
  {
   "cell_type": "code",
   "execution_count": null,
   "id": "41f01b6d",
   "metadata": {},
   "outputs": [],
   "source": [
    "i = 0\n",
    "while True:\n",
    "    i += 1\n",
    "    print(i)"
   ]
  },
  {
   "cell_type": "markdown",
   "id": "d9f98d93",
   "metadata": {},
   "source": [
    "What happens with the code inside the loop if you write a `while False:` loop?"
   ]
  },
  {
   "cell_type": "markdown",
   "id": "1c93ff38",
   "metadata": {},
   "source": [
    "**You answer here.**"
   ]
  },
  {
   "cell_type": "code",
   "execution_count": null,
   "id": "0acdf4ff",
   "metadata": {},
   "outputs": [],
   "source": []
  },
  {
   "cell_type": "markdown",
   "id": "a60bb403",
   "metadata": {},
   "source": [
    "## Exercise"
   ]
  },
  {
   "cell_type": "markdown",
   "id": "c4889c13",
   "metadata": {},
   "source": [
    "Use a while loop to print the numbers between `0` to `10` (inclusive on both ends)."
   ]
  },
  {
   "cell_type": "code",
   "execution_count": null,
   "id": "7ffaad7d",
   "metadata": {},
   "outputs": [],
   "source": []
  },
  {
   "cell_type": "markdown",
   "id": "9f13ce1c",
   "metadata": {},
   "source": [
    "Use a while loop to print the **even** numbers between `0` to `10` (inclusive on both ends)."
   ]
  },
  {
   "cell_type": "code",
   "execution_count": null,
   "id": "a54ab4cf",
   "metadata": {},
   "outputs": [],
   "source": []
  },
  {
   "cell_type": "markdown",
   "id": "c7e5aef1",
   "metadata": {},
   "source": [
    "### Exercise\n",
    "\n",
    "When computing 1+2+3+4+..., how many numbers do you need to sum up so that the sum exceeds 1000?\n",
    "\n",
    "Hint: Use a while loop."
   ]
  },
  {
   "cell_type": "code",
   "execution_count": null,
   "id": "5dc92e8b",
   "metadata": {},
   "outputs": [],
   "source": []
  },
  {
   "cell_type": "markdown",
   "id": "f926e35d",
   "metadata": {},
   "source": [
    "### Exercise\n",
    "In each of the following code snippets, there is a mistake. Find it and fix it!<br>\n",
    "Suggestion: First run the code and look at the error message. Fix it and run it again."
   ]
  },
  {
   "cell_type": "code",
   "execution_count": null,
   "id": "3b942eab",
   "metadata": {},
   "outputs": [],
   "source": [
    "# I want to sum up the first 10 square numbers,\n",
    "# but the loop just runs infinitely.\n",
    "i = 1\n",
    "summ = 0\n",
    "while i <= 10:\n",
    "    summ += i**2\n",
    "print(summ)"
   ]
  },
  {
   "cell_type": "code",
   "execution_count": null,
   "id": "341e8ca1",
   "metadata": {},
   "outputs": [],
   "source": [
    "# I want to add (and print) the first few numbers until their sum exceeds 100.\n",
    "# but nothing is being printed\n",
    "total = 0\n",
    "i = 1\n",
    "while total >= 100:\n",
    "    total += i\n",
    "    i += 1\n",
    "    print(i)"
   ]
  },
  {
   "cell_type": "code",
   "execution_count": null,
   "id": "d71b8d1f",
   "metadata": {},
   "outputs": [],
   "source": [
    "# I want to print the first number in my list that's bigger than 10.\n",
    "# But the answer I get, 5, is certainly not bigger than 10.\n",
    "myList = [1,3,9,5,-1,13,5,11,2]\n",
    "number = 0\n",
    "while myList[number] <= 10:\n",
    "    number += 1\n",
    "print(number)"
   ]
  },
  {
   "cell_type": "markdown",
   "id": "56a2a0b8",
   "metadata": {},
   "source": [
    "### Exercise"
   ]
  },
  {
   "cell_type": "markdown",
   "id": "7dccdec5",
   "metadata": {},
   "source": [
    "Let `n = 345323`. Write a code that checks if `n` is prime. Print `\"n is prime\"` if it is, or `\"n is not prime\"` otherwise."
   ]
  },
  {
   "cell_type": "code",
   "execution_count": 12,
   "id": "5214467e",
   "metadata": {},
   "outputs": [],
   "source": [
    "n = 345323"
   ]
  },
  {
   "cell_type": "code",
   "execution_count": null,
   "id": "c9b2b860",
   "metadata": {},
   "outputs": [],
   "source": []
  },
  {
   "cell_type": "markdown",
   "id": "a74cf4c3",
   "metadata": {},
   "source": [
    "### Exercise\n",
    "\n",
    "The <a href=\"https://en.wikipedia.org/wiki/Collatz_conjecture\">Collatz sequence</a> of a number $n$ is defined as follows:<br>\n",
    "- It starts with the number $a_0 = n$ itself\n",
    "- If the $i$th number $a_i$ is even, then the next number $a_{i+1}$ is $\\frac{a_i}{2}$\n",
    "- If the $i$th number $a_i$ is odd, then the next number $a_{i+1}$ is $3\\cdot a_i + 1$\n",
    "- The sequence ends once you reach the number 1.\n",
    "\n",
    "Example: for the number 12, the sequence is: 12, 6, 3, 10, 5, 16, 8, 4, 2, 1.\n",
    "\n",
    "The Collatz conjecture says that whichever number you start with, you'll always reach 1 at some point.\n",
    "\n",
    "Define an integer variable `n` and then use a `while` loop to print out its Collatz sequence!"
   ]
  },
  {
   "cell_type": "code",
   "execution_count": null,
   "id": "bc922a4d",
   "metadata": {},
   "outputs": [],
   "source": []
  },
  {
   "cell_type": "markdown",
   "id": "c9666574",
   "metadata": {},
   "source": [
    "### Exercise"
   ]
  },
  {
   "cell_type": "markdown",
   "id": "34105b32",
   "metadata": {},
   "source": [
    "Suppose that you have `lst = [1, 7, 4, 5, 10, 2, 3, 6, 9, 12]`. Use a while loop to find the first number that is at least 10."
   ]
  },
  {
   "cell_type": "code",
   "execution_count": 14,
   "id": "70a92b64",
   "metadata": {},
   "outputs": [],
   "source": [
    "lst = [1, 7, 4, 5, 10, 2, 3, 6, 9, 12]"
   ]
  },
  {
   "cell_type": "code",
   "execution_count": null,
   "id": "29ff7085",
   "metadata": {},
   "outputs": [],
   "source": []
  },
  {
   "cell_type": "markdown",
   "id": "1988c1a0",
   "metadata": {},
   "source": [
    "### Exercise"
   ]
  },
  {
   "cell_type": "markdown",
   "id": "a9f0d40a",
   "metadata": {},
   "source": [
    "Suppose that you have `lst = [1, 2, 3, 4, 5, 6, 7, 8, 9, 10]`, reverse the list using a while loop."
   ]
  },
  {
   "cell_type": "code",
   "execution_count": 14,
   "id": "89dba1e2",
   "metadata": {},
   "outputs": [],
   "source": [
    "lst = [1, 2, 3, 4, 5, 6, 7, 8, 9, 10]"
   ]
  },
  {
   "cell_type": "code",
   "execution_count": null,
   "id": "ca8bee26",
   "metadata": {},
   "outputs": [],
   "source": []
  },
  {
   "cell_type": "markdown",
   "id": "39561cdd",
   "metadata": {},
   "source": [
    "### Exercise"
   ]
  },
  {
   "cell_type": "markdown",
   "id": "3f96892a",
   "metadata": {},
   "source": [
    "The Fibonnaci sequence is defined as follows: The first two elements in the sequence `f(0)` and `f(1)` are equal to `1`. For every `n>1`, the `n`-th element in the sequence is $$f(n)=f(n-1)+f(n-2).$$\n",
    "Use a while loop to write a code that prints out all the Fibonnaci numbers less than 10000."
   ]
  },
  {
   "cell_type": "code",
   "execution_count": null,
   "id": "c04eee2b",
   "metadata": {},
   "outputs": [],
   "source": []
  }
 ],
 "metadata": {
  "kernelspec": {
   "display_name": "Python 3",
   "language": "python",
   "name": "python3"
  },
  "language_info": {
   "codemirror_mode": {
    "name": "ipython",
    "version": 3
   },
   "file_extension": ".py",
   "mimetype": "text/x-python",
   "name": "python",
   "nbconvert_exporter": "python",
   "pygments_lexer": "ipython3",
   "version": "3.6.9"
  }
 },
 "nbformat": 4,
 "nbformat_minor": 5
}
