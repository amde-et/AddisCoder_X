{
 "cells": [
  {
   "cell_type": "markdown",
   "id": "d5c7d0d7",
   "metadata": {},
   "source": [
    "## Supplementary exercises for Week 1 Day 2 notebook A"
   ]
  },
  {
   "cell_type": "markdown",
   "id": "ad502e87",
   "metadata": {},
   "source": [
    "### Variables"
   ]
  },
  {
   "cell_type": "markdown",
   "id": "82956dc2",
   "metadata": {},
   "source": [
    "For the following exercises, try to answer **without running the code first**. Once you believe you have solved the questions, you may use `print()` to help check your answer. "
   ]
  },
  {
   "cell_type": "markdown",
   "id": "2ff442fc",
   "metadata": {},
   "source": [
    "Q1. What is `a`?"
   ]
  },
  {
   "cell_type": "code",
   "execution_count": null,
   "id": "2a15b52f",
   "metadata": {},
   "outputs": [],
   "source": [
    "a = 3\n",
    "b = 4\n",
    "a = a * b"
   ]
  },
  {
   "cell_type": "markdown",
   "id": "d70a18fe",
   "metadata": {},
   "source": [
    "Type your answer in this cell: "
   ]
  },
  {
   "cell_type": "markdown",
   "id": "9803f64a",
   "metadata": {},
   "source": [
    "---"
   ]
  },
  {
   "cell_type": "markdown",
   "id": "abaa6f33",
   "metadata": {},
   "source": [
    "Q2. What is `c`?"
   ]
  },
  {
   "cell_type": "code",
   "execution_count": null,
   "id": "39d739c9",
   "metadata": {},
   "outputs": [],
   "source": [
    "a = 3\n",
    "b = 6\n",
    "c = b / a\n",
    "a = b % c\n",
    "b = a + b\n",
    "c = b + c"
   ]
  },
  {
   "cell_type": "markdown",
   "id": "bd3c50f0",
   "metadata": {},
   "source": [
    "Type your answer in this cell: "
   ]
  },
  {
   "cell_type": "markdown",
   "id": "3d04da2a",
   "metadata": {},
   "source": [
    "---"
   ]
  },
  {
   "cell_type": "markdown",
   "id": "dae36439",
   "metadata": {},
   "source": [
    "Q3. What is `c`?"
   ]
  },
  {
   "cell_type": "code",
   "execution_count": null,
   "id": "2b8de998",
   "metadata": {},
   "outputs": [],
   "source": [
    "a = 2\n",
    "b = 6\n",
    "c = (a + b) // 3 \n",
    "a = c + a * b\n",
    "b = (c + a) * b\n",
    "c += a + b"
   ]
  },
  {
   "cell_type": "markdown",
   "id": "6ed41086",
   "metadata": {},
   "source": [
    "Type your answer in this cell: "
   ]
  },
  {
   "cell_type": "markdown",
   "id": "63ca6dd3",
   "metadata": {},
   "source": [
    "---"
   ]
  },
  {
   "cell_type": "markdown",
   "id": "c7c9c0f3",
   "metadata": {},
   "source": [
    "Q4. What is length (number of characters) of `full_name`?"
   ]
  },
  {
   "cell_type": "code",
   "execution_count": null,
   "id": "1527db2e",
   "metadata": {},
   "outputs": [],
   "source": [
    "full_name = 'Jelani Nelson'"
   ]
  },
  {
   "cell_type": "markdown",
   "id": "84e89857",
   "metadata": {},
   "source": [
    "Type your answer in this cell: "
   ]
  },
  {
   "cell_type": "markdown",
   "id": "c7782ffd",
   "metadata": {},
   "source": [
    "---"
   ]
  },
  {
   "cell_type": "markdown",
   "id": "ed6057c8",
   "metadata": {},
   "source": [
    "Q5. What is `full_name`?"
   ]
  },
  {
   "cell_type": "code",
   "execution_count": null,
   "id": "3467bdaa",
   "metadata": {},
   "outputs": [],
   "source": [
    "first_name = 'Yeabsira'\n",
    "last_name = 'Driba'\n",
    "full_name = first_name + last_name"
   ]
  },
  {
   "cell_type": "markdown",
   "id": "8ffe66ee",
   "metadata": {},
   "source": [
    "Type your answer in this cell: "
   ]
  },
  {
   "cell_type": "markdown",
   "id": "33391d8b",
   "metadata": {},
   "source": [
    "---"
   ]
  },
  {
   "cell_type": "markdown",
   "id": "07698e90",
   "metadata": {},
   "source": [
    "Q6. Are `full_name` and `concatenated_name` equal?"
   ]
  },
  {
   "cell_type": "code",
   "execution_count": null,
   "id": "d510ce11",
   "metadata": {},
   "outputs": [],
   "source": [
    "full_name = 'Ken Liu'\n",
    "concatenated_name = 'Ken' + 'Liu'"
   ]
  },
  {
   "cell_type": "markdown",
   "id": "03821d74",
   "metadata": {},
   "source": [
    "Type your answer in this cell: "
   ]
  },
  {
   "cell_type": "markdown",
   "id": "5d80fc9a",
   "metadata": {},
   "source": [
    "---"
   ]
  },
  {
   "cell_type": "markdown",
   "id": "7fe162dc",
   "metadata": {},
   "source": [
    "Q7. What is `b`?"
   ]
  },
  {
   "cell_type": "code",
   "execution_count": null,
   "id": "22f830dd",
   "metadata": {},
   "outputs": [],
   "source": [
    "a = 'hello'\n",
    "b = a * 3"
   ]
  },
  {
   "cell_type": "markdown",
   "id": "9ad38b63",
   "metadata": {},
   "source": [
    "Type your answer in this cell: "
   ]
  },
  {
   "cell_type": "markdown",
   "id": "4d31127b",
   "metadata": {},
   "source": [
    "---"
   ]
  },
  {
   "cell_type": "markdown",
   "id": "498de029",
   "metadata": {},
   "source": [
    "Q8. Can we compute `c` without errors? Why or why not?"
   ]
  },
  {
   "cell_type": "code",
   "execution_count": null,
   "id": "2c58698f",
   "metadata": {},
   "outputs": [],
   "source": [
    "a = 'hello'\n",
    "b = 3\n",
    "c = a + b"
   ]
  },
  {
   "cell_type": "markdown",
   "id": "ab878a3b",
   "metadata": {},
   "source": [
    "Type your answer in this cell: "
   ]
  },
  {
   "cell_type": "markdown",
   "id": "202df7a4",
   "metadata": {},
   "source": [
    "--- "
   ]
  },
  {
   "cell_type": "markdown",
   "id": "4a415e12",
   "metadata": {},
   "source": [
    "Q9. What is `a` and its type?"
   ]
  },
  {
   "cell_type": "code",
   "execution_count": null,
   "id": "90dd75dd",
   "metadata": {},
   "outputs": [],
   "source": [
    "a = 'hello'\n",
    "a = a > 'bye'\n",
    "a += 1.0 - False\n",
    "a *= a"
   ]
  },
  {
   "cell_type": "markdown",
   "id": "3dc0a039",
   "metadata": {},
   "source": [
    "---"
   ]
  },
  {
   "cell_type": "markdown",
   "id": "55878495",
   "metadata": {},
   "source": [
    "Q10. The `input()` function (comes directly with Python) allows you to ask the user for input and store it as a variable. For example, if you run the following code, you will be prompted to enter your name, and then the variable `name` will be set to whatever you entered.\n",
    "\n",
    "Task: Write code that asks the user for their name and then prints \"Hello, [name]!\"."
   ]
  },
  {
   "cell_type": "code",
   "execution_count": null,
   "id": "9b076954",
   "metadata": {},
   "outputs": [],
   "source": [
    "# Your code here"
   ]
  },
  {
   "cell_type": "markdown",
   "id": "3d7e2ec7",
   "metadata": {},
   "source": [
    "---"
   ]
  },
  {
   "cell_type": "markdown",
   "id": "51a5ee8e",
   "metadata": {},
   "source": [
    "Q11. Like the previous question, but this time ask the user for their age and then print \"You are born in year [year]\". For example, if the user enters 20, the output should be \"You are born in year 2003\". Watch out for the type of the input!"
   ]
  },
  {
   "cell_type": "code",
   "execution_count": null,
   "id": "14abc29b",
   "metadata": {},
   "outputs": [],
   "source": [
    "# your code here"
   ]
  },
  {
   "cell_type": "markdown",
   "id": "8d966590",
   "metadata": {},
   "source": [
    "---"
   ]
  },
  {
   "cell_type": "markdown",
   "id": "30280b6b",
   "metadata": {},
   "source": [
    "## Conditionals"
   ]
  },
  {
   "cell_type": "markdown",
   "id": "1b7c040f",
   "metadata": {},
   "source": [
    "Q1. Which of the following `if` statements will **not** execute successfully? Why?\n",
    "\n",
    "1.\n",
    "```\n",
    "if (1, 2): print('foo')\n",
    "```\n",
    "\n",
    "2.\n",
    "```\n",
    "if (1, 2):\n",
    "    print('foo')\n",
    "```\n",
    "\n",
    "3.\n",
    "```\n",
    "if (1, 2):\n",
    "            print('foo')\n",
    "```\n",
    "\n",
    "4.\n",
    "```\n",
    "if (1, 2):\n",
    "print('foo')\n",
    "```"
   ]
  },
  {
   "cell_type": "markdown",
   "id": "403e31a6",
   "metadata": {},
   "source": [
    "---"
   ]
  },
  {
   "cell_type": "markdown",
   "id": "44ef097d",
   "metadata": {},
   "source": [
    "Q2. Write some code that takes three numbers as inputs and prints the **largest** one."
   ]
  },
  {
   "cell_type": "code",
   "execution_count": null,
   "id": "dcdbf99e",
   "metadata": {},
   "outputs": [],
   "source": [
    "# your code here"
   ]
  },
  {
   "cell_type": "markdown",
   "id": "c385e231",
   "metadata": {},
   "source": [
    "---"
   ]
  },
  {
   "cell_type": "markdown",
   "id": "304bc9e3",
   "metadata": {},
   "source": [
    "Q3. Write an if statement that checks if a year is a leap year."
   ]
  },
  {
   "cell_type": "code",
   "execution_count": null,
   "id": "5bd7ddb6",
   "metadata": {},
   "outputs": [],
   "source": [
    "year = 2043   \n",
    "# your code here; it should work for any year!"
   ]
  },
  {
   "cell_type": "markdown",
   "id": "d1f7d260",
   "metadata": {},
   "source": [
    "---"
   ]
  },
  {
   "cell_type": "markdown",
   "id": "8d88cf4e",
   "metadata": {},
   "source": [
    "Q4. What will be the output of the following code snippet?\n",
    "\n",
    "```\n",
    "x = 10\n",
    "if x > 5:\n",
    "    print(\"Greater than 5\")\n",
    "elif x > 8:\n",
    "    print(\"Greater than 8\")\n",
    "else:\n",
    "    print(\"Else\")\n",
    "```"
   ]
  },
  {
   "cell_type": "markdown",
   "id": "bb1a63aa",
   "metadata": {},
   "source": [
    "Your answer here:"
   ]
  },
  {
   "cell_type": "markdown",
   "id": "50589042",
   "metadata": {},
   "source": [
    "---"
   ]
  },
  {
   "cell_type": "markdown",
   "id": "3ca7cc0d",
   "metadata": {},
   "source": [
    "Q4. What will be the output of the following code snippet?\n",
    "\n",
    "```\n",
    "x = True\n",
    "y = False\n",
    "z = False\n",
    "\n",
    "if not x or y:\n",
    "    print(\"A\")\n",
    "elif not x or not y and z:\n",
    "    print(\"B\")\n",
    "elif not x or y or not y and x:\n",
    "    print(\"C\")\n",
    "else:\n",
    "    print(\"D\")\n",
    "```"
   ]
  },
  {
   "cell_type": "markdown",
   "id": "49bbea6b",
   "metadata": {},
   "source": [
    "Your answer here:"
   ]
  },
  {
   "cell_type": "markdown",
   "id": "10983e2b",
   "metadata": {},
   "source": [
    "---"
   ]
  },
  {
   "cell_type": "markdown",
   "id": "ee338c36",
   "metadata": {},
   "source": [
    "Q5. What will be the output of the following code?\n",
    "\n",
    "```\n",
    "x = 20\n",
    "if x < 10:\n",
    "    print(\"A\")\n",
    "elif x > 15:\n",
    "    print(\"B\")\n",
    "if x % 2 == 0:\n",
    "    print(\"C\")\n",
    "else:\n",
    "    print(\"D\")\n",
    "```"
   ]
  },
  {
   "cell_type": "markdown",
   "id": "32b42106",
   "metadata": {},
   "source": [
    "Your answer here:"
   ]
  },
  {
   "cell_type": "markdown",
   "id": "ce29adca",
   "metadata": {},
   "source": [
    "---"
   ]
  },
  {
   "cell_type": "markdown",
   "id": "1b7361d1",
   "metadata": {},
   "source": [
    "Q6. What will be the output of the following code?\n",
    "\n",
    "```\n",
    "if 1 + 1 * 3 == 6:\n",
    "    print(\"A\")\n",
    "elif 1 + 1 * 3 == 5:\n",
    "    print(\"B\")\n",
    "else:\n",
    "    print(\"C\")\n",
    "```"
   ]
  },
  {
   "cell_type": "markdown",
   "id": "c101db09",
   "metadata": {},
   "source": [
    "Your answer here:"
   ]
  },
  {
   "cell_type": "markdown",
   "id": "821b7b0f",
   "metadata": {},
   "source": [
    "---"
   ]
  },
  {
   "cell_type": "markdown",
   "id": "06dda1fc",
   "metadata": {},
   "source": [
    "Q7. What will be the output of the following code?\n",
    "\n",
    "```\n",
    "x = 15\n",
    "y = 20\n",
    "if x > 10:\n",
    "    if y > 15:\n",
    "        print(\"A\")\n",
    "    else:\n",
    "        print(\"B\")\n",
    "else:\n",
    "    print(\"C\")\n",
    "```"
   ]
  },
  {
   "cell_type": "markdown",
   "id": "6cf53756",
   "metadata": {},
   "source": [
    "Your answer here:"
   ]
  },
  {
   "cell_type": "markdown",
   "id": "562a4cd6",
   "metadata": {},
   "source": [
    "---"
   ]
  },
  {
   "cell_type": "markdown",
   "id": "5eb90233",
   "metadata": {},
   "source": [
    "Q8 (Hard). What will be the output of the following code?\n",
    "\n",
    "```\n",
    "if 0.1 + 0.1 + 0.1 == 0.3:\n",
    "  print(\"A\")\n",
    "elif 0.1 + 0.1 + 0.1 < 0.3:\n",
    "  print(\"B\")\n",
    "else:\n",
    "  print(\"C\")\n",
    "```"
   ]
  },
  {
   "cell_type": "markdown",
   "id": "d970f7f9",
   "metadata": {},
   "source": [
    "---"
   ]
  },
  {
   "cell_type": "markdown",
   "id": "da03d460",
   "metadata": {},
   "source": [
    "### Exercise\n",
    "\n",
    "Which of the following lines will never be printed, regardless of the value of `a`? (Could be more than one.)"
   ]
  },
  {
   "cell_type": "code",
   "execution_count": null,
   "id": "952c7774",
   "metadata": {},
   "outputs": [],
   "source": [
    "# Answer"
   ]
  },
  {
   "cell_type": "code",
   "execution_count": null,
   "id": "e4afc8eb",
   "metadata": {},
   "outputs": [],
   "source": [
    "a = int(input(\"Some number:\"))\n",
    "if a > 20:\n",
    "    print(\"Big!\")\n",
    "elif a < 0:\n",
    "    print(\"Negative.\")\n",
    "elif a > 30:\n",
    "    print(\"Very Big.\")\n",
    "if a < 0:\n",
    "    print(\"Still negative.\")\n",
    "elif a <= 0:\n",
    "    print(\"Kinda negative.\")\n",
    "    if a == 5:\n",
    "        print(\"Five.\")\n",
    "    if a == -5:\n",
    "        print(\"Minus Five.\")\n",
    "    else:\n",
    "        print(\"Not Minus Five.\")\n",
    "elif a >= 1:\n",
    "    print(\"Nice number.\")\n",
    "else:\n",
    "    print(\"Whatever.\")"
   ]
  },
  {
   "cell_type": "markdown",
   "id": "39f2a927",
   "metadata": {},
   "source": [
    "### Exercise\n",
    "\n",
    "Find an input value so that the output for the two pieces of code below is different!\n",
    "\n",
    "For which range of values is the output different?"
   ]
  },
  {
   "cell_type": "code",
   "execution_count": null,
   "id": "8c2cc8b6",
   "metadata": {},
   "outputs": [],
   "source": [
    "# Answer\n",
    "length ="
   ]
  },
  {
   "cell_type": "code",
   "execution_count": null,
   "id": "23e8af3f",
   "metadata": {},
   "outputs": [],
   "source": [
    "if length < 20:\n",
    "    print(\"A bug!\")\n",
    "if length > 50:\n",
    "    print(\"Snake is loooong...\")\n",
    "elif length >= 20:\n",
    "    print(\"Could be an worm.\")"
   ]
  },
  {
   "cell_type": "code",
   "execution_count": null,
   "id": "661aac83",
   "metadata": {},
   "outputs": [],
   "source": [
    "if length < 20:\n",
    "    print(\"A bug!\")\n",
    "elif length > 50:\n",
    "    print(\"Snake is loooong...\")\n",
    "if length >= 20:\n",
    "    print(\"Could be an worm.\")"
   ]
  },
  {
   "cell_type": "markdown",
   "id": "4a970cb1",
   "metadata": {},
   "source": [
    "### Exercise\n",
    "\n",
    "Without using `elif` or `else`, write some code that, given the same input, prints the exact same output as the code given below.\n",
    "\n",
    "Hint: The logical `and` might come in handy here."
   ]
  },
  {
   "cell_type": "code",
   "execution_count": null,
   "id": "387dcc4e",
   "metadata": {},
   "outputs": [],
   "source": [
    "size = float(input(\"Animal size (in cm):\"))\n",
    "if size < 1:\n",
    "    print(\"That's an ant!\")\n",
    "elif size > 500:\n",
    "    print(\"That's an elephant.\")\n",
    "elif size > 100:\n",
    "    print(\"Is that a lion?\")\n",
    "else:\n",
    "    print(\"That must be a hyena!\")"
   ]
  },
  {
   "cell_type": "code",
   "execution_count": null,
   "id": "05c23da6",
   "metadata": {},
   "outputs": [],
   "source": []
  },
  {
   "cell_type": "markdown",
   "id": "54b80936",
   "metadata": {},
   "source": [
    "### Exercise\n",
    "\n",
    "Without nesting `if`s (i.e. `if`s within an `if` block), write some code that, given the same input, prints the exact same output as the code given below."
   ]
  },
  {
   "cell_type": "code",
   "execution_count": null,
   "id": "4b72b685",
   "metadata": {},
   "outputs": [],
   "source": [
    "width = int(input(\"Width:\"))\n",
    "height = int(input(\"Height:\"))\n",
    "if width > 1:\n",
    "    print(\"That's a good width!\")\n",
    "    if height > 1:\n",
    "        print(\"Perfect size!\")\n",
    "    else:\n",
    "        print(\"Could be a bit taller, but ok.\")\n",
    "else:\n",
    "    print(\"That's too small!\")"
   ]
  },
  {
   "cell_type": "code",
   "execution_count": null,
   "id": "3fab4e68",
   "metadata": {},
   "outputs": [],
   "source": []
  },
  {
   "cell_type": "markdown",
   "id": "88af59c4",
   "metadata": {},
   "source": [
    "### Exercise"
   ]
  },
  {
   "cell_type": "markdown",
   "id": "bcf1b0e5",
   "metadata": {},
   "source": [
    "\n",
    "\n",
    "Body Mass Index (BMI) is a person’s weight in kilograms divided by the square of height in meters.\n",
    "\n",
    "`BMI = weight/ (height)**2`\n",
    "\n",
    "Write a computer program that computes the BMI based on the above formula. Use the value of the `height` and `weight` variables given below to compute BMI and print the message accordingly\n",
    "\n",
    "If the BMI value is:\n",
    "less than 18.5, print \"You are underweight\"\n",
    "between 18.5 and 24.9, print \"You are in healthy range\". \n",
    "greater than 25, print \"You are overweight\". \n"
   ]
  },
  {
   "cell_type": "code",
   "execution_count": null,
   "id": "01781a60",
   "metadata": {},
   "outputs": [],
   "source": []
  },
  {
   "cell_type": "markdown",
   "id": "b52bdc88",
   "metadata": {},
   "source": [
    "#### Extension"
   ]
  },
  {
   "cell_type": "markdown",
   "id": "60192639",
   "metadata": {},
   "source": [
    "Improve your code in the above question, to request for a user input (by using the built-in function 'input()' we discussed above) and get user's height and weight to compute the BMI. \n",
    "\n",
    "If the BMI value is:\n",
    "less than 18.5, print \"You are underweight\"\n",
    "between 18.5 and 24.9, print \"You are in healthy range\". \n",
    "greater than 25, print \"You are overweight\". \n"
   ]
  },
  {
   "cell_type": "code",
   "execution_count": null,
   "id": "63c01de8",
   "metadata": {},
   "outputs": [],
   "source": []
  },
  {
   "cell_type": "markdown",
   "id": "26cb7c57",
   "metadata": {
    "slideshow": {
     "slide_type": "fragment"
    }
   },
   "source": [
    "### Exercise\n",
    "In each of the following code snippets, there is a mistake. Find it and fix it!<br>\n",
    "Suggestion: First run the code and look at the error message. Fix it and run it again."
   ]
  },
  {
   "cell_type": "code",
   "execution_count": null,
   "id": "3c184798",
   "metadata": {},
   "outputs": [],
   "source": [
    "# Want to check if two inputs are\n",
    "import random\n",
    "number = input(\"Give me a string: \")\n",
    "number2 = input(\"Give me another string: \")\n",
    "if number = number2:\n",
    "    print(\"They are equal!\")"
   ]
  },
  {
   "cell_type": "code",
   "execution_count": null,
   "id": "f0716a81",
   "metadata": {},
   "outputs": [],
   "source": [
    "# for a given number, I want to say\n",
    "# whether it is positive, and whether \n",
    "# it is even.\n",
    "# But for some numbers, like 4, it doesn't\n",
    "# tell me that they are even.\n",
    "number = int(input(\"Give me a number\"))\n",
    "if number >= 0:\n",
    "    print(\"number is positive\")\n",
    "elif number % 2 == 0:\n",
    "    print(\"number is even\")"
   ]
  },
  {
   "cell_type": "code",
   "execution_count": null,
   "id": "8a8f5111",
   "metadata": {},
   "outputs": [],
   "source": [
    "# want to compute the area of a rectangle, which is width times length\n",
    "width = 5\n",
    " length = 7\n",
    "area = width*length\n",
    "print(area)"
   ]
  },
  {
   "cell_type": "code",
   "execution_count": null,
   "id": "4e9452a8",
   "metadata": {
    "scrolled": true
   },
   "outputs": [],
   "source": [
    "# want to print a message if number is less than 10\n",
    "x = 15\n",
    "if x < 10:\n",
    "    print(\"x is less than 10\")\n",
    "\tprint(\"because x is\", x)\n",
    "print(\"Goodbye\")"
   ]
  },
  {
   "cell_type": "markdown",
   "id": "8ba4e249",
   "metadata": {},
   "source": [
    "### Casting "
   ]
  },
  {
   "cell_type": "markdown",
   "id": "d14b365b",
   "metadata": {},
   "source": [
    "Q1. What is `b`?"
   ]
  },
  {
   "cell_type": "code",
   "execution_count": null,
   "id": "0d46a87c",
   "metadata": {},
   "outputs": [],
   "source": [
    "a = '1'\n",
    "b = int(a) + 1"
   ]
  },
  {
   "cell_type": "markdown",
   "id": "7c02343f",
   "metadata": {},
   "source": [
    "Type your answer in this cell: "
   ]
  },
  {
   "cell_type": "markdown",
   "id": "c879ea93",
   "metadata": {},
   "source": [
    "---"
   ]
  },
  {
   "cell_type": "markdown",
   "id": "ad1a1587",
   "metadata": {},
   "source": [
    "Q2. What is `b`?"
   ]
  },
  {
   "cell_type": "code",
   "execution_count": null,
   "id": "bad957df",
   "metadata": {},
   "outputs": [],
   "source": [
    "a = 1.33\n",
    "b = int(a)"
   ]
  },
  {
   "cell_type": "markdown",
   "id": "3ef36d7e",
   "metadata": {},
   "source": [
    "Type your answer in this cell: "
   ]
  },
  {
   "cell_type": "markdown",
   "id": "31bb200f",
   "metadata": {},
   "source": [
    "---"
   ]
  },
  {
   "cell_type": "markdown",
   "id": "a7ff08c9",
   "metadata": {},
   "source": [
    "Q3. What is `b`?"
   ]
  },
  {
   "cell_type": "code",
   "execution_count": null,
   "id": "c9c85305",
   "metadata": {},
   "outputs": [],
   "source": [
    "a = 1.9\n",
    "b = int(a)"
   ]
  },
  {
   "cell_type": "markdown",
   "id": "63b5791b",
   "metadata": {},
   "source": [
    "Type your answer in this cell: "
   ]
  },
  {
   "cell_type": "markdown",
   "id": "40114789",
   "metadata": {},
   "source": [
    "---"
   ]
  },
  {
   "cell_type": "markdown",
   "id": "8e353c14",
   "metadata": {},
   "source": [
    "Q4. How can we get `\"hello3\"` in the variable `c`?"
   ]
  },
  {
   "cell_type": "code",
   "execution_count": null,
   "id": "b878d5b4",
   "metadata": {},
   "outputs": [],
   "source": [
    "a = 'hello'\n",
    "b = 3\n",
    "c = ...   # Your code here or below"
   ]
  },
  {
   "cell_type": "markdown",
   "id": "7faad9c8",
   "metadata": {},
   "source": [
    "Type your answer in this cell: "
   ]
  },
  {
   "cell_type": "markdown",
   "id": "f5fd6ea2",
   "metadata": {},
   "source": [
    "---"
   ]
  },
  {
   "cell_type": "markdown",
   "id": "4cf84315",
   "metadata": {},
   "source": [
    "Q5. What is `b`, `c`, `d`, `e`, `f`, and `g`? What is the type of `d`, `e`, `f`, and `g`? (You can check the type of a variable using `type()`; but please work out the answers first.)"
   ]
  },
  {
   "cell_type": "code",
   "execution_count": null,
   "id": "fdfefd34",
   "metadata": {},
   "outputs": [],
   "source": [
    "a = True\n",
    "b = int(a)\n",
    "c = float(a)\n",
    "\n",
    "d = a + b\n",
    "e = b + c\n",
    "f = a + c\n",
    "g = a + b + c"
   ]
  },
  {
   "cell_type": "markdown",
   "id": "5988b8dd",
   "metadata": {},
   "source": [
    "Type your answer in this cell: "
   ]
  },
  {
   "cell_type": "markdown",
   "id": "900c87bd",
   "metadata": {},
   "source": [
    "---"
   ]
  },
  {
   "cell_type": "markdown",
   "id": "57f0f6f8",
   "metadata": {},
   "source": [
    "Q6. What is `a_as_bool`, `b_as_bool`, and `c_as_bool`?"
   ]
  },
  {
   "cell_type": "code",
   "execution_count": null,
   "id": "f0da08b4",
   "metadata": {},
   "outputs": [],
   "source": [
    "a = 1\n",
    "b = 0\n",
    "c = -1\n",
    "a_as_bool = bool(a)\n",
    "b_as_bool = bool(b)\n",
    "c_as_bool = bool(c)"
   ]
  },
  {
   "cell_type": "markdown",
   "id": "e2fbe3ab",
   "metadata": {},
   "source": [
    "Type your answer in this cell: "
   ]
  },
  {
   "cell_type": "markdown",
   "id": "3b1f6c91",
   "metadata": {},
   "source": [
    "---"
   ]
  },
  {
   "cell_type": "markdown",
   "id": "b11a52bb",
   "metadata": {},
   "source": [
    "Q7. What is `a` and `b`?"
   ]
  },
  {
   "cell_type": "code",
   "execution_count": null,
   "id": "c1bbdf63",
   "metadata": {},
   "outputs": [],
   "source": [
    "a = bool('')\n",
    "b = bool('Ken')"
   ]
  },
  {
   "cell_type": "markdown",
   "id": "ce2f8ab1",
   "metadata": {},
   "source": [
    "Type your answer in this cell: "
   ]
  },
  {
   "cell_type": "markdown",
   "id": "b876d7bc",
   "metadata": {},
   "source": [
    "---"
   ]
  },
  {
   "cell_type": "markdown",
   "id": "6cf2546c",
   "metadata": {},
   "source": [
    "Q8. What is `a`?"
   ]
  },
  {
   "cell_type": "code",
   "execution_count": null,
   "id": "f1aa2346",
   "metadata": {},
   "outputs": [],
   "source": [
    "a = bool('  ')"
   ]
  },
  {
   "cell_type": "markdown",
   "id": "89221f77",
   "metadata": {},
   "source": [
    "Type your answer in this cell: "
   ]
  },
  {
   "cell_type": "markdown",
   "id": "343b7d89",
   "metadata": {},
   "source": [
    "---"
   ]
  },
  {
   "cell_type": "markdown",
   "id": "7911c9d2",
   "metadata": {},
   "source": [
    "Q9. What is `a` and `b`?"
   ]
  },
  {
   "cell_type": "code",
   "execution_count": null,
   "id": "7b512869",
   "metadata": {},
   "outputs": [],
   "source": [
    "a = str(False)\n",
    "b = str(bool(-2))"
   ]
  },
  {
   "cell_type": "markdown",
   "id": "139b8c4d",
   "metadata": {},
   "source": [
    "Type your answer in this cell: "
   ]
  },
  {
   "cell_type": "markdown",
   "id": "95b6664a",
   "metadata": {},
   "source": [
    "---"
   ]
  },
  {
   "cell_type": "markdown",
   "id": "68d40aad",
   "metadata": {},
   "source": [
    "Q10. What is `a`, `b`, `c`, `d`? What is the `type` of them?"
   ]
  },
  {
   "cell_type": "code",
   "execution_count": null,
   "id": "aa10e38e",
   "metadata": {},
   "outputs": [],
   "source": [
    "a = True + 1\n",
    "b = False * 10\n",
    "c = True + True - False\n",
    "d = True * 1.0 - 1"
   ]
  },
  {
   "cell_type": "markdown",
   "id": "a5b7835f",
   "metadata": {},
   "source": [
    "Type your answer in this cell: "
   ]
  },
  {
   "cell_type": "markdown",
   "id": "5f60d369",
   "metadata": {},
   "source": [
    "---"
   ]
  },
  {
   "cell_type": "markdown",
   "id": "29ae1588",
   "metadata": {},
   "source": [
    "Q11. What is `a` and `b`? What is the `type` of them?"
   ]
  },
  {
   "cell_type": "code",
   "execution_count": null,
   "id": "d7692fb3",
   "metadata": {},
   "outputs": [],
   "source": [
    "a = True * 10 * 'd'\n",
    "b = False * 5 * 'e'"
   ]
  },
  {
   "cell_type": "markdown",
   "id": "bfe3d592",
   "metadata": {},
   "source": [
    "Type your answer in this cell: "
   ]
  },
  {
   "cell_type": "markdown",
   "id": "7cb5d30f",
   "metadata": {},
   "source": [
    "---"
   ]
  },
  {
   "cell_type": "markdown",
   "id": "600d280d",
   "metadata": {},
   "source": [
    "Q12. What is `a` and `b`?"
   ]
  },
  {
   "cell_type": "code",
   "execution_count": null,
   "id": "29f2502e",
   "metadata": {},
   "outputs": [],
   "source": [
    "a = bool(3.14)\n",
    "b = bool(-0.00000000001)"
   ]
  },
  {
   "cell_type": "markdown",
   "id": "8b54e459",
   "metadata": {},
   "source": [
    "Type your answer in this cell: "
   ]
  },
  {
   "cell_type": "markdown",
   "id": "8dded5c4",
   "metadata": {},
   "source": [
    "---"
   ]
  },
  {
   "cell_type": "markdown",
   "id": "c175e4a2",
   "metadata": {},
   "source": [
    "## More exercises!"
   ]
  },
  {
   "cell_type": "markdown",
   "id": "77f7cfcf",
   "metadata": {},
   "source": [
    "We can encode a point as a list of its two coordinates, for example, `p = [-3, 2]`.\n",
    "\n",
    "Define two points `p0`, `p1`, and consider the rectangle where these points are the opposite points of a rectangle. We will use `p0_x` and `p0_y` as the x and y coordinates of the point; same for `p1_x` and `p1_y`. Compute the area of the rectangle. \n",
    "\n",
    "Example:\n",
    "- `p0_x, p0_y = -1, 1` and `p1_x, p1_y = 4, 11` should give $5*10 = 50$.\n",
    "- `p0_x, p0_y = 1, 1` and `p1_x, p1_y = 5, 4` should give $4*3 = 12$.\n",
    "- `p0_x, p0_y = 5, 4` and `p1_x, p1_y = 1, 1` should give $4*3 = 12$.\n",
    "- `p0_x, p0_y = 1, 4` and `p1_x, p1_y = 5, 1` should give $4*3 = 12$.\n",
    "\n",
    "![](rectangle_coords.png)"
   ]
  },
  {
   "cell_type": "code",
   "execution_count": null,
   "id": "67ebec1c",
   "metadata": {},
   "outputs": [],
   "source": [
    "p0_x, p0_y = -1, 1\n",
    "p1_x, p1_y = 4, 11\n",
    "\n",
    "# Your code here. It should work with any two points!"
   ]
  },
  {
   "cell_type": "markdown",
   "id": "d48035b0",
   "metadata": {},
   "source": [
    "---"
   ]
  },
  {
   "cell_type": "markdown",
   "id": "fe008694",
   "metadata": {},
   "source": [
    "### Exercise"
   ]
  },
  {
   "cell_type": "markdown",
   "id": "87de813d",
   "metadata": {},
   "source": [
    "Define four **integer** variables, `n`, `m`, `upcost`, `downcost`.  We want to know the cost to make `n` a **multiple** of `m`. It costs amount `upcost` for every **increment** ($+$) of 1 and costs amount `downcost` for every **decrement** ($-$) of 1.\n",
    "\n",
    "**Return** the **cheapest** cost to get from `n` to a multiple of `m`.\n",
    "\n",
    "For example:\n",
    "\n",
    "- For `n = 14`, `m = 5`, `upcost = 1`, `downcost = 1` you should give 1 because you can get to 15 (a multiple of 5) with cost 1 and you can get to 10 (a multiple of 5) with cost 4. \n",
    "- For `n = 14`, `m = 5`, `upcost = 20`, `downcost = 1` you should give 4 because you can get to 15 (a multiple of 5) with cost 20 and you can get to 10 (a multiple of 5) with cost 4. "
   ]
  },
  {
   "cell_type": "markdown",
   "id": "b02fafe4",
   "metadata": {
    "slideshow": {
     "slide_type": "fragment"
    }
   },
   "source": [
    "### Exercise\n",
    "In each of the following code snippets, there is a mistake. Find it and fix it!<br>\n",
    "Suggestion: First run the code and look at the error message. Fix it and run it again."
   ]
  },
  {
   "cell_type": "code",
   "execution_count": null,
   "id": "595cce28",
   "metadata": {},
   "outputs": [],
   "source": [
    "# want to compute the area of a triangle. \n",
    "# Formula is half the product of base and height\n",
    "base = 5\n",
    "height = 3\n",
    "area = 0.5*base*heigth\n",
    "print(area)"
   ]
  },
  {
   "cell_type": "code",
   "execution_count": null,
   "id": "c1fd0445",
   "metadata": {},
   "outputs": [],
   "source": [
    "# want to compute the perimeter of a rectangle, which is twice the sum of width and length\n",
    "# I don't get an error, but the answer is wrong. It should be 24\n",
    "width = 5\n",
    "length = 7\n",
    "perimeter = 2*width+length\n",
    "print(perimeter)"
   ]
  },
  {
   "cell_type": "code",
   "execution_count": null,
   "id": "10aa8f9f",
   "metadata": {},
   "outputs": [],
   "source": [
    "# want to compute the area of a circle, which is 3.14 times radius squared\n",
    "radius = 5.2\n",
    "area = 3.14*radius^2\n",
    "print(area)"
   ]
  }
 ],
 "metadata": {
  "kernelspec": {
   "display_name": "Python 3",
   "language": "python",
   "name": "python3"
  },
  "language_info": {
   "codemirror_mode": {
    "name": "ipython",
    "version": 3
   },
   "file_extension": ".py",
   "mimetype": "text/x-python",
   "name": "python",
   "nbconvert_exporter": "python",
   "pygments_lexer": "ipython3",
   "version": "3.6.9"
  }
 },
 "nbformat": 4,
 "nbformat_minor": 5
}
