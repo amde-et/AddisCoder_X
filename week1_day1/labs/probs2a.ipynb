{
 "cells": [
  {
   "cell_type": "markdown",
   "id": "170db53a",
   "metadata": {},
   "source": [
    "# Exercises for day 2a\n",
    "\n",
    "You will be working on a series of exercises for the material covered in lecture 2a.\n",
    "\n",
    "We covered:\n",
    "- Variables\n",
    "- Variable reassignment\n",
    "- Printing\n",
    "- Comments\n",
    "\n",
    "Remember, programming variables are NOT mathematical variables!"
   ]
  },
  {
   "cell_type": "markdown",
   "id": "423df225",
   "metadata": {},
   "source": [
    "## Exercise 1\n",
    "\n",
    "We will start with simple variable exercises. In order to see the value, make sure to put the variable at the end\n",
    "\n",
    "Assign the following values to `x`, one per cell:\n",
    "- `523798`\n",
    "- `True`\n",
    "- `\"this is a string\"`\n",
    "And make sure it's visible in Jupyter!"
   ]
  },
  {
   "cell_type": "code",
   "execution_count": null,
   "id": "309edbac",
   "metadata": {},
   "outputs": [],
   "source": []
  },
  {
   "cell_type": "code",
   "execution_count": null,
   "id": "27c4622f",
   "metadata": {},
   "outputs": [],
   "source": []
  },
  {
   "cell_type": "code",
   "execution_count": null,
   "id": "f1b5b936",
   "metadata": {},
   "outputs": [],
   "source": []
  },
  {
   "cell_type": "markdown",
   "id": "46e42ed4",
   "metadata": {},
   "source": [
    "# Exercise 2\n",
    "\n",
    "We will now focus on variable reassignment. For each of the following code blocks, guess what the output will be. Then, check your answer in Jupyter.\n",
    "\n",
    "1. Code block 1\n",
    "```python\n",
    "x = 7\n",
    "x = 3\n",
    "x\n",
    "```\n",
    "\n",
    "2. Code block 2\n",
    "```python\n",
    "x = 7\n",
    "y = x\n",
    "y\n",
    "```\n",
    "\n",
    "3. Code block 3\n",
    "```python\n",
    "x = 7\n",
    "y = x\n",
    "x\n",
    "```"
   ]
  },
  {
   "cell_type": "code",
   "execution_count": null,
   "id": "fbe8756d",
   "metadata": {},
   "outputs": [],
   "source": []
  },
  {
   "cell_type": "code",
   "execution_count": null,
   "id": "0aefc0ac",
   "metadata": {},
   "outputs": [],
   "source": []
  },
  {
   "cell_type": "code",
   "execution_count": null,
   "id": "449baed1",
   "metadata": {},
   "outputs": [],
   "source": []
  },
  {
   "cell_type": "markdown",
   "id": "8e7f147a",
   "metadata": {},
   "source": [
    "# Exercise 3\n",
    "\n",
    "As with exercise 2, for each of the following code blocks, guess what the output will be. Write your guesses as comments in the code cells below! Then, check your answer in Jupyter.\n",
    "\n",
    "1. Code block 1\n",
    "```python\n",
    "x = 3\n",
    "y = x\n",
    "x = 4\n",
    "y\n",
    "```\n",
    "\n",
    "2. Code block 2\n",
    "```python\n",
    "x = 3\n",
    "y = x\n",
    "x = 4\n",
    "x\n",
    "```"
   ]
  },
  {
   "cell_type": "code",
   "execution_count": null,
   "id": "55e26126",
   "metadata": {},
   "outputs": [],
   "source": [
    "# My guess for y: \n"
   ]
  },
  {
   "cell_type": "code",
   "execution_count": null,
   "id": "88339370",
   "metadata": {},
   "outputs": [],
   "source": [
    "# My guess for x:\n"
   ]
  },
  {
   "cell_type": "markdown",
   "id": "930901f7",
   "metadata": {},
   "source": [
    "# Exercise 4\n",
    "\n",
    "As with exercises 2 and 3, for each of the following code blocks, guess what the output will be.  Write your guesses as comments in the code cells below! Then, check your answer in Jupyter.\n",
    "\n",
    "1. Code block 1\n",
    "```python\n",
    "x = \"hello\"\n",
    "y = \" world\"\n",
    "x + y\n",
    "```\n",
    "\n",
    "2. Code block 2\n",
    "```python\n",
    "x = \"hello\"\n",
    "y = \" world\"\n",
    "z = x + y\n",
    "x = \"bye\"\n",
    "z\n",
    "```\n",
    "\n",
    "3. Code block 3\n",
    "```python\n",
    "x = True\n",
    "y = 3\n",
    "z = x + y\n",
    "z\n",
    "```"
   ]
  },
  {
   "cell_type": "code",
   "execution_count": null,
   "id": "e722307a",
   "metadata": {},
   "outputs": [],
   "source": []
  },
  {
   "cell_type": "code",
   "execution_count": null,
   "id": "e4806b93",
   "metadata": {},
   "outputs": [],
   "source": []
  },
  {
   "cell_type": "code",
   "execution_count": null,
   "id": "518c1f29",
   "metadata": {},
   "outputs": [],
   "source": []
  },
  {
   "cell_type": "markdown",
   "id": "0842b471",
   "metadata": {},
   "source": [
    "## Exercise 5\n",
    "\n",
    "What happens when you try to do a computation with a variable which you have not yet given a value?\n",
    "Run the following code:\n",
    "\n",
    "```python\n",
    "a = 5\n",
    "x = a + b\n",
    "x\n",
    "```"
   ]
  },
  {
   "cell_type": "code",
   "execution_count": null,
   "id": "f130b30d",
   "metadata": {},
   "outputs": [],
   "source": []
  },
  {
   "cell_type": "markdown",
   "id": "bd94029c",
   "metadata": {},
   "source": [
    "What do you need to add to the code so that it does not give an error?"
   ]
  },
  {
   "cell_type": "code",
   "execution_count": null,
   "id": "b23b1842",
   "metadata": {},
   "outputs": [],
   "source": []
  },
  {
   "cell_type": "markdown",
   "id": "37281ace",
   "metadata": {},
   "source": [
    "## Exercise 6"
   ]
  },
  {
   "cell_type": "markdown",
   "id": "284d359e",
   "metadata": {},
   "source": [
    "Given this code:\n",
    "```\n",
    "x = 12\n",
    "y = 5\n",
    "z = y\n",
    "y = 12\n",
    "x = 1 + z\n",
    "z = x + y + z\n",
    "```\n",
    "What is the value of x, y and z?  Write your guesses as comments in the code cells below!\n",
    "\n",
    "Then verify your solution by running the code above and adding a print statement for each of the variables at the end so that you can see the values of the variables."
   ]
  },
  {
   "cell_type": "code",
   "execution_count": null,
   "id": "68715a4d",
   "metadata": {},
   "outputs": [],
   "source": []
  },
  {
   "cell_type": "markdown",
   "id": "70e46aaf",
   "metadata": {
    "colab_type": "text",
    "id": "8c5-cSN-zjOs"
   },
   "source": [
    "## Exercise 7: Variables"
   ]
  },
  {
   "cell_type": "markdown",
   "id": "53e1ce30",
   "metadata": {
    "colab_type": "text",
    "id": "L5UPycg-zjOt"
   },
   "source": [
    "### 7.1\n",
    "Define a variable ```x```, that has a value of ```5```. "
   ]
  },
  {
   "cell_type": "code",
   "execution_count": null,
   "id": "2d23a676",
   "metadata": {
    "colab": {},
    "colab_type": "code",
    "id": "M-7O5a-JzjOv"
   },
   "outputs": [],
   "source": []
  },
  {
   "cell_type": "markdown",
   "id": "afd02c31",
   "metadata": {
    "colab_type": "text",
    "id": "zBVhxkKMzjO2"
   },
   "source": [
    "### 7.2\n",
    "Define a variable ```y```, that has a value of ```x```. "
   ]
  },
  {
   "cell_type": "code",
   "execution_count": null,
   "id": "8982a36c",
   "metadata": {
    "colab": {},
    "colab_type": "code",
    "id": "W5oQ3wyrzjO3"
   },
   "outputs": [],
   "source": []
  },
  {
   "cell_type": "markdown",
   "id": "43ac687b",
   "metadata": {
    "colab_type": "text",
    "id": "iFMa1mHrzjO9"
   },
   "source": [
    "### 7.3\n",
    "What is the value of ```y```? "
   ]
  },
  {
   "cell_type": "code",
   "execution_count": null,
   "id": "7f14c9c1",
   "metadata": {
    "colab": {},
    "colab_type": "code",
    "id": "LmNI_bIazjO-"
   },
   "outputs": [],
   "source": []
  },
  {
   "cell_type": "markdown",
   "id": "8ba3ce4c",
   "metadata": {
    "colab_type": "text",
    "id": "-1a_vMUnzjPD"
   },
   "source": [
    "### 7.4\n",
    "Change ```x``` to ```4```. What is the value of ```y```? "
   ]
  },
  {
   "cell_type": "code",
   "execution_count": null,
   "id": "9fd63f86",
   "metadata": {
    "colab": {},
    "colab_type": "code",
    "id": "zBDjO2KbzjPF"
   },
   "outputs": [],
   "source": []
  },
  {
   "cell_type": "markdown",
   "id": "d3258002",
   "metadata": {
    "colab_type": "text",
    "id": "_s3wCQgGzjPO"
   },
   "source": [
    "### 7.5\n",
    "Define a variable ```z```, that has a value of the sum of ```x``` and ```y```"
   ]
  },
  {
   "cell_type": "code",
   "execution_count": null,
   "id": "ad0415b6",
   "metadata": {
    "colab": {},
    "colab_type": "code",
    "id": "MHIt7cdWzjPQ"
   },
   "outputs": [],
   "source": []
  },
  {
   "cell_type": "markdown",
   "id": "f45480a0",
   "metadata": {
    "colab_type": "text",
    "id": "pPUKjYEfzjPc"
   },
   "source": [
    "### 7.6\n",
    "Assign ```x``` another value, ```12```. What are the values of ```y``` and ```z```? "
   ]
  },
  {
   "cell_type": "code",
   "execution_count": null,
   "id": "51c2bb41",
   "metadata": {
    "colab": {},
    "colab_type": "code",
    "id": "uIJME8kazjPe"
   },
   "outputs": [],
   "source": []
  },
  {
   "cell_type": "markdown",
   "id": "23df224d",
   "metadata": {
    "colab_type": "text",
    "id": "3zdY03w0zjOj"
   },
   "source": [
    "### 7.7\n",
    "Define a variable ```x``` and assign it the value of ```False```,  **but without using the keyword `False`**. \n",
    "\n",
    "Hint: You can do it using one special operator."
   ]
  },
  {
   "cell_type": "code",
   "execution_count": null,
   "id": "ab178761",
   "metadata": {
    "colab": {},
    "colab_type": "code",
    "id": "L94xAZ9Z9aRY"
   },
   "outputs": [],
   "source": []
  },
  {
   "cell_type": "markdown",
   "id": "878e5a63",
   "metadata": {
    "colab_type": "text",
    "id": "OPXbR38HzjPm"
   },
   "source": [
    "## Exercise 8: Tricky variable name"
   ]
  },
  {
   "cell_type": "markdown",
   "id": "0b9ff92d",
   "metadata": {
    "colab_type": "text",
    "id": "JYQFw6qfzjPo"
   },
   "source": [
    "### 8.1\n",
    "Given the following lines of code, what is the value of the variable ```seven```? "
   ]
  },
  {
   "cell_type": "markdown",
   "id": "5cb17b2b",
   "metadata": {
    "colab_type": "text",
    "id": "9m2pdJ4QzjPq"
   },
   "source": [
    "```python\n",
    "seven = 8\n",
    "```"
   ]
  },
  {
   "cell_type": "code",
   "execution_count": null,
   "id": "ca10b7ed",
   "metadata": {
    "colab": {},
    "colab_type": "code",
    "id": "VGKOFVdTzjPs"
   },
   "outputs": [],
   "source": []
  },
  {
   "cell_type": "markdown",
   "id": "06b7ecbe",
   "metadata": {
    "colab_type": "text",
    "id": "AxYGPLMfzjPz"
   },
   "source": [
    "### 8.2\n",
    "Given the following lines of code, are the variables ```shiro``` and ```Shiro``` equivalent? "
   ]
  },
  {
   "cell_type": "code",
   "execution_count": null,
   "id": "d65b85e5",
   "metadata": {
    "colab": {},
    "colab_type": "code",
    "id": "ZwyxT1aEzjP8"
   },
   "outputs": [],
   "source": [
    "shiro = 10\n",
    "Shiro = 12"
   ]
  },
  {
   "cell_type": "markdown",
   "id": "a488400c",
   "metadata": {},
   "source": [
    "How can you look at the values of these variables? Use the `print` function to print the values of both!"
   ]
  },
  {
   "cell_type": "code",
   "execution_count": null,
   "id": "4a7903e2",
   "metadata": {},
   "outputs": [],
   "source": []
  },
  {
   "cell_type": "markdown",
   "id": "dfee85e3",
   "metadata": {},
   "source": [
    "## Exercise 9\n",
    "\n",
    "Look at the following code\n",
    "```python\n",
    "x = 99\n",
    "x /= 10\n",
    "x *= 50\n",
    "y = x\n",
    "y += 5\n",
    "x -= y\n",
    "y %= x\n",
    "\n",
    "```\n",
    "What is ```x``` and ```y```?  Try to do it in your head (or on paper) first and write your guesses as comments in the cell below. Only then try running it with code (use print statements to print the values of `x` and `y`)."
   ]
  },
  {
   "cell_type": "code",
   "execution_count": null,
   "id": "953f4753",
   "metadata": {},
   "outputs": [],
   "source": []
  },
  {
   "cell_type": "markdown",
   "id": "be69dfdb",
   "metadata": {
    "colab_type": "text",
    "id": "5WSDbPAwzjQJ"
   },
   "source": [
    "## Exercise 10: Maths and Increment operations "
   ]
  },
  {
   "cell_type": "markdown",
   "id": "1a1bb665",
   "metadata": {
    "colab_type": "text",
    "id": "Jw5IpadlzjQM"
   },
   "source": [
    "### 10.1\n",
    "Define a variable ```x``` that has the value ```10``` times ```20```.\n"
   ]
  },
  {
   "cell_type": "code",
   "execution_count": null,
   "id": "c89222ec",
   "metadata": {
    "colab": {},
    "colab_type": "code",
    "id": "P9eu6VbqzjQQ"
   },
   "outputs": [],
   "source": []
  },
  {
   "cell_type": "markdown",
   "id": "7a39d0f8",
   "metadata": {
    "colab_type": "text",
    "id": "R_uf0e4SzjQi"
   },
   "source": [
    "### 10.2\n",
    "Now increment `x` by 3."
   ]
  },
  {
   "cell_type": "code",
   "execution_count": null,
   "id": "73be65b6",
   "metadata": {
    "colab": {},
    "colab_type": "code",
    "id": "lirsaov9zjQk"
   },
   "outputs": [],
   "source": []
  },
  {
   "cell_type": "markdown",
   "id": "ec2d6724",
   "metadata": {
    "colab_type": "text",
    "id": "vJsa2wTG58fF"
   },
   "source": [
    "Can you increment `x` by 3 in a different way (using a different operator)?"
   ]
  },
  {
   "cell_type": "code",
   "execution_count": null,
   "id": "d50ab543",
   "metadata": {
    "colab": {},
    "colab_type": "code",
    "id": "q-bb4lFK6Cg9"
   },
   "outputs": [],
   "source": []
  },
  {
   "cell_type": "markdown",
   "id": "1cba8dcd",
   "metadata": {
    "colab_type": "text",
    "id": "MaYucDnfzjRA"
   },
   "source": [
    "### 10.3\n",
    "Find the remainder of ```78``` divided by ```14``` using one operator from lecture. For example - \n",
    "\n",
    "$16 = 5 * 3 + 1$ (1 is the remainder). "
   ]
  },
  {
   "cell_type": "code",
   "execution_count": null,
   "id": "4e87af27",
   "metadata": {
    "colab": {},
    "colab_type": "code",
    "id": "ASBdD-jYzjRK"
   },
   "outputs": [],
   "source": []
  },
  {
   "cell_type": "markdown",
   "id": "7661c3b1",
   "metadata": {
    "colab_type": "text",
    "id": "4qmkRp6PzjRS"
   },
   "source": [
    "### 10.4\n",
    "Given ```x```, make ```x``` 10 times smaller using one operation. Return a value that has the type ```int```. "
   ]
  },
  {
   "cell_type": "code",
   "execution_count": null,
   "id": "dcdf7f74",
   "metadata": {
    "colab": {},
    "colab_type": "code",
    "id": "3LvyQaJxzjRT"
   },
   "outputs": [],
   "source": []
  },
  {
   "cell_type": "markdown",
   "id": "78358771",
   "metadata": {
    "colab_type": "text",
    "id": "g1zA998VzjRz"
   },
   "source": [
    "### 10.5\n",
    "Write one line of code each that modifies the variable containing `\"Shiro\"` so that it contains the new value\n",
    "\n",
    "a. ```\"ShiroShiroShiro\"```\n",
    "\n",
    "b. ```\"Shiro3\"```"
   ]
  },
  {
   "cell_type": "code",
   "execution_count": null,
   "id": "fb0b87ad",
   "metadata": {},
   "outputs": [],
   "source": [
    "shiro = \"Shiro\"\n",
    "# Add one line of code here that modifies shiro"
   ]
  },
  {
   "cell_type": "code",
   "execution_count": null,
   "id": "5bf01c3d",
   "metadata": {},
   "outputs": [],
   "source": [
    "shiro = \"Shiro\"\n",
    "# Add one line of code here that modifies shiro"
   ]
  },
  {
   "cell_type": "markdown",
   "id": "77e23393",
   "metadata": {},
   "source": [
    "## Exercise 11: Commenting code\n",
    "\n",
    "The following code computes the area of the shape below. \n",
    "\n",
    "![](shape.png)\n",
    "\n",
    "However, it is not very easy to understand what happens in each line. Add a comment at the end of each line explaining what is going on!"
   ]
  },
  {
   "cell_type": "code",
   "execution_count": null,
   "id": "b82a2c11",
   "metadata": {},
   "outputs": [],
   "source": [
    "a = 3\n",
    "s = 3**2\n",
    "d = 0.5*3.14*(a/2)**2\n",
    "t = 3**0.5 / 4 * a**2\n",
    "aa = s + d + t\n",
    "aa"
   ]
  },
  {
   "cell_type": "markdown",
   "id": "45ed78c2",
   "metadata": {},
   "source": [
    "Adding comments to complicated code is generally good practice, because it helps other people (and also yourself if you read your code in the future) to understand your code more easily.\n",
    "\n",
    "One other thing that helps make code easier to understand is to use variable names that represent what is stored in the variable. For example, instead of `aa`, you could use `total_area`. Copy the code from above and rename the variables that are used in the code to make it easier to understand!"
   ]
  },
  {
   "cell_type": "markdown",
   "id": "d4f01089",
   "metadata": {},
   "source": [
    "# Conditionals\n",
    "\n",
    "Conditionals refers to `if`, `elif`, `else` statements, which the next few exercises are about.\n",
    "\n",
    "<hr>\n",
    "\n",
    "## Exercise 12\n",
    "\n",
    "Define a list `l`. Write code that prints \"This list is empty\" if the list is empty (has no elements), and \"This list has N elements\" (where N is the number of elements) otherwise. Make sure your code works even if you change `l`."
   ]
  },
  {
   "cell_type": "code",
   "execution_count": null,
   "id": "80f579a7",
   "metadata": {
    "colab_type": "text",
    "id": "xaRSaQ7kzjRh"
   },
   "outputs": [],
   "source": []
  },
  {
   "cell_type": "markdown",
   "id": "8bd75615",
   "metadata": {},
   "source": [
    "## Exercise 13\n",
    "\n",
    "Define a **positive floating point** number `x`.\n",
    "\n",
    "Write code that computes and prints the **rounded** version of that `x`. Make sure it works for all values of `x`.\n",
    "\n",
    "Example:\n",
    "- `x = 1.2` --> 1\n",
    "- `x = 12.6` --> 13\n",
    "- `x = 0.5` --> 1\n",
    "\n",
    "Hint: You can **round down** a number by converting it to an integer. Could that be useful here?"
   ]
  },
  {
   "cell_type": "code",
   "execution_count": null,
   "id": "37229ae6",
   "metadata": {},
   "outputs": [],
   "source": []
  },
  {
   "cell_type": "markdown",
   "id": "b206835e",
   "metadata": {
    "colab_type": "text",
    "id": "n6GNRgohwkhi"
   },
   "source": [
    "## Exercise 14"
   ]
  },
  {
   "cell_type": "markdown",
   "id": "b9bbe1a2",
   "metadata": {
    "colab_type": "text",
    "id": "W1EgkPa2wkhj"
   },
   "source": [
    "Different **ages** correspond to different **school** in Ethiopia. This shows these categories:\n",
    "\n",
    "    0 - 5     No School\n",
    " \n",
    "    6 - 13    Elementary School     \n",
    "\n",
    "    14 - 18   High School\n",
    "    \n",
    "    19 - 22   University\n",
    "\n",
    "    23 - 100  No School   \n",
    "    "
   ]
  },
  {
   "cell_type": "markdown",
   "id": "c5897b0b",
   "metadata": {
    "colab_type": "text",
    "id": "TVsNVl2ewkhp"
   },
   "source": [
    "Write a variable for Daniel that stores his age (an integer between 0 and 100). \n",
    "\n",
    "Now **using this variable**, how would you write a **conditional** to check if Daniel is in **elementary** school? If this is `True`, **print** the string `\"Elementary School\"`."
   ]
  },
  {
   "cell_type": "code",
   "execution_count": null,
   "id": "5aca0f1b",
   "metadata": {
    "colab": {},
    "colab_type": "code",
    "id": "4_GCPYF7wkhq"
   },
   "outputs": [],
   "source": [
    "# Write code here to verify if Daniel is in \"Elementary School\" using conditionals (`if`, `elif`, `else`)"
   ]
  },
  {
   "cell_type": "markdown",
   "id": "acb02c2d",
   "metadata": {
    "colab_type": "text",
    "id": "RAzlArUcwkhv"
   },
   "source": [
    "Similar to above, how would you write a **conditional** to check if Daniel is in the `\"No School\"` category? Make sure to verify both cases (`\"Elementary School\"` and `\"No School\"`) and if the age is in those ranges, **print** the string `\"No School\"` and `\"Elementary School\"` respectively. "
   ]
  },
  {
   "cell_type": "code",
   "execution_count": null,
   "id": "3b0c8b88",
   "metadata": {
    "colab": {},
    "colab_type": "code",
    "id": "Fho2HC2owkhw"
   },
   "outputs": [],
   "source": [
    "# Write code here to verify if Daniel is in \"Elementary School\" or \"No School\" using conditionals (`if`, `elif`, `else`)"
   ]
  },
  {
   "cell_type": "markdown",
   "id": "210d89b0",
   "metadata": {
    "colab_type": "text",
    "id": "-SnwOJL3wkhy"
   },
   "source": [
    "Write a **conditional** that prints `\"No School\"` if the person is not in school or `\"School\"` if the person is in school."
   ]
  },
  {
   "cell_type": "code",
   "execution_count": null,
   "id": "85a1ed89",
   "metadata": {
    "colab": {},
    "colab_type": "code",
    "id": "7yhHh-iMwkhz"
   },
   "outputs": [],
   "source": []
  },
  {
   "cell_type": "markdown",
   "id": "b63b722d",
   "metadata": {
    "colab_type": "text",
    "id": "ffKowNP4wkh1"
   },
   "source": [
    "Now using the code pieces you just wrote and your knowledge of **conditionals**, write a **conditional** that prints the category of school they are in (string).\n",
    "Test it for different ages to make sure that it works as intended."
   ]
  },
  {
   "cell_type": "code",
   "execution_count": null,
   "id": "d8648da7",
   "metadata": {},
   "outputs": [],
   "source": []
  },
  {
   "cell_type": "markdown",
   "id": "4221513c",
   "metadata": {
    "colab": {},
    "colab_type": "code",
    "id": "a29XjSewwkh1"
   },
   "source": [
    "## Exercise 15"
   ]
  },
  {
   "cell_type": "markdown",
   "id": "30db6a6d",
   "metadata": {},
   "source": [
    "The sign of a number is +1 if the number is positive, -1 if the number is negative, and 0 if it is 0.\n",
    "\n",
    "Define a variable `n1`, and write code that computes and prints its sign"
   ]
  },
  {
   "cell_type": "code",
   "execution_count": null,
   "id": "9e2944e6",
   "metadata": {},
   "outputs": [],
   "source": []
  },
  {
   "cell_type": "markdown",
   "id": "dd86ac9d",
   "metadata": {
    "colab": {},
    "colab_type": "code",
    "id": "ByPI6HfMzjR0"
   },
   "source": [
    "Define another variable `n2`, and write code that computes and prints the absolute value of that number."
   ]
  },
  {
   "cell_type": "code",
   "execution_count": null,
   "id": "e7409343",
   "metadata": {},
   "outputs": [],
   "source": []
  },
  {
   "cell_type": "markdown",
   "id": "65829936",
   "metadata": {},
   "source": [
    "Using the code from above, write code that takes two variables `n1` and `n2` and computes and prints the number `n2` but with the sign of `n1`.\n",
    "\n",
    "Example:\n",
    "- `n1 = 16` and `n2 = -2` --> 2 \n",
    "- `n1 = 16` and `n2 = -14` --> 14 \n",
    "- `n1 = -16` and `n2 = -2` --> -2\n",
    "- `n1 = -16` and `n2 = 2` --> -2\n",
    "- `n1 = 0` and `n2 = 2` --> 0"
   ]
  },
  {
   "cell_type": "code",
   "execution_count": null,
   "id": "2c4fa512",
   "metadata": {},
   "outputs": [],
   "source": []
  }
 ],
 "metadata": {
  "kernelspec": {
   "display_name": "Python 3",
   "language": "python",
   "name": "python3"
  },
  "language_info": {
   "codemirror_mode": {
    "name": "ipython",
    "version": 3
   },
   "file_extension": ".py",
   "mimetype": "text/x-python",
   "name": "python",
   "nbconvert_exporter": "python",
   "pygments_lexer": "ipython3",
   "version": "3.6.9"
  }
 },
 "nbformat": 4,
 "nbformat_minor": 5
}
