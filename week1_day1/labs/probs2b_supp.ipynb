{
 "cells": [
  {
   "cell_type": "markdown",
   "id": "eec95628",
   "metadata": {},
   "source": [
    "## Supplementary exercises for Week 1 Day 2 notebook B"
   ]
  },
  {
   "cell_type": "markdown",
   "id": "f6a0252f",
   "metadata": {},
   "source": [
    "For the following exercises, try to answer **without running the code first**. Once you believe you have solved the questions, you may use `print()` to help check your answer. "
   ]
  },
  {
   "cell_type": "markdown",
   "id": "771e17eb",
   "metadata": {},
   "source": [
    "### Lists"
   ]
  },
  {
   "cell_type": "markdown",
   "id": "ccc0f900",
   "metadata": {},
   "source": [
    "Q1. Print the second element of the list `a`"
   ]
  },
  {
   "cell_type": "code",
   "execution_count": null,
   "id": "1eef6673",
   "metadata": {},
   "outputs": [],
   "source": [
    "a = ['Addis', 'Coder', 2023]"
   ]
  },
  {
   "cell_type": "markdown",
   "id": "d63bd575",
   "metadata": {},
   "source": [
    "Type your answer: "
   ]
  },
  {
   "cell_type": "markdown",
   "id": "7e9e71b1",
   "metadata": {},
   "source": [
    "---"
   ]
  },
  {
   "cell_type": "markdown",
   "id": "0500f1d0",
   "metadata": {},
   "source": [
    "Q2. What is `c` and what is its length?"
   ]
  },
  {
   "cell_type": "code",
   "execution_count": null,
   "id": "64915e28",
   "metadata": {},
   "outputs": [],
   "source": [
    "a = [1]\n",
    "b = [2, 3] \n",
    "c = a + b"
   ]
  },
  {
   "cell_type": "markdown",
   "id": "72e48063",
   "metadata": {},
   "source": [
    "Type your answer: "
   ]
  },
  {
   "cell_type": "markdown",
   "id": "f580a824",
   "metadata": {},
   "source": [
    "---"
   ]
  },
  {
   "cell_type": "markdown",
   "id": "2900f7c1",
   "metadata": {},
   "source": [
    "Q3. What is `b` and what is its length?"
   ]
  },
  {
   "cell_type": "code",
   "execution_count": null,
   "id": "8080616d",
   "metadata": {},
   "outputs": [],
   "source": [
    "a = [1]\n",
    "b = a * 10"
   ]
  },
  {
   "cell_type": "markdown",
   "id": "603326e2",
   "metadata": {},
   "source": [
    "Type your answer: "
   ]
  },
  {
   "cell_type": "markdown",
   "id": "283f9346",
   "metadata": {},
   "source": [
    "---"
   ]
  },
  {
   "cell_type": "markdown",
   "id": "025ca982",
   "metadata": {},
   "source": [
    "Q4. What is in `a` and `b` respectively in the end?"
   ]
  },
  {
   "cell_type": "code",
   "execution_count": null,
   "id": "8aba9c05",
   "metadata": {},
   "outputs": [],
   "source": [
    "a = [1, 2]\n",
    "b = [1, 2]\n",
    "b[1] = 3"
   ]
  },
  {
   "cell_type": "markdown",
   "id": "12f67970",
   "metadata": {},
   "source": [
    "Type your answer: "
   ]
  },
  {
   "cell_type": "markdown",
   "id": "5f5007ed",
   "metadata": {},
   "source": [
    "---"
   ]
  },
  {
   "cell_type": "markdown",
   "id": "8ebb8ead",
   "metadata": {},
   "source": [
    "Q5. What is in `a` and `b` respectively in the end?"
   ]
  },
  {
   "cell_type": "code",
   "execution_count": null,
   "id": "7e214fc7",
   "metadata": {},
   "outputs": [],
   "source": [
    "a = [1, 2]\n",
    "b = a\n",
    "b[1] = 3"
   ]
  },
  {
   "cell_type": "markdown",
   "id": "81f07aad",
   "metadata": {},
   "source": [
    "Type your answer: "
   ]
  },
  {
   "cell_type": "markdown",
   "id": "fe2d1aa5",
   "metadata": {},
   "source": [
    "---"
   ]
  },
  {
   "cell_type": "markdown",
   "id": "cbc94301",
   "metadata": {},
   "source": [
    "Q6. Swap the first and third element of the list `a`"
   ]
  },
  {
   "cell_type": "code",
   "execution_count": null,
   "id": "f8ea2233",
   "metadata": {},
   "outputs": [],
   "source": [
    "a = [3, 4, 5, 6, 7]\n",
    "# `a` should be [5, 4, 3, 6, 7]"
   ]
  },
  {
   "cell_type": "markdown",
   "id": "64fd175c",
   "metadata": {},
   "source": [
    "Type your answer: "
   ]
  },
  {
   "cell_type": "markdown",
   "id": "8fad7f3d",
   "metadata": {},
   "source": [
    "---"
   ]
  },
  {
   "cell_type": "markdown",
   "id": "5c802473",
   "metadata": {},
   "source": [
    "Q7. What is `a` in the end? What is the final length of `a`?"
   ]
  },
  {
   "cell_type": "code",
   "execution_count": null,
   "id": "a9d35c18",
   "metadata": {},
   "outputs": [],
   "source": [
    "a = [4, 5, 6]\n",
    "a[1:] = [1, 2, 3]  # Hint: we are using the \"list slicing\" and this is a slice assignment"
   ]
  },
  {
   "cell_type": "markdown",
   "id": "82d9f16c",
   "metadata": {},
   "source": [
    "Type your answer: "
   ]
  },
  {
   "cell_type": "markdown",
   "id": "0621cd13",
   "metadata": {},
   "source": [
    "---"
   ]
  },
  {
   "cell_type": "markdown",
   "id": "04fcf7f6",
   "metadata": {},
   "source": [
    "Q8. What is `a`, `b`, and `c`?"
   ]
  },
  {
   "cell_type": "code",
   "execution_count": null,
   "id": "58127f72",
   "metadata": {},
   "outputs": [],
   "source": [
    "a = bool([]) * 'hello'\n",
    "b = bool(['hello']) * 'hello'\n",
    "c = bool([False]) * 'hello'"
   ]
  },
  {
   "cell_type": "markdown",
   "id": "eed62467",
   "metadata": {},
   "source": [
    "Type your answer: "
   ]
  },
  {
   "cell_type": "markdown",
   "id": "fda432ee",
   "metadata": {},
   "source": [
    "---"
   ]
  },
  {
   "cell_type": "markdown",
   "id": "c6bb0d25",
   "metadata": {},
   "source": [
    "Q9. What is in lists `b` and `c`? "
   ]
  },
  {
   "cell_type": "code",
   "execution_count": null,
   "id": "e4ba9044",
   "metadata": {},
   "outputs": [],
   "source": [
    "a = [1]\n",
    "b = [2, a]\n",
    "c = [3, a, b]"
   ]
  },
  {
   "cell_type": "markdown",
   "id": "d62e0ce1",
   "metadata": {},
   "source": [
    "Type your answer: "
   ]
  },
  {
   "cell_type": "markdown",
   "id": "edd8b239",
   "metadata": {},
   "source": [
    "---"
   ]
  },
  {
   "cell_type": "markdown",
   "id": "0439e709",
   "metadata": {},
   "source": [
    "Q10. What is the content of `b`?"
   ]
  },
  {
   "cell_type": "code",
   "execution_count": null,
   "id": "b3d49836",
   "metadata": {},
   "outputs": [],
   "source": [
    "a = [1]\n",
    "b = [a] * 5\n",
    "a[0] = 3"
   ]
  },
  {
   "cell_type": "markdown",
   "id": "cc6d581b",
   "metadata": {},
   "source": [
    "Type your answer: "
   ]
  },
  {
   "cell_type": "markdown",
   "id": "277323a0",
   "metadata": {},
   "source": [
    "---"
   ]
  },
  {
   "cell_type": "markdown",
   "id": "90a3ad80",
   "metadata": {},
   "source": [
    "Q11. What is the content of `b`?"
   ]
  },
  {
   "cell_type": "code",
   "execution_count": null,
   "id": "de41718f",
   "metadata": {},
   "outputs": [],
   "source": [
    "a = [1]\n",
    "b = [a, a]\n",
    "a[0] = 3"
   ]
  },
  {
   "cell_type": "markdown",
   "id": "fde6a501",
   "metadata": {},
   "source": [
    "Type your answer: "
   ]
  },
  {
   "cell_type": "markdown",
   "id": "f97daec7",
   "metadata": {},
   "source": [
    "---"
   ]
  },
  {
   "cell_type": "markdown",
   "id": "394c81bf",
   "metadata": {},
   "source": [
    "### Dictionaries"
   ]
  },
  {
   "cell_type": "markdown",
   "id": "df26843e",
   "metadata": {},
   "source": [
    "Q1. Create a dictionary called `prices` where `\"banana\"` is `1` and `\"apple\"` is `3`"
   ]
  },
  {
   "cell_type": "code",
   "execution_count": null,
   "id": "9c2970b8",
   "metadata": {},
   "outputs": [],
   "source": [
    "# your code here"
   ]
  },
  {
   "cell_type": "markdown",
   "id": "24539baa",
   "metadata": {},
   "source": [
    "---"
   ]
  },
  {
   "cell_type": "markdown",
   "id": "a1cb751e",
   "metadata": {},
   "source": [
    "Q2. Now change the price of `\"banana\"` to `10` within the same dictionary `prices` from the previous question"
   ]
  },
  {
   "cell_type": "code",
   "execution_count": null,
   "id": "8da5350d",
   "metadata": {},
   "outputs": [],
   "source": [
    "# your code here"
   ]
  },
  {
   "cell_type": "markdown",
   "id": "e09f36d7",
   "metadata": {},
   "source": [
    "---"
   ]
  },
  {
   "cell_type": "markdown",
   "id": "b56bd213",
   "metadata": {},
   "source": [
    "Q3. Add `\"mango\"` (priced at 50) into the same dict `prices` "
   ]
  },
  {
   "cell_type": "code",
   "execution_count": null,
   "id": "7a874168",
   "metadata": {},
   "outputs": [],
   "source": [
    "# your code here"
   ]
  },
  {
   "cell_type": "markdown",
   "id": "7a9d9478",
   "metadata": {},
   "source": [
    "---"
   ]
  },
  {
   "cell_type": "markdown",
   "id": "981a4ec5",
   "metadata": {},
   "source": [
    "Q4. Read the prices of `\"mango\"` and `\"banana\"` and add them together"
   ]
  },
  {
   "cell_type": "code",
   "execution_count": null,
   "id": "9d1622b7",
   "metadata": {},
   "outputs": [],
   "source": [
    "# your code here"
   ]
  },
  {
   "cell_type": "markdown",
   "id": "40e9d86a",
   "metadata": {},
   "source": [
    "---"
   ]
  },
  {
   "cell_type": "markdown",
   "id": "4fc6952e",
   "metadata": {},
   "source": [
    "Q5. Merge the key-value pairs in dictionary `b` into dictionary `a` to obtain a new dictionary `c`. Note that this means the values of `b` should overwrite the values of `a` if there are any keys in common."
   ]
  },
  {
   "cell_type": "code",
   "execution_count": null,
   "id": "2e0e0e67",
   "metadata": {},
   "outputs": [],
   "source": [
    "a = {'a': 1, 'b': 2, 'c': 3}\n",
    "b = {'a': 10, 'd': 4}"
   ]
  },
  {
   "cell_type": "markdown",
   "id": "6eb94ed3",
   "metadata": {},
   "source": [
    "Type your answer: "
   ]
  },
  {
   "cell_type": "markdown",
   "id": "1663447c",
   "metadata": {},
   "source": [
    "---"
   ]
  },
  {
   "cell_type": "markdown",
   "id": "2b53f426",
   "metadata": {},
   "source": [
    "Q6. What is `b` and `c`?"
   ]
  },
  {
   "cell_type": "code",
   "execution_count": null,
   "id": "1c8bd028",
   "metadata": {},
   "outputs": [],
   "source": [
    "a = {'apple': 3, 'banana': 1}\n",
    "b = 'apple' in a\n",
    "c = 1 in a"
   ]
  },
  {
   "cell_type": "markdown",
   "id": "e9543058",
   "metadata": {},
   "source": [
    "Type your answer: "
   ]
  },
  {
   "cell_type": "markdown",
   "id": "6fd3845f",
   "metadata": {},
   "source": [
    "---"
   ]
  },
  {
   "cell_type": "markdown",
   "id": "d71e0e21",
   "metadata": {},
   "source": [
    "Q7. For the following given dictionary `prices`, change `\"apple\"` to `\"lychee\"` and preserve the price value. (Hint: you can use the `pop` method to remove a key-value pair from a dictionary.)"
   ]
  },
  {
   "cell_type": "code",
   "execution_count": null,
   "id": "39faf428",
   "metadata": {},
   "outputs": [],
   "source": [
    "prices = {'apple': 3, 'banana': 1}"
   ]
  },
  {
   "cell_type": "markdown",
   "id": "d778a828",
   "metadata": {},
   "source": [
    "Type your answer: "
   ]
  },
  {
   "cell_type": "markdown",
   "id": "3b28781b",
   "metadata": {},
   "source": [
    "---"
   ]
  },
  {
   "cell_type": "markdown",
   "id": "2c6b8d39",
   "metadata": {},
   "source": [
    "Q8. The following dictionary `my_list` is a list of dictionaries, and the second dictionary contains the names and ages of people. Print the age of \"Ken\" by indexing `my_list`."
   ]
  },
  {
   "cell_type": "code",
   "execution_count": null,
   "id": "0a772539",
   "metadata": {},
   "outputs": [],
   "source": [
    "my_list = [{'apple': 3, 'banana': 1}, {'Ken': 25, 'Yeabsiro': 21, 'Tony': 20}]"
   ]
  },
  {
   "cell_type": "markdown",
   "id": "3cd840fa",
   "metadata": {},
   "source": [
    "Type your answer: "
   ]
  },
  {
   "cell_type": "markdown",
   "id": "1b6b6673",
   "metadata": {},
   "source": [
    "---"
   ]
  },
  {
   "cell_type": "markdown",
   "id": "d2e578f7",
   "metadata": {},
   "source": [
    "Q9. What is the final content of `my_dict`?"
   ]
  },
  {
   "cell_type": "code",
   "execution_count": null,
   "id": "f4d7b517",
   "metadata": {},
   "outputs": [],
   "source": [
    "a = [1, 2, 3]\n",
    "b = a\n",
    "my_dict = {'list_a': a, 'list_b': b}\n",
    "a[0] = 4"
   ]
  },
  {
   "cell_type": "markdown",
   "id": "7ffb18fb",
   "metadata": {},
   "source": [
    "Type your answer: "
   ]
  },
  {
   "cell_type": "markdown",
   "id": "a0494e14",
   "metadata": {},
   "source": [
    "---"
   ]
  },
  {
   "cell_type": "markdown",
   "id": "6cfd82ee",
   "metadata": {},
   "source": [
    "Q10. What is the content of `dict_1` and `dict_2`?"
   ]
  },
  {
   "cell_type": "code",
   "execution_count": null,
   "id": "31e5d0ae",
   "metadata": {},
   "outputs": [],
   "source": [
    "dict_1 = {'a': 1, 'b': 2}\n",
    "dict_2 = dict_1\n",
    "dict_2['a'] = 3"
   ]
  },
  {
   "cell_type": "markdown",
   "id": "69fc7201",
   "metadata": {},
   "source": [
    "Type your answer: "
   ]
  },
  {
   "cell_type": "markdown",
   "id": "48e22419",
   "metadata": {},
   "source": [
    "---"
   ]
  },
  {
   "cell_type": "markdown",
   "id": "782cbd06",
   "metadata": {},
   "source": [
    "Q11. What is the final content of `my_dict`?"
   ]
  },
  {
   "cell_type": "code",
   "execution_count": null,
   "id": "14e7464c",
   "metadata": {},
   "outputs": [],
   "source": [
    "a = [1, 2, 3]\n",
    "my_dict = {'a': [1, 2, 3]}\n",
    "my_dict['b'] = my_dict['a']\n",
    "a[0] = 5"
   ]
  },
  {
   "cell_type": "markdown",
   "id": "803d70b8",
   "metadata": {},
   "source": [
    "Type your answer: "
   ]
  },
  {
   "cell_type": "markdown",
   "id": "328d00ab",
   "metadata": {},
   "source": [
    "---"
   ]
  },
  {
   "cell_type": "markdown",
   "id": "f312ee6d",
   "metadata": {},
   "source": [
    "Q12. Is the following possible? Why or why not?"
   ]
  },
  {
   "cell_type": "code",
   "execution_count": null,
   "id": "9a4ee52f",
   "metadata": {},
   "outputs": [],
   "source": [
    "a = [1, 2, 3]\n",
    "b = {a : 4}"
   ]
  },
  {
   "cell_type": "markdown",
   "id": "0419793b",
   "metadata": {},
   "source": [
    "Type your answer: "
   ]
  },
  {
   "cell_type": "markdown",
   "id": "82fba869",
   "metadata": {},
   "source": [
    "---"
   ]
  },
  {
   "cell_type": "markdown",
   "id": "10febc6b",
   "metadata": {},
   "source": [
    "Q13. What is the content of `my_dict`?"
   ]
  },
  {
   "cell_type": "code",
   "execution_count": null,
   "id": "76b0976c",
   "metadata": {},
   "outputs": [],
   "source": [
    "my_dict = {1: 'abc', True: 'def'}"
   ]
  },
  {
   "cell_type": "markdown",
   "id": "4e458fc6",
   "metadata": {},
   "source": [
    "Type your answer: "
   ]
  },
  {
   "cell_type": "markdown",
   "id": "3f9db72b",
   "metadata": {},
   "source": [
    "---\n",
    "\n",
    "## More exercises!"
   ]
  },
  {
   "cell_type": "markdown",
   "id": "c38f3c6c",
   "metadata": {},
   "source": [
    "Remember that you can put lists inside of lists to create a matrix.\n",
    "\n",
    "Define a list of lists `M` representing the matrix\n",
    "\n",
    "$$\\begin{bmatrix}\n",
    "1&2\\\\\n",
    "-1&0\n",
    "\\end{bmatrix}$$"
   ]
  },
  {
   "cell_type": "code",
   "execution_count": null,
   "id": "fc0cba47",
   "metadata": {},
   "outputs": [],
   "source": []
  },
  {
   "cell_type": "markdown",
   "id": "692d458a",
   "metadata": {},
   "source": [
    "Create a new nested list whose entries are the negative entries of `M`. Do it in such a way that the code works no matter what the entries of `M` are as long as it is a $2\\times 2$ matrix.\n",
    "\n",
    "$$\\begin{bmatrix}\n",
    "-1&-2\\\\\n",
    "1&0\n",
    "\\end{bmatrix}$$"
   ]
  },
  {
   "cell_type": "code",
   "execution_count": null,
   "id": "0a230623",
   "metadata": {},
   "outputs": [],
   "source": []
  },
  {
   "cell_type": "markdown",
   "id": "44eabf02",
   "metadata": {},
   "source": [
    "Create a new nested list that is the transpose of `M`. Do it in such a way that the code works no matter what the entries of `M` are as long as it is a $2\\times 2$ matrix.\n",
    "\n",
    "For example, for the matrix above you should get\n",
    "\n",
    "$$\\begin{bmatrix}\n",
    "1&-1\\\\\n",
    "2&0\n",
    "\\end{bmatrix}$$"
   ]
  },
  {
   "cell_type": "code",
   "execution_count": null,
   "id": "c08db359",
   "metadata": {},
   "outputs": [],
   "source": []
  },
  {
   "cell_type": "markdown",
   "id": "fa488a1a",
   "metadata": {},
   "source": [
    "---"
   ]
  },
  {
   "cell_type": "markdown",
   "id": "7d412e6e",
   "metadata": {},
   "source": [
    "### Exercise\n",
    "\n",
    "Suppose that you have two matrices\n",
    "$$mat1 = \\begin{bmatrix}\n",
    "        1.329839 & 2.234\\\\\n",
    "        3.112321 & 4.213\\\\\n",
    "        \\end{bmatrix}$$\n",
    "$$mat2 = \\begin{bmatrix}\n",
    "        4.654624 & 3.342\\\\\n",
    "        2.934592 & 1.123\\\\\n",
    "        \\end{bmatrix}$$\n",
    "You can use the following two lists `mat1` and `mat2` to represent above matrices.\n",
    "\n",
    "Create new nested list `mat3` so that its matrix representation is the addition of above two matrices."
   ]
  },
  {
   "cell_type": "code",
   "execution_count": null,
   "id": "80d0a669",
   "metadata": {},
   "outputs": [],
   "source": [
    "mat1 = [[1.329839, 2.234], [3.112321, 4.213]]\n",
    "mat2 = [[4.654624, 3.342], [2.934592, 1.123]]"
   ]
  },
  {
   "cell_type": "markdown",
   "id": "787db95f",
   "metadata": {},
   "source": [
    "\n",
    "Create new nested list `mat4` so that its matrix representation is the multiplication of above two matrices."
   ]
  },
  {
   "cell_type": "code",
   "execution_count": null,
   "id": "fe5e71b3",
   "metadata": {},
   "outputs": [],
   "source": []
  },
  {
   "cell_type": "markdown",
   "id": "2fb87eff",
   "metadata": {},
   "source": [
    "### Exercise\n",
    "\n",
    "Define 4 points `l1`, `r1`, `l2`, `r2`. The first 2 points are the **bottom left** coordinate and **top right** coordinates of the **first rectangle**. The second 2 points are the **bottom left** and **top right** coordinates of the **second rectangle**. \n",
    "\n",
    "Print `True` if the 2 different rectangles overlap, and `False` otherwise.\n",
    "\n",
    "![](rectangle_overlap.png)\n",
    "\n",
    "For example, if `l1 = [2, 2]`, `r1 = [7, 3]`, `l2 = [8, 5]`, `r2 = [9, 7]`, the rectangles do not overlap, so you print `False`."
   ]
  },
  {
   "cell_type": "markdown",
   "id": "2d95c6cc",
   "metadata": {},
   "source": [
    "### Exercise\n",
    "\n",
    "Define a list `l` and write code that prints ```True``` if all the elements in the list **are equal** and ```False``` otherwise. \n",
    "Hint: You can **multiply** lists with integers and you can **compare** two lists to check if they are equal.\n",
    "\n",
    "Examples:\n",
    "- `[1,1,1]` --> True\n",
    "- `[]` --> True\n",
    "- `[1,2]` --> False\n",
    "- `[\"salaam\", \"salaam\"]` --> True"
   ]
  },
  {
   "cell_type": "code",
   "execution_count": null,
   "id": "27a2570d",
   "metadata": {},
   "outputs": [],
   "source": [
    "l = [1, 1, 1]\n",
    "\n",
    "# your code here; it should work with any list `l`!"
   ]
  },
  {
   "cell_type": "markdown",
   "id": "c6103d9e",
   "metadata": {},
   "source": [
    "### Exercise\n",
    "\n",
    "Write code that will ask for a word and a number `i` (using the `input` function).\n",
    "- print the `i`-th letter of the word, but first\n",
    "- if `i` is too small, change `i` so that the first letter is printed and\n",
    "- if `i` is too large, change `i` so that the last letter is printed.\n",
    "\n",
    "_Hint:_ `len(...), int(...)`."
   ]
  },
  {
   "cell_type": "code",
   "execution_count": null,
   "id": "8c1bf233",
   "metadata": {},
   "outputs": [],
   "source": []
  },
  {
   "cell_type": "markdown",
   "id": "3cd95e2d",
   "metadata": {},
   "source": [
    "## While-loops!"
   ]
  },
  {
   "cell_type": "markdown",
   "id": "813602e3",
   "metadata": {},
   "source": [
    "### Exercise"
   ]
  },
  {
   "cell_type": "markdown",
   "id": "f3ee9d3f",
   "metadata": {},
   "source": [
    "Write a while loop that prints out all the prime numbers between `2` and `100`."
   ]
  },
  {
   "cell_type": "code",
   "execution_count": null,
   "id": "d8600727",
   "metadata": {},
   "outputs": [],
   "source": []
  },
  {
   "cell_type": "markdown",
   "id": "e12eca59",
   "metadata": {},
   "source": [
    "### Exercise"
   ]
  },
  {
   "cell_type": "markdown",
   "id": "3ea0975f",
   "metadata": {},
   "source": [
    "Abebe is a billionaire. As a billionaire he doesn't have much time to spend on reading things. He wants to look at his bank account and know how much money he has right away. Unfortunately, the bank's mobile app doesn't use commas to separate digits so we have to help him. Currently the bank's mobile applicaiton says he has `M = 1123456789`amount of money. Can you write a few lines of code to make the amount of money to look like `1,123,456,789`? \n",
    "\n",
    "Use `while` loop to make your code work for any positive amount of money (in other words, assume that `M > 0`).\n",
    "\n",
    "Hint: when should your while loop stop?"
   ]
  },
  {
   "cell_type": "code",
   "execution_count": null,
   "id": "52b11264",
   "metadata": {},
   "outputs": [],
   "source": [
    "M = 1123456789"
   ]
  },
  {
   "cell_type": "code",
   "execution_count": null,
   "id": "78695b77",
   "metadata": {},
   "outputs": [],
   "source": []
  },
  {
   "cell_type": "markdown",
   "id": "b317ef04",
   "metadata": {},
   "source": [
    "### Exercise\n",
    "\n",
    "When computing 1+2+3+4+..., how many numbers do you need to sum up so that the sum exceeds 1000?\n",
    "\n",
    "Hint: Use a while loop."
   ]
  },
  {
   "cell_type": "code",
   "execution_count": null,
   "id": "131a3742",
   "metadata": {},
   "outputs": [],
   "source": []
  },
  {
   "cell_type": "markdown",
   "id": "ee778dbb",
   "metadata": {},
   "source": [
    "### Exercise\n",
    "\n",
    "The <a href=\"https://en.wikipedia.org/wiki/Collatz_conjecture\">Collatz sequence</a> of a number $n$ is defined as follows:<br>\n",
    "- It starts with the number $a_0 = n$ itself\n",
    "- If the $i$th number $a_i$ is even, then the next number $a_{i+1}$ is $\\frac{a_i}{2}$\n",
    "- If the $i$th number $a_i$ is odd, then the next number $a_{i+1}$ is $3\\cdot a_i + 1$\n",
    "- The sequence ends once you reach the number 1.\n",
    "\n",
    "Example: for the number 12, the sequence is: 12, 6, 3, 10, 5, 16, 8, 4, 2, 1.\n",
    "\n",
    "The Collatz conjecture says that whichever number you start with, you'll always reach 1 at some point.\n",
    "\n",
    "Write a program that asks for a number and then uses a `while` loop to print out its Collatz sequence!"
   ]
  },
  {
   "cell_type": "code",
   "execution_count": null,
   "id": "26d47099",
   "metadata": {},
   "outputs": [],
   "source": []
  },
  {
   "cell_type": "markdown",
   "id": "5d59fe8f",
   "metadata": {},
   "source": [
    "### Random numbers\n",
    "\n",
    "`random.randrange(a, b)` is a function to generate a random integer between `a` and `b` (excluding `b` itself, like `range`).\n",
    "\n",
    "To use this function, you first need to import the `random` module by running\n",
    "`import random`\n",
    "in your notebook.\n",
    "Run the code below to generate a random number between 1 and (excluding) 4."
   ]
  },
  {
   "cell_type": "code",
   "execution_count": null,
   "id": "edb75d94",
   "metadata": {
    "scrolled": true
   },
   "outputs": [],
   "source": [
    "import random\n",
    "random.randrange(1, 4)"
   ]
  },
  {
   "cell_type": "markdown",
   "id": "c8c44f8a",
   "metadata": {},
   "source": [
    "### Exercise\n",
    "\n",
    "Add up random numbers between 1 and 10 (exclusive) until their sum exceeds 1000!\n",
    "\n",
    "Use a while loop! Count how many numbers you need and print the result.\n",
    "\n",
    "Extension: Use a while-loop to run this code many times and compute the average!"
   ]
  },
  {
   "cell_type": "code",
   "execution_count": null,
   "id": "64667015",
   "metadata": {},
   "outputs": [],
   "source": []
  },
  {
   "cell_type": "markdown",
   "id": "74b85af6",
   "metadata": {},
   "source": [
    "Now write code to compute the **area** of the overlapping rectangles. If the rectangles do not overlap, print 0."
   ]
  },
  {
   "cell_type": "markdown",
   "id": "0df2cd7d",
   "metadata": {},
   "source": [
    "### Exercise\n",
    "\n",
    "Generate random numbers between 1 and 10 (exclusive) until you get the number 9.\n",
    "\n",
    "Use a while loop! Count how many numbers you need and print the result.\n",
    "\n",
    "Extension: Use a while-loop to run this code many times and compute the average!"
   ]
  },
  {
   "cell_type": "code",
   "execution_count": null,
   "id": "2fc869f6",
   "metadata": {},
   "outputs": [],
   "source": []
  },
  {
   "cell_type": "markdown",
   "id": "13dc82e4",
   "metadata": {},
   "source": [
    "### Exercise"
   ]
  },
  {
   "cell_type": "markdown",
   "id": "cba8e1ef",
   "metadata": {},
   "source": [
    "Sorting a list is making the list goes from smallest number to the biggest one.\n",
    "\n",
    "Bubble sort is a simple sorting procedure that repeatedly steps through the input list element by element, comparing the current element with the one after it, swapping their values if needed. \n",
    "\n",
    "Use this algorithm to sort `lst = [9, 8, 7, 6, 5, 4, 3, 2, 1]`\n",
    "\n",
    "Hint: There are `len(lst)` number of passes, and in each pass we need to iterate through the list to compare every adjcent pair of elements."
   ]
  },
  {
   "cell_type": "code",
   "execution_count": null,
   "id": "9318f4af",
   "metadata": {},
   "outputs": [],
   "source": [
    "lst = [9, 8, 7, 6, 5, 4, 3, 2, 1]"
   ]
  },
  {
   "cell_type": "code",
   "execution_count": null,
   "id": "3e8722fe",
   "metadata": {},
   "outputs": [],
   "source": []
  }
 ],
 "metadata": {
  "kernelspec": {
   "display_name": "Python 3",
   "language": "python",
   "name": "python3"
  },
  "language_info": {
   "codemirror_mode": {
    "name": "ipython",
    "version": 3
   },
   "file_extension": ".py",
   "mimetype": "text/x-python",
   "name": "python",
   "nbconvert_exporter": "python",
   "pygments_lexer": "ipython3",
   "version": "3.7.3"
  }
 },
 "nbformat": 4,
 "nbformat_minor": 5
}
