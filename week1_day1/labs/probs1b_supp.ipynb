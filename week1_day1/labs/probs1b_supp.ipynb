{
 "cells": [
  {
   "cell_type": "markdown",
   "id": "ad786cab",
   "metadata": {},
   "source": [
    "# Exercises for day 1b (Extra)"
   ]
  },
  {
   "cell_type": "markdown",
   "id": "b0b5890e",
   "metadata": {},
   "source": [
    "## Exercise\n",
    "\n",
    "Write code that contains each letter of the alphabet **at most once** and prints:\n",
    "- `chechebsa` (Example below)\n",
    "- `banananight`\n",
    "- `abebe abebe abebe !`"
   ]
  },
  {
   "cell_type": "code",
   "execution_count": null,
   "id": "66c73d52",
   "metadata": {},
   "outputs": [],
   "source": [
    "\"che\" * 2 + \"bsa\""
   ]
  },
  {
   "cell_type": "code",
   "execution_count": null,
   "id": "083f2430",
   "metadata": {},
   "outputs": [],
   "source": []
  },
  {
   "cell_type": "code",
   "execution_count": null,
   "id": "c7c0d6ac",
   "metadata": {},
   "outputs": [],
   "source": []
  },
  {
   "cell_type": "markdown",
   "id": "a08d4437",
   "metadata": {},
   "source": [
    "## Exercise\n",
    "\n",
    "Look at this code doing a computation with multiple steps:\n",
    "\n",
    "```\n",
    "x = 4\n",
    "y = x * 2\n",
    "z = y / (x - 2)\n",
    "z\n",
    "```\n",
    "\n",
    "what is the value of `z`? Verify your solution by running the code above.\n",
    "\n",
    "Note: We put `z` on the last line so that we can see the value of `z` at the end. When you execute a cell, you always see the value of the last expression in that cell."
   ]
  },
  {
   "cell_type": "code",
   "execution_count": null,
   "id": "8f2f0a85",
   "metadata": {},
   "outputs": [],
   "source": []
  },
  {
   "cell_type": "markdown",
   "id": "d0a24d54",
   "metadata": {},
   "source": [
    "### Exercise\n",
    "\n",
    "What happens if we swap the first two lines, like this:\n",
    "    \n",
    "```\n",
    "y = x * 2\n",
    "x = 4\n",
    "z = y / (x - 2)\n",
    "z\n",
    "```\n",
    "\n",
    "Why?"
   ]
  },
  {
   "cell_type": "code",
   "execution_count": null,
   "id": "379d28ed",
   "metadata": {},
   "outputs": [],
   "source": []
  },
  {
   "cell_type": "markdown",
   "id": "046c44d6",
   "metadata": {},
   "source": [
    "### Exercise \n",
    "\n",
    "Given this code:\n",
    "```\n",
    "d = 1\n",
    "c = d\n",
    "b = c\n",
    "a = b\n",
    "```\n",
    "what is the value of a? Verify your solution by running the code above.\n",
    "\n",
    "Note: You may not see any output. Why is that? (Look at the previous two exercises.) Add another line so that you can see the value of `a`."
   ]
  },
  {
   "cell_type": "code",
   "execution_count": null,
   "id": "103d768d",
   "metadata": {},
   "outputs": [],
   "source": []
  },
  {
   "cell_type": "markdown",
   "id": "1261fa1b",
   "metadata": {},
   "source": [
    "### Exercise\n",
    "\n",
    "Given this code:\n",
    "```\n",
    "x = 12\n",
    "y = 5\n",
    "z = y\n",
    "y = 12\n",
    "x = 1\n",
    "z = x + y + z\n",
    "z\n",
    "```\n",
    "what is the value of z? Verify your solution by running the code above."
   ]
  },
  {
   "cell_type": "code",
   "execution_count": null,
   "id": "d78dfef1",
   "metadata": {},
   "outputs": [],
   "source": []
  },
  {
   "cell_type": "markdown",
   "id": "ec3742a8",
   "metadata": {},
   "source": [
    "### Exercise\n",
    "\n",
    "Given this code:\n",
    "\n",
    "```\n",
    "exp = 10/2*4\n",
    "exp = exp**2/4\n",
    "exp\n",
    "```\n",
    "\n",
    "what is the value of `exp`? Verify your solution by running the code above.\n",
    "\n",
    "Note: Here you see that variables can have names with multiple letters."
   ]
  },
  {
   "cell_type": "code",
   "execution_count": null,
   "id": "c30c5cb1",
   "metadata": {},
   "outputs": [],
   "source": []
  },
  {
   "cell_type": "markdown",
   "id": "4a186c24",
   "metadata": {},
   "source": [
    "## Exercise\n",
    "\n",
    "Consider a circle of diameter 5 and a rectangle with side lengths 2 and 4. Which one has the larger area? Use a comparison operator to find out.\n",
    "\n",
    "Note: You can approximate $\\pi$ as `3.14`."
   ]
  },
  {
   "cell_type": "code",
   "execution_count": null,
   "id": "c04af888",
   "metadata": {},
   "outputs": [],
   "source": []
  },
  {
   "cell_type": "markdown",
   "id": "ccb2c454",
   "metadata": {},
   "source": [
    "### Exercise\n",
    "\n",
    "Now consider a circle of diameter `d` and a rectangle with side lengths `d-1` and `d+1`. Which one has the larger area? Does it depend on `d`?\n",
    "\n",
    "It is tedious to rewrite the comparison from the previous exercises repeatedly to replace the value of `d` everywhere. Instead, do the following:\n",
    "\n",
    "Define an integer `d=5`, and write your comparison in terms of `d`. Now change the value of `d` and run your code again to explore the behavior of these areas."
   ]
  },
  {
   "cell_type": "code",
   "execution_count": null,
   "id": "463d8bf7",
   "metadata": {},
   "outputs": [],
   "source": []
  },
  {
   "cell_type": "markdown",
   "id": "d476b08e",
   "metadata": {},
   "source": [
    "## Exercise "
   ]
  },
  {
   "cell_type": "markdown",
   "id": "d9278827",
   "metadata": {},
   "source": [
    "Let's say you roll a toy car off of a perfectly horizontal table at a speed of $v = 2m/s$. The table is $h = 1 m$ tall measured from the ground. How far from the table would the car go before reaching the ground? Find this distance $d$! You can assume gravity is $9.81 m/s^2 $\n",
    "\n",
    "![](toycar.png)"
   ]
  },
  {
   "cell_type": "markdown",
   "id": "76e28851",
   "metadata": {},
   "source": [
    "Step 1: Compute $t$, the time taken until the car hits the ground."
   ]
  },
  {
   "cell_type": "code",
   "execution_count": null,
   "id": "5851e147",
   "metadata": {},
   "outputs": [],
   "source": []
  },
  {
   "cell_type": "markdown",
   "id": "73e4a7c6",
   "metadata": {},
   "source": [
    "Step 2: Using the value of $t$, now compute the distance $d$."
   ]
  },
  {
   "cell_type": "code",
   "execution_count": null,
   "id": "e89f9ba8",
   "metadata": {},
   "outputs": [],
   "source": []
  },
  {
   "cell_type": "markdown",
   "id": "52383025",
   "metadata": {},
   "source": [
    "### Exercise\n",
    "\n",
    "If you want to compute $d$ for different values of $h$ and $v$, you have to rewrite the computations from above. You can use variables to avoid that, as follows:\n",
    "\n",
    "```\n",
    "g = 9.81\n",
    "h = 1\n",
    "v = 2\n",
    "```\n",
    "\n",
    "Write the expression for $t$, the time taken until the car hits the ground, as an expession using $g$, $h$ and $v$."
   ]
  },
  {
   "cell_type": "code",
   "execution_count": null,
   "id": "9dae029f",
   "metadata": {},
   "outputs": [],
   "source": []
  },
  {
   "cell_type": "markdown",
   "id": "9aa3b558",
   "metadata": {},
   "source": [
    "We can save this computed value of $t$ in a variables as well. Take the code below, and insert your answer from above for t.\n",
    "\n",
    "```\n",
    "g = 9.81\n",
    "h = 1\n",
    "v = 2\n",
    "t = [insert your answer from above]\n",
    "```\n",
    "\n",
    "Add a line at the end with the computation for $d$ (the distance the car travels before hitting the ground) in terms of $t$ and the other variables."
   ]
  },
  {
   "cell_type": "code",
   "execution_count": null,
   "id": "ddc7c464",
   "metadata": {},
   "outputs": [],
   "source": []
  },
  {
   "cell_type": "markdown",
   "id": "7686224e",
   "metadata": {},
   "source": [
    "Change the values of $v$ and $h$ and run the your code from above again. Now you can solve this question for different values of $v$ and $h$!"
   ]
  },
  {
   "cell_type": "markdown",
   "id": "5a4acaab",
   "metadata": {},
   "source": [
    "## Exercise "
   ]
  },
  {
   "cell_type": "markdown",
   "id": "67b088e5",
   "metadata": {},
   "source": [
    "Abebe is a billionaire. As a billionaire he doesn't have much time to spend on reading things. He wants to look at his bank account and know how much money he has right away. Unfortunately, the bank's mobile app doesn't use commas to separate digits so we have to help him. Currently the bank's mobile applicaiton says he has `M=1123456789`amount of money. Can you write a few lines of code to make the amount of money to look like `1,123,456,789`? Make your code work for any billionaire who is not a trillionaire (in other words, assume that `1000000000<M<1000000000000`)."
   ]
  },
  {
   "cell_type": "code",
   "execution_count": null,
   "id": "d99d9550",
   "metadata": {},
   "outputs": [],
   "source": []
  },
  {
   "cell_type": "markdown",
   "id": "459ac691",
   "metadata": {},
   "source": [
    "## Exercise\n",
    "\n",
    "Recall the question from this morning's lab about extracting the lowest, second lowest, third lowest, etc... digit from the number 48756378291.\n",
    "\n",
    "For each case, you had to write a new line of code, and if you wanted to do this for a different number, you would have to write new code again.\n",
    "\n",
    "Define two variables, `n` and `k` as `n=48756378291` and `k=3`, and then write an expression using `n` and `k` that extracts the `k`-th lowest digit of `n`. When you change `n` and/or `k` and run your code again, do you always get the correct digit?"
   ]
  },
  {
   "cell_type": "code",
   "execution_count": null,
   "id": "b6c2ff2d",
   "metadata": {},
   "outputs": [],
   "source": []
  },
  {
   "cell_type": "markdown",
   "id": "cdf23088",
   "metadata": {},
   "source": [
    "### Exercise\n",
    "\n",
    "Again, define `n` and `k` as before, but this time write an expression that given `n` but with its `k`-th lowest digit set to 0.\n",
    "\n",
    "Example:\n",
    "For `n=48756378291` and `k=3`, you should give 48756378**0**91."
   ]
  },
  {
   "cell_type": "code",
   "execution_count": null,
   "id": "f7301d12",
   "metadata": {},
   "outputs": [],
   "source": []
  },
  {
   "cell_type": "markdown",
   "id": "32dcdb6a",
   "metadata": {},
   "source": [
    "### Exercise\n",
    "\n",
    "In addition to `n` and `k`, this time also define a variable `e`, and write an expression that replaces the `k`-th lowest digit of `n` with `e`. as before, but this time write an expression that given n but with its k-th lowest digit set to 0.\n",
    "\n",
    "Example: For `n=48756378291` and `k=3` and `e=7`, you should give 48756378**7**91.\n"
   ]
  },
  {
   "cell_type": "code",
   "execution_count": null,
   "id": "446c8f61",
   "metadata": {},
   "outputs": [],
   "source": []
  }
 ],
 "metadata": {
  "kernelspec": {
   "display_name": "Python 3",
   "language": "python",
   "name": "python3"
  },
  "language_info": {
   "codemirror_mode": {
    "name": "ipython",
    "version": 3
   },
   "file_extension": ".py",
   "mimetype": "text/x-python",
   "name": "python",
   "nbconvert_exporter": "python",
   "pygments_lexer": "ipython3",
   "version": "3.6.9"
  }
 },
 "nbformat": 4,
 "nbformat_minor": 5
}
