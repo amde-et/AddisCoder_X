{
 "cells": [
  {
   "cell_type": "markdown",
   "metadata": {
    "slideshow": {
     "slide_type": "slide"
    }
   },
   "source": [
    "# Monty Hall"
   ]
  },
  {
   "cell_type": "markdown",
   "metadata": {},
   "source": [
    "Implement the following game, known as the <a href=\"https://en.wikipedia.org/wiki/Monty_Hall_problem\">Monty Hall problem</a>, variations of which have appeared in real game shows:\n",
    "\n",
    "You as the player are presented with 3 doors, one of which contains the grand prize (e.g. a car), and 2 of them contain a junk prize (e.g. a goat), but you don't know which contains which.\n",
    "\n",
    "You are asked to pick one of the doors. From the remaining doors, the game master then opens one which contains a junk prize, and asks you if you would like to stick with the door that you picked earlier, or switch to the other remaining door.\n",
    "\n",
    "The door of your choice is then revealed, and you either win the grand prize or a junk prize.\n",
    "\n",
    "_Hints:_\n",
    "\n",
    "- The first part is very similar to the basic \"Guess my number\" game from the first lecture, when the numbers are between 1 and 3 (inclusive), except that you don't immediately reveal whether the guess was correct or not.\n",
    "- To find a door to reveal, you can use a `while` loop which picks a random door until the picked door is neither the door chosen by the player nor the door containing the grand prize.\n",
    "- After asking the player whether to stick with their choice or change, there are only two doors left. Some simple `if/elif/else` should be enough to figure out if the player won the grand prize.\n",
    "\n",
    "Once you're done, play it yourself for a couple of rounds to see if works.\n",
    "\n",
    "Remark: In the 4th session, you will use your code to simulate many rounds of this game and figure out whether it's better to stick with your choice or change it."
   ]
  },
  {
   "cell_type": "code",
   "execution_count": null,
   "metadata": {
    "slideshow": {
     "slide_type": "fragment"
    }
   },
   "outputs": [],
   "source": []
  },
  {
   "cell_type": "markdown",
   "metadata": {},
   "source": [
    "### Exercise (optional):  More than 3 doors\n",
    "\n",
    "We want to make the game more general. Introduce a variable for the number of doors.\n",
    "\n",
    "The first part of the game is as before: The player can choose one of the doors.<br>\n",
    "Now the game master opens all doors except for two: The one the player chose, and one other one. He chooses the doors to be openend in such a way that none of them contain the prize.\n",
    "As before, the computer then asks the player if (s)he wants to stick with their choice or switch to the other remaining door. The game master then proclaims whether the chosen door contains the grand prize or a junk prize."
   ]
  },
  {
   "cell_type": "code",
   "execution_count": null,
   "metadata": {
    "slideshow": {
     "slide_type": "fragment"
    }
   },
   "outputs": [],
   "source": []
  },
  {
   "cell_type": "markdown",
   "metadata": {},
   "source": [
    "### Exercise: Simulation\n",
    "\n",
    "We want to simulate playing the game many times, with the strategy \"always change\" and \"never change\". \n",
    "- Replace the first `input()` with a random door, the second with your strategy.\n",
    "- Wrap everything into a loop to run it 10 times.\n",
    "- Add code to keep count of how many times you won and lost.\n",
    "- Remove/uncomment all the `print` commands.\n",
    "- Run the loop 1000 instead of 10 times.\n",
    "- Print the number of times you got the main prize, and the number of times you got the trash prize.\n",
    "\n",
    "Hint: Select a block and press TAB to indent it, Shift+TAB to unindent it, Ctrl+/ to comment it in/out."
   ]
  },
  {
   "cell_type": "code",
   "execution_count": null,
   "metadata": {},
   "outputs": [],
   "source": []
  },
  {
   "cell_type": "markdown",
   "metadata": {},
   "source": [
    "### Exercise: Simulation with many doors\n",
    "\n",
    "For each number of doors from 3 to 10, run the simulation above and print the results."
   ]
  },
  {
   "cell_type": "code",
   "execution_count": null,
   "metadata": {},
   "outputs": [],
   "source": []
  }
 ],
 "metadata": {
  "kernelspec": {
   "display_name": "Python 3",
   "language": "python",
   "name": "python3"
  },
  "language_info": {
   "codemirror_mode": {
    "name": "ipython",
    "version": 3
   },
   "file_extension": ".py",
   "mimetype": "text/x-python",
   "name": "python",
   "nbconvert_exporter": "python",
   "pygments_lexer": "ipython3",
   "version": "3.6.9"
  }
 },
 "nbformat": 4,
 "nbformat_minor": 1
}
