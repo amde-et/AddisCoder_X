{
 "cells": [
  {
   "cell_type": "markdown",
   "metadata": {
    "colab_type": "text",
    "id": "fh3TuPnozjDw"
   },
   "source": [
    "# Week 1, Day1 and Part A Extra Exercises "
   ]
  },
  {
   "cell_type": "markdown",
   "metadata": {},
   "source": [
    "# Table of Contents  \n",
    "\n",
    "**Question 1: Use Python As a Calculator**\n",
    "\n",
    "**Question 2: Invalid Operations**\n",
    "\n",
    "**Question 3: Modulus**\n",
    "\n",
    "**Question 4: Taylor Series**"
   ]
  },
  {
   "cell_type": "markdown",
   "metadata": {
    "colab_type": "text",
    "id": "PjxbdiutzjEX"
   },
   "source": [
    "## Question 1: Use Python As a Calculator"
   ]
  },
  {
   "cell_type": "markdown",
   "metadata": {},
   "source": [
    "### 1.1\n",
    "\n",
    "Explain why `1.0` is different from `1`.\n",
    "\n",
    "\n",
    "\n"
   ]
  },
  {
   "cell_type": "markdown",
   "metadata": {},
   "source": [
    "Type Here: "
   ]
  },
  {
   "cell_type": "markdown",
   "metadata": {},
   "source": [
    "### 1.2\n",
    "So, what can you say about the resulting type of adding an ```int``` and a ```float```?"
   ]
  },
  {
   "cell_type": "markdown",
   "metadata": {
    "colab_type": "text",
    "id": "IQnNwnLjzjGS"
   },
   "source": [
    "Type here: "
   ]
  },
  {
   "cell_type": "markdown",
   "metadata": {},
   "source": [
    "### 1.3\n",
    "Use your own words to explain the difference between operator `/` and operator `//`."
   ]
  },
  {
   "cell_type": "markdown",
   "metadata": {
    "colab_type": "text",
    "id": "vakteEunzjFA"
   },
   "source": [
    "Type Here: "
   ]
  },
  {
   "cell_type": "markdown",
   "metadata": {
    "colab_type": "text",
    "id": "yoQwowxQzjEj"
   },
   "source": [
    "### 1.4\n",
    "Which choice has the same answer as the following one? Please calculate by hand.\n",
    "\n",
    "`(3 // 2 ** 2 + 3) / 5`\n",
    "\n",
    "A. `0.75`\n",
    "\n",
    "B. `0.8`\n",
    "\n",
    "C. `0.6`\n",
    "\n",
    "D. `0`"
   ]
  },
  {
   "cell_type": "markdown",
   "metadata": {},
   "source": [
    "Type your answer here: "
   ]
  },
  {
   "cell_type": "markdown",
   "metadata": {},
   "source": [
    "### 1.5\n",
    "Which of the following option has the same value as the following one?\n",
    "\n",
    "`342 // 12 + 23 ** 1 + 23 - 762`\n",
    "\n",
    "A. `(342 // 12 + 23) ** 1 + 23 - 762`\n",
    "\n",
    "B. `342 // (12 + 23) ** 1 + 23 - 762`\n",
    "\n",
    "C. `342 // 12 + (23 ** 1) + 23 - 762`\n",
    "\n",
    "D. `342 // 12 + 23 ** (1 + 23) - 762`"
   ]
  },
  {
   "cell_type": "markdown",
   "metadata": {
    "colab_type": "text",
    "id": "lyIE0CqIzjFj"
   },
   "source": [
    "Type your answer here: "
   ]
  },
  {
   "cell_type": "markdown",
   "metadata": {},
   "source": [
    "## Question 2: Invalid Operations"
   ]
  },
  {
   "cell_type": "markdown",
   "metadata": {},
   "source": [
    "### 2.1\n",
    "Fix the following expression. THe expected result is 340.0\n",
    "\n",
    "`3 * * 2 / / 2 + 32/2 x 21`"
   ]
  },
  {
   "cell_type": "markdown",
   "metadata": {
    "colab_type": "text",
    "id": "nlUsy1FBzjHC"
   },
   "source": [
    "Type Here: "
   ]
  },
  {
   "cell_type": "markdown",
   "metadata": {
    "colab_type": "text",
    "id": "vxfbKcPMzjJJ"
   },
   "source": [
    "## Question 3: Modulus "
   ]
  },
  {
   "cell_type": "markdown",
   "metadata": {},
   "source": [
    "### 3.1\n",
    "In your own words, try to explain what modulus is?"
   ]
  },
  {
   "cell_type": "markdown",
   "metadata": {},
   "source": [
    "Type Here: "
   ]
  },
  {
   "cell_type": "markdown",
   "metadata": {},
   "source": [
    "### 3.2\n",
    "What is `-1 % 3`"
   ]
  },
  {
   "cell_type": "markdown",
   "metadata": {},
   "source": [
    "Type your anwser here: "
   ]
  },
  {
   "cell_type": "markdown",
   "metadata": {},
   "source": [
    "### 3.2\n",
    "What is `4 % -3`"
   ]
  },
  {
   "cell_type": "markdown",
   "metadata": {},
   "source": [
    "Type your answer here: "
   ]
  },
  {
   "cell_type": "markdown",
   "metadata": {},
   "source": [
    "### 3.3\n",
    "What is `2.1 % 3.1`?"
   ]
  },
  {
   "cell_type": "markdown",
   "metadata": {
    "colab_type": "text",
    "id": "-x0AHBIpzjJo"
   },
   "source": [
    "Type your answer here: "
   ]
  },
  {
   "cell_type": "markdown",
   "metadata": {},
   "source": [
    "### 3.4\n",
    "Which of the following options have the same values as the following one?\n",
    "\n",
    "`4233 % 372 // 31 % 31 ** 3`\n",
    "\n",
    "A. `4233 % 372 // 31 % (31 ** 3)`\n",
    "\n",
    "B. `(4233 % 372) // 31 % 31 ** 3`\n",
    "\n",
    "C. `4233 % (372 // 31) % 31 ** 3`\n",
    "\n",
    "D. `4233 % 372 // (31 % 31) ** 3`"
   ]
  },
  {
   "cell_type": "markdown",
   "metadata": {
    "colab_type": "text",
    "id": "cCtEGZ6f8oCy"
   },
   "source": [
    "Type your answer here: "
   ]
  },
  {
   "cell_type": "markdown",
   "metadata": {},
   "source": [
    "### 3.5\n",
    "Suppose that you have three functions `f(x, y) = x % y`, `g(x, y) = x - x // y * y`, and `k(x, y) = x - y * x / y`, assume that both `x` and `y`\n",
    "are positive.\n",
    "\n",
    "Which two are equivalent in python syntax?"
   ]
  },
  {
   "cell_type": "markdown",
   "metadata": {},
   "source": [
    "Type your answer here: "
   ]
  },
  {
   "cell_type": "markdown",
   "metadata": {},
   "source": [
    "### 3.6\n",
    "Extract the middle three digits from the following number 451,987,382. Use modulus operation."
   ]
  },
  {
   "cell_type": "code",
   "execution_count": null,
   "metadata": {},
   "outputs": [],
   "source": []
  },
  {
   "cell_type": "markdown",
   "metadata": {},
   "source": [
    "### 3.7\n",
    "Update the middle three digits from the following number 451,987,382 to 123. Use modulus operation."
   ]
  },
  {
   "cell_type": "code",
   "execution_count": null,
   "metadata": {},
   "outputs": [],
   "source": []
  },
  {
   "cell_type": "code",
   "execution_count": null,
   "metadata": {},
   "outputs": [],
   "source": []
  },
  {
   "cell_type": "markdown",
   "metadata": {},
   "source": [
    "## Question 4: Taylor Series"
   ]
  },
  {
   "cell_type": "markdown",
   "metadata": {
    "colab_type": "text",
    "id": "WI4YykV_zjJ_"
   },
   "source": [
    "In mathematics, the Taylor series or Taylor expansion of a function is an infinite sum of terms that are expressed in terms of the function's derivatives at a single point.\n",
    "\n",
    "Definition: \n",
    "The approximation of function $f(x)$ at point $a$ is the following:\n",
    "\n",
    "$f(x) = f(a) + \\frac{f'(a)}{1!}(x-a) +  \\frac{f''(a)}{2!}(x-a)^2 +  \\frac{f'''(a)}{3!}(x-a)^3 + \\dots$\n",
    "\n",
    "The order 3 approximation of $e^{x}$ at point $0$ is \n",
    "\n",
    "$e^{x} = e^{0} + \\frac{e^{0}}{1!}(x) +  \\frac{e^{0}}{2!}(x)^2 +  \\frac{e^{0}}{3!}(x)^3$\n",
    "\n",
    "Use 2.718 as the value of $e$\n",
    "\n",
    "For any positive integer $n$, $n!$(n factorial) is calculated as $n * (n - 1) * (n - 2) * ... * 2 * 1 $\n",
    "\n",
    "For example, $4! = 4 * 3 * 2 * 1 = 24$"
   ]
  },
  {
   "cell_type": "markdown",
   "metadata": {
    "colab_type": "text",
    "id": "1GliqIUrzjKD"
   },
   "source": [
    "### 4.1\n",
    "Try to use the following cell to compute $e^{0.3}$ "
   ]
  },
  {
   "cell_type": "code",
   "execution_count": null,
   "metadata": {
    "colab": {},
    "colab_type": "code",
    "id": "j1r1vPxozjKF"
   },
   "outputs": [],
   "source": []
  },
  {
   "cell_type": "markdown",
   "metadata": {
    "colab_type": "text",
    "id": "lMmCvSyCzjKz"
   },
   "source": [
    "### 4.2\n",
    "Try to use the following cell to compute\n",
    "\n",
    "$e^{0} + \\frac{e^{0}}{1!}(0.3) +  \\frac{e^{0}}{2!}(0.3)^2 +  \\frac{e^{0}}{3!}(0.3)^3$  "
   ]
  },
  {
   "cell_type": "code",
   "execution_count": null,
   "metadata": {
    "colab": {},
    "colab_type": "code",
    "id": "ZXa6FVA2zjK1"
   },
   "outputs": [],
   "source": []
  },
  {
   "cell_type": "markdown",
   "metadata": {},
   "source": [
    "### 4.2\n",
    "Use the order-3 expansion of $e^{x}$ at point $0$, calculate the accuracy percentage of $e^{0.2}$. \n",
    "\n",
    "Hint: Divide the result from $e^{0.2}$ from order-3 approximation polynomial with value $0.2$"
   ]
  },
  {
   "cell_type": "code",
   "execution_count": null,
   "metadata": {},
   "outputs": [],
   "source": []
  },
  {
   "cell_type": "code",
   "execution_count": null,
   "metadata": {},
   "outputs": [],
   "source": []
  },
  {
   "cell_type": "code",
   "execution_count": null,
   "metadata": {},
   "outputs": [],
   "source": []
  }
 ],
 "metadata": {
  "colab": {
   "collapsed_sections": [],
   "name": "probs1a.ipynb",
   "provenance": [],
   "version": "0.3.2"
  },
  "kernelspec": {
   "display_name": "Python 3 (ipykernel)",
   "language": "python",
   "name": "python3"
  },
  "language_info": {
   "codemirror_mode": {
    "name": "ipython",
    "version": 3
   },
   "file_extension": ".py",
   "mimetype": "text/x-python",
   "name": "python",
   "nbconvert_exporter": "python",
   "pygments_lexer": "ipython3",
   "version": "3.11.4"
  }
 },
 "nbformat": 4,
 "nbformat_minor": 1
}
