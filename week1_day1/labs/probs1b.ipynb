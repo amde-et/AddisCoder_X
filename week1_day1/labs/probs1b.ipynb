{
 "cells": [
  {
   "cell_type": "markdown",
   "id": "ccbc3eec",
   "metadata": {},
   "source": [
    "# Exercises for day 1b\n",
    "\n",
    "You will be working on a series of exercises for the material covered in lecture 1b. As a reminder, we discussed strings, booleans, types, and we briefly covered variables. Don't worry if variables are confusing - we will cover them in detail tomorrow.\n",
    "\n",
    "The first set of exercises will focus on how to use Python/Jupyter as a calculator.\n",
    "\n",
    "The following will be useful:\n",
    "- Jupyter consists of a series of cells\n",
    "- Use shift + enter to run a cell\n",
    "- Remember the order of operations!\n",
    "- Remember that types can change after an operation!"
   ]
  },
  {
   "cell_type": "markdown",
   "id": "751cb0a7",
   "metadata": {},
   "source": [
    "## Exercise 1\n",
    "\n",
    "In this lecture, we covered what a _string_ is. You can think of a string as a series of characters. (Character means something like a letter, number or punctuation mark, for example.)\n",
    "\n",
    "We'll start by defining some strings. Create the following strings in Jupyter:\n",
    "- `Hello`\n",
    "- `Addis Coder!`\n",
    "\n",
    "Remember what the syntax for strings are!\n",
    "\n",
    "Also compute the following:\n",
    "- `type(\"Hello\")`"
   ]
  },
  {
   "cell_type": "code",
   "execution_count": null,
   "id": "35c95094",
   "metadata": {},
   "outputs": [],
   "source": []
  },
  {
   "cell_type": "code",
   "execution_count": null,
   "id": "c70b22e2",
   "metadata": {},
   "outputs": [],
   "source": []
  },
  {
   "cell_type": "code",
   "execution_count": null,
   "id": "2a7eb193",
   "metadata": {},
   "outputs": [],
   "source": []
  },
  {
   "cell_type": "markdown",
   "id": "b5d2c06d",
   "metadata": {},
   "source": [
    "## Exercise 2\n",
    "\n",
    "We can also perform operations on strings. Compute the following using Jupyter:\n",
    "- `\"Hello\" + \"Addis Coder!\"`\n",
    "- `\"Hello\" + \" Addis Coder!\"`\n",
    "- `\"Hello \" + \"Addis Coder!\"`\n",
    "\n",
    "Add two of your own strings."
   ]
  },
  {
   "cell_type": "code",
   "execution_count": null,
   "id": "bd8f3c45",
   "metadata": {},
   "outputs": [],
   "source": []
  },
  {
   "cell_type": "code",
   "execution_count": null,
   "id": "5373168a",
   "metadata": {},
   "outputs": [],
   "source": []
  },
  {
   "cell_type": "code",
   "execution_count": null,
   "id": "e0593726",
   "metadata": {},
   "outputs": [],
   "source": []
  },
  {
   "cell_type": "code",
   "execution_count": null,
   "id": "9518a64e",
   "metadata": {},
   "outputs": [],
   "source": []
  },
  {
   "cell_type": "markdown",
   "id": "ec6311da",
   "metadata": {},
   "source": [
    "## Exercise 3\n",
    "\n",
    "You can put all sorts of things within strings. This can be very confusing! Make sure you know what is inside a string vs not.\n",
    "\n",
    "Compute the following using Jupyter:\n",
    "- `\"Hello + \" + \"Addis Coder!\"`\n",
    "- `\"Confusing ^ * \" + \"string\"`\n",
    "\n",
    "What else can you put in strings? Define a few of your own"
   ]
  },
  {
   "cell_type": "code",
   "execution_count": null,
   "id": "b3d152a2",
   "metadata": {},
   "outputs": [],
   "source": []
  },
  {
   "cell_type": "code",
   "execution_count": null,
   "id": "0431d6d5",
   "metadata": {},
   "outputs": [],
   "source": []
  },
  {
   "cell_type": "code",
   "execution_count": null,
   "id": "7737818b",
   "metadata": {},
   "outputs": [],
   "source": []
  },
  {
   "cell_type": "code",
   "execution_count": null,
   "id": "34f4eeaf",
   "metadata": {},
   "outputs": [],
   "source": []
  },
  {
   "cell_type": "markdown",
   "id": "807aa377",
   "metadata": {},
   "source": [
    "## Exercise 4\n",
    "\n",
    "We can convert numbers to strings. Do you remember the syntax?\n",
    "\n",
    "Convert the following to strings:\n",
    "- 3 \n",
    "- 3.1415\n",
    "- 27891\n",
    "- 8987321"
   ]
  },
  {
   "cell_type": "code",
   "execution_count": null,
   "id": "bcc52a0d",
   "metadata": {},
   "outputs": [],
   "source": []
  },
  {
   "cell_type": "code",
   "execution_count": null,
   "id": "b353c746",
   "metadata": {},
   "outputs": [],
   "source": []
  },
  {
   "cell_type": "code",
   "execution_count": null,
   "id": "19c36b36",
   "metadata": {},
   "outputs": [],
   "source": []
  },
  {
   "cell_type": "code",
   "execution_count": null,
   "id": "1a48e55e",
   "metadata": {},
   "outputs": [],
   "source": []
  },
  {
   "cell_type": "markdown",
   "id": "d78908b6",
   "metadata": {},
   "source": [
    "## Exercise 5 (medium)\n",
    "\n",
    "Strings and numbers are not the same _type_. However, they can be used together in certain operations, depending on the operation and ordering. This can be very confusing! \n",
    "\n",
    "Predict what will happen with the following, and check your answer using Jupyter:\n",
    "- `\"hello\" + \"3\"`\n",
    "- `\"hello \" + 3`\n",
    "- `\"hello\" + str(3)`\n",
    "- `\"hello\" * 3`\n",
    "- `\"hello \" * 3`\n",
    "- `3 * \"hello\"`"
   ]
  },
  {
   "cell_type": "code",
   "execution_count": null,
   "id": "cfc56e45",
   "metadata": {},
   "outputs": [],
   "source": []
  },
  {
   "cell_type": "code",
   "execution_count": null,
   "id": "fd27125a",
   "metadata": {},
   "outputs": [],
   "source": []
  },
  {
   "cell_type": "code",
   "execution_count": null,
   "id": "d7e46006",
   "metadata": {},
   "outputs": [],
   "source": []
  },
  {
   "cell_type": "code",
   "execution_count": null,
   "id": "20f93a4e",
   "metadata": {},
   "outputs": [],
   "source": []
  },
  {
   "cell_type": "code",
   "execution_count": null,
   "id": "b8274998",
   "metadata": {},
   "outputs": [],
   "source": []
  },
  {
   "cell_type": "code",
   "execution_count": null,
   "id": "4d01244d",
   "metadata": {},
   "outputs": [],
   "source": []
  },
  {
   "cell_type": "markdown",
   "id": "a2bca027",
   "metadata": {},
   "source": [
    "## Exercise 6\n",
    "\n",
    "We also covered _booleans_. Compute the following using Jupyter:\n",
    "- `type(True)`\n",
    "- `type(False)`\n",
    "- `type(\"True\")`\n",
    "- `type(\"False\")`"
   ]
  },
  {
   "cell_type": "code",
   "execution_count": null,
   "id": "77432863",
   "metadata": {},
   "outputs": [],
   "source": []
  },
  {
   "cell_type": "code",
   "execution_count": null,
   "id": "1a6fec63",
   "metadata": {},
   "outputs": [],
   "source": []
  },
  {
   "cell_type": "code",
   "execution_count": null,
   "id": "6d738249",
   "metadata": {},
   "outputs": [],
   "source": []
  },
  {
   "cell_type": "code",
   "execution_count": null,
   "id": "8573ea4b",
   "metadata": {},
   "outputs": [],
   "source": []
  },
  {
   "cell_type": "markdown",
   "id": "d0776945",
   "metadata": {},
   "source": [
    "## Exercise 7\n",
    "\n",
    "It's very important that `True` and `False` are capitalized correctly. What happens if you run the following in Jupyter: \n",
    "- `true`\n",
    "- `false`\n",
    "- `True`\n",
    "- `False`"
   ]
  },
  {
   "cell_type": "code",
   "execution_count": null,
   "id": "ce8ecef1",
   "metadata": {},
   "outputs": [],
   "source": []
  },
  {
   "cell_type": "code",
   "execution_count": null,
   "id": "6921fb0f",
   "metadata": {},
   "outputs": [],
   "source": []
  },
  {
   "cell_type": "code",
   "execution_count": null,
   "id": "c071639a",
   "metadata": {},
   "outputs": [],
   "source": []
  },
  {
   "cell_type": "code",
   "execution_count": null,
   "id": "53ef2818",
   "metadata": {},
   "outputs": [],
   "source": []
  },
  {
   "cell_type": "markdown",
   "id": "fb10458d",
   "metadata": {},
   "source": [
    "## Exercise 8\n",
    "\n",
    "We can compare items and the result of a comparison is a boolean. The first comparison operation we learned was `==`\n",
    "\n",
    "Guess what the output will be for the following and check with Jupyter:\n",
    "- `1 == 1`\n",
    "- `1 == 2`\n",
    "- `True == True`\n",
    "- `True == False`\n",
    "- `\"hi\" == \"hi`\n",
    "- `\"hi\" == \"bye\"`\n",
    "- `\"hi\" == \"Hi\"`"
   ]
  },
  {
   "cell_type": "code",
   "execution_count": null,
   "id": "b12eaa39",
   "metadata": {},
   "outputs": [],
   "source": []
  },
  {
   "cell_type": "code",
   "execution_count": null,
   "id": "c964d8a8",
   "metadata": {},
   "outputs": [],
   "source": []
  },
  {
   "cell_type": "code",
   "execution_count": null,
   "id": "caee6ffd",
   "metadata": {},
   "outputs": [],
   "source": []
  },
  {
   "cell_type": "code",
   "execution_count": null,
   "id": "5276580c",
   "metadata": {},
   "outputs": [],
   "source": []
  },
  {
   "cell_type": "code",
   "execution_count": null,
   "id": "ff1df34f",
   "metadata": {},
   "outputs": [],
   "source": []
  },
  {
   "cell_type": "code",
   "execution_count": null,
   "id": "838c04e8",
   "metadata": {},
   "outputs": [],
   "source": []
  },
  {
   "cell_type": "code",
   "execution_count": null,
   "id": "36f80d47",
   "metadata": {},
   "outputs": [],
   "source": []
  },
  {
   "cell_type": "markdown",
   "id": "98397f75",
   "metadata": {},
   "source": [
    "## Exercise 9\n",
    "\n",
    "There are some confusing ways to compare things in Python. \n",
    "\n",
    "Guess what the output will be for the following and check with Jupyter:\n",
    "- `1 == True`\n",
    "- `True == 1`\n",
    "- `1 == \"1\"`\n",
    "- `\"1\" == True`"
   ]
  },
  {
   "cell_type": "code",
   "execution_count": null,
   "id": "c695a2ce",
   "metadata": {},
   "outputs": [],
   "source": []
  },
  {
   "cell_type": "code",
   "execution_count": null,
   "id": "76e5a00f",
   "metadata": {},
   "outputs": [],
   "source": []
  },
  {
   "cell_type": "code",
   "execution_count": null,
   "id": "03e23fd4",
   "metadata": {},
   "outputs": [],
   "source": []
  },
  {
   "cell_type": "code",
   "execution_count": null,
   "id": "d40ee8a8",
   "metadata": {},
   "outputs": [],
   "source": []
  },
  {
   "cell_type": "markdown",
   "id": "3f8190d1",
   "metadata": {},
   "source": [
    "## Exercise 10\n",
    "\n",
    "We can also compare for inequality, less than and greater than.\n",
    "\n",
    "Guess what the output will be for the following and check with Jupyter:\n",
    "- `1 < 1`\n",
    "- `1 > 1`\n",
    "- `1 < 2`\n",
    "- `1 <= 1`\n",
    "- `1 <= 2`\n",
    "- `2 >= 2`\n",
    "- `1 != 1`\n",
    "- `1 != 2`"
   ]
  },
  {
   "cell_type": "code",
   "execution_count": null,
   "id": "6cad6c73",
   "metadata": {},
   "outputs": [],
   "source": []
  },
  {
   "cell_type": "code",
   "execution_count": null,
   "id": "be9d1e6f",
   "metadata": {},
   "outputs": [],
   "source": []
  },
  {
   "cell_type": "code",
   "execution_count": null,
   "id": "af36e3bd",
   "metadata": {},
   "outputs": [],
   "source": []
  },
  {
   "cell_type": "code",
   "execution_count": null,
   "id": "6e905430",
   "metadata": {},
   "outputs": [],
   "source": []
  },
  {
   "cell_type": "code",
   "execution_count": null,
   "id": "84e4cafb",
   "metadata": {},
   "outputs": [],
   "source": []
  },
  {
   "cell_type": "code",
   "execution_count": null,
   "id": "c519f21a",
   "metadata": {},
   "outputs": [],
   "source": []
  },
  {
   "cell_type": "code",
   "execution_count": null,
   "id": "45d80e6e",
   "metadata": {},
   "outputs": [],
   "source": []
  },
  {
   "cell_type": "code",
   "execution_count": null,
   "id": "3002d213",
   "metadata": {},
   "outputs": [],
   "source": []
  },
  {
   "cell_type": "markdown",
   "id": "2e7ad3d8",
   "metadata": {},
   "source": [
    "## Exercise 11\n",
    "\n",
    "This (sometimes) also works for other types than numbers, but is not always intuitive.\n",
    "\n",
    "Guess what the output will be for the following and check with Jupyter:\n",
    "- `\"hello\" < \"bye\"`\n",
    "- `\"hello\" > \"bye\"`\n",
    "- `\"Hello\" > \"bye\"`\n",
    "- `False < True`\n",
    "- `3 != \"3\"`\n",
    "- `3 <= \"3\"`"
   ]
  },
  {
   "cell_type": "code",
   "execution_count": null,
   "id": "c196e3d1",
   "metadata": {},
   "outputs": [],
   "source": []
  },
  {
   "cell_type": "code",
   "execution_count": null,
   "id": "b1a10b65",
   "metadata": {},
   "outputs": [],
   "source": []
  },
  {
   "cell_type": "code",
   "execution_count": null,
   "id": "911d9a66",
   "metadata": {},
   "outputs": [],
   "source": []
  },
  {
   "cell_type": "code",
   "execution_count": null,
   "id": "52450a79",
   "metadata": {},
   "outputs": [],
   "source": []
  },
  {
   "cell_type": "code",
   "execution_count": null,
   "id": "ce9d5c1a",
   "metadata": {},
   "outputs": [],
   "source": []
  },
  {
   "cell_type": "code",
   "execution_count": null,
   "id": "52972d77",
   "metadata": {},
   "outputs": [],
   "source": []
  },
  {
   "cell_type": "markdown",
   "id": "caf6bbad",
   "metadata": {},
   "source": [
    "## Exercise 12\n",
    "\n",
    "There are also special operations between booleans. The first one we learned was `and`.\n",
    "\n",
    "Guess what the output will be for the following and check with Jupyter:\n",
    "- `True and True`\n",
    "- `True and False`\n",
    "- `False and True`\n",
    "- `False and False`"
   ]
  },
  {
   "cell_type": "code",
   "execution_count": null,
   "id": "103b37d3",
   "metadata": {},
   "outputs": [],
   "source": []
  },
  {
   "cell_type": "code",
   "execution_count": null,
   "id": "4a93fb89",
   "metadata": {},
   "outputs": [],
   "source": []
  },
  {
   "cell_type": "code",
   "execution_count": null,
   "id": "d36244d0",
   "metadata": {},
   "outputs": [],
   "source": []
  },
  {
   "cell_type": "code",
   "execution_count": null,
   "id": "83b9409c",
   "metadata": {},
   "outputs": [],
   "source": []
  },
  {
   "cell_type": "markdown",
   "id": "726771ab",
   "metadata": {},
   "source": [
    "## Exercise 13\n",
    "\n",
    "The second operatetion between booleans is the `or` operation.\n",
    "\n",
    "Guess what the output will be for the following and check with Jupyter:\n",
    "- `True or True`\n",
    "- `True or False`\n",
    "- `False or True`\n",
    "- `False or False`"
   ]
  },
  {
   "cell_type": "code",
   "execution_count": null,
   "id": "f291fc94",
   "metadata": {},
   "outputs": [],
   "source": []
  },
  {
   "cell_type": "code",
   "execution_count": null,
   "id": "8b88a826",
   "metadata": {},
   "outputs": [],
   "source": []
  },
  {
   "cell_type": "code",
   "execution_count": null,
   "id": "78986ef1",
   "metadata": {},
   "outputs": [],
   "source": []
  },
  {
   "cell_type": "code",
   "execution_count": null,
   "id": "bed87d82",
   "metadata": {},
   "outputs": [],
   "source": []
  },
  {
   "cell_type": "markdown",
   "id": "b2eb1d5d",
   "metadata": {},
   "source": [
    "## Exercise 14 (medium)\n",
    "\n",
    "One very confusing thing about Python is how different types are converted to each other.\n",
    "\n",
    "Guess what will happen with the following and check your answer with Jupyter:\n",
    "- 3 + True\n",
    "- True + 3\n",
    "- True * 3\n",
    "- 3 * True"
   ]
  },
  {
   "cell_type": "code",
   "execution_count": null,
   "id": "3f573361",
   "metadata": {},
   "outputs": [],
   "source": []
  },
  {
   "cell_type": "code",
   "execution_count": null,
   "id": "3dfea97f",
   "metadata": {},
   "outputs": [],
   "source": []
  },
  {
   "cell_type": "code",
   "execution_count": null,
   "id": "1e9a411a",
   "metadata": {},
   "outputs": [],
   "source": []
  },
  {
   "cell_type": "code",
   "execution_count": null,
   "id": "a240cbdf",
   "metadata": {},
   "outputs": [],
   "source": []
  },
  {
   "cell_type": "markdown",
   "id": "0d8a8588",
   "metadata": {},
   "source": [
    "## Exercise 15 (hard)\n",
    "\n",
    "We briefly covered variables at the end of lecture. Don't worry if they were confusing: we will cover them in more detail tomorrow.\n",
    "\n",
    "One very important detail: _programming variables_ are NOT THE SAME as _mathematical variables_.\n",
    "\n",
    "Guess what will happen if you run the following code blocks and check your answer in Jupyter.\n",
    "\n",
    "Code block 1:\n",
    "```\n",
    "x = 1\n",
    "x\n",
    "```\n",
    "\n",
    "Code block 2:\n",
    "```\n",
    "x = 1\n",
    "x = 2\n",
    "x\n",
    "```\n",
    "\n",
    "Code block 3:\n",
    "```\n",
    "x = 1\n",
    "y = x\n",
    "y\n",
    "```\n",
    "\n",
    "Code block 4:\n",
    "```\n",
    "x = 1\n",
    "y = x\n",
    "x = 2\n",
    "x\n",
    "```\n",
    "\n",
    "Code block 5:\n",
    "```\n",
    "x = 1\n",
    "y = x\n",
    "x = 2\n",
    "y\n",
    "```"
   ]
  },
  {
   "cell_type": "markdown",
   "id": "257c9ae3",
   "metadata": {},
   "source": [
    "# Supplementary exercises\n",
    "\n",
    "If you've completed all of the exercises so far, congratulations! There are supplementary exercises you can do now. Ask a TA to get access to them."
   ]
  },
  {
   "cell_type": "code",
   "execution_count": null,
   "id": "80343231",
   "metadata": {},
   "outputs": [],
   "source": []
  }
 ],
 "metadata": {
  "kernelspec": {
   "display_name": "Python 3",
   "language": "python",
   "name": "python3"
  },
  "language_info": {
   "codemirror_mode": {
    "name": "ipython",
    "version": 3
   },
   "file_extension": ".py",
   "mimetype": "text/x-python",
   "name": "python",
   "nbconvert_exporter": "python",
   "pygments_lexer": "ipython3",
   "version": "3.6.9"
  }
 },
 "nbformat": 4,
 "nbformat_minor": 5
}
