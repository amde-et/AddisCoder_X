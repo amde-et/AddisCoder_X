{
 "cells": [
  {
   "cell_type": "markdown",
   "id": "3edc8956",
   "metadata": {},
   "source": [
    "# Welcome to AddisCoder!\n",
    "\n",
    "You will be learning how to write _code_ in week 1. Code are instructions for the computer: the computer will do exactly what you tell it to do.\n",
    "\n",
    "There are many ways to instruct the computer what to do. We will be using the programming language _Python_. Although programming languages are called \"languages\" they ARE NOT the same as a natural language, like Amharic or English.\n",
    "\n",
    "We will be working in an environment called _Jupyter notebook_, which runs on Python."
   ]
  },
  {
   "cell_type": "markdown",
   "id": "e32f60bd",
   "metadata": {},
   "source": [
    "# How to use Jupyter\n",
    "\n",
    "We will explore complex uses of Python in future lectures. However, for the time being, we will think of Jupyter as a very powerful calculator.\n",
    "\n",
    "In Jupyter, each computation is performed in a _cell_. We'll demonstrate how to use cells now"
   ]
  },
  {
   "cell_type": "code",
   "execution_count": 1,
   "id": "bc514e8b",
   "metadata": {},
   "outputs": [
    {
     "data": {
      "text/plain": [
       "2"
      ]
     },
     "execution_count": 1,
     "metadata": {},
     "output_type": "execute_result"
    }
   ],
   "source": [
    "1 + 1"
   ]
  },
  {
   "cell_type": "code",
   "execution_count": 2,
   "id": "07b6c819",
   "metadata": {},
   "outputs": [
    {
     "data": {
      "text/plain": [
       "111700840706770538"
      ]
     },
     "execution_count": 2,
     "metadata": {},
     "output_type": "execute_result"
    }
   ],
   "source": [
    "47389137281 * 2357098"
   ]
  },
  {
   "cell_type": "code",
   "execution_count": 3,
   "id": "32d88f76",
   "metadata": {},
   "outputs": [
    {
     "data": {
      "text/plain": [
       "2340936"
      ]
     },
     "execution_count": 3,
     "metadata": {},
     "output_type": "execute_result"
    }
   ],
   "source": [
    "738 * 3172"
   ]
  },
  {
   "cell_type": "code",
   "execution_count": 4,
   "id": "22e7a998",
   "metadata": {},
   "outputs": [
    {
     "data": {
      "text/plain": [
       "-2117"
      ]
     },
     "execution_count": 4,
     "metadata": {},
     "output_type": "execute_result"
    }
   ],
   "source": [
    "264 - 2381"
   ]
  },
  {
   "cell_type": "markdown",
   "id": "b642563c",
   "metadata": {},
   "source": [
    "# Note on multiplication:\n",
    "\n",
    "As we've seen, multiplication is done with `*`. It is NOT done with `x`. This is a common point of confusion. Please keep this in mind"
   ]
  },
  {
   "cell_type": "markdown",
   "id": "00221d7c",
   "metadata": {},
   "source": [
    "# Important note: shift + enter\n",
    "\n",
    "In order to run a cell, you must press _shift + enter_. For the time being, only the last line in the cell will be output"
   ]
  },
  {
   "cell_type": "code",
   "execution_count": 7,
   "id": "ae2151ed",
   "metadata": {},
   "outputs": [
    {
     "data": {
      "text/plain": [
       "2"
      ]
     },
     "execution_count": 7,
     "metadata": {},
     "output_type": "execute_result"
    }
   ],
   "source": [
    "1 + 1\n",
    "2 + 2\n",
    "1 + 1"
   ]
  },
  {
   "cell_type": "code",
   "execution_count": 8,
   "id": "8d1ce8a0",
   "metadata": {},
   "outputs": [
    {
     "data": {
      "text/plain": [
       "111"
      ]
     },
     "execution_count": 8,
     "metadata": {},
     "output_type": "execute_result"
    }
   ],
   "source": [
    "432 - 321"
   ]
  },
  {
   "cell_type": "markdown",
   "id": "8a10f101",
   "metadata": {},
   "source": [
    "# Division is special\n",
    "\n",
    "We've shown how to use addition, subtraction, and multiplication.\n",
    "\n",
    "However, division is special. "
   ]
  },
  {
   "cell_type": "code",
   "execution_count": 9,
   "id": "71da28d4",
   "metadata": {},
   "outputs": [
    {
     "data": {
      "text/plain": [
       "0.5"
      ]
     },
     "execution_count": 9,
     "metadata": {},
     "output_type": "execute_result"
    }
   ],
   "source": [
    "1 / 2"
   ]
  },
  {
   "cell_type": "code",
   "execution_count": 10,
   "id": "c2218175",
   "metadata": {},
   "outputs": [
    {
     "data": {
      "text/plain": [
       "-0.3484223193157865"
      ]
     },
     "execution_count": 10,
     "metadata": {},
     "output_type": "execute_result"
    }
   ],
   "source": [
    "43142 / -123821"
   ]
  },
  {
   "cell_type": "code",
   "execution_count": 11,
   "id": "74209538",
   "metadata": {},
   "outputs": [
    {
     "data": {
      "text/plain": [
       "0.3333333333333333"
      ]
     },
     "execution_count": 11,
     "metadata": {},
     "output_type": "execute_result"
    }
   ],
   "source": [
    "1 / 3"
   ]
  },
  {
   "cell_type": "code",
   "execution_count": 13,
   "id": "7655c9a0",
   "metadata": {},
   "outputs": [
    {
     "data": {
      "text/plain": [
       "0.6666666666666666"
      ]
     },
     "execution_count": 13,
     "metadata": {},
     "output_type": "execute_result"
    }
   ],
   "source": [
    "2 / 3"
   ]
  },
  {
   "cell_type": "code",
   "execution_count": 14,
   "id": "42dd56b8",
   "metadata": {},
   "outputs": [
    {
     "data": {
      "text/plain": [
       "3"
      ]
     },
     "execution_count": 14,
     "metadata": {},
     "output_type": "execute_result"
    }
   ],
   "source": [
    "10 // 3"
   ]
  },
  {
   "cell_type": "code",
   "execution_count": 15,
   "id": "449ec353",
   "metadata": {},
   "outputs": [
    {
     "data": {
      "text/plain": [
       "0"
      ]
     },
     "execution_count": 15,
     "metadata": {},
     "output_type": "execute_result"
    }
   ],
   "source": [
    "1 // 2"
   ]
  },
  {
   "cell_type": "code",
   "execution_count": 16,
   "id": "595f0438",
   "metadata": {},
   "outputs": [
    {
     "data": {
      "text/plain": [
       "-2"
      ]
     },
     "execution_count": 16,
     "metadata": {},
     "output_type": "execute_result"
    }
   ],
   "source": [
    "-3 // 2"
   ]
  },
  {
   "cell_type": "code",
   "execution_count": 17,
   "id": "5919da7e",
   "metadata": {},
   "outputs": [
    {
     "data": {
      "text/plain": [
       "-3"
      ]
     },
     "execution_count": 17,
     "metadata": {},
     "output_type": "execute_result"
    }
   ],
   "source": [
    "-5 // 2"
   ]
  },
  {
   "cell_type": "code",
   "execution_count": 18,
   "id": "806fff12",
   "metadata": {},
   "outputs": [
    {
     "data": {
      "text/plain": [
       "-4"
      ]
     },
     "execution_count": 18,
     "metadata": {},
     "output_type": "execute_result"
    }
   ],
   "source": [
    "-10 // 3"
   ]
  },
  {
   "cell_type": "markdown",
   "id": "b3c5b8f6",
   "metadata": {},
   "source": [
    "# Order of operations\n",
    "\n",
    "Operations happen in a specific order in Python. For the operations we've seen, they happen in the following order:\n",
    "- Multiplication/Division\n",
    "- Addition/Subtraction\n",
    "\n",
    "Note that multiplication and division have _equal_ precedence. They are simply executed from left to right. Let's see some examples"
   ]
  },
  {
   "cell_type": "code",
   "execution_count": 19,
   "id": "c3f2790a",
   "metadata": {},
   "outputs": [
    {
     "data": {
      "text/plain": [
       "5"
      ]
     },
     "execution_count": 19,
     "metadata": {},
     "output_type": "execute_result"
    }
   ],
   "source": [
    "1 * 2 + 3"
   ]
  },
  {
   "cell_type": "code",
   "execution_count": 20,
   "id": "abc5a9f8",
   "metadata": {},
   "outputs": [
    {
     "data": {
      "text/plain": [
       "7"
      ]
     },
     "execution_count": 20,
     "metadata": {},
     "output_type": "execute_result"
    }
   ],
   "source": [
    "1 + 2 * 3"
   ]
  },
  {
   "cell_type": "code",
   "execution_count": 21,
   "id": "9760faec",
   "metadata": {},
   "outputs": [
    {
     "data": {
      "text/plain": [
       "4"
      ]
     },
     "execution_count": 21,
     "metadata": {},
     "output_type": "execute_result"
    }
   ],
   "source": [
    "1 + 2 * 3 // 2"
   ]
  },
  {
   "cell_type": "code",
   "execution_count": 22,
   "id": "54679c7b",
   "metadata": {},
   "outputs": [
    {
     "data": {
      "text/plain": [
       "1"
      ]
     },
     "execution_count": 22,
     "metadata": {},
     "output_type": "execute_result"
    }
   ],
   "source": [
    "1 + 2 * 3 // 2 - 3"
   ]
  },
  {
   "cell_type": "markdown",
   "id": "a6305fd9",
   "metadata": {},
   "source": [
    "# Order of operations: parentheses\n",
    "\n",
    "You can also use parentheses in Python. Parentheses always happen first"
   ]
  },
  {
   "cell_type": "code",
   "execution_count": 23,
   "id": "e87d3817",
   "metadata": {},
   "outputs": [
    {
     "data": {
      "text/plain": [
       "7"
      ]
     },
     "execution_count": 23,
     "metadata": {},
     "output_type": "execute_result"
    }
   ],
   "source": [
    "2 * 2 + 3"
   ]
  },
  {
   "cell_type": "code",
   "execution_count": 24,
   "id": "cebdef3a",
   "metadata": {},
   "outputs": [
    {
     "data": {
      "text/plain": [
       "10"
      ]
     },
     "execution_count": 24,
     "metadata": {},
     "output_type": "execute_result"
    }
   ],
   "source": [
    "2 * (2 + 3)"
   ]
  },
  {
   "cell_type": "markdown",
   "id": "62204d47",
   "metadata": {},
   "source": [
    "# Special operation: exponentiation\n",
    "\n",
    "Suppose you want to compute $2^{5}$. You could write 2 * 2 * 2 * 2 * 2, but this is quite verbose!\n",
    "\n",
    "We can directly exponentiate in Python.\n",
    "\n",
    "The syntax for exponentiation in Python is `a ** b` for $a^b$. It is NOT `^`! Beware"
   ]
  },
  {
   "cell_type": "code",
   "execution_count": 25,
   "id": "6246ace2",
   "metadata": {},
   "outputs": [
    {
     "data": {
      "text/plain": [
       "32"
      ]
     },
     "execution_count": 25,
     "metadata": {},
     "output_type": "execute_result"
    }
   ],
   "source": [
    "2 * 2 * 2 * 2 * 2"
   ]
  },
  {
   "cell_type": "code",
   "execution_count": 26,
   "id": "cb9d2aba",
   "metadata": {},
   "outputs": [
    {
     "data": {
      "text/plain": [
       "32"
      ]
     },
     "execution_count": 26,
     "metadata": {},
     "output_type": "execute_result"
    }
   ],
   "source": [
    "2 ** 5"
   ]
  },
  {
   "cell_type": "code",
   "execution_count": 27,
   "id": "0384e7a0",
   "metadata": {},
   "outputs": [
    {
     "data": {
      "text/plain": [
       "33076161"
      ]
     },
     "execution_count": 27,
     "metadata": {},
     "output_type": "execute_result"
    }
   ],
   "source": [
    "321 ** 3"
   ]
  },
  {
   "cell_type": "code",
   "execution_count": 28,
   "id": "fc9bdee3",
   "metadata": {},
   "outputs": [
    {
     "data": {
      "text/plain": [
       "2.0"
      ]
     },
     "execution_count": 28,
     "metadata": {},
     "output_type": "execute_result"
    }
   ],
   "source": [
    "4 ** 0.5"
   ]
  },
  {
   "cell_type": "code",
   "execution_count": 29,
   "id": "23dd683e",
   "metadata": {},
   "outputs": [
    {
     "data": {
      "text/plain": [
       "0.25"
      ]
     },
     "execution_count": 29,
     "metadata": {},
     "output_type": "execute_result"
    }
   ],
   "source": [
    "4 ** -1"
   ]
  },
  {
   "cell_type": "markdown",
   "id": "d7e2f58b",
   "metadata": {},
   "source": [
    "# Special operation: modulo\n",
    "\n",
    "There is a special operation called the _modulo_ operation. It takes the remainder after division.\n",
    "\n",
    "As an example, consider `5 // 2`, which is equal to 2. The _remainder_ of `5 // 2` is 1. So, the modulus of 5 divided by 2 is 1.\n",
    "\n",
    "The syntax in Python for modulus is `%`. We'll see some examples."
   ]
  },
  {
   "cell_type": "code",
   "execution_count": 30,
   "id": "e17002f3",
   "metadata": {},
   "outputs": [
    {
     "data": {
      "text/plain": [
       "2"
      ]
     },
     "execution_count": 30,
     "metadata": {},
     "output_type": "execute_result"
    }
   ],
   "source": [
    "5 // 2"
   ]
  },
  {
   "cell_type": "code",
   "execution_count": 31,
   "id": "6cc934cd",
   "metadata": {},
   "outputs": [
    {
     "data": {
      "text/plain": [
       "1"
      ]
     },
     "execution_count": 31,
     "metadata": {},
     "output_type": "execute_result"
    }
   ],
   "source": [
    "5 % 2"
   ]
  },
  {
   "cell_type": "code",
   "execution_count": 32,
   "id": "a2fb50b3",
   "metadata": {},
   "outputs": [
    {
     "data": {
      "text/plain": [
       "1"
      ]
     },
     "execution_count": 32,
     "metadata": {},
     "output_type": "execute_result"
    }
   ],
   "source": [
    "5 - 2 * 2 "
   ]
  },
  {
   "cell_type": "code",
   "execution_count": 33,
   "id": "6b4785c5",
   "metadata": {},
   "outputs": [
    {
     "data": {
      "text/plain": [
       "0"
      ]
     },
     "execution_count": 33,
     "metadata": {},
     "output_type": "execute_result"
    }
   ],
   "source": [
    "10 % 2"
   ]
  },
  {
   "cell_type": "code",
   "execution_count": 34,
   "id": "93a5c3eb",
   "metadata": {},
   "outputs": [
    {
     "data": {
      "text/plain": [
       "2"
      ]
     },
     "execution_count": 34,
     "metadata": {},
     "output_type": "execute_result"
    }
   ],
   "source": [
    "2 % 8"
   ]
  },
  {
   "cell_type": "code",
   "execution_count": 49,
   "id": "91bd9fca",
   "metadata": {},
   "outputs": [
    {
     "data": {
      "text/plain": [
       "0"
      ]
     },
     "execution_count": 49,
     "metadata": {},
     "output_type": "execute_result"
    }
   ],
   "source": [
    "2 // 8"
   ]
  },
  {
   "cell_type": "code",
   "execution_count": 40,
   "id": "becf0faa",
   "metadata": {},
   "outputs": [
    {
     "data": {
      "text/plain": [
       "2"
      ]
     },
     "execution_count": 40,
     "metadata": {},
     "output_type": "execute_result"
    }
   ],
   "source": [
    "2 - 8 * 0"
   ]
  },
  {
   "cell_type": "code",
   "execution_count": 52,
   "id": "0d322bae",
   "metadata": {},
   "outputs": [
    {
     "data": {
      "text/plain": [
       "2"
      ]
     },
     "execution_count": 52,
     "metadata": {},
     "output_type": "execute_result"
    }
   ],
   "source": [
    "10 % 8 % 6"
   ]
  },
  {
   "cell_type": "code",
   "execution_count": 50,
   "id": "f8682be4",
   "metadata": {},
   "outputs": [
    {
     "data": {
      "text/plain": [
       "2"
      ]
     },
     "execution_count": 50,
     "metadata": {},
     "output_type": "execute_result"
    }
   ],
   "source": [
    "10 % 8"
   ]
  },
  {
   "cell_type": "code",
   "execution_count": 51,
   "id": "991f123a",
   "metadata": {},
   "outputs": [
    {
     "data": {
      "text/plain": [
       "2"
      ]
     },
     "execution_count": 51,
     "metadata": {},
     "output_type": "execute_result"
    }
   ],
   "source": [
    "2 % 6"
   ]
  },
  {
   "cell_type": "markdown",
   "id": "2d679625",
   "metadata": {},
   "source": [
    "# Order of operations: putting it all together\n",
    "\n",
    "The order of operations with all of the operations is:\n",
    "1. Parentheses `()`\n",
    "2. Exponent `**`\n",
    "3. Multiplication `*` and Division `/` `//` `%`, left to right\n",
    "4. Addition `+` and Subtraction `-`, left to right\n",
    "\n",
    "Everything in the same line has equal precedence!"
   ]
  },
  {
   "cell_type": "code",
   "execution_count": 35,
   "id": "5bbb648e",
   "metadata": {},
   "outputs": [
    {
     "data": {
      "text/plain": [
       "13"
      ]
     },
     "execution_count": 35,
     "metadata": {},
     "output_type": "execute_result"
    }
   ],
   "source": [
    "(1 + 2) * 3 ** 2 // 2"
   ]
  },
  {
   "cell_type": "code",
   "execution_count": 36,
   "id": "aab3aede",
   "metadata": {},
   "outputs": [
    {
     "data": {
      "text/plain": [
       "13"
      ]
     },
     "execution_count": 36,
     "metadata": {},
     "output_type": "execute_result"
    }
   ],
   "source": [
    "(3) * 3 ** 2 // 2"
   ]
  },
  {
   "cell_type": "code",
   "execution_count": 37,
   "id": "ac58e3ce",
   "metadata": {},
   "outputs": [
    {
     "data": {
      "text/plain": [
       "13"
      ]
     },
     "execution_count": 37,
     "metadata": {},
     "output_type": "execute_result"
    }
   ],
   "source": [
    "(3) * 9 // 2"
   ]
  },
  {
   "cell_type": "code",
   "execution_count": 38,
   "id": "b42c7e55",
   "metadata": {},
   "outputs": [
    {
     "data": {
      "text/plain": [
       "13"
      ]
     },
     "execution_count": 38,
     "metadata": {},
     "output_type": "execute_result"
    }
   ],
   "source": [
    "27 // 2"
   ]
  },
  {
   "cell_type": "code",
   "execution_count": 41,
   "id": "88733cd1",
   "metadata": {},
   "outputs": [
    {
     "data": {
      "text/plain": [
       "8"
      ]
     },
     "execution_count": 41,
     "metadata": {},
     "output_type": "execute_result"
    }
   ],
   "source": [
    "5 // 2 * 4"
   ]
  },
  {
   "cell_type": "code",
   "execution_count": 42,
   "id": "057ba1bd",
   "metadata": {},
   "outputs": [
    {
     "data": {
      "text/plain": [
       "2"
      ]
     },
     "execution_count": 42,
     "metadata": {},
     "output_type": "execute_result"
    }
   ],
   "source": [
    "5 * 2 // 4"
   ]
  },
  {
   "cell_type": "code",
   "execution_count": 43,
   "id": "6eecc4af",
   "metadata": {},
   "outputs": [
    {
     "data": {
      "text/plain": [
       "2.6666666666666665"
      ]
     },
     "execution_count": 43,
     "metadata": {},
     "output_type": "execute_result"
    }
   ],
   "source": [
    "6 // 5 * 8 / 3"
   ]
  },
  {
   "cell_type": "markdown",
   "id": "a38ab1c7",
   "metadata": {},
   "source": [
    "# Errors\n",
    "\n",
    "Programming languages, unlike natural languages, are _very specific_. If you don't write your code precisely, you will get an _error_.\n",
    "\n",
    "We'll now see some examples of errors. You'll see more errors in lab!"
   ]
  },
  {
   "cell_type": "code",
   "execution_count": 44,
   "id": "a98227b7",
   "metadata": {},
   "outputs": [
    {
     "ename": "SyntaxError",
     "evalue": "invalid syntax (1248306774.py, line 1)",
     "output_type": "error",
     "traceback": [
      "\u001b[0;36m  File \u001b[0;32m\"/tmp/ipykernel_823182/1248306774.py\"\u001b[0;36m, line \u001b[0;32m1\u001b[0m\n\u001b[0;31m    2 * * 4\u001b[0m\n\u001b[0m        ^\u001b[0m\n\u001b[0;31mSyntaxError\u001b[0m\u001b[0;31m:\u001b[0m invalid syntax\n"
     ]
    }
   ],
   "source": [
    "2 * * 4"
   ]
  },
  {
   "cell_type": "code",
   "execution_count": 45,
   "id": "2a97d614",
   "metadata": {},
   "outputs": [
    {
     "ename": "SyntaxError",
     "evalue": "invalid syntax (1278102326.py, line 1)",
     "output_type": "error",
     "traceback": [
      "\u001b[0;36m  File \u001b[0;32m\"/tmp/ipykernel_823182/1278102326.py\"\u001b[0;36m, line \u001b[0;32m1\u001b[0m\n\u001b[0;31m    1 +\u001b[0m\n\u001b[0m       ^\u001b[0m\n\u001b[0;31mSyntaxError\u001b[0m\u001b[0;31m:\u001b[0m invalid syntax\n"
     ]
    }
   ],
   "source": [
    "1 +"
   ]
  },
  {
   "cell_type": "code",
   "execution_count": 46,
   "id": "9133202e",
   "metadata": {},
   "outputs": [
    {
     "ename": "SyntaxError",
     "evalue": "invalid syntax (1248306774.py, line 1)",
     "output_type": "error",
     "traceback": [
      "\u001b[0;36m  File \u001b[0;32m\"/tmp/ipykernel_823182/1248306774.py\"\u001b[0;36m, line \u001b[0;32m1\u001b[0m\n\u001b[0;31m    2 * * 4\u001b[0m\n\u001b[0m        ^\u001b[0m\n\u001b[0;31mSyntaxError\u001b[0m\u001b[0;31m:\u001b[0m invalid syntax\n"
     ]
    }
   ],
   "source": [
    "2 * * 4"
   ]
  },
  {
   "cell_type": "code",
   "execution_count": 47,
   "id": "49d7b187",
   "metadata": {},
   "outputs": [
    {
     "ename": "ZeroDivisionError",
     "evalue": "division by zero",
     "output_type": "error",
     "traceback": [
      "\u001b[0;31m---------------------------------------------------------------------------\u001b[0m",
      "\u001b[0;31mZeroDivisionError\u001b[0m                         Traceback (most recent call last)",
      "\u001b[0;32m/tmp/ipykernel_823182/4097422338.py\u001b[0m in \u001b[0;36m<module>\u001b[0;34m\u001b[0m\n\u001b[0;32m----> 1\u001b[0;31m \u001b[0;36m10\u001b[0m \u001b[0;34m/\u001b[0m \u001b[0;36m0\u001b[0m\u001b[0;34m\u001b[0m\u001b[0;34m\u001b[0m\u001b[0m\n\u001b[0m",
      "\u001b[0;31mZeroDivisionError\u001b[0m: division by zero"
     ]
    }
   ],
   "source": [
    "10 / 0 "
   ]
  },
  {
   "cell_type": "code",
   "execution_count": 48,
   "id": "0edb6f91",
   "metadata": {},
   "outputs": [
    {
     "ename": "SyntaxError",
     "evalue": "invalid syntax (2815966822.py, line 1)",
     "output_type": "error",
     "traceback": [
      "\u001b[0;36m  File \u001b[0;32m\"/tmp/ipykernel_823182/2815966822.py\"\u001b[0;36m, line \u001b[0;32m1\u001b[0m\n\u001b[0;31m    3 x 4\u001b[0m\n\u001b[0m      ^\u001b[0m\n\u001b[0;31mSyntaxError\u001b[0m\u001b[0;31m:\u001b[0m invalid syntax\n"
     ]
    }
   ],
   "source": [
    "3 x 4"
   ]
  },
  {
   "cell_type": "markdown",
   "id": "f0384efa",
   "metadata": {},
   "source": [
    "# If you're confused, test in Jupyter!\n",
    "\n",
    "We have limited time in lecture. Most of the time in this course will be spent in lab. In many circumstances, you will explore questions yourself.\n",
    "\n",
    "The following examples are confusing: the best way to find out is to test yourself!"
   ]
  },
  {
   "cell_type": "code",
   "execution_count": null,
   "id": "1b36a4c8",
   "metadata": {},
   "outputs": [],
   "source": [
    "10 % -1 "
   ]
  },
  {
   "cell_type": "code",
   "execution_count": null,
   "id": "04460050",
   "metadata": {},
   "outputs": [],
   "source": [
    "10.2321 % 2"
   ]
  },
  {
   "cell_type": "code",
   "execution_count": null,
   "id": "f7d6b202",
   "metadata": {},
   "outputs": [],
   "source": [
    "20 ** 0.5"
   ]
  },
  {
   "cell_type": "code",
   "execution_count": null,
   "id": "066804c1",
   "metadata": {},
   "outputs": [],
   "source": [
    "10 % 20"
   ]
  }
 ],
 "metadata": {
  "kernelspec": {
   "display_name": "Python 3 (ipykernel)",
   "language": "python",
   "name": "python3"
  },
  "language_info": {
   "codemirror_mode": {
    "name": "ipython",
    "version": 3
   },
   "file_extension": ".py",
   "mimetype": "text/x-python",
   "name": "python",
   "nbconvert_exporter": "python",
   "pygments_lexer": "ipython3",
   "version": "3.9.16"
  }
 },
 "nbformat": 4,
 "nbformat_minor": 5
}
