{
 "cells": [
  {
   "cell_type": "markdown",
   "id": "b7dfc304",
   "metadata": {},
   "source": [
    "# Welcome back\n",
    "\n",
    "How was lab? Was anything confusing? "
   ]
  },
  {
   "cell_type": "markdown",
   "id": "8c526f79",
   "metadata": {},
   "source": [
    "# Review\n",
    "\n",
    "We covered:\n",
    "- Jupyter as a powerful calculator\n",
    "- Operations: addition, subtraction, multiplication, division (two types of division!)\n",
    "- Special operations: exponentiation, modulus\n",
    "- Errors"
   ]
  },
  {
   "cell_type": "code",
   "execution_count": 2,
   "id": "4a3e413e",
   "metadata": {},
   "outputs": [
    {
     "data": {
      "text/plain": [
       "-4"
      ]
     },
     "execution_count": 2,
     "metadata": {},
     "output_type": "execute_result"
    }
   ],
   "source": [
    "2 + 3 * 4 // 5 - 2 ** (3 % 10)"
   ]
  },
  {
   "cell_type": "code",
   "execution_count": 3,
   "id": "e8756871",
   "metadata": {},
   "outputs": [
    {
     "ename": "SyntaxError",
     "evalue": "invalid syntax (1278102326.py, line 1)",
     "output_type": "error",
     "traceback": [
      "\u001b[0;36m  File \u001b[0;32m\"/tmp/ipykernel_850159/1278102326.py\"\u001b[0;36m, line \u001b[0;32m1\u001b[0m\n\u001b[0;31m    1 +\u001b[0m\n\u001b[0m       ^\u001b[0m\n\u001b[0;31mSyntaxError\u001b[0m\u001b[0;31m:\u001b[0m invalid syntax\n"
     ]
    }
   ],
   "source": [
    "1 +"
   ]
  },
  {
   "cell_type": "code",
   "execution_count": 4,
   "id": "b592da79",
   "metadata": {},
   "outputs": [
    {
     "ename": "SyntaxError",
     "evalue": "invalid syntax (2056278881.py, line 1)",
     "output_type": "error",
     "traceback": [
      "\u001b[0;36m  File \u001b[0;32m\"/tmp/ipykernel_850159/2056278881.py\"\u001b[0;36m, line \u001b[0;32m1\u001b[0m\n\u001b[0;31m    2 * * 5\u001b[0m\n\u001b[0m        ^\u001b[0m\n\u001b[0;31mSyntaxError\u001b[0m\u001b[0;31m:\u001b[0m invalid syntax\n"
     ]
    }
   ],
   "source": [
    "2 * * 5"
   ]
  },
  {
   "cell_type": "code",
   "execution_count": null,
   "id": "317370f2",
   "metadata": {},
   "outputs": [],
   "source": [
    "# Text cells vs code cells - getting out of the text cell\n",
    "# (-4) ** 0.5"
   ]
  },
  {
   "cell_type": "code",
   "execution_count": 5,
   "id": "8b42f295",
   "metadata": {},
   "outputs": [
    {
     "data": {
      "text/plain": [
       "(1.2246467991473532e-16+2j)"
      ]
     },
     "execution_count": 5,
     "metadata": {},
     "output_type": "execute_result"
    }
   ],
   "source": [
    "(-4) ** 0.5"
   ]
  },
  {
   "cell_type": "code",
   "execution_count": 6,
   "id": "713db539",
   "metadata": {},
   "outputs": [
    {
     "data": {
      "text/plain": [
       "1e-20"
      ]
     },
     "execution_count": 6,
     "metadata": {},
     "output_type": "execute_result"
    }
   ],
   "source": [
    "0.00000000000000000001"
   ]
  },
  {
   "cell_type": "code",
   "execution_count": 11,
   "id": "c487a63f",
   "metadata": {},
   "outputs": [
    {
     "data": {
      "text/plain": [
       "2"
      ]
     },
     "execution_count": 11,
     "metadata": {},
     "output_type": "execute_result"
    }
   ],
   "source": [
    "(-3) % 5"
   ]
  },
  {
   "cell_type": "code",
   "execution_count": 9,
   "id": "f8aab295",
   "metadata": {},
   "outputs": [
    {
     "data": {
      "text/plain": [
       "-1"
      ]
     },
     "execution_count": 9,
     "metadata": {},
     "output_type": "execute_result"
    }
   ],
   "source": [
    "-3 // 5"
   ]
  },
  {
   "cell_type": "code",
   "execution_count": 10,
   "id": "cec8a4f4",
   "metadata": {},
   "outputs": [
    {
     "data": {
      "text/plain": [
       "2"
      ]
     },
     "execution_count": 10,
     "metadata": {},
     "output_type": "execute_result"
    }
   ],
   "source": [
    "-3 - (-1) * 5"
   ]
  },
  {
   "cell_type": "code",
   "execution_count": 16,
   "id": "4a48bc43",
   "metadata": {},
   "outputs": [
    {
     "data": {
      "text/plain": [
       "-688"
      ]
     },
     "execution_count": 16,
     "metadata": {},
     "output_type": "execute_result"
    }
   ],
   "source": [
    "342 // 12 + 23 ** 1 + 23 - 762"
   ]
  },
  {
   "cell_type": "code",
   "execution_count": 23,
   "id": "3ab1fa8f",
   "metadata": {},
   "outputs": [
    {
     "data": {
      "text/plain": [
       "-730"
      ]
     },
     "execution_count": 23,
     "metadata": {},
     "output_type": "execute_result"
    }
   ],
   "source": [
    "32 - 762"
   ]
  },
  {
   "cell_type": "code",
   "execution_count": 22,
   "id": "176d9133",
   "metadata": {},
   "outputs": [
    {
     "data": {
      "text/plain": [
       "32"
      ]
     },
     "execution_count": 22,
     "metadata": {},
     "output_type": "execute_result"
    }
   ],
   "source": [
    "9 + 23"
   ]
  },
  {
   "cell_type": "markdown",
   "id": "0cad68e9",
   "metadata": {},
   "source": [
    "# Reminder: if you're confused, you can test in Jupyter!"
   ]
  },
  {
   "cell_type": "code",
   "execution_count": null,
   "id": "edec5c39",
   "metadata": {},
   "outputs": [],
   "source": [
    "# Things that were confusing from earlier today"
   ]
  },
  {
   "cell_type": "markdown",
   "id": "765742c4",
   "metadata": {},
   "source": [
    "# Beyond numbers: strings\n",
    "\n",
    "Beyond numbers (like `1`), there are also other kinds of \"things\" in Python. The first one we'll cover are _strings_.\n",
    "\n",
    "Strings are sequences of individual _characters_. Roughly, a character is a single piece of text. Don't worry too much about the definition of characters for now.\n",
    "\n",
    "In Python, you can define a string by enclosing a piece of text in `\"`. We'll see some examples"
   ]
  },
  {
   "cell_type": "code",
   "execution_count": 24,
   "id": "99ddb9d8",
   "metadata": {},
   "outputs": [
    {
     "data": {
      "text/plain": [
       "'Hello AddisCoder!'"
      ]
     },
     "execution_count": 24,
     "metadata": {},
     "output_type": "execute_result"
    }
   ],
   "source": [
    "\"Hello AddisCoder!\""
   ]
  },
  {
   "cell_type": "code",
   "execution_count": 25,
   "id": "510bcfb6",
   "metadata": {},
   "outputs": [
    {
     "data": {
      "text/plain": [
       "'hello addiscoder'"
      ]
     },
     "execution_count": 25,
     "metadata": {},
     "output_type": "execute_result"
    }
   ],
   "source": [
    "\"hello addiscoder\""
   ]
  },
  {
   "cell_type": "code",
   "execution_count": 27,
   "id": "f6a8855f",
   "metadata": {},
   "outputs": [
    {
     "data": {
      "text/plain": [
       "'678'"
      ]
     },
     "execution_count": 27,
     "metadata": {},
     "output_type": "execute_result"
    }
   ],
   "source": [
    "\"678\""
   ]
  },
  {
   "cell_type": "code",
   "execution_count": 30,
   "id": "c30115b8",
   "metadata": {},
   "outputs": [
    {
     "data": {
      "text/plain": [
       "'True'"
      ]
     },
     "execution_count": 30,
     "metadata": {},
     "output_type": "execute_result"
    }
   ],
   "source": [
    "\"True\""
   ]
  },
  {
   "cell_type": "markdown",
   "id": "ca717375",
   "metadata": {},
   "source": [
    "# Beyond numbers: booleans\n",
    "\n",
    "Aside from numbers and strings, there is another \"thing\" in Python called a _boolean_. A boolean is a True or False.\n",
    "\n",
    "The syntax for defining a boolean is to use either `True` or `False`."
   ]
  },
  {
   "cell_type": "code",
   "execution_count": 28,
   "id": "d901c075",
   "metadata": {},
   "outputs": [
    {
     "data": {
      "text/plain": [
       "True"
      ]
     },
     "execution_count": 28,
     "metadata": {},
     "output_type": "execute_result"
    }
   ],
   "source": [
    "True"
   ]
  },
  {
   "cell_type": "code",
   "execution_count": 29,
   "id": "bd7f9965",
   "metadata": {},
   "outputs": [
    {
     "data": {
      "text/plain": [
       "False"
      ]
     },
     "execution_count": 29,
     "metadata": {},
     "output_type": "execute_result"
    }
   ],
   "source": [
    "False"
   ]
  },
  {
   "cell_type": "code",
   "execution_count": 31,
   "id": "f1ccf976",
   "metadata": {},
   "outputs": [
    {
     "ename": "NameError",
     "evalue": "name 'true' is not defined",
     "output_type": "error",
     "traceback": [
      "\u001b[0;31m---------------------------------------------------------------------------\u001b[0m",
      "\u001b[0;31mNameError\u001b[0m                                 Traceback (most recent call last)",
      "\u001b[0;32m/tmp/ipykernel_850159/592217714.py\u001b[0m in \u001b[0;36m<module>\u001b[0;34m\u001b[0m\n\u001b[0;32m----> 1\u001b[0;31m \u001b[0mtrue\u001b[0m\u001b[0;34m\u001b[0m\u001b[0;34m\u001b[0m\u001b[0m\n\u001b[0m",
      "\u001b[0;31mNameError\u001b[0m: name 'true' is not defined"
     ]
    }
   ],
   "source": [
    "true"
   ]
  },
  {
   "cell_type": "markdown",
   "id": "9a3bb6c3",
   "metadata": {},
   "source": [
    "# Putting it together: types\n",
    "\n",
    "Each of the \"things\" we've covered has a _type_. Every \"thing\" in Python has a type.\n",
    "\n",
    "You can determine the type of something by doing the following:"
   ]
  },
  {
   "cell_type": "code",
   "execution_count": 32,
   "id": "7b8808ad",
   "metadata": {},
   "outputs": [
    {
     "data": {
      "text/plain": [
       "int"
      ]
     },
     "execution_count": 32,
     "metadata": {},
     "output_type": "execute_result"
    }
   ],
   "source": [
    "type(1)"
   ]
  },
  {
   "cell_type": "code",
   "execution_count": 33,
   "id": "4406a190",
   "metadata": {},
   "outputs": [
    {
     "data": {
      "text/plain": [
       "float"
      ]
     },
     "execution_count": 33,
     "metadata": {},
     "output_type": "execute_result"
    }
   ],
   "source": [
    "type(1.0)"
   ]
  },
  {
   "cell_type": "code",
   "execution_count": 34,
   "id": "99a199e9",
   "metadata": {},
   "outputs": [
    {
     "data": {
      "text/plain": [
       "str"
      ]
     },
     "execution_count": 34,
     "metadata": {},
     "output_type": "execute_result"
    }
   ],
   "source": [
    "type(\"hello\")"
   ]
  },
  {
   "cell_type": "code",
   "execution_count": 35,
   "id": "435b103f",
   "metadata": {},
   "outputs": [
    {
     "data": {
      "text/plain": [
       "bool"
      ]
     },
     "execution_count": 35,
     "metadata": {},
     "output_type": "execute_result"
    }
   ],
   "source": [
    "type(True)"
   ]
  },
  {
   "cell_type": "markdown",
   "id": "a3d5fed5",
   "metadata": {},
   "source": [
    "# Converting between types\n",
    "\n",
    "You can convert between types using `int`, `float`, `str`, and `bool`"
   ]
  },
  {
   "cell_type": "code",
   "execution_count": 36,
   "id": "fd2ab14a",
   "metadata": {},
   "outputs": [
    {
     "data": {
      "text/plain": [
       "float"
      ]
     },
     "execution_count": 36,
     "metadata": {},
     "output_type": "execute_result"
    }
   ],
   "source": [
    "type(1.2)"
   ]
  },
  {
   "cell_type": "code",
   "execution_count": 37,
   "id": "90cc60a9",
   "metadata": {},
   "outputs": [
    {
     "data": {
      "text/plain": [
       "1"
      ]
     },
     "execution_count": 37,
     "metadata": {},
     "output_type": "execute_result"
    }
   ],
   "source": [
    "int(1.2)"
   ]
  },
  {
   "cell_type": "code",
   "execution_count": 38,
   "id": "46237034",
   "metadata": {},
   "outputs": [
    {
     "data": {
      "text/plain": [
       "1"
      ]
     },
     "execution_count": 38,
     "metadata": {},
     "output_type": "execute_result"
    }
   ],
   "source": [
    "int(1.9)"
   ]
  },
  {
   "cell_type": "code",
   "execution_count": 39,
   "id": "8ec2085a",
   "metadata": {},
   "outputs": [
    {
     "data": {
      "text/plain": [
       "-1"
      ]
     },
     "execution_count": 39,
     "metadata": {},
     "output_type": "execute_result"
    }
   ],
   "source": [
    "int(-1.9)"
   ]
  },
  {
   "cell_type": "code",
   "execution_count": 40,
   "id": "debc1ca0",
   "metadata": {},
   "outputs": [
    {
     "data": {
      "text/plain": [
       "str"
      ]
     },
     "execution_count": 40,
     "metadata": {},
     "output_type": "execute_result"
    }
   ],
   "source": [
    "type(\"1\")"
   ]
  },
  {
   "cell_type": "code",
   "execution_count": 41,
   "id": "c024b547",
   "metadata": {},
   "outputs": [
    {
     "data": {
      "text/plain": [
       "1"
      ]
     },
     "execution_count": 41,
     "metadata": {},
     "output_type": "execute_result"
    }
   ],
   "source": [
    "int(\"1\")"
   ]
  },
  {
   "cell_type": "code",
   "execution_count": 42,
   "id": "c2ad183a",
   "metadata": {},
   "outputs": [
    {
     "ename": "ValueError",
     "evalue": "invalid literal for int() with base 10: '1a'",
     "output_type": "error",
     "traceback": [
      "\u001b[0;31m---------------------------------------------------------------------------\u001b[0m",
      "\u001b[0;31mValueError\u001b[0m                                Traceback (most recent call last)",
      "\u001b[0;32m/tmp/ipykernel_850159/4249014070.py\u001b[0m in \u001b[0;36m<module>\u001b[0;34m\u001b[0m\n\u001b[0;32m----> 1\u001b[0;31m \u001b[0mint\u001b[0m\u001b[0;34m(\u001b[0m\u001b[0;34m\"1a\"\u001b[0m\u001b[0;34m)\u001b[0m\u001b[0;34m\u001b[0m\u001b[0;34m\u001b[0m\u001b[0m\n\u001b[0m",
      "\u001b[0;31mValueError\u001b[0m: invalid literal for int() with base 10: '1a'"
     ]
    }
   ],
   "source": [
    "int(\"1a\")"
   ]
  },
  {
   "cell_type": "code",
   "execution_count": 43,
   "id": "5d82b05b",
   "metadata": {},
   "outputs": [
    {
     "ename": "ValueError",
     "evalue": "invalid literal for int() with base 10: '1.2'",
     "output_type": "error",
     "traceback": [
      "\u001b[0;31m---------------------------------------------------------------------------\u001b[0m",
      "\u001b[0;31mValueError\u001b[0m                                Traceback (most recent call last)",
      "\u001b[0;32m/tmp/ipykernel_850159/3809317863.py\u001b[0m in \u001b[0;36m<module>\u001b[0;34m\u001b[0m\n\u001b[0;32m----> 1\u001b[0;31m \u001b[0mint\u001b[0m\u001b[0;34m(\u001b[0m\u001b[0;34m\"1.2\"\u001b[0m\u001b[0;34m)\u001b[0m\u001b[0;34m\u001b[0m\u001b[0;34m\u001b[0m\u001b[0m\n\u001b[0m",
      "\u001b[0;31mValueError\u001b[0m: invalid literal for int() with base 10: '1.2'"
     ]
    }
   ],
   "source": [
    "int(\"1.2\")"
   ]
  },
  {
   "cell_type": "code",
   "execution_count": 44,
   "id": "f097fdea",
   "metadata": {},
   "outputs": [
    {
     "data": {
      "text/plain": [
       "1.0"
      ]
     },
     "execution_count": 44,
     "metadata": {},
     "output_type": "execute_result"
    }
   ],
   "source": [
    "float(1)"
   ]
  },
  {
   "cell_type": "code",
   "execution_count": 45,
   "id": "3f023c51",
   "metadata": {},
   "outputs": [
    {
     "data": {
      "text/plain": [
       "1.2"
      ]
     },
     "execution_count": 45,
     "metadata": {},
     "output_type": "execute_result"
    }
   ],
   "source": [
    "float(\"1.2\")"
   ]
  },
  {
   "cell_type": "code",
   "execution_count": 46,
   "id": "b9781446",
   "metadata": {},
   "outputs": [
    {
     "data": {
      "text/plain": [
       "'1'"
      ]
     },
     "execution_count": 46,
     "metadata": {},
     "output_type": "execute_result"
    }
   ],
   "source": [
    "str(1)"
   ]
  },
  {
   "cell_type": "code",
   "execution_count": 47,
   "id": "84d7d865",
   "metadata": {},
   "outputs": [
    {
     "data": {
      "text/plain": [
       "True"
      ]
     },
     "execution_count": 47,
     "metadata": {},
     "output_type": "execute_result"
    }
   ],
   "source": [
    "bool(1)"
   ]
  },
  {
   "cell_type": "code",
   "execution_count": 48,
   "id": "a1cf9f90",
   "metadata": {},
   "outputs": [
    {
     "data": {
      "text/plain": [
       "True"
      ]
     },
     "execution_count": 48,
     "metadata": {},
     "output_type": "execute_result"
    }
   ],
   "source": [
    "bool(2)"
   ]
  },
  {
   "cell_type": "code",
   "execution_count": 49,
   "id": "62163902",
   "metadata": {},
   "outputs": [
    {
     "data": {
      "text/plain": [
       "False"
      ]
     },
     "execution_count": 49,
     "metadata": {},
     "output_type": "execute_result"
    }
   ],
   "source": [
    "bool(0)"
   ]
  },
  {
   "cell_type": "code",
   "execution_count": 51,
   "id": "bd7b0aa0",
   "metadata": {},
   "outputs": [
    {
     "data": {
      "text/plain": [
       "True"
      ]
     },
     "execution_count": 51,
     "metadata": {},
     "output_type": "execute_result"
    }
   ],
   "source": [
    "bool(1.0)"
   ]
  },
  {
   "cell_type": "code",
   "execution_count": 52,
   "id": "86040e33",
   "metadata": {},
   "outputs": [
    {
     "data": {
      "text/plain": [
       "True"
      ]
     },
     "execution_count": 52,
     "metadata": {},
     "output_type": "execute_result"
    }
   ],
   "source": [
    "bool(\"true\")"
   ]
  },
  {
   "cell_type": "code",
   "execution_count": 53,
   "id": "833e8106",
   "metadata": {},
   "outputs": [
    {
     "data": {
      "text/plain": [
       "True"
      ]
     },
     "execution_count": 53,
     "metadata": {},
     "output_type": "execute_result"
    }
   ],
   "source": [
    "bool(\"false\")"
   ]
  },
  {
   "cell_type": "code",
   "execution_count": 54,
   "id": "2ae4de2f",
   "metadata": {},
   "outputs": [
    {
     "data": {
      "text/plain": [
       "False"
      ]
     },
     "execution_count": 54,
     "metadata": {},
     "output_type": "execute_result"
    }
   ],
   "source": [
    "bool(\"\")"
   ]
  },
  {
   "cell_type": "code",
   "execution_count": 55,
   "id": "379d8c17",
   "metadata": {},
   "outputs": [
    {
     "data": {
      "text/plain": [
       "True"
      ]
     },
     "execution_count": 55,
     "metadata": {},
     "output_type": "execute_result"
    }
   ],
   "source": [
    "bool(\" \")"
   ]
  },
  {
   "cell_type": "code",
   "execution_count": 56,
   "id": "a696b624",
   "metadata": {},
   "outputs": [
    {
     "data": {
      "text/plain": [
       "True"
      ]
     },
     "execution_count": 56,
     "metadata": {},
     "output_type": "execute_result"
    }
   ],
   "source": [
    "bool(\"0\")"
   ]
  },
  {
   "cell_type": "markdown",
   "id": "832d78ec",
   "metadata": {},
   "source": [
    "# Operations that (can) convert between types\n",
    "\n",
    "Beyond the arithemtic operations we've seen, there are also other kinds of operations. We'll start with equals and not equals. These operations can _change the types_ of the things they operate on"
   ]
  },
  {
   "cell_type": "code",
   "execution_count": 57,
   "id": "769e7500",
   "metadata": {},
   "outputs": [
    {
     "data": {
      "text/plain": [
       "True"
      ]
     },
     "execution_count": 57,
     "metadata": {},
     "output_type": "execute_result"
    }
   ],
   "source": [
    "1 == 1"
   ]
  },
  {
   "cell_type": "code",
   "execution_count": 58,
   "id": "eb9a1afd",
   "metadata": {},
   "outputs": [
    {
     "data": {
      "text/plain": [
       "False"
      ]
     },
     "execution_count": 58,
     "metadata": {},
     "output_type": "execute_result"
    }
   ],
   "source": [
    "1 == 2 "
   ]
  },
  {
   "cell_type": "code",
   "execution_count": 59,
   "id": "2d3a788a",
   "metadata": {},
   "outputs": [
    {
     "data": {
      "text/plain": [
       "True"
      ]
     },
     "execution_count": 59,
     "metadata": {},
     "output_type": "execute_result"
    }
   ],
   "source": [
    "True == True"
   ]
  },
  {
   "cell_type": "code",
   "execution_count": 60,
   "id": "51bbd5e6",
   "metadata": {},
   "outputs": [
    {
     "data": {
      "text/plain": [
       "False"
      ]
     },
     "execution_count": 60,
     "metadata": {},
     "output_type": "execute_result"
    }
   ],
   "source": [
    "True == False"
   ]
  },
  {
   "cell_type": "code",
   "execution_count": 61,
   "id": "7d89ffdd",
   "metadata": {},
   "outputs": [
    {
     "data": {
      "text/plain": [
       "True"
      ]
     },
     "execution_count": 61,
     "metadata": {},
     "output_type": "execute_result"
    }
   ],
   "source": [
    "\"hello\" == \"hello\""
   ]
  },
  {
   "cell_type": "code",
   "execution_count": 62,
   "id": "1339c454",
   "metadata": {},
   "outputs": [
    {
     "data": {
      "text/plain": [
       "False"
      ]
     },
     "execution_count": 62,
     "metadata": {},
     "output_type": "execute_result"
    }
   ],
   "source": [
    "\"hello\" == \"Hello\""
   ]
  },
  {
   "cell_type": "code",
   "execution_count": 63,
   "id": "57bd03a8",
   "metadata": {},
   "outputs": [
    {
     "data": {
      "text/plain": [
       "False"
      ]
     },
     "execution_count": 63,
     "metadata": {},
     "output_type": "execute_result"
    }
   ],
   "source": [
    "\"hello\" == \"hello \""
   ]
  },
  {
   "cell_type": "code",
   "execution_count": 64,
   "id": "3feae52d",
   "metadata": {},
   "outputs": [
    {
     "data": {
      "text/plain": [
       "False"
      ]
     },
     "execution_count": 64,
     "metadata": {},
     "output_type": "execute_result"
    }
   ],
   "source": [
    "1 != 1"
   ]
  },
  {
   "cell_type": "code",
   "execution_count": 65,
   "id": "4966b199",
   "metadata": {},
   "outputs": [
    {
     "data": {
      "text/plain": [
       "True"
      ]
     },
     "execution_count": 65,
     "metadata": {},
     "output_type": "execute_result"
    }
   ],
   "source": [
    "1 != 2"
   ]
  },
  {
   "cell_type": "code",
   "execution_count": 66,
   "id": "d336df3f",
   "metadata": {},
   "outputs": [
    {
     "data": {
      "text/plain": [
       "False"
      ]
     },
     "execution_count": 66,
     "metadata": {},
     "output_type": "execute_result"
    }
   ],
   "source": [
    "True != True"
   ]
  },
  {
   "cell_type": "code",
   "execution_count": 67,
   "id": "ddd0d1b8",
   "metadata": {},
   "outputs": [
    {
     "data": {
      "text/plain": [
       "True"
      ]
     },
     "execution_count": 67,
     "metadata": {},
     "output_type": "execute_result"
    }
   ],
   "source": [
    "True != False"
   ]
  },
  {
   "cell_type": "code",
   "execution_count": 68,
   "id": "a5fdfb23",
   "metadata": {},
   "outputs": [
    {
     "ename": "SyntaxError",
     "evalue": "cannot assign to literal (814398681.py, line 1)",
     "output_type": "error",
     "traceback": [
      "\u001b[0;36m  File \u001b[0;32m\"/tmp/ipykernel_850159/814398681.py\"\u001b[0;36m, line \u001b[0;32m1\u001b[0m\n\u001b[0;31m    1 = 1\u001b[0m\n\u001b[0m    ^\u001b[0m\n\u001b[0;31mSyntaxError\u001b[0m\u001b[0;31m:\u001b[0m cannot assign to literal\n"
     ]
    }
   ],
   "source": [
    "1 = 1"
   ]
  },
  {
   "cell_type": "code",
   "execution_count": 69,
   "id": "6fbb0ea8",
   "metadata": {},
   "outputs": [
    {
     "data": {
      "text/plain": [
       "True"
      ]
     },
     "execution_count": 69,
     "metadata": {},
     "output_type": "execute_result"
    }
   ],
   "source": [
    "1 == True"
   ]
  },
  {
   "cell_type": "code",
   "execution_count": 70,
   "id": "589902a1",
   "metadata": {},
   "outputs": [
    {
     "data": {
      "text/plain": [
       "False"
      ]
     },
     "execution_count": 70,
     "metadata": {},
     "output_type": "execute_result"
    }
   ],
   "source": [
    "2 == True"
   ]
  },
  {
   "cell_type": "code",
   "execution_count": 71,
   "id": "c16cac9c",
   "metadata": {},
   "outputs": [
    {
     "data": {
      "text/plain": [
       "True"
      ]
     },
     "execution_count": 71,
     "metadata": {},
     "output_type": "execute_result"
    }
   ],
   "source": [
    "bool(2)"
   ]
  },
  {
   "cell_type": "code",
   "execution_count": 72,
   "id": "1c552439",
   "metadata": {},
   "outputs": [
    {
     "data": {
      "text/plain": [
       "True"
      ]
     },
     "execution_count": 72,
     "metadata": {},
     "output_type": "execute_result"
    }
   ],
   "source": [
    "0 == False"
   ]
  },
  {
   "cell_type": "code",
   "execution_count": 73,
   "id": "4fdebfc0",
   "metadata": {},
   "outputs": [
    {
     "data": {
      "text/plain": [
       "False"
      ]
     },
     "execution_count": 73,
     "metadata": {},
     "output_type": "execute_result"
    }
   ],
   "source": [
    "\"\" == False"
   ]
  },
  {
   "cell_type": "code",
   "execution_count": 75,
   "id": "cfdde5e9",
   "metadata": {},
   "outputs": [
    {
     "data": {
      "text/plain": [
       "1"
      ]
     },
     "execution_count": 75,
     "metadata": {},
     "output_type": "execute_result"
    }
   ],
   "source": [
    "int(True)"
   ]
  },
  {
   "cell_type": "markdown",
   "id": "756f6d2f",
   "metadata": {},
   "source": [
    "# Heirachy of equality checking\n",
    "- String\n",
    "- Float\n",
    "- Int\n",
    "- Bool"
   ]
  },
  {
   "cell_type": "code",
   "execution_count": 108,
   "id": "2111bbf8",
   "metadata": {},
   "outputs": [
    {
     "data": {
      "text/plain": [
       "False"
      ]
     },
     "execution_count": 108,
     "metadata": {},
     "output_type": "execute_result"
    }
   ],
   "source": [
    "\"\" == False\n",
    "# Strings are not compatible with bools\n",
    "# Automatically evaluates to false"
   ]
  },
  {
   "cell_type": "code",
   "execution_count": 109,
   "id": "7c115627",
   "metadata": {},
   "outputs": [
    {
     "data": {
      "text/plain": [
       "True"
      ]
     },
     "execution_count": 109,
     "metadata": {},
     "output_type": "execute_result"
    }
   ],
   "source": [
    "1 == True"
   ]
  },
  {
   "cell_type": "code",
   "execution_count": 84,
   "id": "d261311c",
   "metadata": {},
   "outputs": [
    {
     "data": {
      "text/plain": [
       "False"
      ]
     },
     "execution_count": 84,
     "metadata": {},
     "output_type": "execute_result"
    }
   ],
   "source": [
    "True == \"a\""
   ]
  },
  {
   "cell_type": "code",
   "execution_count": 85,
   "id": "4a682b47",
   "metadata": {},
   "outputs": [
    {
     "data": {
      "text/plain": [
       "False"
      ]
     },
     "execution_count": 85,
     "metadata": {},
     "output_type": "execute_result"
    }
   ],
   "source": [
    "True == \"True\""
   ]
  },
  {
   "cell_type": "markdown",
   "id": "488ab8b3",
   "metadata": {},
   "source": [
    "Explore other kinds of equals and not equals in lab!\n",
    "\n",
    "# Inequalities \n",
    "\n",
    "You can also compare numbers"
   ]
  },
  {
   "cell_type": "code",
   "execution_count": 78,
   "id": "8926f453",
   "metadata": {},
   "outputs": [
    {
     "data": {
      "text/plain": [
       "False"
      ]
     },
     "execution_count": 78,
     "metadata": {},
     "output_type": "execute_result"
    }
   ],
   "source": [
    "1 > 1"
   ]
  },
  {
   "cell_type": "code",
   "execution_count": 79,
   "id": "b92263b9",
   "metadata": {},
   "outputs": [
    {
     "data": {
      "text/plain": [
       "True"
      ]
     },
     "execution_count": 79,
     "metadata": {},
     "output_type": "execute_result"
    }
   ],
   "source": [
    "1 >= 1"
   ]
  },
  {
   "cell_type": "code",
   "execution_count": 80,
   "id": "08234fac",
   "metadata": {},
   "outputs": [
    {
     "data": {
      "text/plain": [
       "True"
      ]
     },
     "execution_count": 80,
     "metadata": {},
     "output_type": "execute_result"
    }
   ],
   "source": [
    "2 > 1"
   ]
  },
  {
   "cell_type": "code",
   "execution_count": 81,
   "id": "ac904397",
   "metadata": {},
   "outputs": [
    {
     "data": {
      "text/plain": [
       "True"
      ]
     },
     "execution_count": 81,
     "metadata": {},
     "output_type": "execute_result"
    }
   ],
   "source": [
    "2 >= 1"
   ]
  },
  {
   "cell_type": "code",
   "execution_count": 82,
   "id": "f95b42cf",
   "metadata": {},
   "outputs": [
    {
     "data": {
      "text/plain": [
       "False"
      ]
     },
     "execution_count": 82,
     "metadata": {},
     "output_type": "execute_result"
    }
   ],
   "source": [
    "2 < 1"
   ]
  },
  {
   "cell_type": "code",
   "execution_count": 83,
   "id": "7ac921e1",
   "metadata": {},
   "outputs": [
    {
     "data": {
      "text/plain": [
       "False"
      ]
     },
     "execution_count": 83,
     "metadata": {},
     "output_type": "execute_result"
    }
   ],
   "source": [
    "2 <= 1"
   ]
  },
  {
   "cell_type": "markdown",
   "id": "d11a1607",
   "metadata": {},
   "source": [
    "You can also compare things like strings and booleans. Explore what happens in lab!\n",
    "\n",
    "# Arithmetic for non-number types\n",
    "\n",
    "Python also allows for arithmetic operations for non-number types. This can be very confusing, so let's walk through it slowly."
   ]
  },
  {
   "cell_type": "code",
   "execution_count": 86,
   "id": "64169f50",
   "metadata": {},
   "outputs": [
    {
     "data": {
      "text/plain": [
       "'HelloAddisCoder!'"
      ]
     },
     "execution_count": 86,
     "metadata": {},
     "output_type": "execute_result"
    }
   ],
   "source": [
    "\"Hello\" + \"AddisCoder!\""
   ]
  },
  {
   "cell_type": "code",
   "execution_count": 87,
   "id": "4e48cd13",
   "metadata": {},
   "outputs": [
    {
     "data": {
      "text/plain": [
       "'Hello AddisCoder!'"
      ]
     },
     "execution_count": 87,
     "metadata": {},
     "output_type": "execute_result"
    }
   ],
   "source": [
    "\"Hello\" + \" AddisCoder!\""
   ]
  },
  {
   "cell_type": "code",
   "execution_count": 88,
   "id": "2cfcbc75",
   "metadata": {},
   "outputs": [
    {
     "ename": "TypeError",
     "evalue": "can only concatenate str (not \"int\") to str",
     "output_type": "error",
     "traceback": [
      "\u001b[0;31m---------------------------------------------------------------------------\u001b[0m",
      "\u001b[0;31mTypeError\u001b[0m                                 Traceback (most recent call last)",
      "\u001b[0;32m/tmp/ipykernel_850159/2964887830.py\u001b[0m in \u001b[0;36m<module>\u001b[0;34m\u001b[0m\n\u001b[0;32m----> 1\u001b[0;31m \u001b[0;34m\"Hello\"\u001b[0m \u001b[0;34m+\u001b[0m \u001b[0;36m1\u001b[0m\u001b[0;34m\u001b[0m\u001b[0;34m\u001b[0m\u001b[0m\n\u001b[0m",
      "\u001b[0;31mTypeError\u001b[0m: can only concatenate str (not \"int\") to str"
     ]
    }
   ],
   "source": [
    "\"Hello\" + 1"
   ]
  },
  {
   "cell_type": "code",
   "execution_count": 91,
   "id": "a05fbfa2",
   "metadata": {},
   "outputs": [
    {
     "data": {
      "text/plain": [
       "'hello hello hello hello hello '"
      ]
     },
     "execution_count": 91,
     "metadata": {},
     "output_type": "execute_result"
    }
   ],
   "source": [
    "\"hello \" * 5"
   ]
  },
  {
   "cell_type": "code",
   "execution_count": 92,
   "id": "6587524b",
   "metadata": {},
   "outputs": [
    {
     "data": {
      "text/plain": [
       "''"
      ]
     },
     "execution_count": 92,
     "metadata": {},
     "output_type": "execute_result"
    }
   ],
   "source": [
    "\"hello \" * 0"
   ]
  },
  {
   "cell_type": "code",
   "execution_count": 90,
   "id": "9f53e745",
   "metadata": {},
   "outputs": [
    {
     "ename": "TypeError",
     "evalue": "unsupported operand type(s) for //: 'str' and 'int'",
     "output_type": "error",
     "traceback": [
      "\u001b[0;31m---------------------------------------------------------------------------\u001b[0m",
      "\u001b[0;31mTypeError\u001b[0m                                 Traceback (most recent call last)",
      "\u001b[0;32m/tmp/ipykernel_850159/3874120328.py\u001b[0m in \u001b[0;36m<module>\u001b[0;34m\u001b[0m\n\u001b[0;32m----> 1\u001b[0;31m \u001b[0;34m\"hello\"\u001b[0m \u001b[0;34m//\u001b[0m \u001b[0;36m3\u001b[0m\u001b[0;34m\u001b[0m\u001b[0;34m\u001b[0m\u001b[0m\n\u001b[0m",
      "\u001b[0;31mTypeError\u001b[0m: unsupported operand type(s) for //: 'str' and 'int'"
     ]
    }
   ],
   "source": [
    "\"hello\" // 3"
   ]
  },
  {
   "cell_type": "code",
   "execution_count": 93,
   "id": "548dc7e6",
   "metadata": {},
   "outputs": [
    {
     "data": {
      "text/plain": [
       "2"
      ]
     },
     "execution_count": 93,
     "metadata": {},
     "output_type": "execute_result"
    }
   ],
   "source": [
    "1 + True"
   ]
  },
  {
   "cell_type": "code",
   "execution_count": 94,
   "id": "2a68005e",
   "metadata": {},
   "outputs": [
    {
     "data": {
      "text/plain": [
       "1"
      ]
     },
     "execution_count": 94,
     "metadata": {},
     "output_type": "execute_result"
    }
   ],
   "source": [
    "1 + False"
   ]
  },
  {
   "cell_type": "code",
   "execution_count": 95,
   "id": "40553a4e",
   "metadata": {},
   "outputs": [
    {
     "data": {
      "text/plain": [
       "1"
      ]
     },
     "execution_count": 95,
     "metadata": {},
     "output_type": "execute_result"
    }
   ],
   "source": [
    "1 * True"
   ]
  },
  {
   "cell_type": "code",
   "execution_count": 96,
   "id": "985a954a",
   "metadata": {},
   "outputs": [
    {
     "data": {
      "text/plain": [
       "0"
      ]
     },
     "execution_count": 96,
     "metadata": {},
     "output_type": "execute_result"
    }
   ],
   "source": [
    "1 * False"
   ]
  },
  {
   "cell_type": "code",
   "execution_count": 97,
   "id": "fffd531d",
   "metadata": {},
   "outputs": [
    {
     "ename": "TypeError",
     "evalue": "unsupported operand type(s) for ** or pow(): 'str' and 'int'",
     "output_type": "error",
     "traceback": [
      "\u001b[0;31m---------------------------------------------------------------------------\u001b[0m",
      "\u001b[0;31mTypeError\u001b[0m                                 Traceback (most recent call last)",
      "\u001b[0;32m/tmp/ipykernel_850159/435919030.py\u001b[0m in \u001b[0;36m<module>\u001b[0;34m\u001b[0m\n\u001b[0;32m----> 1\u001b[0;31m \u001b[0;34m\"hello \"\u001b[0m \u001b[0;34m**\u001b[0m \u001b[0;36m2\u001b[0m\u001b[0;34m\u001b[0m\u001b[0;34m\u001b[0m\u001b[0m\n\u001b[0m",
      "\u001b[0;31mTypeError\u001b[0m: unsupported operand type(s) for ** or pow(): 'str' and 'int'"
     ]
    }
   ],
   "source": [
    "\"hello \" ** 2"
   ]
  },
  {
   "cell_type": "markdown",
   "id": "8b8513dd",
   "metadata": {},
   "source": [
    "# Advanced topic: variables\n",
    "\n",
    "We will briefly cover an advanced topic called _variables_. Don't worry if this is confusing - you do not need understand them today. We will cover it in more detail tomorrow.\n",
    "\n",
    "You've seen variables in math, like in $f(x) = x^2$, $x$ is a variable.\n",
    "\n",
    "A PROGRAMMING VARIABLE IS NOT A MATH VARIABLE!\n",
    "\n",
    "A PROGRAMMING VARIABLE IS NOT A MATH VARIABLE!"
   ]
  },
  {
   "cell_type": "markdown",
   "id": "ae76caf1",
   "metadata": {},
   "source": [
    "# So what is a variable\n",
    "\n",
    "A programming variable \"holds\" some value. This value can be any of the types we've seen so far (they can also be other things, but we'll see this later).\n",
    "\n",
    "The value of a programming variable can change! This is NOT TRUE for math variables!"
   ]
  },
  {
   "cell_type": "code",
   "execution_count": 110,
   "id": "ea6b8668",
   "metadata": {},
   "outputs": [],
   "source": [
    "x = 1"
   ]
  },
  {
   "cell_type": "code",
   "execution_count": 99,
   "id": "d3e255b3",
   "metadata": {},
   "outputs": [
    {
     "data": {
      "text/plain": [
       "1"
      ]
     },
     "execution_count": 99,
     "metadata": {},
     "output_type": "execute_result"
    }
   ],
   "source": [
    "x = 1\n",
    "x"
   ]
  },
  {
   "cell_type": "code",
   "execution_count": 100,
   "id": "3b499cca",
   "metadata": {},
   "outputs": [
    {
     "data": {
      "text/plain": [
       "2"
      ]
     },
     "execution_count": 100,
     "metadata": {},
     "output_type": "execute_result"
    }
   ],
   "source": [
    "x = 1\n",
    "x = 2\n",
    "x"
   ]
  },
  {
   "cell_type": "code",
   "execution_count": 101,
   "id": "8b8b20e6",
   "metadata": {},
   "outputs": [
    {
     "data": {
      "text/plain": [
       "2"
      ]
     },
     "execution_count": 101,
     "metadata": {},
     "output_type": "execute_result"
    }
   ],
   "source": [
    "x = 1\n",
    "x = x + 1\n",
    "x"
   ]
  },
  {
   "cell_type": "code",
   "execution_count": 102,
   "id": "1358cb34",
   "metadata": {},
   "outputs": [
    {
     "data": {
      "text/plain": [
       "'hello'"
      ]
     },
     "execution_count": 102,
     "metadata": {},
     "output_type": "execute_result"
    }
   ],
   "source": [
    "x = \"hello\"\n",
    "x"
   ]
  },
  {
   "cell_type": "code",
   "execution_count": 103,
   "id": "235fb2c7",
   "metadata": {},
   "outputs": [
    {
     "data": {
      "text/plain": [
       "True"
      ]
     },
     "execution_count": 103,
     "metadata": {},
     "output_type": "execute_result"
    }
   ],
   "source": [
    "x = True\n",
    "x"
   ]
  },
  {
   "cell_type": "code",
   "execution_count": 104,
   "id": "f0ff883c",
   "metadata": {},
   "outputs": [
    {
     "data": {
      "text/plain": [
       "3"
      ]
     },
     "execution_count": 104,
     "metadata": {},
     "output_type": "execute_result"
    }
   ],
   "source": [
    "x = 1\n",
    "y = 2\n",
    "x + y"
   ]
  },
  {
   "cell_type": "code",
   "execution_count": 105,
   "id": "f28d7118",
   "metadata": {},
   "outputs": [
    {
     "data": {
      "text/plain": [
       "3"
      ]
     },
     "execution_count": 105,
     "metadata": {},
     "output_type": "execute_result"
    }
   ],
   "source": [
    "x = 1\n",
    "y = 2\n",
    "z = x + y\n",
    "z"
   ]
  },
  {
   "cell_type": "code",
   "execution_count": 106,
   "id": "45467ec6",
   "metadata": {},
   "outputs": [
    {
     "data": {
      "text/plain": [
       "1"
      ]
     },
     "execution_count": 106,
     "metadata": {},
     "output_type": "execute_result"
    }
   ],
   "source": [
    "x = 1\n",
    "y = x\n",
    "y"
   ]
  },
  {
   "cell_type": "code",
   "execution_count": null,
   "id": "9b63a346",
   "metadata": {},
   "outputs": [],
   "source": []
  }
 ],
 "metadata": {
  "kernelspec": {
   "display_name": "Python 3 (ipykernel)",
   "language": "python",
   "name": "python3"
  },
  "language_info": {
   "codemirror_mode": {
    "name": "ipython",
    "version": 3
   },
   "file_extension": ".py",
   "mimetype": "text/x-python",
   "name": "python",
   "nbconvert_exporter": "python",
   "pygments_lexer": "ipython3",
   "version": "3.9.16"
  }
 },
 "nbformat": 4,
 "nbformat_minor": 5
}
