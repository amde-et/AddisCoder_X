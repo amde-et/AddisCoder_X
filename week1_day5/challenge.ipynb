{
 "cells": [
  {
   "cell_type": "markdown",
   "id": "29829e1a",
   "metadata": {},
   "source": [
    "## Challenges"
   ]
  },
  {
   "cell_type": "markdown",
   "id": "dc8bf056",
   "metadata": {},
   "source": [
    "### Exercise\n",
    "\n",
    "Starting with the number and moving to the right in a clockwise direction a by\n",
    "\n",
    "spiral is formed as follows:\n",
    "    \n",
    "```\n",
    "21 22 23 24 25\n",
    "20  7  8  9 10\n",
    "19  6  1  2 11\n",
    "18  5  4  3 12\n",
    "17 16 15 14 13\n",
    "```\n",
    "\n",
    "It can be verified that the sum of the numbers on the diagonals is 21+7+1+3+13+25+9+5+17=101.\n",
    "\n",
    "What is the sum of the numbers on the diagonals in a 1001 by 1001 spiral formed in the same way?\n",
    "\n",
    "Hint: You do not need to compute this spiral, just take a close look at the numbers that are summed up."
   ]
  },
  {
   "cell_type": "code",
   "execution_count": null,
   "id": "d943c6cd",
   "metadata": {},
   "outputs": [],
   "source": []
  },
  {
   "cell_type": "markdown",
   "id": "3c917ced",
   "metadata": {},
   "source": [
    "### Exercise\n",
    "\n",
    "<p>Find the number of integers $1 \\lt n \\lt 10^7$, for which $n$ and $n + 1$ have the same number of positive divisors. For example, $14$ has the positive divisors $1, 2, 7, 14$ while $15$ has $1, 3, 5, 15$.</p>"
   ]
  },
  {
   "cell_type": "code",
   "execution_count": null,
   "id": "14d825be",
   "metadata": {},
   "outputs": [],
   "source": []
  },
  {
   "cell_type": "markdown",
   "id": "d593fdaf",
   "metadata": {},
   "source": [
    "### Exercise\n",
    "\n",
    "<p>If $p$ is the perimeter of a right angle triangle with integral length sides, $\\{a, b, c\\}$, there are exactly three such triangles for $p = 120$:</p>\n",
    "<p>$\\{20,48,52\\}$, $\\{24,45,51\\}$, $\\{30,40,50\\}$</p>\n",
    "<p>For which value of $p \\le 1000$, is the number of such triangles maximised?</p>"
   ]
  },
  {
   "cell_type": "code",
   "execution_count": null,
   "id": "b7b73ed1",
   "metadata": {},
   "outputs": [],
   "source": []
  },
  {
   "cell_type": "markdown",
   "id": "c2af66af",
   "metadata": {},
   "source": [
    "### Exercise\n",
    "\n",
    "Given two sorted lists, write a function to merge these lists into a new sorted list.\n",
    "\n",
    "Example: `[1,2,5,6,6,7]` and `[2,3,8]` --> `[1,2,2,3,5,6,6,7,8]`\n",
    "\n",
    "No nesting of loops allowed!"
   ]
  },
  {
   "cell_type": "code",
   "execution_count": null,
   "id": "2779edaa",
   "metadata": {},
   "outputs": [],
   "source": []
  },
  {
   "cell_type": "markdown",
   "id": "e4b7d9fc",
   "metadata": {},
   "source": [
    "### Exercise\n",
    "\n",
    "Given a string `s`, write a function to find the length of the longest substring without repeating characters.\n",
    "\n",
    "No nesting of for-loops allowed!"
   ]
  },
  {
   "cell_type": "code",
   "execution_count": null,
   "id": "7821dfe1",
   "metadata": {},
   "outputs": [],
   "source": []
  }
 ],
 "metadata": {
  "kernelspec": {
   "display_name": "Python 3",
   "language": "python",
   "name": "python3"
  },
  "language_info": {
   "codemirror_mode": {
    "name": "ipython",
    "version": 3
   },
   "file_extension": ".py",
   "mimetype": "text/x-python",
   "name": "python",
   "nbconvert_exporter": "python",
   "pygments_lexer": "ipython3",
   "version": "3.6.9"
  }
 },
 "nbformat": 4,
 "nbformat_minor": 5
}
