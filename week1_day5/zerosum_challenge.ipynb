{
 "cells": [
  {
   "cell_type": "markdown",
   "metadata": {},
   "source": [
    "### Challenge: Finding slices of lists that sum to zero\n",
    "Consider a list named `foo`"
   ]
  },
  {
   "cell_type": "code",
   "execution_count": 2,
   "metadata": {},
   "outputs": [],
   "source": [
    "foo = [2, 3, -2, 1, -2, 5, 1]"
   ]
  },
  {
   "cell_type": "markdown",
   "metadata": {},
   "source": [
    "Notice how `foo[1:5]`, that is, `[3, -2, 1, -2]`, sums to zero.\n",
    "\n",
    "That is, 3 + (-2) + 1 + (-2) = 0."
   ]
  },
  {
   "cell_type": "code",
   "execution_count": 3,
   "metadata": {},
   "outputs": [
    {
     "name": "stdout",
     "output_type": "stream",
     "text": [
      "Here is a slice of foo: [3, -2, 1, -2]\n",
      "This slice sums to: 0\n"
     ]
    }
   ],
   "source": [
    "print('Here is a slice of foo:', foo[1:5])\n",
    "print('This slice sums to:', sum(foo[1:5]))"
   ]
  },
  {
   "cell_type": "markdown",
   "metadata": {},
   "source": [
    "What if we wanted to write a python function named `zeroSumSlice()` that:\n",
    "1. Takes any list of integers as an argument. \n",
    "2. Returns a slice of that list that sums to zero. \n",
    "\n",
    "Specifically, this function should return **any** slice that sums to zero, \n",
    "so long as that slice is **not** an empty list `[]`. \n",
    "\n",
    "If there is no such slice in the list, this function should return `None` instead. \n",
    "\n",
    "```\n",
    "zeroSumSlice([1,-3,3,1]) # returns [-3, 3]\n",
    "zeroSumSlice([1,2,3])    # returns None\n",
    "```\n",
    "\n",
    "Here is one way to write this function. \n"
   ]
  },
  {
   "cell_type": "code",
   "execution_count": 1,
   "metadata": {},
   "outputs": [
    {
     "name": "stdout",
     "output_type": "stream",
     "text": [
      "[3, -2, 1, -2]\n",
      "[-3, 3]\n",
      "None\n"
     ]
    }
   ],
   "source": [
    "def zeroSumSlice(lst):\n",
    "    n = len(lst)\n",
    "    # try every possible slice in the list.\n",
    "    # see if any slice sums to zero.\n",
    "    for i in range(n):\n",
    "        for j in range(i + 1, n):\n",
    "            someSlice = lst[i:j]\n",
    "            if sum(someSlice) == 0:\n",
    "                return someSlice\n",
    "    # no slice found\n",
    "    return None\n",
    "\n",
    "\n",
    "print(zeroSumSlice([2, 3, -2, 1, -2, 5, 1]))\n",
    "print(zeroSumSlice([1, -3, 3, 1]))\n",
    "print(zeroSumSlice([1, 2, 3]))"
   ]
  },
  {
   "cell_type": "markdown",
   "metadata": {},
   "source": [
    "#### Question 1 \n",
    "In python, `sum()` is a built-in function. Try writing your own `mySum()` function to see how it works"
   ]
  },
  {
   "cell_type": "code",
   "execution_count": 5,
   "metadata": {},
   "outputs": [
    {
     "name": "stdout",
     "output_type": "stream",
     "text": [
      "False\n",
      "False\n",
      "False\n",
      "False\n"
     ]
    }
   ],
   "source": [
    "# mySum takes a list of numbers, lst, and returns the sum of those numbers.\n",
    "def mySum(lst):\n",
    "    # YOUR CODE HERE. Use a for loop. Do not use sum()!\n",
    "    return\n",
    "\n",
    "\n",
    "# If your code is correct,\n",
    "# these statements should all print True\n",
    "print(mySum([1, 2, 3]) == 6)\n",
    "print(mySum(range(100)) == 4950)\n",
    "print(mySum([]) == 0)\n",
    "print(mySum([1, -1]) == 0)"
   ]
  },
  {
   "cell_type": "markdown",
   "metadata": {},
   "source": [
    "#### Question 2\n",
    "If we call the length of the list `n`, what is the time complexity of `mySum()` in terms of `n`? Use asymptotic (Big-O) notation. \n",
    "\n",
    "Note: Time complexity counts how many operations are done in your code. If you have a single for loop from 1 to `n`, it takes approximately `n` operations to do the counting in the for loops. We call that linear time, or $O(n)$.\n",
    "For example, the python `sum` function, to sum up `n` numbers, also takes $O(n)$. \n",
    "\n",
    "If you use the `sum` function within a `for` loop from 1 to `n`, the `sum` function is called $O(n)$ times, and each time it uses $O(n)$ operations, for a total of $O(n^2)$, called quadratic time complexity. Similarly, if you have a for loop within a for loop, you get $O(n^2)$.\n",
    "\n",
    "If you use `sum` inside a for loop inside a for loop, you get cubic time complexity, $O(n^3)$.\n",
    "\n",
    "Ask a TA to explain these concepts to you in more detail!"
   ]
  },
  {
   "cell_type": "code",
   "execution_count": null,
   "metadata": {},
   "outputs": [],
   "source": [
    "# YOUR ANSWER HERE. Use Big-O notation."
   ]
  },
  {
   "cell_type": "markdown",
   "metadata": {},
   "source": [
    "#### Question 3 \n",
    "Look at the code for `zeroSumSlice()`. What is the time complexity of `zeroSumSlice()` in terms of the length of the list, `n`? "
   ]
  },
  {
   "cell_type": "code",
   "execution_count": null,
   "metadata": {},
   "outputs": [],
   "source": [
    "# YOUR ANSER HERE. Use Big-O notation."
   ]
  },
  {
   "cell_type": "markdown",
   "metadata": {},
   "source": [
    "#### Question 4 \n",
    "`zeroSumSlice` is copied below. Make a small change to zeroSumSlice that improves the time complexity. You only need to change a few lines of code. "
   ]
  },
  {
   "cell_type": "code",
   "execution_count": null,
   "metadata": {},
   "outputs": [],
   "source": [
    "# CHANGE A FEW LINES of this code to make it faster.\n",
    "# HINT: remove the sum() call and do something else.\n",
    "\n",
    "\n",
    "def betterZeroSumSlice(lst):\n",
    "    n = len(lst)\n",
    "    # try every possible slice in the list.\n",
    "    # see if any slice sums to zero.\n",
    "    for i in range(n):\n",
    "        for j in range(i + 1, n):\n",
    "            candidateSlice = lst[i:j]\n",
    "            if sum(candidateSlice) == 0:\n",
    "                return candidateSlice\n",
    "    # no slice found\n",
    "    return None\n",
    "\n",
    "\n",
    "print(betterZeroSumSlice([2, 3, -2, 1, -2, 5, 1]))\n",
    "print(betterZeroSumSlice([1, -3, 3, 1]))\n",
    "print(betterZeroSumSlice([1, 2, 3]))"
   ]
  },
  {
   "cell_type": "markdown",
   "metadata": {},
   "source": [
    "#### Question 5\n",
    "What is the time complexity of `betterZeroSumSlice` from question 4? "
   ]
  },
  {
   "cell_type": "code",
   "execution_count": null,
   "metadata": {},
   "outputs": [],
   "source": [
    "# YOUR ANSWER HERE. Use Big-O notation."
   ]
  },
  {
   "cell_type": "markdown",
   "metadata": {},
   "source": [
    "#### Question 6 \n",
    "Write your own version of `zeroSumSlice` that is as fast as possible. "
   ]
  },
  {
   "cell_type": "code",
   "execution_count": null,
   "metadata": {},
   "outputs": [],
   "source": [
    "def bestZeroSumSlice(lst):\n",
    "    # YOUR CODE HERE\n",
    "    return"
   ]
  },
  {
   "cell_type": "markdown",
   "metadata": {},
   "source": [
    "#### Question 7\n",
    "What is the time complexity of `bestZeroSumSlice`? "
   ]
  },
  {
   "cell_type": "code",
   "execution_count": null,
   "metadata": {},
   "outputs": [],
   "source": [
    "# YOUR ANSWER HERE. Use Big-O notation."
   ]
  }
 ],
 "metadata": {
  "kernelspec": {
   "display_name": "Python 3",
   "language": "python",
   "name": "python3"
  },
  "language_info": {
   "codemirror_mode": {
    "name": "ipython",
    "version": 3
   },
   "file_extension": ".py",
   "mimetype": "text/x-python",
   "name": "python",
   "nbconvert_exporter": "python",
   "pygments_lexer": "ipython3",
   "version": "3.6.9"
  }
 },
 "nbformat": 4,
 "nbformat_minor": 2
}
