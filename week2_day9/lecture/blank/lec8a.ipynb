{
 "cells": [
  {
   "cell_type": "markdown",
   "metadata": {},
   "source": [
    "# AddisCoder 2023: Week 2\n",
    "## Introduction to Recursion\n",
    "\n",
    "Taught by Alex Krentsel (alex.krentsel@gmail.com), material based on past semesters. "
   ]
  },
  {
   "cell_type": "code",
   "execution_count": 16,
   "metadata": {},
   "outputs": [],
   "source": [
    "# We've gotten comfortable with writing functions. \n",
    "\n",
    "\n",
    "def sumTwo(x, y):\n",
    "    return x + y\n",
    "\n",
    "def sumThree(x, y, z):\n",
    "    return x + y + z"
   ]
  },
  {
   "cell_type": "code",
   "execution_count": 17,
   "metadata": {},
   "outputs": [
    {
     "data": {
      "text/plain": [
       "15"
      ]
     },
     "execution_count": 17,
     "metadata": {},
     "output_type": "execute_result"
    }
   ],
   "source": [
    "sumThree(4, 5, 6)"
   ]
  },
  {
   "cell_type": "code",
   "execution_count": 18,
   "metadata": {},
   "outputs": [],
   "source": [
    "# We know how to have functions call other functions\n",
    "def sumFour(a, b, c, d):\n",
    "    first = sumTwo(a, b)\n",
    "    second = sumTwo(c, d)\n",
    "    return sumTwo(first, second)"
   ]
  },
  {
   "cell_type": "code",
   "execution_count": 20,
   "metadata": {},
   "outputs": [],
   "source": [
    "\n",
    "def sumList(nums):\n",
    "    total = 0\n",
    "    for num in nums:\n",
    "        total = total + num\n",
    "    return total\n"
   ]
  },
  {
   "cell_type": "code",
   "execution_count": 21,
   "metadata": {},
   "outputs": [
    {
     "name": "stdout",
     "output_type": "stream",
     "text": [
      "15\n"
     ]
    }
   ],
   "source": [
    "print(sumList([1, 2, 3, 4, 5]))"
   ]
  },
  {
   "cell_type": "code",
   "execution_count": 62,
   "metadata": {},
   "outputs": [],
   "source": [
    "\n",
    "\n",
    "def fact(n):\n",
    "    if n == 0:\n",
    "        return 1\n",
    "    return n * fact(n-1)"
   ]
  },
  {
   "cell_type": "code",
   "execution_count": 64,
   "metadata": {},
   "outputs": [
    {
     "name": "stdout",
     "output_type": "stream",
     "text": [
      "24\n"
     ]
    }
   ],
   "source": [
    "print(fact(4))"
   ]
  },
  {
   "cell_type": "markdown",
   "metadata": {},
   "source": [
    "## Recursion Basics\n",
    "\n",
    "In recursion, a function _calls itself_. Recursion is used when a problem can be easily divided into smaller problems of the same form.\n",
    "\n",
    "A recursive function has 2 components:\n",
    "\n",
    "- Base case: Simplest possible input and prevents infinite recursion.\n",
    "- Recursion step: Call the same function itself with a smaller/easier input to the function and act on the output of the smaller function call."
   ]
  },
  {
   "cell_type": "code",
   "execution_count": 55,
   "metadata": {},
   "outputs": [],
   "source": [
    "## Anatomy of a Recursive Function\n",
    "\n",
    "# Recursive functions always have two parts:\n",
    "# 1. Base Case:\n",
    "#    - This is the simplest version of the problem that we can solve. It's the \"base\" of the recursion.\n",
    "#    - We always need a base case, otherwise our function will recurse forever!\n",
    "# 2. Recursive Case:\n",
    "#    - This is the more complex version of the problem that we can solve.\n",
    "#    - We always need to make progress towards the base case, otherwise our function will recurse forever!\n",
    "\n",
    "def recursiveSum(nums):\n",
    "    print(\"Nums is = \" + str(nums))\n",
    "    # base case\n",
    "    if len(nums) == 1:\n",
    "        print(\"Returning from base case, total = \" + str(nums[0]))\n",
    "        return nums[0]\n",
    "    remaining_sum = recursiveSum(nums[1:])\n",
    "    total = nums[0] + remaining_sum\n",
    "    print(\"Returning total = \" + str(total))\n",
    "    return total\n",
    "\n",
    "def recursiveSumPretty(nums):\n",
    "    if len(nums) == 1:\n",
    "        return nums[0]\n",
    "    return nums[0] + recursiveSumPretty(nums[1:])"
   ]
  },
  {
   "cell_type": "code",
   "execution_count": 56,
   "metadata": {},
   "outputs": [
    {
     "name": "stdout",
     "output_type": "stream",
     "text": [
      "Nums is = [1, 2, 3, 4, 5]\n",
      "Nums is = [2, 3, 4, 5]\n",
      "Nums is = [3, 4, 5]\n",
      "Nums is = [4, 5]\n",
      "Nums is = [5]\n",
      "Returning from base case, total = 5\n",
      "Returning total = 9\n",
      "Returning total = 12\n",
      "Returning total = 14\n",
      "Returning total = 15\n",
      "15\n",
      "15\n"
     ]
    }
   ],
   "source": [
    "print(recursiveSum([1, 2, 3, 4, 5]))\n",
    "print(recursiveSumPretty([1, 2, 3, 4, 5]))\n"
   ]
  },
  {
   "cell_type": "markdown",
   "metadata": {},
   "source": [
    "The steps of writing a recursive function:\n",
    "1. Given a large instance of a problem, how can you break the problem down into smaller pieces to make progress?\n",
    "   (ignore the base-case)\n",
    "2. What instances of the problem do you know the answer to? (base case)\n",
    "3. Put them together\n",
    "\n",
    "\n",
    "You have to make sure that you are always making progress towards a solution.\n",
    "\n",
    "We're going to spend the rest of this lecture practicing recognizing recursive problems."
   ]
  },
  {
   "cell_type": "code",
   "execution_count": null,
   "metadata": {},
   "outputs": [],
   "source": [
    "# Example one: Count Down from n to 0, then print \"Blastoff!\"\n",
    "# What is the base case?\n",
    "# What is the recursive case?\n"
   ]
  },
  {
   "cell_type": "code",
   "execution_count": 26,
   "metadata": {},
   "outputs": [
    {
     "name": "stdout",
     "output_type": "stream",
     "text": [
      "5\n",
      "4\n",
      "3\n",
      "2\n",
      "1\n",
      "0\n",
      "Blastoff!\n"
     ]
    }
   ],
   "source": [
    "def countDown(n):\n",
    "    for num in range(n, -1, -1):\n",
    "        print(num)\n",
    "    print(\"Blastoff!\")\n",
    "countDown(5)"
   ]
  },
  {
   "cell_type": "code",
   "execution_count": 38,
   "metadata": {},
   "outputs": [],
   "source": [
    "def recCountdown(n):\n",
    "    if n == -1:\n",
    "        # Base case\n",
    "        print(\"Blastoff\")\n",
    "    else:\n",
    "        # Recursive case\n",
    "        print(n)\n",
    "        recCountdown(n-1)"
   ]
  },
  {
   "cell_type": "code",
   "execution_count": 39,
   "metadata": {},
   "outputs": [
    {
     "name": "stdout",
     "output_type": "stream",
     "text": [
      "7\n",
      "6\n",
      "5\n",
      "4\n",
      "3\n",
      "2\n",
      "1\n",
      "0\n",
      "Blastoff\n"
     ]
    }
   ],
   "source": [
    "recCountdown(7)"
   ]
  },
  {
   "cell_type": "code",
   "execution_count": null,
   "metadata": {},
   "outputs": [],
   "source": [
    "\n",
    "\n",
    "pixel = image.get_rgb(0,0)\n",
    "\n",
    "red = pixel[0]\n",
    "green = pixel[1]\n",
    "blue = pixel[2]\n",
    "\n",
    "pixel = image.get_pixel(0,0)\n",
    "red = pixel.red\n",
    "green = pixel.green\n",
    "blue = pixel.blue"
   ]
  },
  {
   "cell_type": "code",
   "execution_count": null,
   "metadata": {},
   "outputs": [],
   "source": [
    "# Example Two: Factorial\n",
    "\n",
    "# Definition of factorial: n! = n * (n - 1) * (n - 2) * ... * 3 * 2 * 1\n",
    "# 5! = 5 * (4 * 3 * 2 * 1) = 5 * 4!"
   ]
  },
  {
   "cell_type": "code",
   "execution_count": 40,
   "metadata": {},
   "outputs": [],
   "source": [
    "def recFactorial(n):\n",
    "    # n = 5 -> 5 * recF(4)\n",
    "    # n = 4 -> 4 * recF(3) -> 4 * 6 = 24\n",
    "    # n = 3 -> 3 * recF(2) -> 3 * 2 = 6\n",
    "    # n = 2 -> 2 * recF(1) -> 2 * 1 = 2\n",
    "    # n = 1 -> 1 * recF(0) -> 1 * 1 = 1\n",
    "    # n = 0 -> 1\n",
    "    if n == 0:\n",
    "        # Base case\n",
    "        # Math says that 0! = 1\n",
    "        return 1\n",
    "    else:\n",
    "        # recursive case\n",
    "        remaining_factorial = recFactorial(n-1)\n",
    "        total = n * remaining_factorial\n",
    "        return total"
   ]
  },
  {
   "cell_type": "code",
   "execution_count": 49,
   "metadata": {},
   "outputs": [
    {
     "name": "stdout",
     "output_type": "stream",
     "text": [
      "24\n"
     ]
    }
   ],
   "source": [
    "print(recFactorial(4))"
   ]
  },
  {
   "cell_type": "code",
   "execution_count": null,
   "metadata": {},
   "outputs": [],
   "source": []
  },
  {
   "cell_type": "code",
   "execution_count": null,
   "metadata": {},
   "outputs": [],
   "source": [
    "# Let's fix the error in a few recursive functions.\n",
    "# what's wrong here? (talk with someone next to you)\n",
    "\n",
    "def count_up(n):\n",
    "    \"\"\"Print out all numbers up to and including n in ascending order.\n",
    "\n",
    "    >>> count_up(5)\n",
    "    1\n",
    "    2\n",
    "    3\n",
    "    4\n",
    "    5\n",
    "    \"\"\"\n",
    "    i = 1\n",
    "    if i == n:\n",
    "        return\n",
    "    print(i)\n",
    "    i += 1\n",
    "    count_up(n-1)"
   ]
  },
  {
   "cell_type": "code",
   "execution_count": null,
   "metadata": {},
   "outputs": [],
   "source": [
    "# What does this function do?\n",
    "def mystery(a):\n",
    "    if a == 0:\n",
    "        return 0\n",
    "    return a ** mystery(a - 1)\n",
    "\n",
    "# What is the output of the line of code below?\n",
    "mystery(4)"
   ]
  },
  {
   "cell_type": "code",
   "execution_count": null,
   "metadata": {},
   "outputs": [],
   "source": []
  }
 ],
 "metadata": {
  "kernelspec": {
   "display_name": "Python 3 (ipykernel)",
   "language": "python",
   "name": "python3"
  },
  "language_info": {
   "codemirror_mode": {
    "name": "ipython",
    "version": 3
   },
   "file_extension": ".py",
   "mimetype": "text/x-python",
   "name": "python",
   "nbconvert_exporter": "python",
   "pygments_lexer": "ipython3",
   "version": "3.11.4"
  }
 },
 "nbformat": 4,
 "nbformat_minor": 2
}
