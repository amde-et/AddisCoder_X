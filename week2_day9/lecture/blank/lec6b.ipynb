{
 "cells": [
  {
   "cell_type": "markdown",
   "metadata": {},
   "source": [
    "# AddisCoder: Week 2, Lecture 6b"
   ]
  },
  {
   "cell_type": "markdown",
   "metadata": {},
   "source": [
    "## While loops vs For loops\n",
    "\n",
    "While loops and For loops are the two ways we've taught you to repeat code. Knowing when to use which is tricky. \n"
   ]
  },
  {
   "cell_type": "markdown",
   "metadata": {},
   "source": [
    "```\n",
    "while condition:\n",
    "    code inside the loop\n",
    "code outside the loop\n",
    "```"
   ]
  },
  {
   "cell_type": "markdown",
   "metadata": {},
   "source": [
    "If the condition is True, run the code in the while loop, and then start back at the beginning of the while loop.\n",
    "\n",
    "If the condition is False, skip the code in the while loop."
   ]
  },
  {
   "cell_type": "code",
   "execution_count": 4,
   "metadata": {},
   "outputs": [
    {
     "name": "stdout",
     "output_type": "stream",
     "text": [
      "clap\n",
      "clap\n",
      "clap\n",
      "clap\n",
      "clap\n"
     ]
    }
   ],
   "source": [
    "current_step = 0 # initialize counter\n",
    "while current_step < 5: # condition\n",
    "    print(\"clap\") # body\n",
    "    current_step += 1 # increment counter"
   ]
  },
  {
   "cell_type": "markdown",
   "metadata": {},
   "source": [
    "### For loops "
   ]
  },
  {
   "cell_type": "markdown",
   "metadata": {},
   "source": [
    "```\n",
    "for element in list:\n",
    "    code inside the loop\n",
    "code outside the loop\n",
    "```"
   ]
  },
  {
   "cell_type": "markdown",
   "metadata": {},
   "source": [
    "Example: What will print in the code below?"
   ]
  },
  {
   "cell_type": "code",
   "execution_count": 5,
   "metadata": {},
   "outputs": [
    {
     "name": "stdout",
     "output_type": "stream",
     "text": [
      "1\n",
      "2\n",
      "3\n",
      "4\n",
      "5\n",
      "daniel\n",
      "1\n",
      "2\n",
      "3\n",
      "alex\n"
     ]
    }
   ],
   "source": [
    "for n in [1,2,3,4,5]:\n",
    "    print(n)\n",
    "print(\"daniel\")\n",
    "for w in [1,2,3]:\n",
    "    print(w)\n",
    "print(\"alex\")"
   ]
  },
  {
   "cell_type": "code",
   "execution_count": 12,
   "metadata": {},
   "outputs": [
    {
     "name": "stdout",
     "output_type": "stream",
     "text": [
      "1\n",
      "2\n",
      "3\n",
      "4\n",
      "5\n",
      "6\n",
      "7\n",
      "8\n",
      "9\n"
     ]
    }
   ],
   "source": [
    "# for i in range(200,400):\n",
    "#     if i % 30 == 0:\n",
    "#         print(i)\n",
    "        \n",
    "        \n",
    "# num_iterations = 10\n",
    "# while num_iterations > 0:\n",
    "#     print(\"alex\")\n",
    "#     num_iterations -= 1\n",
    "\n",
    "nums = list(range(1, 10))\n",
    "idx = 0\n",
    "while idx < len(nums):\n",
    "    print(nums[idx])\n",
    "    idx += 1"
   ]
  },
  {
   "cell_type": "markdown",
   "metadata": {},
   "source": [
    "\n",
    "The truth about loops: You can do all of your looping with while loops if you want. There's nothing you can do only with a forloop but not a whileloop. But forloops give a cleaner way to do many common looping operations when you know ahead-of-time how much you will loop."
   ]
  },
  {
   "cell_type": "code",
   "execution_count": 13,
   "metadata": {},
   "outputs": [
    {
     "name": "stdout",
     "output_type": "stream",
     "text": [
      "While sol: 385\n",
      "For sol: 385\n"
     ]
    }
   ],
   "source": [
    "# Let's take a sample problem: summing squares from 1 up to n.\n",
    "# The formula for this is 1^2 + 2^2 + 3^2 + ... + n^2\n",
    "\n",
    "\n",
    "# This is solution using a for loop:\n",
    "def sum_of_squares_while(n):\n",
    "    total = 0\n",
    "    for i in range(1, n+1):\n",
    "        total += i**2\n",
    "    return total\n",
    "\n",
    "print(\"While sol:\", sum_of_squares_while(10))\n",
    "\n",
    "# This is the solution using a while loop:\n",
    "def sum_of_squares_for(n):\n",
    "    total = 0\n",
    "    i = 1\n",
    "    while i <= n:\n",
    "        total += i**2\n",
    "        i += 1\n",
    "    return total\n",
    "\n",
    "print(\"For sol:\", sum_of_squares_for(10))\n",
    "\n",
    "# Notice the direct transformation from for to while. (Write up on the board)"
   ]
  },
  {
   "cell_type": "code",
   "execution_count": null,
   "metadata": {},
   "outputs": [],
   "source": [
    "cities=['addis abababa', 'boston', 'paris', 'cairo']\n",
    "\n",
    "# print all names using a for loop\n",
    "for city in cities:\n",
    "    print(city)\n",
    "\n",
    "# print all names using a while loop\n",
    "i = 0\n",
    "while i < len(cities):\n",
    "    print(cities[i])\n",
    "    i += 1"
   ]
  },
  {
   "cell_type": "code",
   "execution_count": null,
   "metadata": {},
   "outputs": [],
   "source": [
    "# Note: `break` and `continue` work in both."
   ]
  },
  {
   "cell_type": "code",
   "execution_count": 14,
   "metadata": {},
   "outputs": [
    {
     "name": "stdout",
     "output_type": "stream",
     "text": [
      "10\n"
     ]
    }
   ],
   "source": [
    "# Some problems can *only* be solved with a while loop. \n",
    "# These are problems where we don't know how many iterations we need to do.\n",
    "\n",
    "# Example: find the first power of 2 that is greater than 1000.\n",
    "# We don't know how many times we need to multiply 2 by itself to get to 1000.\n",
    "def first_power_of_two_greater_than(n):\n",
    "    power = 1\n",
    "    while 2**power <= n:\n",
    "        power += 1\n",
    "    return power\n",
    "\n",
    "print(first_power_of_two_greater_than(1000))"
   ]
  },
  {
   "cell_type": "code",
   "execution_count": 18,
   "metadata": {},
   "outputs": [
    {
     "name": "stdout",
     "output_type": "stream",
     "text": [
      "1024\n"
     ]
    }
   ],
   "source": [
    "\n",
    "\n",
    "names = [\"alex\", \"binyam\", \"daniel\"]\n",
    "\n",
    "# Print the number of letters in each name.\n",
    "# for name in names:\n",
    "#     print(name + \" has \" + str(len(name)) + \" letters.\")\n",
    "\n",
    "# idx = 0\n",
    "# while idx < len(names):\n",
    "#     name = names[idx]\n",
    "#     print(name + \" has \" + str(len(name)) + \" letters.\")\n",
    "#     idx += 1\n",
    "\n",
    "# get me the first power of 2 greater than n\n",
    "\n",
    "n = 1000\n",
    "pow_two = 1\n",
    "while pow_two <= n:\n",
    "    pow_two = pow_two * 2\n",
    "print(pow_two)\n"
   ]
  },
  {
   "cell_type": "markdown",
   "metadata": {},
   "source": [
    "## Nested Loops\n",
    "\n",
    "We can put loops inside of loops! We call this \"nested loops\""
   ]
  },
  {
   "cell_type": "code",
   "execution_count": 32,
   "metadata": {},
   "outputs": [
    {
     "name": "stdout",
     "output_type": "stream",
     "text": [
      "1 2 3 4 5 6 7 8 9 10 \n",
      "2 4 6 8 10 12 14 16 18 20 \n",
      "3 6 9 12 15 18 21 24 27 30 \n",
      "4 8 12 16 20 24 28 32 36 40 \n",
      "5 10 15 20 25 30 35 40 45 50 \n",
      "6 12 18 24 30 36 42 48 54 60 \n",
      "7 14 21 28 35 42 49 56 63 70 \n",
      "8 16 24 32 40 48 56 64 72 80 \n",
      "9 18 27 36 45 54 63 72 81 90 \n",
      "10 20 30 40 50 60 70 80 90 100 \n"
     ]
    }
   ],
   "source": [
    "# Nested loops are loops inside of loops.\n",
    "# They are useful for solving problems that are made up of pieces that are themselves made up of pieces.\n",
    "\n",
    "# example: print a multiplication table\n",
    "# 1 2 3 4 5 6 7 8 9 10\n",
    "# 2 4 6 8 10 12 14 16 18 20\n",
    "# 3 6 9 12 15 18 21 24 27 30\n",
    "# ...\n",
    "\n",
    "for base in range(1, 11):\n",
    "    output = \"\"\n",
    "    for multiple in range(1, 11):\n",
    "        output += str(base * multiple) + \" \"\n",
    "    print(output)\n",
    "\n",
    "# print(\"hello\", end=\" \")\n",
    "# print(\"alex\")\n",
    "    "
   ]
  },
  {
   "cell_type": "code",
   "execution_count": null,
   "metadata": {},
   "outputs": [],
   "source": [
    "# There are many more problems where nested loops are useful.\n",
    "# For example, we can use nested loops to print a triangle of stars:\n",
    "# *\n",
    "# **\n",
    "# ***\n",
    "\n",
    "# We can do this with a nested for loop:\n",
    "for i in range(1, 4):\n",
    "    row = \"\"\n",
    "    for j in range(1, i+1):\n",
    "        row = row + \"*\"\n",
    "    print(row)"
   ]
  },
  {
   "cell_type": "code",
   "execution_count": 33,
   "metadata": {},
   "outputs": [
    {
     "name": "stdout",
     "output_type": "stream",
     "text": [
      "*\n",
      "**\n",
      "***\n"
     ]
    }
   ],
   "source": [
    "# Note that they don't have to be just for loops, we can use while loops as well:\n",
    "i = 1\n",
    "while i <= 3:\n",
    "    row = \"\"\n",
    "    j = 1\n",
    "    while j <= i:\n",
    "        row = row + \"*\"\n",
    "        j += 1\n",
    "    print(row)\n",
    "    i += 1\n"
   ]
  },
  {
   "cell_type": "markdown",
   "metadata": {},
   "source": [
    "## Assigning Complex Types"
   ]
  },
  {
   "cell_type": "code",
   "execution_count": null,
   "metadata": {},
   "outputs": [],
   "source": [
    "# Let's go over to PythonTutor.\n",
    "\n",
    "# Simple Types\n",
    "\n",
    "x = 10\n",
    "y = 20\n",
    "x = y\n",
    "print(x)\n",
    "print(y)"
   ]
  },
  {
   "cell_type": "code",
   "execution_count": null,
   "metadata": {},
   "outputs": [],
   "source": [
    "# Complex Types: everything other than int, float, bool, string\n",
    "\n",
    "dic1 = {\"jelani\": 100, \"heather\": 95, \"daniel\": 90}\n",
    "dic2 = dic1\n",
    "dic1[\"binyam\"] = 105\n",
    "\n",
    "print(dic1)\n",
    "print(dic2)"
   ]
  },
  {
   "cell_type": "code",
   "execution_count": 2,
   "metadata": {},
   "outputs": [],
   "source": [
    "def fun_func():\n",
    "    x = 50\n",
    "    y = 60\n",
    "    num = x + y\n",
    "    return\n",
    "\n",
    "fun_func()\n",
    "\n",
    "print(num)"
   ]
  },
  {
   "cell_type": "markdown",
   "metadata": {},
   "source": [
    "## Modules\n",
    "\n",
    "\n",
    "There are millions of developers out there who write code and build things. There is common functionality that many people need that isn't built into Python natively. \"Modules\" using `import` statements solve this problem by letting you import functions that other people have written and use them in your own code."
   ]
  },
  {
   "cell_type": "code",
   "execution_count": 34,
   "metadata": {},
   "outputs": [],
   "source": [
    "# import using the \"import\" statement\n",
    "import random"
   ]
  },
  {
   "cell_type": "code",
   "execution_count": 37,
   "metadata": {},
   "outputs": [
    {
     "name": "stdout",
     "output_type": "stream",
     "text": [
      "10\n"
     ]
    }
   ],
   "source": [
    "# Pick a random number between 0 and 10\n",
    "x = random.randint(0, 10)\n",
    "print(x)"
   ]
  },
  {
   "cell_type": "code",
   "execution_count": 40,
   "metadata": {},
   "outputs": [
    {
     "name": "stdout",
     "output_type": "stream",
     "text": [
      "{3: 925, 1: 877, 2: 863, 9: 921, 5: 931, 8: 986, 0: 909, 7: 908, 10: 906, 6: 879, 4: 895}\n"
     ]
    }
   ],
   "source": [
    "# Let's try to pick 20 numbers. How can we do that?\n",
    "counter = {}\n",
    "for _ in range(10000):\n",
    "    x = random.randint(0, 10)\n",
    "    if x in counter:\n",
    "        counter[x] = counter[x] + 1\n",
    "    else:\n",
    "        counter[x] = 1\n",
    "\n",
    "print(counter)\n"
   ]
  },
  {
   "cell_type": "code",
   "execution_count": 43,
   "metadata": {},
   "outputs": [
    {
     "name": "stdout",
     "output_type": "stream",
     "text": [
      "95\n"
     ]
    }
   ],
   "source": [
    "x = random.randrange(0,100,5)\n",
    "print(x)"
   ]
  },
  {
   "cell_type": "code",
   "execution_count": 11,
   "metadata": {},
   "outputs": [],
   "source": [
    "# Other useful functions in the random module:\n",
    "# Let's play with some.\n",
    "# random.random() - returns a random float between 0 and 1\n",
    "# random.choice(list) - returns a random element from the list\n",
    "# random.shuffle(list) - shuffles the list in place\n",
    "# random.sample(list, k) - returns a list of k random elements from the list\n",
    "# random.randrange(start, stop, step) - returns a random integer from the range\n",
    "# random.uniform(a, b) - returns a random float between a and b\n"
   ]
  },
  {
   "cell_type": "code",
   "execution_count": 48,
   "metadata": {},
   "outputs": [],
   "source": [
    "\n",
    "# Let's use one of these to make a fortune teller.\n",
    "fortunes = [\n",
    "    \"You will be hungry again in one hour.\",\n",
    "    \"Tomorrow will be a great day for you!\",\n",
    "    \"Things will go well for you today.\",\n",
    "    \"Hard work pays off in the future, laziness pays off now.\",\n",
    "    \"Change can hurt, but it leads a path to something better.\",\n",
    "    \"People are naturally attracted to you.\",\n",
    "    \"You learn from your mistakes... You will learn a lot today.\",\n",
    "    \"If you have something good in your life, don't let it go!\",\n",
    "    \"What ever you're goal is in life, embrace it visualize it, and for it will be yours.\",\n",
    "    \"Your shoes will make you happy today.\",\n",
    "]\n",
    "\n",
    "def tell_fortune_manual():\n",
    "    rand_idx = random.randint(0, len(fortunes) - 1)\n",
    "    print(fortunes[rand_idx])\n",
    "\n",
    "def tell_fortune():\n",
    "    print(random.choice(fortunes))"
   ]
  },
  {
   "cell_type": "code",
   "execution_count": 52,
   "metadata": {},
   "outputs": [
    {
     "name": "stdout",
     "output_type": "stream",
     "text": [
      "If you have something good in your life, don't let it go!\n"
     ]
    }
   ],
   "source": [
    "tell_fortune_manual()"
   ]
  },
  {
   "cell_type": "code",
   "execution_count": 67,
   "metadata": {},
   "outputs": [
    {
     "name": "stdout",
     "output_type": "stream",
     "text": [
      "Math.pow: 0.0049588680267333984\n",
      "** operator: 0.0016789436340332031\n"
     ]
    }
   ],
   "source": [
    "# There's another common way you'll see things imported. \n",
    "# This is the \"from ... import ... as ...\" statement.\n",
    "\n",
    "\n",
    "import math\n",
    "import time\n",
    "\n",
    "start = time.time()\n",
    "for i in range(10000):\n",
    "    x = math.pow(2, 32)\n",
    "end = time.time()\n",
    "print(\"Math.pow: \" + str(end - start))\n",
    "\n",
    "start = time.time()\n",
    "for i in range(10000):\n",
    "    x = 2**32\n",
    "end = time.time()\n",
    "\n",
    "print(\"** operator: \" + str(end - start))"
   ]
  },
  {
   "cell_type": "code",
   "execution_count": 64,
   "metadata": {},
   "outputs": [
    {
     "name": "stdout",
     "output_type": "stream",
     "text": [
      "1690198254.083703\n"
     ]
    }
   ],
   "source": [
    "print(time.time())"
   ]
  },
  {
   "cell_type": "code",
   "execution_count": 53,
   "metadata": {},
   "outputs": [
    {
     "name": "stdout",
     "output_type": "stream",
     "text": [
      "1.4142135623730951\n"
     ]
    }
   ],
   "source": [
    "# Math is another common package to import.\n",
    "import math\n",
    "\n",
    "# Let's try to find the square root of 2\n",
    "print(math.sqrt(2))\n",
    "\n",
    "# Other common functions in the math module:\n",
    "# math.ceil(x) - returns the smallest integer greater than or equal to x\n",
    "# math.floor(x) - returns the largest integer less than or equal to x\n",
    "# math.pow(x, y) - returns x raised to the power y\n",
    "# math.log(x) - returns the natural logarithm of x\n",
    "# math.log10(x) - returns the base-10 logarithm of x\n",
    "# math.pi - returns the value of pi\n",
    "# math.abs(x) - returns the absolute value of x"
   ]
  },
  {
   "cell_type": "code",
   "execution_count": 16,
   "metadata": {},
   "outputs": [
    {
     "name": "stdout",
     "output_type": "stream",
     "text": [
      "Help on built-in function sqrt in module math:\n",
      "\n",
      "sqrt(x, /)\n",
      "    Return the square root of x.\n",
      "\n",
      "Help on method choice in module random:\n",
      "\n",
      "choice(seq) method of random.Random instance\n",
      "    Choose a random element from a non-empty sequence.\n",
      "\n",
      "Help on built-in function print in module builtins:\n",
      "\n",
      "print(*args, sep=' ', end='\\n', file=None, flush=False)\n",
      "    Prints the values to a stream, or to sys.stdout by default.\n",
      "    \n",
      "    sep\n",
      "      string inserted between values, default a space.\n",
      "    end\n",
      "      string appended after the last value, default a newline.\n",
      "    file\n",
      "      a file-like object (stream); defaults to the current sys.stdout.\n",
      "    flush\n",
      "      whether to forcibly flush the stream.\n",
      "\n"
     ]
    }
   ],
   "source": [
    "# Reminder: You can use the \"help\" function to get more information about a function.\n",
    "help(math.sqrt)\n",
    "help(choice)\n",
    "help(print)"
   ]
  },
  {
   "cell_type": "markdown",
   "metadata": {},
   "source": [
    "If you ever want to try doing something more complicated, like building a website/game, training a machine learning model, writing a WhatsApp bot, or anything else, you will definitely be using libraries for that."
   ]
  },
  {
   "cell_type": "markdown",
   "metadata": {},
   "source": [
    "## Input\n",
    "\n",
    "We've learned about how to allow your program to provide output (print to the screen). You can also provide input to your program to make it _dynamic_."
   ]
  },
  {
   "cell_type": "code",
   "execution_count": 1,
   "metadata": {},
   "outputs": [
    {
     "name": "stdout",
     "output_type": "stream",
     "text": [
      "Enter a number: 95\n",
      "95\n"
     ]
    }
   ],
   "source": [
    "# Use the `input` function to take input\n",
    "# See the bar that shows up at the top to provide input!\n",
    "\n",
    "inp = input(\"Enter a number: \")\n",
    "print(inp)"
   ]
  },
  {
   "cell_type": "code",
   "execution_count": 2,
   "metadata": {},
   "outputs": [
    {
     "name": "stdout",
     "output_type": "stream",
     "text": [
      "<class 'str'>\n"
     ]
    }
   ],
   "source": [
    "# input type is always a string (raw characters)\n",
    "print(type(inp))"
   ]
  },
  {
   "cell_type": "code",
   "execution_count": 4,
   "metadata": {},
   "outputs": [
    {
     "name": "stdout",
     "output_type": "stream",
     "text": [
      "Enter a number: 5\n",
      "50\n"
     ]
    }
   ],
   "source": [
    "# If you want something other than a string, you need to convert it by \"casting\" to a different type.\n",
    "# Here we cast to an integer\n",
    "int_input = int(input(\"Enter a number: \"))\n",
    "print(int_input * 10)"
   ]
  },
  {
   "cell_type": "code",
   "execution_count": 5,
   "metadata": {},
   "outputs": [
    {
     "name": "stdout",
     "output_type": "stream",
     "text": [
      "Enter a number: alex\n"
     ]
    },
    {
     "ename": "ValueError",
     "evalue": "invalid literal for int() with base 10: 'alex'",
     "output_type": "error",
     "traceback": [
      "\u001b[0;31m---------------------------------------------------------------------------\u001b[0m",
      "\u001b[0;31mValueError\u001b[0m                                Traceback (most recent call last)",
      "Cell \u001b[0;32mIn[5], line 2\u001b[0m\n\u001b[1;32m      1\u001b[0m \u001b[38;5;66;03m# See what happens if we provide something other than an integer\u001b[39;00m\n\u001b[0;32m----> 2\u001b[0m int_input \u001b[38;5;241m=\u001b[39m \u001b[38;5;28;43mint\u001b[39;49m\u001b[43m(\u001b[49m\u001b[38;5;28;43minput\u001b[39;49m\u001b[43m(\u001b[49m\u001b[38;5;124;43m\"\u001b[39;49m\u001b[38;5;124;43mEnter a number: \u001b[39;49m\u001b[38;5;124;43m\"\u001b[39;49m\u001b[43m)\u001b[49m\u001b[43m)\u001b[49m\n\u001b[1;32m      3\u001b[0m \u001b[38;5;28mprint\u001b[39m(int_input)\n",
      "\u001b[0;31mValueError\u001b[0m: invalid literal for int() with base 10: 'alex'"
     ]
    }
   ],
   "source": [
    "# See what happens if we provide something other than an integer\n",
    "int_input = int(input(\"Enter a number: \"))\n",
    "print(int_input)"
   ]
  },
  {
   "cell_type": "code",
   "execution_count": null,
   "metadata": {},
   "outputs": [],
   "source": []
  }
 ],
 "metadata": {
  "kernelspec": {
   "display_name": "Python 3 (ipykernel)",
   "language": "python",
   "name": "python3"
  },
  "language_info": {
   "codemirror_mode": {
    "name": "ipython",
    "version": 3
   },
   "file_extension": ".py",
   "mimetype": "text/x-python",
   "name": "python",
   "nbconvert_exporter": "python",
   "pygments_lexer": "ipython3",
   "version": "3.11.4"
  }
 },
 "nbformat": 4,
 "nbformat_minor": 2
}
